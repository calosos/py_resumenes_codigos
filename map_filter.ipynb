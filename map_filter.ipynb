{
  "nbformat": 4,
  "nbformat_minor": 0,
  "metadata": {
    "colab": {
      "name": "map_filter.ipynb",
      "provenance": [],
      "authorship_tag": "ABX9TyNNdi4/PUH+b/mqATefkVNs",
      "include_colab_link": true
    },
    "kernelspec": {
      "name": "python3",
      "display_name": "Python 3"
    },
    "language_info": {
      "name": "python"
    }
  },
  "cells": [
    {
      "cell_type": "markdown",
      "metadata": {
        "id": "view-in-github",
        "colab_type": "text"
      },
      "source": [
        "<a href=\"https://colab.research.google.com/github/calosos/py_resumenes_codigos/blob/main/map_filter.ipynb\" target=\"_parent\"><img src=\"https://colab.research.google.com/assets/colab-badge.svg\" alt=\"Open In Colab\"/></a>"
      ]
    },
    {
      "cell_type": "code",
      "execution_count": 2,
      "metadata": {
        "colab": {
          "base_uri": "https://localhost:8080/"
        },
        "id": "hMe3nx0NJCbT",
        "outputId": "a12c8393-0874-4679-86a3-ba9de277fdaf"
      },
      "outputs": [
        {
          "output_type": "stream",
          "name": "stdout",
          "text": [
            "[1, 2, 3, 4, 5, 6, 7, 8, 9]\n"
          ]
        },
        {
          "output_type": "execute_result",
          "data": {
            "text/plain": [
              "[2, 4, 6, 8, 10, 12, 14, 16, 18]"
            ]
          },
          "metadata": {},
          "execution_count": 2
        }
      ],
      "source": [
        "numeros = list(range(1,10))\n",
        "print(numeros)\n",
        "numeros_x_dos =[numeros[0] * 2, numeros[1] * 2, numeros[2] * 2, numeros[3] * 2,\n",
        "                numeros[4] * 2, numeros[5] * 2, numeros[6] * 2, numeros[7] * 2,\n",
        "                numeros[8] * 2]\n",
        "numeros_x_dos\n"
      ]
    },
    {
      "cell_type": "code",
      "source": [
        "def multiplicar_por_10(numero): \n",
        "    return numero * 10"
      ],
      "metadata": {
        "id": "AWshARTzX1YE"
      },
      "execution_count": 5,
      "outputs": []
    },
    {
      "cell_type": "code",
      "source": [
        "def multiplicar_por_dos (numero):\n",
        "  resultado=numero*2\n",
        "  return resultado"
      ],
      "metadata": {
        "id": "v2Fy_A2zLUsW"
      },
      "execution_count": 4,
      "outputs": []
    },
    {
      "cell_type": "code",
      "source": [
        "map(multiplicar_por_dos, numeros)"
      ],
      "metadata": {
        "colab": {
          "base_uri": "https://localhost:8080/"
        },
        "id": "Lzpyu_HZM1OF",
        "outputId": "7f1dca6d-c6bf-425d-c2b5-973f4d7b74af"
      },
      "execution_count": 6,
      "outputs": [
        {
          "output_type": "execute_result",
          "data": {
            "text/plain": [
              "<map at 0x7f53b18cdf10>"
            ]
          },
          "metadata": {},
          "execution_count": 6
        }
      ]
    },
    {
      "cell_type": "code",
      "source": [
        " print(list(map(multiplicar_por_dos, numeros)))\n",
        " print(list(map(multiplicar_por_10, numeros)))"
      ],
      "metadata": {
        "colab": {
          "base_uri": "https://localhost:8080/"
        },
        "id": "59xQqlRIM8e1",
        "outputId": "f17f3a61-fe09-43d9-9a9f-9e31aee101d1"
      },
      "execution_count": 7,
      "outputs": [
        {
          "output_type": "stream",
          "name": "stdout",
          "text": [
            "[2, 4, 6, 8, 10, 12, 14, 16, 18]\n",
            "[10, 20, 30, 40, 50, 60, 70, 80, 90]\n"
          ]
        }
      ]
    },
    {
      "cell_type": "code",
      "source": [
        "numeros_dos = list(range(1,21))\n",
        "numeros"
      ],
      "metadata": {
        "colab": {
          "base_uri": "https://localhost:8080/"
        },
        "id": "8hgUJ4wKNLjV",
        "outputId": "609eeb73-eb49-4e77-99e5-20d1359e2c7a"
      },
      "execution_count": 57,
      "outputs": [
        {
          "output_type": "execute_result",
          "data": {
            "text/plain": [
              "[1, 2, 3, 4, 5, 6, 7, 8, 9]"
            ]
          },
          "metadata": {},
          "execution_count": 57
        }
      ]
    },
    {
      "cell_type": "code",
      "source": [
        "numeros_por_Dos=list(map(multiplicar_por_dos, numeros_dos))\n",
        "numeros_por_Dos"
      ],
      "metadata": {
        "colab": {
          "base_uri": "https://localhost:8080/"
        },
        "id": "zkXbaBzxNUjF",
        "outputId": "de9b34fc-fc36-4640-94df-e795d0e4ff32"
      },
      "execution_count": 56,
      "outputs": [
        {
          "output_type": "execute_result",
          "data": {
            "text/plain": [
              "[2, 4, 6, 8, 10, 12, 14, 16, 18, 20, 22, 24, 26, 28, 30, 32, 34, 36, 38, 40]"
            ]
          },
          "metadata": {},
          "execution_count": 56
        }
      ]
    },
    {
      "cell_type": "code",
      "source": [
        "def si_non_regresar_0(numero):\n",
        "  if numero % 2 == 0:\n",
        "    return numero\n",
        "  else: \n",
        "    return 0"
      ],
      "metadata": {
        "id": "LnNt_NUhNyVV"
      },
      "execution_count": null,
      "outputs": []
    },
    {
      "cell_type": "code",
      "source": [
        "import random\n",
        "numeros_nuevos = [random.randint(0, 101) for x in range(17)]\n",
        "numeros_nuevos"
      ],
      "metadata": {
        "colab": {
          "base_uri": "https://localhost:8080/"
        },
        "id": "Zi4dDHRPOF7k",
        "outputId": "f71d5229-aa78-4d29-8c52-686e99b8457f"
      },
      "execution_count": null,
      "outputs": [
        {
          "output_type": "execute_result",
          "data": {
            "text/plain": [
              "[0, 91, 66, 90, 49, 33, 78, 29, 92, 70, 98, 50, 24, 52, 1, 18, 32]"
            ]
          },
          "metadata": {},
          "execution_count": 31
        }
      ]
    },
    {
      "cell_type": "code",
      "source": [
        "numero_non_es_cero =list(map(si_non_regresar_0, numeros_nuevos))\n",
        "numero_non_es_cero"
      ],
      "metadata": {
        "colab": {
          "base_uri": "https://localhost:8080/"
        },
        "id": "o4sCwJN2SWXF",
        "outputId": "95f9219b-28eb-471f-b2ea-06b344456ec0"
      },
      "execution_count": null,
      "outputs": [
        {
          "output_type": "execute_result",
          "data": {
            "text/plain": [
              "[0, 0, 66, 90, 0, 0, 78, 0, 92, 70, 98, 50, 24, 52, 0, 18, 32]"
            ]
          },
          "metadata": {},
          "execution_count": 34
        }
      ]
    },
    {
      "cell_type": "code",
      "source": [
        "def formato_de_dinero(numero):\n",
        "  formateando = f'${numero} MXN'\n",
        "  return formateando"
      ],
      "metadata": {
        "id": "FlVs83LmTBWc"
      },
      "execution_count": null,
      "outputs": []
    },
    {
      "cell_type": "code",
      "source": [
        "def convertir_en_string_mas_unidad(numero):\n",
        "    \n",
        "    return f'{numero} seg'\n",
        "\n",
        "list(map(convertir_en_string_mas_unidad, numeros))"
      ],
      "metadata": {
        "colab": {
          "base_uri": "https://localhost:8080/"
        },
        "id": "Q9adAzawYRk0",
        "outputId": "9dbf0bc3-6267-4ac5-b9ca-3845acb9e2d2"
      },
      "execution_count": 58,
      "outputs": [
        {
          "output_type": "execute_result",
          "data": {
            "text/plain": [
              "['1 seg',\n",
              " '2 seg',\n",
              " '3 seg',\n",
              " '4 seg',\n",
              " '5 seg',\n",
              " '6 seg',\n",
              " '7 seg',\n",
              " '8 seg',\n",
              " '9 seg']"
            ]
          },
          "metadata": {},
          "execution_count": 58
        }
      ]
    },
    {
      "cell_type": "code",
      "source": [
        "numeros= [random.randint(0,101) for x in range(9)]\n",
        "numeros_formato_dinero = list(map(formato_de_dinero, numeros))\n",
        "numeros_formato_dinero"
      ],
      "metadata": {
        "colab": {
          "base_uri": "https://localhost:8080/"
        },
        "id": "r2CCpUcSTQ8l",
        "outputId": "9c48cedb-f3ac-4dcc-8a63-c6c2e6a8592c"
      },
      "execution_count": null,
      "outputs": [
        {
          "output_type": "execute_result",
          "data": {
            "text/plain": [
              "['$5 MXN',\n",
              " '$21 MXN',\n",
              " '$24 MXN',\n",
              " '$96 MXN',\n",
              " '$19 MXN',\n",
              " '$99 MXN',\n",
              " '$23 MXN',\n",
              " '$3 MXN',\n",
              " '$53 MXN']"
            ]
          },
          "metadata": {},
          "execution_count": 40
        }
      ]
    },
    {
      "cell_type": "code",
      "source": [
        "ls_num_uno= [random. randint(-100, 100)  for x in range(15)]\n",
        "ls_num_uno"
      ],
      "metadata": {
        "colab": {
          "base_uri": "https://localhost:8080/"
        },
        "id": "Auqx-4CPUEZc",
        "outputId": "6862743d-f79c-4278-9465-c19883bc2f6d"
      },
      "execution_count": null,
      "outputs": [
        {
          "output_type": "execute_result",
          "data": {
            "text/plain": [
              "[-3, 0, -72, -79, -52, -5, 50, 89, 24, -59, -13, -19, 5, -78, -20]"
            ]
          },
          "metadata": {},
          "execution_count": 43
        }
      ]
    },
    {
      "cell_type": "code",
      "source": [
        "def numero_es_positivo(numero):\n",
        "  if numero >=0:\n",
        "    return True\n",
        "  else:\n",
        "    return False"
      ],
      "metadata": {
        "id": "hvnNHd8UUZIF"
      },
      "execution_count": null,
      "outputs": []
    },
    {
      "cell_type": "code",
      "source": [
        "def numero_es_negativo(numero):\n",
        "  if numero < 0:\n",
        "    return True\n",
        "  else:\n",
        "    return False"
      ],
      "metadata": {
        "id": "mt63byGnU4Sk"
      },
      "execution_count": null,
      "outputs": []
    },
    {
      "cell_type": "code",
      "source": [
        "def convertir_a_numeros_negativos(numero):\n",
        "    \n",
        "    return numero * -1\n",
        "\n",
        "list(map(convertir_a_numeros_negativos, numeros))"
      ],
      "metadata": {
        "colab": {
          "base_uri": "https://localhost:8080/"
        },
        "id": "r53--lFyYwM1",
        "outputId": "539617c1-6d9a-47a9-fd3c-b516f9a2d5f1"
      },
      "execution_count": 59,
      "outputs": [
        {
          "output_type": "execute_result",
          "data": {
            "text/plain": [
              "[-1, -2, -3, -4, -5, -6, -7, -8, -9]"
            ]
          },
          "metadata": {},
          "execution_count": 59
        }
      ]
    },
    {
      "cell_type": "code",
      "source": [
        "def convertir_en_0_si_menor_a_5(numero):\n",
        "    \n",
        "    if numero < 5:\n",
        "        return 0\n",
        "    else:\n",
        "        return numero\n",
        "        \n",
        "list(map(convertir_en_0_si_menor_a_5, numeros))"
      ],
      "metadata": {
        "colab": {
          "base_uri": "https://localhost:8080/"
        },
        "id": "BwJQV5dEYy8c",
        "outputId": "862bda03-cc6f-4900-8836-6045082a93c7"
      },
      "execution_count": 60,
      "outputs": [
        {
          "output_type": "execute_result",
          "data": {
            "text/plain": [
              "[0, 0, 0, 0, 5, 6, 7, 8, 9]"
            ]
          },
          "metadata": {},
          "execution_count": 60
        }
      ]
    },
    {
      "cell_type": "code",
      "source": [
        "print(list(filter(numero_es_positivo,ls_num_uno)))\n",
        "list(filter(numero_es_negativo,ls_num_uno))"
      ],
      "metadata": {
        "colab": {
          "base_uri": "https://localhost:8080/"
        },
        "id": "Sb8hj5PRUlfs",
        "outputId": "074f74ba-83e7-4166-cf46-59a897b2b1c7"
      },
      "execution_count": null,
      "outputs": [
        {
          "output_type": "stream",
          "name": "stdout",
          "text": [
            "[0, 50, 89, 24, 5]\n"
          ]
        },
        {
          "output_type": "execute_result",
          "data": {
            "text/plain": [
              "[-3, -72, -79, -52, -5, -59, -13, -19, -78, -20]"
            ]
          },
          "metadata": {},
          "execution_count": 48
        }
      ]
    },
    {
      "cell_type": "code",
      "source": [
        "def imprimir_proporciones_en_equivalencia_a_porcentajes(proporciones, porcentajes):\n",
        "    \n",
        "    print(f'==Proporciones y su equivalencia en porcentajes de 1==\\n')\n",
        "    \n",
        "    for i in range(len(proporciones)):\n",
        "        print(f'- {proporciones[i]} es el {int(porcentajes[i])}% de 1.')\n",
        "        \n",
        "\n",
        "def imprimir_analisis_estadistico(datos):\n",
        "    \n",
        "    def mediana(datos):\n",
        "        datos_sorted = sorted(datos)\n",
        "        len_datos = len(datos)\n",
        "        \n",
        "        if len_datos % 2 == 0:\n",
        "            mediana = (datos_sorted[int(len_datos / 2) - 1] + datos_sorted[int(len_datos / 2)]) / 2\n",
        "        else:\n",
        "            import math\n",
        "            mediana = datos_sorted[int(math.floor(len_datos / 2))]\n",
        "            \n",
        "        return mediana\n",
        "    \n",
        "    print(f'==Análisis estadístico de los datos recibidos==\\n')\n",
        "    print(f'Valor mínimo: {min(datos)}')\n",
        "    print(f'Valor máximo: {max(datos)}')\n",
        "    print(f'Rango de valores: {max(datos) - min(datos)}')\n",
        "    print(f'Promedio: {sum(datos) / len(datos)}')\n",
        "    print(f'Mediana: {mediana(datos)}')"
      ],
      "metadata": {
        "id": "AH7eBoMkdXl8"
      },
      "execution_count": 73,
      "outputs": []
    },
    {
      "cell_type": "code",
      "source": [
        "def proporcion_a_porcentajes(proporcion):\n",
        "    return proporcion*100"
      ],
      "metadata": {
        "id": "XJl5SzBVgt6D"
      },
      "execution_count": 75,
      "outputs": []
    },
    {
      "cell_type": "code",
      "source": [
        "proporciones = [0.45, 0.2, 0.78, 0.4, 0.77, 0.9, 0.4, 0.5, 0.67, 0.24, 0.73]\n",
        "porcentajes = list(map(proporcion_a_porcentajes, proporciones ))\n",
        "imprimir_proporciones_en_equivalencia_a_porcentajes(proporciones, porcentajes)"
      ],
      "metadata": {
        "colab": {
          "base_uri": "https://localhost:8080/"
        },
        "id": "_W_qnpsOgohr",
        "outputId": "2154049a-9ab5-4435-ad10-e40fcbe74d89"
      },
      "execution_count": 76,
      "outputs": [
        {
          "output_type": "stream",
          "name": "stdout",
          "text": [
            "==Proporciones y su equivalencia en porcentajes de 1==\n",
            "\n",
            "- 0.45 es el 45% de 1.\n",
            "- 0.2 es el 20% de 1.\n",
            "- 0.78 es el 78% de 1.\n",
            "- 0.4 es el 40% de 1.\n",
            "- 0.77 es el 77% de 1.\n",
            "- 0.9 es el 90% de 1.\n",
            "- 0.4 es el 40% de 1.\n",
            "- 0.5 es el 50% de 1.\n",
            "- 0.67 es el 67% de 1.\n",
            "- 0.24 es el 24% de 1.\n",
            "- 0.73 es el 73% de 1.\n"
          ]
        }
      ]
    },
    {
      "cell_type": "code",
      "source": [
        "def string_a_int(string):\n",
        "    \n",
        " \n",
        "    \n",
        "    return int(string)"
      ],
      "metadata": {
        "id": "Pw019oB_hEoG"
      },
      "execution_count": null,
      "outputs": []
    },
    {
      "cell_type": "code",
      "source": [
        "numeros_como_strings = [\"3\", \"7\", \"45\", \"89\", \"12\", \"9\", \"5\", \"89\", \"78\", \"87\", \"44\", \"45\", \"26\", \"84\", \"98\", \"46\", \"99\", \"84\"]\n",
        "numeros_como_ints =list(map(string_a_int,numeros_como_strings))\n",
        "imprimir_analisis_estadistico(numeros_como_ints)"
      ],
      "metadata": {
        "colab": {
          "base_uri": "https://localhost:8080/"
        },
        "id": "9V1Q7_AuhBlP",
        "outputId": "092fb323-3ddd-4e23-9c5c-12210524737b"
      },
      "execution_count": 77,
      "outputs": [
        {
          "output_type": "stream",
          "name": "stdout",
          "text": [
            "==Análisis estadístico de los datos recibidos==\n",
            "\n",
            "Valor mínimo: 3\n",
            "Valor máximo: 99\n",
            "Rango de valores: 96\n",
            "Promedio: 52.77777777777778\n",
            "Mediana: 45.5\n"
          ]
        }
      ]
    },
    {
      "cell_type": "code",
      "source": [
        "def numero_es_par(numero):\n",
        "    \n",
        "    if numero % 2 == 0:\n",
        "        return True\n",
        "    else:\n",
        "        return False"
      ],
      "metadata": {
        "id": "FKzYD44ShwYR"
      },
      "execution_count": 79,
      "outputs": []
    },
    {
      "cell_type": "code",
      "source": [
        "numeros = [1, 2, 3, 4, 5, 6, 7, 8, 9, 10]\n",
        "list(filter(numero_es_par, numeros))"
      ],
      "metadata": {
        "colab": {
          "base_uri": "https://localhost:8080/"
        },
        "id": "EXLXFbkXhtDr",
        "outputId": "b1fcdde4-b7b5-4a43-aff0-a8588f0ebfb9"
      },
      "execution_count": 80,
      "outputs": [
        {
          "output_type": "execute_result",
          "data": {
            "text/plain": [
              "[2, 4, 6, 8, 10]"
            ]
          },
          "metadata": {},
          "execution_count": 80
        }
      ]
    },
    {
      "cell_type": "code",
      "source": [
        "def numero_es_mayor_a_5(numero):\n",
        "    \n",
        "    if numero > 5:\n",
        "        return True\n",
        "    \n",
        "list(filter(numero_es_mayor_a_5, numeros))"
      ],
      "metadata": {
        "colab": {
          "base_uri": "https://localhost:8080/"
        },
        "id": "Uze_FmGEh4x6",
        "outputId": "317d090a-e976-4e98-f3c6-91cf50e319b8"
      },
      "execution_count": 81,
      "outputs": [
        {
          "output_type": "execute_result",
          "data": {
            "text/plain": [
              "[6, 7, 8, 9, 10]"
            ]
          },
          "metadata": {},
          "execution_count": 81
        }
      ]
    },
    {
      "cell_type": "code",
      "source": [
        "def palabra_tiene_mas_de_5_caracteres(palabra):\n",
        "    \n",
        "    if len(palabra) > 5:\n",
        "        return True\n",
        "    \n",
        "palabras = [\"achicoria\", \"pasto\", \"sol\", \"loquillo\", \"moquillo\", \"sed\", \"pez\", \"jacaranda\", \"mil\"]\n",
        "\n",
        "list(filter(palabra_tiene_mas_de_5_caracteres, palabras))"
      ],
      "metadata": {
        "colab": {
          "base_uri": "https://localhost:8080/"
        },
        "id": "EVNyyWadiEa6",
        "outputId": "8192b17c-9fd6-4c41-ecce-df7cd72df6f6"
      },
      "execution_count": 82,
      "outputs": [
        {
          "output_type": "execute_result",
          "data": {
            "text/plain": [
              "['achicoria', 'loquillo', 'moquillo', 'jacaranda']"
            ]
          },
          "metadata": {},
          "execution_count": 82
        }
      ]
    },
    {
      "cell_type": "code",
      "source": [
        "def numero_es_negativo(numero):\n",
        "    \n",
        "    if numero < 0:\n",
        "        return True\n",
        "    \n",
        "numeros = [3, 5, -1, -7, -8, 4, -78, 5, -46, 56, 98, 9, -1, -2, -4]\n",
        "\n",
        "list(filter(numero_es_negativo, numeros))"
      ],
      "metadata": {
        "colab": {
          "base_uri": "https://localhost:8080/"
        },
        "id": "7OZYG_qViF1E",
        "outputId": "ebf2c496-3702-4f6e-8d19-e1bc46cc0176"
      },
      "execution_count": 83,
      "outputs": [
        {
          "output_type": "execute_result",
          "data": {
            "text/plain": [
              "[-1, -7, -8, -78, -46, -1, -2, -4]"
            ]
          },
          "metadata": {},
          "execution_count": 83
        }
      ]
    },
    {
      "cell_type": "code",
      "source": [
        "def numero_es_divisible_entre_9(numero):\n",
        "    \n",
        "    if numero % 9 == 0:\n",
        "        return True\n",
        "    \n",
        "numeros = [3, 7, 9, 34, 72, 90, 87, 34, 99, 56, 12, 18]\n",
        "\n",
        "list(filter(numero_es_divisible_entre_9, numeros))"
      ],
      "metadata": {
        "colab": {
          "base_uri": "https://localhost:8080/"
        },
        "id": "PhkHjXXXiNky",
        "outputId": "cf8811f6-1bc6-4708-866e-a19846acc694"
      },
      "execution_count": 84,
      "outputs": [
        {
          "output_type": "execute_result",
          "data": {
            "text/plain": [
              "[9, 72, 90, 99, 18]"
            ]
          },
          "metadata": {},
          "execution_count": 84
        }
      ]
    },
    {
      "cell_type": "code",
      "source": [
        "def valor_no_es_none(valor):\n",
        "  if valor == None:\n",
        "    return False\n",
        "  else: return True"
      ],
      "metadata": {
        "id": "Wew2XrdlmKIN"
      },
      "execution_count": 85,
      "outputs": []
    },
    {
      "cell_type": "code",
      "source": [
        "edades = [12, 16, 19, None, 21, 25, 24, None, None, 16, 17, 25, 23, 28, None, 23, 35, 59, 67, None, 34, 21, 23, 15, 14, None, 18, 24, 23, 17]\n",
        "edades_filtradas = list(filter(valor_no_es_none, edades))\n",
        "edades_filtradas"
      ],
      "metadata": {
        "colab": {
          "base_uri": "https://localhost:8080/"
        },
        "id": "omOJimWAmD6_",
        "outputId": "28d5bc80-e691-46c6-b173-29353b962c39"
      },
      "execution_count": 86,
      "outputs": [
        {
          "output_type": "execute_result",
          "data": {
            "text/plain": [
              "[12,\n",
              " 16,\n",
              " 19,\n",
              " 21,\n",
              " 25,\n",
              " 24,\n",
              " 16,\n",
              " 17,\n",
              " 25,\n",
              " 23,\n",
              " 28,\n",
              " 23,\n",
              " 35,\n",
              " 59,\n",
              " 67,\n",
              " 34,\n",
              " 21,\n",
              " 23,\n",
              " 15,\n",
              " 14,\n",
              " 18,\n",
              " 24,\n",
              " 23,\n",
              " 17]"
            ]
          },
          "metadata": {},
          "execution_count": 86
        }
      ]
    },
    {
      "cell_type": "code",
      "source": [
        "\n",
        "def crear_histograma_con(datos):\n",
        "    import seaborn as sns\n",
        "    import numpy as np\n",
        "    \n",
        "    sns.distplot(datos, kde=False, bins=len(np.unique(datos)))\n",
        "\n",
        "crear_histograma_con(edades_filtradas)"
      ],
      "metadata": {
        "colab": {
          "base_uri": "https://localhost:8080/",
          "height": 320
        },
        "id": "L7Bbmfn5mSPa",
        "outputId": "0056603b-d40d-4f99-b24c-5e4cd07ec1c1"
      },
      "execution_count": 87,
      "outputs": [
        {
          "output_type": "stream",
          "name": "stderr",
          "text": [
            "/usr/local/lib/python3.7/dist-packages/seaborn/distributions.py:2619: FutureWarning: `distplot` is a deprecated function and will be removed in a future version. Please adapt your code to use either `displot` (a figure-level function with similar flexibility) or `histplot` (an axes-level function for histograms).\n",
            "  warnings.warn(msg, FutureWarning)\n"
          ]
        },
        {
          "output_type": "display_data",
          "data": {
            "text/plain": [
              "<Figure size 432x288 with 1 Axes>"
            ],
            "image/png": "[encoded data removed]"
          },
          "metadata": {
            "needs_background": "light"
          }
        }
      ]
    },
    {
      "cell_type": "code",
      "source": [
        "def numero_es_menor_que_40(numero): #eliminnar sueldos atipicos\n",
        "  if numero <= 40:\n",
        "    return True"
      ],
      "metadata": {
        "id": "-JbfOe3nmaRj"
      },
      "execution_count": 88,
      "outputs": []
    },
    {
      "cell_type": "code",
      "source": [
        "sueldos = [26, 32, 26, 30, 30, 32, 28, 30, 28, 110, 34, 30, 28, 26, 28, 30, 28, 85, 25, 30, 34, 34, 30, 30, 120, 28, 28, 120, 125]\n",
        "print(f'El sueldo \"típico\" en EyePoker Inc. es de {sum(sueldos) / len(sueldos)}') #considerando los sueldos atipicos\n",
        "sueldos_filtrados = list(filter(numero_es_menor_que_40,sueldos))\n",
        "print(f'El sueldo \"típicoReal\" en EyePoker Inc. es de {sum(sueldos_filtrados) / len(sueldos_filtrados)}') # Estos son los sueldos tipicop reales \n"
      ],
      "metadata": {
        "colab": {
          "base_uri": "https://localhost:8080/"
        },
        "id": "15vLDRyKmZVs",
        "outputId": "5f0b08d7-fd49-41ab-8f60-cf08b0ca1a20"
      },
      "execution_count": 89,
      "outputs": [
        {
          "output_type": "stream",
          "name": "stdout",
          "text": [
            "El sueldo \"típico\" en EyePoker Inc. es de 43.62068965517241\n",
            "El sueldo \"típico\" en EyePoker Inc. es de 29.375\n"
          ]
        }
      ]
    },
    {
      "cell_type": "code",
      "source": [
        "def numero_es_divisible_entre_3(numero):\n",
        "    \n",
        "    if numero % 3 == 0:\n",
        "        return True\n",
        "    else:\n",
        "        return False"
      ],
      "metadata": {
        "id": "V2OrTQBBmfzj"
      },
      "execution_count": 91,
      "outputs": []
    },
    {
      "cell_type": "code",
      "source": [
        "def numero_es_menor_que_10(numero):\n",
        "    \n",
        "    if numero < 10:\n",
        "        return True\n",
        "    else:\n",
        "        return False"
      ],
      "metadata": {
        "id": "czSA9PqzoRLQ"
      },
      "execution_count": 94,
      "outputs": []
    },
    {
      "cell_type": "code",
      "source": [
        "numero_es_divisible_entre_3(9) and numero_es_menor_que_10(9)\n",
        "numero_es_divisible_entre_3(8) and numero_es_menor_que_10(8)\n",
        "numero_es_divisible_entre_3(16) and numero_es_menor_que_10(16)"
      ],
      "metadata": {
        "colab": {
          "base_uri": "https://localhost:8080/"
        },
        "id": "NbzVE0T6oTby",
        "outputId": "65fb976a-45fb-4f93-a609-078f8b9fce25"
      },
      "execution_count": 95,
      "outputs": [
        {
          "output_type": "execute_result",
          "data": {
            "text/plain": [
              "False"
            ]
          },
          "metadata": {},
          "execution_count": 95
        }
      ]
    },
    {
      "cell_type": "code",
      "source": [
        "numeros = [1, 2, 3, 4, 5, 6, 7, 8, 9, 10, 11, 12, 13, 14, 15, 16, 17, 18, 19, 20]"
      ],
      "metadata": {
        "id": "SpGqU3QAohy6"
      },
      "execution_count": 96,
      "outputs": []
    },
    {
      "cell_type": "code",
      "source": [
        "def numero_es_divisible_entre_3_y_menor_que_10(numero):\n",
        "    \n",
        "    return numero_es_divisible_entre_3(numero) and numero_es_menor_que_10(numero)"
      ],
      "metadata": {
        "id": "_1d7TUKYokTH"
      },
      "execution_count": 97,
      "outputs": []
    },
    {
      "cell_type": "code",
      "source": [
        "list(filter(numero_es_divisible_entre_3_y_menor_que_10, numeros))"
      ],
      "metadata": {
        "colab": {
          "base_uri": "https://localhost:8080/"
        },
        "id": "GI3xM5mWooaS",
        "outputId": "d335b175-9431-4083-8171-73136ceea036"
      },
      "execution_count": 98,
      "outputs": [
        {
          "output_type": "execute_result",
          "data": {
            "text/plain": [
              "[3, 6, 9]"
            ]
          },
          "metadata": {},
          "execution_count": 98
        }
      ]
    },
    {
      "cell_type": "code",
      "source": [
        "sueldos = [26, 32, 26, 1.5, 30, 30, 1, 2, 32, 28, 30, 28, 30, 28, 27, 30, 110, 1.5, 2, 34, 30, 28, 26, 28, 2, 30, 28, 85, 25, 1.5,\n",
        "           1.5, 30, 34, 34, 30, 30, 120, 28, 2, 2, 1.5, 28, 120, 1, 1.5, 125, 2, 1.5, 28, 29, 30, 34, 33, 28, 2, 1, 1.5, 26, 28,\n",
        "          26, 26, 30, 30, 28, 2, 2, 1.5, 2, 1.5, 28, 27, 130, 1.5, 2, 26, 26, 28, 30, 30, 30, 28, 28, 1, 1, 135, 1, 1, 1.5, 2,\n",
        "          2, 2, 1.5, 2]\n",
        "print(f'El sueldo \"típico\" en EyePoker Inc. es de {sum(sueldos) / len(sueldos)}')"
      ],
      "metadata": {
        "colab": {
          "base_uri": "https://localhost:8080/"
        },
        "id": "aSvjU2c6rhay",
        "outputId": "3c742740-50ab-42cb-89de-1c9f003577d8"
      },
      "execution_count": 103,
      "outputs": [
        {
          "output_type": "stream",
          "name": "stdout",
          "text": [
            "El sueldo \"típico\" en EyePoker Inc. es de 25.36021505376344\n"
          ]
        }
      ]
    },
    {
      "cell_type": "code",
      "source": [
        "def argumeto_mayor_20(numero):\n",
        "    \n",
        "    if numero >20:\n",
        "        return True\n",
        "    else:\n",
        "        return False\n",
        "def argumento_menor_40(numero):\n",
        "    \n",
        "    if numero < 40:\n",
        "        return True\n",
        "    else:\n",
        "        return False\n",
        "def numero_es_mayor_que_20_y_menor_que_40(numero):\n",
        "    \n",
        "    return argumeto_mayor_20(numero) and argumento_menor_40(numero)"
      ],
      "metadata": {
        "id": "oe-777XMrtoy"
      },
      "execution_count": 104,
      "outputs": []
    },
    {
      "cell_type": "code",
      "source": [
        "sueldos_filtrados = list(filter(numero_es_mayor_que_20_y_menor_que_40, sueldos))\n",
        "print(f'El sueldo \"típico\" en EyePoker Inc. es de {sum(sueldos_filtrados) / len(sueldos_filtrados)}')"
      ],
      "metadata": {
        "colab": {
          "base_uri": "https://localhost:8080/"
        },
        "id": "ysl_BD0jr0sB",
        "outputId": "e1602edb-f514-4fa7-f056-c6386340d09b"
      },
      "execution_count": 105,
      "outputs": [
        {
          "output_type": "stream",
          "name": "stdout",
          "text": [
            "El sueldo \"típico\" en EyePoker Inc. es de 28.96078431372549\n"
          ]
        }
      ]
    },
    {
      "cell_type": "code",
      "source": [
        "def numero_es_divisible_entre_3(numero):\n",
        "    \n",
        "    if numero % 3 == 0:\n",
        "        return True\n",
        "    else:\n",
        "        return False\n",
        "def numero_es_menor_que_10(numero):\n",
        "    \n",
        "    if numero < 10:\n",
        "        return True\n",
        "    else:\n",
        "        return False"
      ],
      "metadata": {
        "id": "4Pr0VaLQsOoF"
      },
      "execution_count": 107,
      "outputs": []
    },
    {
      "cell_type": "code",
      "source": [
        "numero_es_divisible_entre_3(9) or numero_es_menor_que_10(9)\n",
        "numero_es_divisible_entre_3(12) or numero_es_menor_que_10(12)\n",
        "numero_es_divisible_entre_3(8) or numero_es_menor_que_10(8)\n",
        "numero_es_divisible_entre_3(16) or numero_es_menor_que_10(16)"
      ],
      "metadata": {
        "colab": {
          "base_uri": "https://localhost:8080/"
        },
        "id": "Ad0RfQJDsTa5",
        "outputId": "089c2ce4-0dae-41e7-fd96-4dbb503a6e0e"
      },
      "execution_count": 109,
      "outputs": [
        {
          "output_type": "execute_result",
          "data": {
            "text/plain": [
              "False"
            ]
          },
          "metadata": {},
          "execution_count": 109
        }
      ]
    },
    {
      "cell_type": "code",
      "source": [
        "numeros = [1, 2, 3, 4, 5, 6, 7, 8, 9, 10, 11, 12, 13, 14, 15, 16, 17, 18, 19, 20]\n",
        "def numero_es_divisible_entre_3_o_menor_que_10(numero):\n",
        "    \n",
        "    return numero_es_divisible_entre_3(numero) or numero_es_menor_que_10(numero)\n",
        "\n",
        "list(filter(numero_es_divisible_entre_3_o_menor_que_10, numeros))"
      ],
      "metadata": {
        "colab": {
          "base_uri": "https://localhost:8080/"
        },
        "id": "oYajXwuoscAi",
        "outputId": "1abbbb47-6eb5-420b-a71f-c664fdccf847"
      },
      "execution_count": 111,
      "outputs": [
        {
          "output_type": "execute_result",
          "data": {
            "text/plain": [
              "[1, 2, 3, 4, 5, 6, 7, 8, 9, 12, 15, 18]"
            ]
          },
          "metadata": {},
          "execution_count": 111
        }
      ]
    },
    {
      "cell_type": "code",
      "source": [
        "palabras = ['cabildo', 'genocidio', 'severo', 'jarana', 'enigmático', 'jaguar', 'solidaridad', 'reivindicar', 'bálsamo', 'panteón',\n",
        "            'cabestrillo', 'boicotear', 'letargo', 'jaqueca', 'tentáculo', 'legislar', 'gnomo', 'blasfemia', 'camposanto',\n",
        "            'factible', 'eficaz', 'sintonía', 'lloriquear', 'fachada', 'edificante', 'pétalo', 'libélula', 'pavimento', 'llovizna',\n",
        "            'racimo', 'gargantilla', 'relieve', 'bóveda', 'tecnicismo', 'terraplén', 'basílica']"
      ],
      "metadata": {
        "id": "HfzqqQxrsmAy"
      },
      "execution_count": 112,
      "outputs": []
    },
    {
      "cell_type": "code",
      "source": [
        "def palabra_l(palabra):\n",
        "    return palabra[0] == \"l\"\n",
        "def palabra_g(palabra):\n",
        "    return palabra[0] == \"g\"\n",
        "def palabra_b(palabra):\n",
        "    return palabra[0] == \"b\"  \n",
        "def palabra_t(palabra):\n",
        "    return palabra[0] == \"t\"\n",
        "def palabra_lgbt(palabra):\n",
        "    return palabra_l(palabra) or palabra_g(palabra) or palabra_b(palabra) or palabra_t(palabra)"
      ],
      "metadata": {
        "id": "DzQw5Q8BuEOq"
      },
      "execution_count": 113,
      "outputs": []
    },
    {
      "cell_type": "code",
      "source": [
        "palabras_filtradas = list(filter(palabra_lgbt,palabras))\n",
        "print(f'==Concurso Nacional de Deletreo \"Salvador Novo\"==\\n')\n",
        "print(f'Lista oficial de palabras: {palabras_filtradas}')"
      ],
      "metadata": {
        "colab": {
          "base_uri": "https://localhost:8080/"
        },
        "id": "Ob-AoRZnu6c6",
        "outputId": "6bc242ba-bf27-4344-eaad-cc3f47e0a7f9"
      },
      "execution_count": 115,
      "outputs": [
        {
          "output_type": "stream",
          "name": "stdout",
          "text": [
            "==Concurso Nacional de Deletreo \"Salvador Novo\"==\n",
            "\n",
            "Lista oficial de palabras: ['genocidio', 'bálsamo', 'boicotear', 'letargo', 'tentáculo', 'legislar', 'gnomo', 'blasfemia', 'lloriquear', 'libélula', 'llovizna', 'gargantilla', 'bóveda', 'tecnicismo', 'terraplén', 'basílica']\n"
          ]
        }
      ]
    },
    {
      "cell_type": "code",
      "source": [
        "def numero_es_divisible_entre_3(numero):\n",
        "    \n",
        "    if numero % 3 == 0:\n",
        "        return True\n",
        "    else:\n",
        "        return False"
      ],
      "metadata": {
        "id": "AyovWvMBvQvR"
      },
      "execution_count": 116,
      "outputs": []
    },
    {
      "cell_type": "code",
      "source": [
        "not(numero_es_divisible_entre_3(9))\n",
        "not(numero_es_divisible_entre_3(10))"
      ],
      "metadata": {
        "colab": {
          "base_uri": "https://localhost:8080/"
        },
        "id": "6_ohMbzuvReB",
        "outputId": "6e9cf6b4-69fb-4a3e-c123-b8f01aadb781"
      },
      "execution_count": 117,
      "outputs": [
        {
          "output_type": "execute_result",
          "data": {
            "text/plain": [
              "True"
            ]
          },
          "metadata": {},
          "execution_count": 117
        }
      ]
    },
    {
      "cell_type": "code",
      "source": [
        "lambda x: x * 100"
      ],
      "metadata": {
        "colab": {
          "base_uri": "https://localhost:8080/"
        },
        "id": "BHMUX1Xuvmyc",
        "outputId": "3e6caa01-4095-421a-ce29-48601d7eb26e"
      },
      "execution_count": 118,
      "outputs": [
        {
          "output_type": "execute_result",
          "data": {
            "text/plain": [
              "<function __main__.<lambda>>"
            ]
          },
          "metadata": {},
          "execution_count": 118
        }
      ]
    },
    {
      "cell_type": "code",
      "source": [
        "def numero_es_divisible_entre_3(numero):\n",
        "    \n",
        "    if numero % 3 == 0:\n",
        "        return True\n",
        "    else:\n",
        "        return False"
      ],
      "metadata": {
        "id": "nKm8qZbBvyDi"
      },
      "execution_count": 119,
      "outputs": []
    },
    {
      "cell_type": "code",
      "source": [
        "numeros = [1, 2, 3, 4, 5, 6, 7, 8, 9, 10, 11, 12, 13, 14, 15, 16, 17, 18, 19, 20]\n",
        "list(filter(lambda x: not numero_es_divisible_entre_3(x), numeros))"
      ],
      "metadata": {
        "colab": {
          "base_uri": "https://localhost:8080/"
        },
        "id": "qhZ9noIuvy1i",
        "outputId": "ae5f9173-f41e-4e47-aa99-2a6cb0a694a7"
      },
      "execution_count": 120,
      "outputs": [
        {
          "output_type": "execute_result",
          "data": {
            "text/plain": [
              "[1, 2, 4, 5, 7, 8, 10, 11, 13, 14, 16, 17, 19, 20]"
            ]
          },
          "metadata": {},
          "execution_count": 120
        }
      ]
    },
    {
      "cell_type": "code",
      "source": [
        "def numero_no_es_divisible_entre_3(numero):\n",
        "    \n",
        "    if not numero_es_divisible_entre_3(numero):\n",
        "        return True\n",
        "    else:\n",
        "        return False"
      ],
      "metadata": {
        "id": "lqRn_3d1v-Ay"
      },
      "execution_count": 121,
      "outputs": []
    },
    {
      "cell_type": "code",
      "source": [
        "palabras = [\"achicoria\", \"pasto\", \"sol\", \"loquillo\", \"moquillo\", \"sed\", \"pez\", \"jacaranda\", \"mil\"]\n",
        "\n",
        "list(filter(lambda x: len(x) > 5, palabras))"
      ],
      "metadata": {
        "colab": {
          "base_uri": "https://localhost:8080/"
        },
        "id": "4pwTznFLv-8h",
        "outputId": "c1398c7c-49be-4d81-a798-6b34ca5a6ef3"
      },
      "execution_count": 122,
      "outputs": [
        {
          "output_type": "execute_result",
          "data": {
            "text/plain": [
              "['achicoria', 'loquillo', 'moquillo', 'jacaranda']"
            ]
          },
          "metadata": {},
          "execution_count": 122
        }
      ]
    },
    {
      "cell_type": "code",
      "source": [
        "palabras = [\"achicoria\", \"pasto\", \"sol\", \"loquillo\", \"moquillo\", \"sed\", \"pez\", \"jacaranda\", \"mil\"]\n",
        "\n",
        "list(filter(lambda x: len(x) > 5, palabras))"
      ],
      "metadata": {
        "id": "Bdubw_B9wJZE"
      },
      "execution_count": null,
      "outputs": []
    },
    {
      "cell_type": "code",
      "source": [
        "list(filter(lambda x: not(x < 0), numeros))"
      ],
      "metadata": {
        "id": "6q7GWaX4wKyF"
      },
      "execution_count": null,
      "outputs": []
    }
  ]
}