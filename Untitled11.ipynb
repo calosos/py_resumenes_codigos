{
  "nbformat": 4,
  "nbformat_minor": 0,
  "metadata": {
    "colab": {
      "name": "Untitled11.ipynb",
      "provenance": [],
      "authorship_tag": "ABX9TyOEpg/Fj4fQXFSE+1TZgtUq",
      "include_colab_link": true
    },
    "kernelspec": {
      "name": "python3",
      "display_name": "Python 3"
    },
    "language_info": {
      "name": "python"
    }
  },
  "cells": [
    {
      "cell_type": "markdown",
      "metadata": {
        "id": "view-in-github",
        "colab_type": "text"
      },
      "source": [
        "<a href=\"https://colab.research.google.com/github/calosos/py_resumenes_codigos/blob/main/Untitled11.ipynb\" target=\"_parent\"><img src=\"https://colab.research.google.com/assets/colab-badge.svg\" alt=\"Open In Colab\"/></a>"
      ]
    },
    {
      "cell_type": "markdown",
      "source": [
        "### **Ejercicio 1:** Factorial"
      ],
      "metadata": {
        "id": "JXdfU3Murf0Z"
      }
    },
    {
      "cell_type": "code",
      "execution_count": 2,
      "metadata": {
        "id": "yU9K5_HkkFx7"
      },
      "outputs": [],
      "source": [
        "def calculo_factorial( numero):\n",
        "  factorial = 1\n",
        "  for i in range(1,numero+1):\n",
        "      factorial = factorial * i\n",
        "  return factorial"
      ]
    },
    {
      "cell_type": "code",
      "source": [
        "numero = int(input(\"Ingrese el número para hallar el factorial\"))\n",
        "print(numero)"
      ],
      "metadata": {
        "colab": {
          "base_uri": "https://localhost:8080/"
        },
        "id": "yS52fxuSmjfT",
        "outputId": "3e218bef-1dcf-4050-b865-5d4506b64cf7"
      },
      "execution_count": 6,
      "outputs": [
        {
          "output_type": "stream",
          "name": "stdout",
          "text": [
            "Ingrese el número para hallar el factoriasl3\n",
            "3\n"
          ]
        }
      ]
    },
    {
      "cell_type": "code",
      "source": [
        "res = calculo_factorial(6)\n",
        "\n",
        "print(res)"
      ],
      "metadata": {
        "colab": {
          "base_uri": "https://localhost:8080/"
        },
        "id": "C4l3y5xlq0Na",
        "outputId": "1ad48506-1866-40ae-faf9-2dda72aab444"
      },
      "execution_count": 4,
      "outputs": [
        {
          "output_type": "stream",
          "name": "stdout",
          "text": [
            "720\n"
          ]
        }
      ]
    },
    {
      "cell_type": "markdown",
      "source": [
        "### **Ejercicio 2:** Suma de una serie"
      ],
      "metadata": {
        "id": "zi7d8n5RuUVC"
      }
    },
    {
      "cell_type": "code",
      "source": [
        "def suma_serie(num_inicio,num_fin):\n",
        "  suma=0\n",
        "  if num_inicio < num_fin:\n",
        "    lista = list(range(num_inicio, num_fin +1))\n",
        "    for  i in lista:\n",
        "      suma = suma + i\n",
        "    return suma \n",
        "  else:\n",
        "    print('El número de inicio es más grande que el de final')"
      ],
      "metadata": {
        "id": "dXPBIQxtvNFh"
      },
      "execution_count": 25,
      "outputs": []
    },
    {
      "cell_type": "code",
      "source": [
        "num_inicio = int(input(\"Ingrese el número en que inicia la serie: \"))\n",
        "num_fin = int(input(\"Ingrese el número en que termina la serie: \"))\n",
        "resp = suma_serie(num_inicio,num_fin)\n",
        "print(resp)"
      ],
      "metadata": {
        "colab": {
          "base_uri": "https://localhost:8080/"
        },
        "id": "KRxq5GZVuh3B",
        "outputId": "1b2c36f5-15c6-4515-c11d-c5585ffae8d9"
      },
      "execution_count": 27,
      "outputs": [
        {
          "output_type": "stream",
          "name": "stdout",
          "text": [
            "Ingrese el número en que inicia la serie: 5\n",
            "Ingrese el número en que termina la serie: 10\n",
            "45\n"
          ]
        }
      ]
    },
    {
      "cell_type": "code",
      "source": [
        "lista = list(range(num_inicio, num_fin +1))\n",
        "suma=0\n",
        "for  i in lista:\n",
        "  suma = suma + i\n",
        "print(suma)\n"
      ],
      "metadata": {
        "colab": {
          "base_uri": "https://localhost:8080/"
        },
        "id": "LIggnuO0p76Q",
        "outputId": "ba2fe282-54f1-4a37-88a4-85d5c0f76d09"
      },
      "execution_count": 22,
      "outputs": [
        {
          "output_type": "stream",
          "name": "stdout",
          "text": [
            "15\n"
          ]
        }
      ]
    }
  ]
}