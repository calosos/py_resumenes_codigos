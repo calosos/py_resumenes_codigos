{
  "nbformat": 4,
  "nbformat_minor": 0,
  "metadata": {
    "colab": {
      "name": "Arrays Ortíz Suárez .ipynb",
      "provenance": [],
      "collapsed_sections": [],
      "mount_file_id": "1CwK5pYF2LS8Pq4W-yfivJxs5z9rfh-OE",
      "authorship_tag": "ABX9TyPogDDftWwwlFQlhcbx57ly",
      "include_colab_link": true
    },
    "kernelspec": {
      "name": "python3",
      "display_name": "Python 3"
    },
    "language_info": {
      "name": "python"
    }
  },
  "cells": [
    {
      "cell_type": "markdown",
      "metadata": {
        "id": "view-in-github",
        "colab_type": "text"
      },
      "source": [
        "<a href=\"https://colab.research.google.com/github/calosos/py_resumenes_codigos/blob/main/Arrays_Ort%C3%ADz_Su%C3%A1rez_.ipynb\" target=\"_parent\"><img src=\"https://colab.research.google.com/assets/colab-badge.svg\" alt=\"Open In Colab\"/></a>"
      ]
    },
    {
      "cell_type": "markdown",
      "source": [
        "### **Ejercicio 1:** Array Aleatorio"
      ],
      "metadata": {
        "id": "o1AGNDjsudbL"
      }
    },
    {
      "cell_type": "code",
      "source": [
        "import numpy as np"
      ],
      "metadata": {
        "id": "-x4IZ2PrudJ8"
      },
      "execution_count": 64,
      "outputs": []
    },
    {
      "cell_type": "code",
      "execution_count": 65,
      "metadata": {
        "colab": {
          "base_uri": "https://localhost:8080/"
        },
        "id": "tDlFVBYBuach",
        "outputId": "e829c28a-c9d6-4d8c-fb6c-0997910f07f6"
      },
      "outputs": [
        {
          "output_type": "stream",
          "name": "stdout",
          "text": [
            "[79, 33, 39, 98, 20, 21, 32, 65, 62, 19, 43, 28, 38, 40, 29, 79, 66, 36, 94, 84, 12, 39, 86, 77, 24, 70, 9, 24, 83, 75, 73, 31, 25, 41, 32, 24, 9, 93, 51, 26, 18, 30, 64, 46, 66, 56, 79, 62, 37, 82, 53, 15, 18, 96, 8, 79, 42, 46, 81, 63, 85, 81, 88, 3, 38, 90, 37, 24, 7, 41, 58, 29, 13, 8, 64, 23, 9, 69, 82, 70, 79, 52, 19, 58, 86, 26, 47, 49, 74, 92, 69, 53, 61, 7, 2, 75, 33, 77, 45, 25]\n"
          ]
        }
      ],
      "source": [
        "lista= []\n",
        "for i in range(1,101):\n",
        "  lista.append(np.random.randint(100))\n",
        "print(lista)"
      ]
    },
    {
      "cell_type": "code",
      "source": [
        "lista_np= np.array(lista)\n",
        "lista_np"
      ],
      "metadata": {
        "colab": {
          "base_uri": "https://localhost:8080/"
        },
        "id": "C1HerG7BfF0e",
        "outputId": "b729af57-4395-4f1f-c663-d2faf6e47694"
      },
      "execution_count": 66,
      "outputs": [
        {
          "output_type": "execute_result",
          "data": {
            "text/plain": [
              "array([79, 33, 39, 98, 20, 21, 32, 65, 62, 19, 43, 28, 38, 40, 29, 79, 66,\n",
              "       36, 94, 84, 12, 39, 86, 77, 24, 70,  9, 24, 83, 75, 73, 31, 25, 41,\n",
              "       32, 24,  9, 93, 51, 26, 18, 30, 64, 46, 66, 56, 79, 62, 37, 82, 53,\n",
              "       15, 18, 96,  8, 79, 42, 46, 81, 63, 85, 81, 88,  3, 38, 90, 37, 24,\n",
              "        7, 41, 58, 29, 13,  8, 64, 23,  9, 69, 82, 70, 79, 52, 19, 58, 86,\n",
              "       26, 47, 49, 74, 92, 69, 53, 61,  7,  2, 75, 33, 77, 45, 25])"
            ]
          },
          "metadata": {},
          "execution_count": 66
        }
      ]
    },
    {
      "cell_type": "code",
      "source": [
        "print(f'El promedio de la lista aleatoria es: {lista_np.mean()}')"
      ],
      "metadata": {
        "colab": {
          "base_uri": "https://localhost:8080/"
        },
        "id": "D6ncZcrcgDrl",
        "outputId": "620e96d9-8764-4509-b7c0-6245f1b2d1d5"
      },
      "execution_count": 67,
      "outputs": [
        {
          "output_type": "stream",
          "name": "stdout",
          "text": [
            "El promedio de la lista aleatoria es: 48.98\n"
          ]
        }
      ]
    },
    {
      "cell_type": "markdown",
      "source": [
        "### **Ejercicio 2:** Función suma y factorial"
      ],
      "metadata": {
        "id": "jouuvollglF7"
      }
    },
    {
      "cell_type": "code",
      "source": [
        "numero = int(input(\"Ingrese el número para hallar el factorial: \"))\n",
        "res = np.math.factorial(numero)\n",
        "print(res)"
      ],
      "metadata": {
        "colab": {
          "base_uri": "https://localhost:8080/"
        },
        "id": "oJxBhhHngvmV",
        "outputId": "5a17fab6-a0ff-47e4-87a2-3d0700a60601"
      },
      "execution_count": 68,
      "outputs": [
        {
          "output_type": "stream",
          "name": "stdout",
          "text": [
            "Ingrese el número para hallar el factorial: 5\n",
            "120\n"
          ]
        }
      ]
    },
    {
      "cell_type": "code",
      "source": [
        "num_inicio = int(input(\"Ingrese el número en que inicia la serie: \"))\n",
        "num_fin = int(input(\"Ingrese el número en que termina la serie: \"))\n",
        "resp = np.array(range(num_inicio,num_fin+1))\n",
        "print(resp.sum())"
      ],
      "metadata": {
        "colab": {
          "base_uri": "https://localhost:8080/"
        },
        "id": "ACdvCBfwilgG",
        "outputId": "5481728d-f248-47ee-fb7e-3b44237bf590"
      },
      "execution_count": 69,
      "outputs": [
        {
          "output_type": "stream",
          "name": "stdout",
          "text": [
            "Ingrese el número en que inicia la serie: 1\n",
            "Ingrese el número en que termina la serie: 5\n",
            "15\n"
          ]
        }
      ]
    },
    {
      "cell_type": "markdown",
      "source": [
        "### **Ejercicio 3:** Media y mediana sueldos netos \n"
      ],
      "metadata": {
        "id": "yAnL3rUfj_Ck"
      }
    },
    {
      "cell_type": "code",
      "source": [
        "from google.colab import drive\n",
        "drive.mount('/content/drive')"
      ],
      "metadata": {
        "colab": {
          "base_uri": "https://localhost:8080/"
        },
        "id": "ZsG5eyAAxyhY",
        "outputId": "938aacb0-a1e8-404c-ba52-4baf237f490d"
      },
      "execution_count": null,
      "outputs": [
        {
          "output_type": "stream",
          "name": "stdout",
          "text": [
            "Drive already mounted at /content/drive; to attempt to forcibly remount, call drive.mount(\"/content/drive\", force_remount=True).\n"
          ]
        }
      ]
    },
    {
      "cell_type": "code",
      "source": [
        "import pandas as pd\n"
      ],
      "metadata": {
        "id": "8QHSDjHuyFXh"
      },
      "execution_count": null,
      "outputs": []
    },
    {
      "cell_type": "code",
      "source": [
        "df = pd.read_csv('/content/drive/MyDrive/para borrar/csv_Salarios Openqube - 2020.02.csv')\n",
        "df.head()"
      ],
      "metadata": {
        "colab": {
          "base_uri": "https://localhost:8080/",
          "height": 803
        },
        "id": "QpdnCd5w3XfW",
        "outputId": "f99effb1-8812-403d-d6d7-349ee96d09de"
      },
      "execution_count": 56,
      "outputs": [
        {
          "output_type": "execute_result",
          "data": {
            "text/plain": [
              "           Timestamp Me identifico  Tengo Estoy trabajando en  \\\n",
              "0   7/6/2020 9:56:02         Mujer     26           Argentina   \n",
              "1   7/6/2020 9:57:09        Hombre     29           Argentina   \n",
              "2   7/6/2020 9:58:09         Mujer     22           Argentina   \n",
              "3   7/6/2020 9:59:52        Hombre     39           Argentina   \n",
              "4  7/6/2020 10:01:27        Hombre     32           Argentina   \n",
              "\n",
              "            Dónde estás trabajando Bolivia Chile Colombia Cuba Costa Rica  \\\n",
              "0  Ciudad Autónoma de Buenos Aires     NaN   NaN      NaN  NaN        NaN   \n",
              "1                       Corrientes     NaN   NaN      NaN  NaN        NaN   \n",
              "2  Ciudad Autónoma de Buenos Aires     NaN   NaN      NaN  NaN        NaN   \n",
              "3                       Corrientes     NaN   NaN      NaN  NaN        NaN   \n",
              "4  Ciudad Autónoma de Buenos Aires     NaN   NaN      NaN  NaN        NaN   \n",
              "\n",
              "   ... ¿Con cuántas personas estás conviviendo?  \\\n",
              "0  ...                                        0   \n",
              "1  ...                                        1   \n",
              "2  ...                                        1   \n",
              "3  ...                                        1   \n",
              "4  ...                                        2   \n",
              "\n",
              "               ¿Con quiénes convivís?  \\\n",
              "0                         Vivo solo/a   \n",
              "1                                   -   \n",
              "2                              Pareja   \n",
              "3                              Pareja   \n",
              "4  Pareja, Hijos/as (tiempo completo)   \n",
              "\n",
              "  ¿Tenés un espacio dedicado para el trabajo?  \\\n",
              "0                                          No   \n",
              "1                                          No   \n",
              "2                                          No   \n",
              "3                                          Sí   \n",
              "4                                          Sí   \n",
              "\n",
              "  ¿Tenés que compartir tu equipo de trabajo con alguien?  \\\n",
              "0                                                 No       \n",
              "1                                                 No       \n",
              "2                                                 No       \n",
              "3                                                 No       \n",
              "4                                                 No       \n",
              "\n",
              "  ¿Qué tipo de cuarentena estás haciendo?  \\\n",
              "0                                       4   \n",
              "1                                       3   \n",
              "2                                       4   \n",
              "3                                       4   \n",
              "4                                       3   \n",
              "\n",
              "  ¿Cambió tu situación laboral a raíz de la pandemia?  \\\n",
              "0                         Decidí buscar otro trabajo    \n",
              "1         Cambié de trabajo, pero no por la pandemia    \n",
              "2         Cambié de trabajo, pero no por la pandemia    \n",
              "3                                                 No    \n",
              "4                                                 No    \n",
              "\n",
              "  ¿Qué tanto sentís que te está apoyando tu empresa en esta situación?  \\\n",
              "0                                                  7                     \n",
              "1                                                  8                     \n",
              "2                                                  8                     \n",
              "3                                                  4                     \n",
              "4                                                  6                     \n",
              "\n",
              "                   ¿Cómo se vio afectada tu empresa?  \\\n",
              "0                                       No la afectó   \n",
              "1                                       No la afectó   \n",
              "2                                 Se vio beneficiada   \n",
              "3  Cerró oficinas, Bajaron los sueldos o pagan pa...   \n",
              "4                Nos obligaron a tomarnos vacaciones   \n",
              "\n",
              "                 ¿Instauraron algún beneficio nuevo?  \\\n",
              "0                                                 No   \n",
              "1                                                 No   \n",
              "2  Clases de gimnasia, Clases de meditación, Clas...   \n",
              "3                                                 No   \n",
              "4                                                 No   \n",
              "\n",
              "   ¿Cuáles considerás que son las mejores empresas de IT para trabajar en este momento, en tu ciudad?  \n",
              "0                                                NaN                                                   \n",
              "1                                                NaN                                                   \n",
              "2                                                NaN                                                   \n",
              "3                                                NaN                                                   \n",
              "4                                                NaN                                                   \n",
              "\n",
              "[5 rows x 81 columns]"
            ],
            "text/html": [
              "\n",
              "  <div id=\"df-d0258eac-623b-4ad5-9fd3-92243c33c0c2\">\n",
              "    <div class=\"colab-df-container\">\n",
              "      <div>\n",
              "<style scoped>\n",
              "    .dataframe tbody tr th:only-of-type {\n",
              "        vertical-align: middle;\n",
              "    }\n",
              "\n",
              "    .dataframe tbody tr th {\n",
              "        vertical-align: top;\n",
              "    }\n",
              "\n",
              "    .dataframe thead th {\n",
              "        text-align: right;\n",
              "    }\n",
              "</style>\n",
              "<table border=\"1\" class=\"dataframe\">\n",
              "  <thead>\n",
              "    <tr style=\"text-align: right;\">\n",
              "      <th></th>\n",
              "      <th>Timestamp</th>\n",
              "      <th>Me identifico</th>\n",
              "      <th>Tengo</th>\n",
              "      <th>Estoy trabajando en</th>\n",
              "      <th>Dónde estás trabajando</th>\n",
              "      <th>Bolivia</th>\n",
              "      <th>Chile</th>\n",
              "      <th>Colombia</th>\n",
              "      <th>Cuba</th>\n",
              "      <th>Costa Rica</th>\n",
              "      <th>...</th>\n",
              "      <th>¿Con cuántas personas estás conviviendo?</th>\n",
              "      <th>¿Con quiénes convivís?</th>\n",
              "      <th>¿Tenés un espacio dedicado para el trabajo?</th>\n",
              "      <th>¿Tenés que compartir tu equipo de trabajo con alguien?</th>\n",
              "      <th>¿Qué tipo de cuarentena estás haciendo?</th>\n",
              "      <th>¿Cambió tu situación laboral a raíz de la pandemia?</th>\n",
              "      <th>¿Qué tanto sentís que te está apoyando tu empresa en esta situación?</th>\n",
              "      <th>¿Cómo se vio afectada tu empresa?</th>\n",
              "      <th>¿Instauraron algún beneficio nuevo?</th>\n",
              "      <th>¿Cuáles considerás que son las mejores empresas de IT para trabajar en este momento, en tu ciudad?</th>\n",
              "    </tr>\n",
              "  </thead>\n",
              "  <tbody>\n",
              "    <tr>\n",
              "      <th>0</th>\n",
              "      <td>7/6/2020 9:56:02</td>\n",
              "      <td>Mujer</td>\n",
              "      <td>26</td>\n",
              "      <td>Argentina</td>\n",
              "      <td>Ciudad Autónoma de Buenos Aires</td>\n",
              "      <td>NaN</td>\n",
              "      <td>NaN</td>\n",
              "      <td>NaN</td>\n",
              "      <td>NaN</td>\n",
              "      <td>NaN</td>\n",
              "      <td>...</td>\n",
              "      <td>0</td>\n",
              "      <td>Vivo solo/a</td>\n",
              "      <td>No</td>\n",
              "      <td>No</td>\n",
              "      <td>4</td>\n",
              "      <td>Decidí buscar otro trabajo</td>\n",
              "      <td>7</td>\n",
              "      <td>No la afectó</td>\n",
              "      <td>No</td>\n",
              "      <td>NaN</td>\n",
              "    </tr>\n",
              "    <tr>\n",
              "      <th>1</th>\n",
              "      <td>7/6/2020 9:57:09</td>\n",
              "      <td>Hombre</td>\n",
              "      <td>29</td>\n",
              "      <td>Argentina</td>\n",
              "      <td>Corrientes</td>\n",
              "      <td>NaN</td>\n",
              "      <td>NaN</td>\n",
              "      <td>NaN</td>\n",
              "      <td>NaN</td>\n",
              "      <td>NaN</td>\n",
              "      <td>...</td>\n",
              "      <td>1</td>\n",
              "      <td>-</td>\n",
              "      <td>No</td>\n",
              "      <td>No</td>\n",
              "      <td>3</td>\n",
              "      <td>Cambié de trabajo, pero no por la pandemia</td>\n",
              "      <td>8</td>\n",
              "      <td>No la afectó</td>\n",
              "      <td>No</td>\n",
              "      <td>NaN</td>\n",
              "    </tr>\n",
              "    <tr>\n",
              "      <th>2</th>\n",
              "      <td>7/6/2020 9:58:09</td>\n",
              "      <td>Mujer</td>\n",
              "      <td>22</td>\n",
              "      <td>Argentina</td>\n",
              "      <td>Ciudad Autónoma de Buenos Aires</td>\n",
              "      <td>NaN</td>\n",
              "      <td>NaN</td>\n",
              "      <td>NaN</td>\n",
              "      <td>NaN</td>\n",
              "      <td>NaN</td>\n",
              "      <td>...</td>\n",
              "      <td>1</td>\n",
              "      <td>Pareja</td>\n",
              "      <td>No</td>\n",
              "      <td>No</td>\n",
              "      <td>4</td>\n",
              "      <td>Cambié de trabajo, pero no por la pandemia</td>\n",
              "      <td>8</td>\n",
              "      <td>Se vio beneficiada</td>\n",
              "      <td>Clases de gimnasia, Clases de meditación, Clas...</td>\n",
              "      <td>NaN</td>\n",
              "    </tr>\n",
              "    <tr>\n",
              "      <th>3</th>\n",
              "      <td>7/6/2020 9:59:52</td>\n",
              "      <td>Hombre</td>\n",
              "      <td>39</td>\n",
              "      <td>Argentina</td>\n",
              "      <td>Corrientes</td>\n",
              "      <td>NaN</td>\n",
              "      <td>NaN</td>\n",
              "      <td>NaN</td>\n",
              "      <td>NaN</td>\n",
              "      <td>NaN</td>\n",
              "      <td>...</td>\n",
              "      <td>1</td>\n",
              "      <td>Pareja</td>\n",
              "      <td>Sí</td>\n",
              "      <td>No</td>\n",
              "      <td>4</td>\n",
              "      <td>No</td>\n",
              "      <td>4</td>\n",
              "      <td>Cerró oficinas, Bajaron los sueldos o pagan pa...</td>\n",
              "      <td>No</td>\n",
              "      <td>NaN</td>\n",
              "    </tr>\n",
              "    <tr>\n",
              "      <th>4</th>\n",
              "      <td>7/6/2020 10:01:27</td>\n",
              "      <td>Hombre</td>\n",
              "      <td>32</td>\n",
              "      <td>Argentina</td>\n",
              "      <td>Ciudad Autónoma de Buenos Aires</td>\n",
              "      <td>NaN</td>\n",
              "      <td>NaN</td>\n",
              "      <td>NaN</td>\n",
              "      <td>NaN</td>\n",
              "      <td>NaN</td>\n",
              "      <td>...</td>\n",
              "      <td>2</td>\n",
              "      <td>Pareja, Hijos/as (tiempo completo)</td>\n",
              "      <td>Sí</td>\n",
              "      <td>No</td>\n",
              "      <td>3</td>\n",
              "      <td>No</td>\n",
              "      <td>6</td>\n",
              "      <td>Nos obligaron a tomarnos vacaciones</td>\n",
              "      <td>No</td>\n",
              "      <td>NaN</td>\n",
              "    </tr>\n",
              "  </tbody>\n",
              "</table>\n",
              "<p>5 rows × 81 columns</p>\n",
              "</div>\n",
              "      <button class=\"colab-df-convert\" onclick=\"convertToInteractive('df-d0258eac-623b-4ad5-9fd3-92243c33c0c2')\"\n",
              "              title=\"Convert this dataframe to an interactive table.\"\n",
              "              style=\"display:none;\">\n",
              "        \n",
              "  <svg xmlns=\"http://www.w3.org/2000/svg\" height=\"24px\"viewBox=\"0 0 24 24\"\n",
              "       width=\"24px\">\n",
              "    <path d=\"M0 0h24v24H0V0z\" fill=\"none\"/>\n",
              "    <path d=\"M18.56 5.44l.94 2.06.94-2.06 2.06-.94-2.06-.94-.94-2.06-.94 2.06-2.06.94zm-11 1L8.5 8.5l.94-2.06 2.06-.94-2.06-.94L8.5 2.5l-.94 2.06-2.06.94zm10 10l.94 2.06.94-2.06 2.06-.94-2.06-.94-.94-2.06-.94 2.06-2.06.94z\"/><path d=\"M17.41 7.96l-1.37-1.37c-.4-.4-.92-.59-1.43-.59-.52 0-1.04.2-1.43.59L10.3 9.45l-7.72 7.72c-.78.78-.78 2.05 0 2.83L4 21.41c.39.39.9.59 1.41.59.51 0 1.02-.2 1.41-.59l7.78-7.78 2.81-2.81c.8-.78.8-2.07 0-2.86zM5.41 20L4 18.59l7.72-7.72 1.47 1.35L5.41 20z\"/>\n",
              "  </svg>\n",
              "      </button>\n",
              "      \n",
              "  <style>\n",
              "    .colab-df-container {\n",
              "      display:flex;\n",
              "      flex-wrap:wrap;\n",
              "      gap: 12px;\n",
              "    }\n",
              "\n",
              "    .colab-df-convert {\n",
              "      background-color: #E8F0FE;\n",
              "      border: none;\n",
              "      border-radius: 50%;\n",
              "      cursor: pointer;\n",
              "      display: none;\n",
              "      fill: #1967D2;\n",
              "      height: 32px;\n",
              "      padding: 0 0 0 0;\n",
              "      width: 32px;\n",
              "    }\n",
              "\n",
              "    .colab-df-convert:hover {\n",
              "      background-color: #E2EBFA;\n",
              "      box-shadow: 0px 1px 2px rgba(60, 64, 67, 0.3), 0px 1px 3px 1px rgba(60, 64, 67, 0.15);\n",
              "      fill: #174EA6;\n",
              "    }\n",
              "\n",
              "    [theme=dark] .colab-df-convert {\n",
              "      background-color: #3B4455;\n",
              "      fill: #D2E3FC;\n",
              "    }\n",
              "\n",
              "    [theme=dark] .colab-df-convert:hover {\n",
              "      background-color: #434B5C;\n",
              "      box-shadow: 0px 1px 3px 1px rgba(0, 0, 0, 0.15);\n",
              "      filter: drop-shadow(0px 1px 2px rgba(0, 0, 0, 0.3));\n",
              "      fill: #FFFFFF;\n",
              "    }\n",
              "  </style>\n",
              "\n",
              "      <script>\n",
              "        const buttonEl =\n",
              "          document.querySelector('#df-d0258eac-623b-4ad5-9fd3-92243c33c0c2 button.colab-df-convert');\n",
              "        buttonEl.style.display =\n",
              "          google.colab.kernel.accessAllowed ? 'block' : 'none';\n",
              "\n",
              "        async function convertToInteractive(key) {\n",
              "          const element = document.querySelector('#df-d0258eac-623b-4ad5-9fd3-92243c33c0c2');\n",
              "          const dataTable =\n",
              "            await google.colab.kernel.invokeFunction('convertToInteractive',\n",
              "                                                     [key], {});\n",
              "          if (!dataTable) return;\n",
              "\n",
              "          const docLinkHtml = 'Like what you see? Visit the ' +\n",
              "            '<a target=\"_blank\" href=https://colab.research.google.com/notebooks/data_table.ipynb>data table notebook</a>'\n",
              "            + ' to learn more about interactive tables.';\n",
              "          element.innerHTML = '';\n",
              "          dataTable['output_type'] = 'display_data';\n",
              "          await google.colab.output.renderOutput(dataTable, element);\n",
              "          const docLink = document.createElement('div');\n",
              "          docLink.innerHTML = docLinkHtml;\n",
              "          element.appendChild(docLink);\n",
              "        }\n",
              "      </script>\n",
              "    </div>\n",
              "  </div>\n",
              "  "
            ]
          },
          "metadata": {},
          "execution_count": 56
        }
      ]
    },
    {
      "cell_type": "code",
      "source": [
        "\n",
        "arreglo_salario_neto = pd.DataFrame(df['Salario mensual NETO (en tu moneda local)'])\n",
        "salario_neto= pd.to_numeric(arreglo_salario_neto['Salario mensual NETO (en tu moneda local)'], errors='coerce')\n",
        "print(f'El promedio del salario neto es: {salario_neto.mean()}')\n",
        "print(f'la media del salario neto es: {salario_neto.median()}')"
      ],
      "metadata": {
        "colab": {
          "base_uri": "https://localhost:8080/"
        },
        "id": "zJZBIw7S4jbO",
        "outputId": "80491e4a-84d5-44e5-9336-10836a850c50"
      },
      "execution_count": 78,
      "outputs": [
        {
          "output_type": "stream",
          "name": "stdout",
          "text": [
            "El promedio del salario neto es: 19306004.37798064\n",
            "la media del salario neto es: 76000.0\n",
            "76000.0\n"
          ]
        }
      ]
    }
  ]
}