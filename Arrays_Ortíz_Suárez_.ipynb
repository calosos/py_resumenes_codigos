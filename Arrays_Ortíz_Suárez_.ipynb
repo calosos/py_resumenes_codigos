{
  "nbformat": 4,
  "nbformat_minor": 0,
  "metadata": {
    "colab": {
      "name": "Arrays Ortíz Suárez .ipynb",
      "provenance": [],
      "authorship_tag": "ABX9TyO/ku/16ZNi20VoZQfaQAo2",
      "include_colab_link": true
    },
    "kernelspec": {
      "name": "python3",
      "display_name": "Python 3"
    },
    "language_info": {
      "name": "python"
    }
  },
  "cells": [
    {
      "cell_type": "markdown",
      "metadata": {
        "id": "view-in-github",
        "colab_type": "text"
      },
      "source": [
        "<a href=\"https://colab.research.google.com/github/calosos/py_resumenes_codigos/blob/main/Arrays_Ort%C3%ADz_Su%C3%A1rez_.ipynb\" target=\"_parent\"><img src=\"https://colab.research.google.com/assets/colab-badge.svg\" alt=\"Open In Colab\"/></a>"
      ]
    },
    {
      "cell_type": "markdown",
      "source": [
        "### **Ejercicio 1:** Factorial"
      ],
      "metadata": {
        "id": "o1AGNDjsudbL"
      }
    },
    {
      "cell_type": "code",
      "source": [
        "import numpy as np"
      ],
      "metadata": {
        "id": "-x4IZ2PrudJ8"
      },
      "execution_count": null,
      "outputs": []
    },
    {
      "cell_type": "code",
      "execution_count": null,
      "metadata": {
        "colab": {
          "base_uri": "https://localhost:8080/"
        },
        "id": "tDlFVBYBuach",
        "outputId": "d9c17506-e49d-4c57-df55-2438fd42a433"
      },
      "outputs": [
        {
          "output_type": "execute_result",
          "data": {
            "text/plain": [
              "100"
            ]
          },
          "metadata": {},
          "execution_count": 7
        }
      ],
      "source": [
        "lista_uno = np.random.randint(101)\n",
        "lista"
      ]
    },
    {
      "cell_type": "code",
      "source": [
        "print ('hola mundo')"
      ],
      "metadata": {
        "id": "4QlRi8vIxF4i",
        "colab": {
          "base_uri": "https://localhost:8080/"
        },
        "outputId": "a393130e-b04f-40d1-f6c5-958d041807c2"
      },
      "execution_count": 2,
      "outputs": [
        {
          "output_type": "stream",
          "name": "stdout",
          "text": [
            "hola mundo\n"
          ]
        }
      ]
    }
  ]
}