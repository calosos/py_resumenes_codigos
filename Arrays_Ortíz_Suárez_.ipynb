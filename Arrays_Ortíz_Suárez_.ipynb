{
  "nbformat": 4,
  "nbformat_minor": 0,
  "metadata": {
    "colab": {
      "name": "Arrays Ortíz Suárez .ipynb",
      "provenance": [],
      "authorship_tag": "ABX9TyNAKHhtsMeKo5B2yI9cNrOo",
      "include_colab_link": true
    },
    "kernelspec": {
      "name": "python3",
      "display_name": "Python 3"
    },
    "language_info": {
      "name": "python"
    }
  },
  "cells": [
    {
      "cell_type": "markdown",
      "metadata": {
        "id": "view-in-github",
        "colab_type": "text"
      },
      "source": [
        "<a href=\"https://colab.research.google.com/github/calosos/py_resumenes_codigos/blob/main/Arrays_Ort%C3%ADz_Su%C3%A1rez_.ipynb\" target=\"_parent\"><img src=\"https://colab.research.google.com/assets/colab-badge.svg\" alt=\"Open In Colab\"/></a>"
      ]
    },
    {
      "cell_type": "markdown",
      "source": [
        "### **Ejercicio 1:** Factorial"
      ],
      "metadata": {
        "id": "o1AGNDjsudbL"
      }
    },
    {
      "cell_type": "code",
      "source": [
        "import numpy as np"
      ],
      "metadata": {
        "id": "-x4IZ2PrudJ8"
      },
      "execution_count": 3,
      "outputs": []
    },
    {
      "cell_type": "code",
      "execution_count": 4,
      "metadata": {
        "colab": {
          "base_uri": "https://localhost:8080/"
        },
        "id": "tDlFVBYBuach",
        "outputId": "8088e7e4-f91d-4446-b4e2-1e8c9aca564f"
      },
      "outputs": [
        {
          "output_type": "stream",
          "name": "stdout",
          "text": [
            "[31, 40, 9, 94, 10, 40, 42, 16, 40, 80, 66, 74, 63, 15, 2, 60, 56, 13, 31, 47, 88, 87, 58, 47, 45, 69, 76, 23, 23, 10, 9, 69, 69, 47, 65, 24, 14, 42, 6, 54, 64, 96, 89, 89, 5, 24, 17, 83, 32, 69, 51, 88, 71, 20, 92, 86, 2, 98, 16, 92, 14, 92, 75, 93, 10, 27, 67, 5, 45, 85, 23, 48, 65, 5, 60, 41, 42, 2, 8, 87, 44, 36, 48, 7, 94, 0, 40, 40, 33, 40, 62, 29, 22, 11, 13, 77, 71, 84, 19, 29]\n"
          ]
        }
      ],
      "source": [
        "lista= []\n",
        "for i in range(1,101):\n",
        "  lista.append(np.random.randint(100))\n",
        "print(lista)"
      ]
    },
    {
      "cell_type": "code",
      "source": [
        "lista_np= np.array(lista)\n",
        "lista_np"
      ],
      "metadata": {
        "id": "C1HerG7BfF0e",
        "outputId": "e1ef671b-673c-45ca-b64c-b9ca0eefabea",
        "colab": {
          "base_uri": "https://localhost:8080/"
        }
      },
      "execution_count": 6,
      "outputs": [
        {
          "output_type": "execute_result",
          "data": {
            "text/plain": [
              "array([31, 40,  9, 94, 10, 40, 42, 16, 40, 80, 66, 74, 63, 15,  2, 60, 56,\n",
              "       13, 31, 47, 88, 87, 58, 47, 45, 69, 76, 23, 23, 10,  9, 69, 69, 47,\n",
              "       65, 24, 14, 42,  6, 54, 64, 96, 89, 89,  5, 24, 17, 83, 32, 69, 51,\n",
              "       88, 71, 20, 92, 86,  2, 98, 16, 92, 14, 92, 75, 93, 10, 27, 67,  5,\n",
              "       45, 85, 23, 48, 65,  5, 60, 41, 42,  2,  8, 87, 44, 36, 48,  7, 94,\n",
              "        0, 40, 40, 33, 40, 62, 29, 22, 11, 13, 77, 71, 84, 19, 29])"
            ]
          },
          "metadata": {},
          "execution_count": 6
        }
      ]
    }
  ]
}