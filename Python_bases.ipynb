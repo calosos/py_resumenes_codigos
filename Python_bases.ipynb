{
  "nbformat": 4,
  "nbformat_minor": 0,
  "metadata": {
    "colab": {
      "name": "Untitled6.ipynb",
      "provenance": [],
      "authorship_tag": "ABX9TyNYBfYNITmtkWjHv3ikDQC+",
      "include_colab_link": true
    },
    "kernelspec": {
      "name": "python3",
      "display_name": "Python 3"
    },
    "language_info": {
      "name": "python"
    }
  },
  "cells": [
    {
      "cell_type": "markdown",
      "metadata": {
        "id": "view-in-github",
        "colab_type": "text"
      },
      "source": [
        "<a href=\"https://colab.research.google.com/github/calosos/py_resumenes_codigos/blob/main/Python_bases.ipynb\" target=\"_parent\"><img src=\"https://colab.research.google.com/assets/colab-badge.svg\" alt=\"Open In Colab\"/></a>"
      ]
    },
    {
      "cell_type": "code",
      "execution_count": null,
      "metadata": {
        "colab": {
          "base_uri": "https://localhost:8080/"
        },
        "id": "nSEUw9Nxpr_A",
        "outputId": "3ecf4d51-39fd-41f6-a024-fb4315cdb560"
      },
      "outputs": [
        {
          "output_type": "stream",
          "name": "stdout",
          "text": [
            "16+3=19  | Suma \n",
            "16-3=13  | Resta \n",
            "16*3=48  | Multiplicación\n",
            "16**3=48 | Potencia\n",
            "16/3=19  | Divición\n",
            "16//3=19 | Divición con resultado entero\n",
            "16%3=19  | Operador Módulo\n"
          ]
        }
      ],
      "source": [
        "variable = 16 #Asignación de variables\n",
        "variable_dos = 3\n",
        "#Operación básicas\n",
        "print(f'{variable}+{variable_dos}={variable+variable_dos}  | Suma ')\n",
        "print(f'{variable}-{variable_dos}={variable-variable_dos}  | Resta ')   \n",
        "print(f'{variable}*{variable_dos}={variable*variable_dos}  | Multiplicación') \n",
        "print(f'{variable}**{variable_dos}={variable*variable_dos} | Potencia') \n",
        "print(f'{variable}/{variable_dos}={variable+variable_dos}  | Divición') \n",
        "print(f'{variable}//{variable_dos}={variable+variable_dos} | Divición con resultado entero')\n",
        "print(f'{variable}%{variable_dos}={variable+variable_dos}  | Operador Módulo')  "
      ]
    },
    {
      "cell_type": "code",
      "source": [
        "variable_int = 5\n",
        "variable_float= 3.4\n",
        "variable_bool= True\n",
        "variable_bool_dos= False\n",
        "variable_str = 's'\n",
        "variable_str_dos= 'Cadena'\n",
        "\n",
        "print(f'Vaiable entera: {variable_int}')\n",
        "print(type(variable_int))\n",
        "print(f'Vaiable flotante: {variable_float}')\n",
        "print(type(variable_float))\n",
        "print(f'Vaiable boolena Verdadera: {variable_bool}')\n",
        "print(type(variable_bool))\n",
        "print(f'Vaiable boolena Falsa: {variable_bool_dos}')\n",
        "print(type(variable_bool_dos))\n",
        "print(f'Vaiable caracter: {variable_str}')\n",
        "print(type(variable_str))\n",
        "print(f'Vaiable entera: {variable_str_dos}')\n",
        "print(type(variable_str_dos))"
      ],
      "metadata": {
        "colab": {
          "base_uri": "https://localhost:8080/"
        },
        "id": "9SbPT-0jqNby",
        "outputId": "7ac06d78-e33e-4ab3-c640-5345fb7fd89c"
      },
      "execution_count": 1,
      "outputs": [
        {
          "output_type": "stream",
          "name": "stdout",
          "text": [
            "Vaiable entera: 5\n",
            "<class 'int'>\n",
            "Vaiable flotante: 3.4\n",
            "<class 'float'>\n",
            "Vaiable boolena Verdadera: True\n",
            "<class 'bool'>\n",
            "Vaiable boolena Falsa: False\n",
            "<class 'bool'>\n",
            "Vaiable caracter: s\n",
            "<class 'str'>\n",
            "Vaiable entera: Cadena\n",
            "<class 'str'>\n"
          ]
        }
      ]
    },
    {
      "cell_type": "code",
      "source": [
        "c=0.35\n",
        "c.as_integer_ratio()"
      ],
      "metadata": {
        "id": "FP9Uwj6dLmDq",
        "outputId": "8d0f9a97-5ca7-474b-e975-b66351fee530",
        "colab": {
          "base_uri": "https://localhost:8080/"
        }
      },
      "execution_count": 4,
      "outputs": [
        {
          "output_type": "execute_result",
          "data": {
            "text/plain": [
              "(3152519739159347, 9007199254740992)"
            ]
          },
          "metadata": {},
          "execution_count": 4
        }
      ]
    },
    {
      "cell_type": "code",
      "source": [
        "import decimal\n",
        "from decimal import Decimal\n",
        "decimal.getcontext()"
      ],
      "metadata": {
        "id": "RLnVM8KYL8O3",
        "outputId": "079f3f30-1ef9-474e-fc5d-c6f880353b6f",
        "colab": {
          "base_uri": "https://localhost:8080/"
        }
      },
      "execution_count": 6,
      "outputs": [
        {
          "output_type": "execute_result",
          "data": {
            "text/plain": [
              "Context(prec=28, rounding=ROUND_HALF_EVEN, Emin=-999999, Emax=999999, capitals=1, clamp=0, flags=[], traps=[InvalidOperation, DivisionByZero, Overflow])"
            ]
          },
          "metadata": {},
          "execution_count": 6
        }
      ]
    },
    {
      "cell_type": "code",
      "source": [
        "d=Decimal(1)/Decimal(11)\n"
      ],
      "metadata": {
        "id": "qLScYjaBMRso",
        "outputId": "d551b37b-2fb0-494b-ad85-44662ead922e",
        "colab": {
          "base_uri": "https://localhost:8080/"
        }
      },
      "execution_count": 8,
      "outputs": [
        {
          "output_type": "execute_result",
          "data": {
            "text/plain": [
              "Decimal('0.09090909090909090909090909091')"
            ]
          },
          "metadata": {},
          "execution_count": 8
        }
      ]
    },
    {
      "cell_type": "code",
      "source": [
        "decimal.getcontext().prec=50 #Prec para que devuelva más decimales\n",
        "e=Decimal(1)/Decimal(11)\n",
        "e"
      ],
      "metadata": {
        "id": "S1OcyVXvMnxw",
        "outputId": "d1292130-865b-4b05-db70-bf54e9b964c6",
        "colab": {
          "base_uri": "https://localhost:8080/"
        }
      },
      "execution_count": 10,
      "outputs": [
        {
          "output_type": "execute_result",
          "data": {
            "text/plain": [
              "Decimal('0.090909090909090909090909090909090909090909090909091')"
            ]
          },
          "metadata": {},
          "execution_count": 10
        }
      ]
    },
    {
      "cell_type": "code",
      "source": [
        "\n",
        "num_int= int(variable_float)\n",
        "cadena = str(variable_float)\n",
        "print(f'Convertir {variable_float}, {type(variable_float)} en entero  | {num_int} tipo:{type(num_int)}')\n",
        "print(f'Convertir {variable_float}, {type(variable_float)} en cadena  | {cadena} tipo: {type(cadena)}')"
      ],
      "metadata": {
        "colab": {
          "base_uri": "https://localhost:8080/"
        },
        "id": "bb0vyAun-5vg",
        "outputId": "ae734e0d-7c0c-4777-d46d-f13472d63e11"
      },
      "execution_count": 2,
      "outputs": [
        {
          "output_type": "stream",
          "name": "stdout",
          "text": [
            "Convertir 3.4, <class 'float'> en entero  | 3 tipo:<class 'int'>\n",
            "Convertir 3.4, <class 'float'> en cadena  | 3.4 tipo: <class 'str'>\n"
          ]
        }
      ]
    },
    {
      "cell_type": "code",
      "source": [
        "var_otr = int(\"2\")\n",
        "print(f'{var_otr}, {type(var_otr)}')"
      ],
      "metadata": {
        "colab": {
          "base_uri": "https://localhost:8080/"
        },
        "id": "T3HseAQeBEiX",
        "outputId": "e456884a-b270-49fe-a93e-165269303719"
      },
      "execution_count": null,
      "outputs": [
        {
          "output_type": "stream",
          "name": "stdout",
          "text": [
            "2, <class 'int'>\n"
          ]
        }
      ]
    },
    {
      "cell_type": "code",
      "source": [
        "var_uno = 4\n",
        "var_dos = 3 \n",
        "var_tres = 7\n",
        "\n",
        "print(f'{var_tres} es Igual que {var_tres} : {var_tres==var_tres}')\n",
        "print(f'{var_tres} es Mayor que {var_uno} : {var_tres>var_uno}')\n",
        "print(f'{var_uno} es Menor que {var_tres} : {var_uno<var_tres}')\n",
        "print(f'{var_tres} es Mayor o Igual que {var_uno} : {var_tres>=var_uno}')\n",
        "print(f'{var_uno} es Menor o Igual que {var_tres} : {var_uno<var_tres}')\n",
        "print(f'{var_uno} es Diferente {var_tres} : {var_uno != var_tres}')"
      ],
      "metadata": {
        "colab": {
          "base_uri": "https://localhost:8080/"
        },
        "id": "xYAuq2f94reA",
        "outputId": "b450feec-fabd-4bff-e461-f8411b4679b1"
      },
      "execution_count": null,
      "outputs": [
        {
          "output_type": "stream",
          "name": "stdout",
          "text": [
            "7 es Igual que 7 : True\n",
            "7 es Mayor que 4 : True\n",
            "4 es Menor que 7 : True\n",
            "7 es Mayor o Igual que 4 : True\n",
            "4 es Menor o Igual que 7 : True\n",
            "4 es Diferente 7 : True\n"
          ]
        }
      ]
    },
    {
      "cell_type": "code",
      "source": [
        "dato_uno = int(input('Primer número: '))\n",
        "dato_dos = int(input('Segundo número: '))\n",
        "if dato_uno > dato_dos:\n",
        "  print(f'{dato_uno} es mayor que {dato_dos} ')\n",
        "elif dato_uno < dato_dos:\n",
        "  print(f'{dato_uno} es menor que {dato_dos} ')\n",
        "else:\n",
        "  print(f'{dato_uno} es igual {dato_dos} ')"
      ],
      "metadata": {
        "colab": {
          "base_uri": "https://localhost:8080/"
        },
        "id": "KuXqqCoJ8phu",
        "outputId": "d1e0fa61-7053-4bca-dac1-1146d1b59f2e"
      },
      "execution_count": null,
      "outputs": [
        {
          "output_type": "stream",
          "name": "stdout",
          "text": [
            "Primer número: 4\n",
            "Segundo número: 4\n",
            "4 es igual 4 \n"
          ]
        }
      ]
    },
    {
      "cell_type": "markdown",
      "source": [
        "Si las ventas son mayores a $1,000,000 el bono será de 20% del sueldo; si son entre $700,000 y $1,000,000 el bono será de 15% del sueldo; entre $400,000 y $700,000 el bono será de 10% del sueldo; entre $100,00 y 400,000 el bono será de 5% del sueldo; y debajo de $100,000 el bono será del 1% del sueldo."
      ],
      "metadata": {
        "id": "ROApDvrsDEqu"
      }
    },
    {
      "cell_type": "code",
      "source": [
        "ventas_anuales_totales = float(input('Ventas Totales Anuales: '))\n",
        "sueldo = float(input('Sueldo Del Empleado'))\n",
        "if ventas_anuales_totales > 1000000 :\n",
        "  bono = sueldo * 0.20 \n",
        "  sueldo_final = bono + sueldo\n",
        "elif  1000000 >= ventas_anuales_totales >=700000:\n",
        "  bono = sueldo * 0.15 \n",
        "  sueldo_final = bono + sueldo\n",
        "elif 700000 > ventas_anuales_totales >= 400000:\n",
        "  bono = sueldo * 0.10\n",
        "  sueldo_final = bono + sueldo\n",
        "elif 400000 > ventas_anuales_totales >= 100000:\n",
        "  bono = sueldo * 0.05\n",
        "  sueldo_final = bono + sueldo\n",
        "elif ventas_anuales_totales < 100000 :\n",
        "  bono = sueldo * 0.01\n",
        "  sueldo_final = bono + sueldo\n",
        "print(f'Tu sueldo es ${sueldo:.2f}; tu bono es de ${bono:.2f}; y el total de sueldo con el bono incluido es de ${sueldo_final:.2f}')\n"
      ],
      "metadata": {
        "colab": {
          "base_uri": "https://localhost:8080/"
        },
        "id": "RcucwKsfDELN",
        "outputId": "473ad07b-fb36-43b1-d1be-b9b59b93f577"
      },
      "execution_count": null,
      "outputs": [
        {
          "output_type": "stream",
          "name": "stdout",
          "text": [
            "Ventas Totales Anuales: 750000\n",
            "Sueldo Del Empleado10000\n",
            "Tu sueldo es $10000.00; tu bono es de $1500.00; y el total de sueldo con el bono incluido es de $11500.00\n"
          ]
        }
      ]
    },
    {
      "cell_type": "code",
      "source": [
        "import keyword\n",
        "keyword.kwlist"
      ],
      "metadata": {
        "id": "MfDIWJ3aNI1M",
        "outputId": "1dfc7f1b-59a1-4f45-fc01-e6314b1bcb45",
        "colab": {
          "base_uri": "https://localhost:8080/"
        }
      },
      "execution_count": 12,
      "outputs": [
        {
          "output_type": "execute_result",
          "data": {
            "text/plain": [
              "['False',\n",
              " 'None',\n",
              " 'True',\n",
              " 'and',\n",
              " 'as',\n",
              " 'assert',\n",
              " 'async',\n",
              " 'await',\n",
              " 'break',\n",
              " 'class',\n",
              " 'continue',\n",
              " 'def',\n",
              " 'del',\n",
              " 'elif',\n",
              " 'else',\n",
              " 'except',\n",
              " 'finally',\n",
              " 'for',\n",
              " 'from',\n",
              " 'global',\n",
              " 'if',\n",
              " 'import',\n",
              " 'in',\n",
              " 'is',\n",
              " 'lambda',\n",
              " 'nonlocal',\n",
              " 'not',\n",
              " 'or',\n",
              " 'pass',\n",
              " 'raise',\n",
              " 'return',\n",
              " 'try',\n",
              " 'while',\n",
              " 'with',\n",
              " 'yield']"
            ]
          },
          "metadata": {},
          "execution_count": 12
        }
      ]
    },
    {
      "cell_type": "code",
      "source": [
        "i = 0\n",
        "while i < 4 : \n",
        "  print('Condition treu, i = ', i)\n",
        "  i+=1"
      ],
      "metadata": {
        "id": "DXjjxuWUN34K",
        "outputId": "dffb2276-4e8d-4bb0-ac4a-2ce6e191c73f",
        "colab": {
          "base_uri": "https://localhost:8080/"
        }
      },
      "execution_count": 15,
      "outputs": [
        {
          "output_type": "stream",
          "name": "stdout",
          "text": [
            "Condition treu, i =  0\n",
            "Condition treu, i =  1\n",
            "Condition treu, i =  2\n",
            "Condition treu, i =  3\n"
          ]
        }
      ]
    },
    {
      "cell_type": "code",
      "source": [
        "f='this is a string object'\n"
      ],
      "metadata": {
        "id": "FGXCEaj1Pb6R"
      },
      "execution_count": 21,
      "outputs": []
    },
    {
      "cell_type": "code",
      "source": [
        "f.capitalize() #solo es un visata, no guarda los cambios \n"
      ],
      "metadata": {
        "id": "59fOiqMxPdPx",
        "outputId": "efe82ed9-e3fd-4081-b282-3c4b01a9c86b",
        "colab": {
          "base_uri": "https://localhost:8080/",
          "height": 35
        }
      },
      "execution_count": 27,
      "outputs": [
        {
          "output_type": "execute_result",
          "data": {
            "text/plain": [
              "'this is a string object'"
            ],
            "application/vnd.google.colaboratory.intrinsic+json": {
              "type": "string"
            }
          },
          "metadata": {},
          "execution_count": 27
        }
      ]
    },
    {
      "cell_type": "code",
      "source": [
        "f.split()"
      ],
      "metadata": {
        "id": "wMFBvZfGPlx9",
        "outputId": "b53f8787-8266-4b85-c0fd-b5023e554ce7",
        "colab": {
          "base_uri": "https://localhost:8080/"
        }
      },
      "execution_count": 25,
      "outputs": [
        {
          "output_type": "execute_result",
          "data": {
            "text/plain": [
              "['this', 'is', 'a', 'string', 'object']"
            ]
          },
          "metadata": {},
          "execution_count": 25
        }
      ]
    },
    {
      "cell_type": "code",
      "source": [
        "f.find('string')"
      ],
      "metadata": {
        "id": "h6kQk3OtPzSF",
        "outputId": "3ae0d4b2-de84-4a94-8eb6-213859d425a0",
        "colab": {
          "base_uri": "https://localhost:8080/"
        }
      },
      "execution_count": 30,
      "outputs": [
        {
          "output_type": "execute_result",
          "data": {
            "text/plain": [
              "10"
            ]
          },
          "metadata": {},
          "execution_count": 30
        }
      ]
    },
    {
      "cell_type": "code",
      "source": [
        "f.find('ola') #Si no esta regresa -1"
      ],
      "metadata": {
        "id": "0C-qXfA1P9sL",
        "outputId": "a5d0c3e1-ae8e-4cc4-ee6d-41ec3b77c876",
        "colab": {
          "base_uri": "https://localhost:8080/"
        }
      },
      "execution_count": 31,
      "outputs": [
        {
          "output_type": "execute_result",
          "data": {
            "text/plain": [
              "-1"
            ]
          },
          "metadata": {},
          "execution_count": 31
        }
      ]
    },
    {
      "cell_type": "code",
      "source": [
        "t.replace(' ',|)"
      ],
      "metadata": {
        "id": "NaX9jY7YQFCp"
      },
      "execution_count": null,
      "outputs": []
    }
  ]
}