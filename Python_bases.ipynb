{
  "nbformat": 4,
  "nbformat_minor": 0,
  "metadata": {
    "colab": {
      "name": "Untitled6.ipynb",
      "provenance": [],
      "authorship_tag": "ABX9TyMJxGyeMTAlVfDET7nOmwW8",
      "include_colab_link": true
    },
    "kernelspec": {
      "name": "python3",
      "display_name": "Python 3"
    },
    "language_info": {
      "name": "python"
    }
  },
  "cells": [
    {
      "cell_type": "markdown",
      "metadata": {
        "id": "view-in-github",
        "colab_type": "text"
      },
      "source": [
        "<a href=\"https://colab.research.google.com/github/calosos/py_resumenes_codigos/blob/main/Python_bases.ipynb\" target=\"_parent\"><img src=\"https://colab.research.google.com/assets/colab-badge.svg\" alt=\"Open In Colab\"/></a>"
      ]
    },
    {
      "cell_type": "code",
      "execution_count": 16,
      "metadata": {
        "colab": {
          "base_uri": "https://localhost:8080/"
        },
        "id": "nSEUw9Nxpr_A",
        "outputId": "3ecf4d51-39fd-41f6-a024-fb4315cdb560"
      },
      "outputs": [
        {
          "output_type": "stream",
          "name": "stdout",
          "text": [
            "16+3=19  | Suma \n",
            "16-3=13  | Resta \n",
            "16*3=48  | Multiplicación\n",
            "16**3=48 | Potencia\n",
            "16/3=19  | Divición\n",
            "16//3=19 | Divición con resultado entero\n",
            "16%3=19  | Operador Módulo\n"
          ]
        }
      ],
      "source": [
        "variable = 16 #Asignación de variables\n",
        "variable_dos = 3\n",
        "#Operación básicas\n",
        "print(f'{variable}+{variable_dos}={variable+variable_dos}  | Suma ')\n",
        "print(f'{variable}-{variable_dos}={variable-variable_dos}  | Resta ')   \n",
        "print(f'{variable}*{variable_dos}={variable*variable_dos}  | Multiplicación') \n",
        "print(f'{variable}**{variable_dos}={variable*variable_dos} | Potencia') \n",
        "print(f'{variable}/{variable_dos}={variable+variable_dos}  | Divición') \n",
        "print(f'{variable}//{variable_dos}={variable+variable_dos} | Divición con resultado entero')\n",
        "print(f'{variable}%{variable_dos}={variable+variable_dos}  | Operador Módulo')  "
      ]
    },
    {
      "cell_type": "code",
      "source": [
        "variable_int = 5\n",
        "variable_float= 3.4\n",
        "variable_bool= True\n",
        "variable_bool_dos= False\n",
        "variable_str = 's'\n",
        "variable_str_dos= 'Cadena'\n",
        "\n",
        "print(f'Vaiable entera: {variable_int}')\n",
        "print(type(variable_int))\n",
        "print(f'Vaiable flotante: {variable_float}')\n",
        "print(type(variable_float))\n",
        "print(f'Vaiable boolena Verdadera: {variable_bool}')\n",
        "print(type(variable_bool))\n",
        "print(f'Vaiable boolena Falsa: {variable_bool_dos}')\n",
        "print(type(variable_bool_dos))\n",
        "print(f'Vaiable caracter: {variable_str}')\n",
        "print(type(variable_str))\n",
        "print(f'Vaiable entera: {variable_str_dos}')\n",
        "print(type(variable_str_dos))"
      ],
      "metadata": {
        "colab": {
          "base_uri": "https://localhost:8080/"
        },
        "id": "9SbPT-0jqNby",
        "outputId": "2adebda0-4d2f-404d-d907-e373818606b6"
      },
      "execution_count": 22,
      "outputs": [
        {
          "output_type": "stream",
          "name": "stdout",
          "text": [
            "Vaiable entera: 5\n",
            "<class 'int'>\n",
            "Vaiable flotante: 3.4\n",
            "<class 'float'>\n",
            "Vaiable boolena Verdadera: True\n",
            "<class 'bool'>\n",
            "Vaiable boolena Falsa: False\n",
            "<class 'bool'>\n",
            "Vaiable caracter: s\n",
            "<class 'str'>\n",
            "Vaiable entera: Cadena\n",
            "<class 'str'>\n"
          ]
        }
      ]
    },
    {
      "cell_type": "code",
      "source": [
        "\n",
        "num_int= int(variable_float)\n",
        "cadena = str(variable_float)\n",
        "print(f'Convertir {variable_float}, {type(variable_float)} en entero  | {num_int} tipo:{type(num_int)}')\n",
        "print(f'Convertir {variable_float}, {type(variable_float)} en cadena  | {cadena} tipo: {type(cadena)}')"
      ],
      "metadata": {
        "colab": {
          "base_uri": "https://localhost:8080/"
        },
        "id": "bb0vyAun-5vg",
        "outputId": "5de1e6ce-349b-45dc-d6b5-50a4c6894536"
      },
      "execution_count": 50,
      "outputs": [
        {
          "output_type": "stream",
          "name": "stdout",
          "text": [
            "Convertir 3.4, <class 'float'> en entero  | 3 tipo:<class 'int'>\n",
            "Convertir 3.4, <class 'float'> en cadena  | 3.4 tipo: <class 'str'>\n"
          ]
        }
      ]
    },
    {
      "cell_type": "code",
      "source": [
        "var_otr = int(\"2\")\n",
        "print(f'{var_otr}, {type(var_otr)}')"
      ],
      "metadata": {
        "colab": {
          "base_uri": "https://localhost:8080/"
        },
        "id": "T3HseAQeBEiX",
        "outputId": "e456884a-b270-49fe-a93e-165269303719"
      },
      "execution_count": 54,
      "outputs": [
        {
          "output_type": "stream",
          "name": "stdout",
          "text": [
            "2, <class 'int'>\n"
          ]
        }
      ]
    },
    {
      "cell_type": "code",
      "source": [
        "var_uno = 4\n",
        "var_dos = 3 \n",
        "var_tres = 7\n",
        "\n",
        "print(f'{var_tres} es Igual que {var_tres} : {var_tres==var_tres}')\n",
        "print(f'{var_tres} es Mayor que {var_uno} : {var_tres>var_uno}')\n",
        "print(f'{var_uno} es Menor que {var_tres} : {var_uno<var_tres}')\n",
        "print(f'{var_tres} es Mayor o Igual que {var_uno} : {var_tres>=var_uno}')\n",
        "print(f'{var_uno} es Menor o Igual que {var_tres} : {var_uno<var_tres}')\n",
        "print(f'{var_uno} es Diferente {var_tres} : {var_uno != var_tres}')"
      ],
      "metadata": {
        "colab": {
          "base_uri": "https://localhost:8080/"
        },
        "id": "xYAuq2f94reA",
        "outputId": "b450feec-fabd-4bff-e461-f8411b4679b1"
      },
      "execution_count": 33,
      "outputs": [
        {
          "output_type": "stream",
          "name": "stdout",
          "text": [
            "7 es Igual que 7 : True\n",
            "7 es Mayor que 4 : True\n",
            "4 es Menor que 7 : True\n",
            "7 es Mayor o Igual que 4 : True\n",
            "4 es Menor o Igual que 7 : True\n",
            "4 es Diferente 7 : True\n"
          ]
        }
      ]
    },
    {
      "cell_type": "code",
      "source": [
        "dato_uno = int(input('Primer número: '))\n",
        "dato_dos = int(input('Segundo número: '))\n",
        "if dato_uno > dato_dos:\n",
        "  print(f'{dato_uno} es mayor que {dato_dos} ')\n",
        "elif dato_uno < dato_dos:\n",
        "  print(f'{dato_uno} es menor que {dato_dos} ')\n",
        "else:\n",
        "  print(f'{dato_uno} es igual {dato_dos} ')"
      ],
      "metadata": {
        "colab": {
          "base_uri": "https://localhost:8080/"
        },
        "id": "KuXqqCoJ8phu",
        "outputId": "d1e0fa61-7053-4bca-dac1-1146d1b59f2e"
      },
      "execution_count": 35,
      "outputs": [
        {
          "output_type": "stream",
          "name": "stdout",
          "text": [
            "Primer número: 4\n",
            "Segundo número: 4\n",
            "4 es igual 4 \n"
          ]
        }
      ]
    },
    {
      "cell_type": "markdown",
      "source": [
        "Si las ventas son mayores a $1,000,000 el bono será de 20% del sueldo; si son entre $700,000 y $1,000,000 el bono será de 15% del sueldo; entre $400,000 y $700,000 el bono será de 10% del sueldo; entre $100,00 y 400,000 el bono será de 5% del sueldo; y debajo de $100,000 el bono será del 1% del sueldo."
      ],
      "metadata": {
        "id": "ROApDvrsDEqu"
      }
    },
    {
      "cell_type": "code",
      "source": [
        "ventas_anuales_totales = float(input('Ventas Totales Anuales: '))\n",
        "sueldo = float(input('Sueldo Del Empleado'))\n",
        "if ventas_anuales_totales > 1000000 :\n",
        "  bono = sueldo * 0.20 \n",
        "  sueldo_final = bono + sueldo\n",
        "elif  1000000 >= ventas_anuales_totales >=700000:\n",
        "  bono = sueldo * 0.15 \n",
        "  sueldo_final = bono + sueldo\n",
        "elif 700000 > ventas_anuales_totales >= 400000:\n",
        "  bono = sueldo * 0.10\n",
        "  sueldo_final = bono + sueldo\n",
        "elif 400000 > ventas_anuales_totales >= 100000:\n",
        "  bono = sueldo * 0.05\n",
        "  sueldo_final = bono + sueldo\n",
        "elif ventas_anuales_totales < 100000 :\n",
        "  bono = sueldo * 0.01\n",
        "  sueldo_final = bono + sueldo\n",
        "print(f'Tu sueldo es ${sueldo:.2f}; tu bono es de ${bono:.2f}; y el total de sueldo con el bono incluido es de ${sueldo_final:.2f}')\n"
      ],
      "metadata": {
        "colab": {
          "base_uri": "https://localhost:8080/"
        },
        "id": "RcucwKsfDELN",
        "outputId": "473ad07b-fb36-43b1-d1be-b9b59b93f577"
      },
      "execution_count": 61,
      "outputs": [
        {
          "output_type": "stream",
          "name": "stdout",
          "text": [
            "Ventas Totales Anuales: 750000\n",
            "Sueldo Del Empleado10000\n",
            "Tu sueldo es $10000.00; tu bono es de $1500.00; y el total de sueldo con el bono incluido es de $11500.00\n"
          ]
        }
      ]
    }
  ]
}