{
  "cells": [
    {
      "cell_type": "markdown",
      "metadata": {
        "id": "view-in-github",
        "colab_type": "text"
      },
      "source": [
        "<a href=\"https://colab.research.google.com/github/calosos/py_resumenes_codigos/blob/main/Sesion-08/Ejemplo-01/conectandose.ipynb\" target=\"_parent\"><img src=\"https://colab.research.google.com/assets/colab-badge.svg\" alt=\"Open In Colab\"/></a>"
      ]
    },
    {
      "cell_type": "markdown",
      "metadata": {
        "id": "4_8wEaA7l3H8"
      },
      "source": [
        "## Ejemplo 1: Conectándose a una base de datos remota\n",
        "\n",
        "### 1. Objetivos:\n",
        "    - Usar `mysql-connector-python` para conectarse a una base de datos remota.\n",
        " \n",
        "---\n",
        "    \n",
        "### 2. Desarrollo:"
      ]
    },
    {
      "cell_type": "markdown",
      "metadata": {
        "id": "fGZIpb2Ll3IA"
      },
      "source": [
        "#### a) Realizar una conexión y el `cursor`\n",
        "\n",
        "Para conectarnos necesitamos primero importar la librería:"
      ]
    },
    {
      "cell_type": "code",
      "source": [
        "\n",
        "!pip install mysql-connector-python\n"
      ],
      "metadata": {
        "id": "BtOFGYmlnAtj",
        "outputId": "3bfadc81-d7f6-498f-c4d3-a70702123604",
        "colab": {
          "base_uri": "https://localhost:8080/"
        }
      },
      "execution_count": 4,
      "outputs": [
        {
          "output_type": "stream",
          "name": "stdout",
          "text": [
            "Collecting mysql-connector-python\n",
            "  Downloading mysql_connector_python-8.0.28-cp37-cp37m-manylinux1_x86_64.whl (37.6 MB)\n",
            "\u001b[K     |████████████████████████████████| 37.6 MB 1.2 MB/s \n",
            "\u001b[?25hRequirement already satisfied: protobuf>=3.0.0 in /usr/local/lib/python3.7/dist-packages (from mysql-connector-python) (3.17.3)\n",
            "Requirement already satisfied: six>=1.9 in /usr/local/lib/python3.7/dist-packages (from protobuf>=3.0.0->mysql-connector-python) (1.15.0)\n",
            "Installing collected packages: mysql-connector-python\n",
            "Successfully installed mysql-connector-python-8.0.28\n"
          ]
        }
      ]
    },
    {
      "cell_type": "code",
      "execution_count": 5,
      "metadata": {
        "id": "UwzItOqkl3IA"
      },
      "outputs": [],
      "source": [
        "import mysql.connector"
      ]
    },
    {
      "cell_type": "markdown",
      "metadata": {
        "id": "FdNluYtgl3IC"
      },
      "source": [
        "Después necesitamos saber la siguiente información acerca de la instancia de MySQL a la que queremos conectarnos:\n",
        "\n",
        "1. Host\n",
        "2. Puerto\n",
        "3. Usuario\n",
        "4. Contraseña\n",
        "5. Base de datos a la que queremos conectarnos (recuerda que MySQL **no** es una base de datos, es un Sistema de Gestión de Bases de Datos; es decir, es software que nos ayuda a organizar bases de datos para que sean de fácil acceso)\n",
        "\n",
        "Todos esos datos los usamos para crear una conexión:"
      ]
    },
    {
      "cell_type": "code",
      "execution_count": 6,
      "metadata": {
        "id": "8l6T6RAWl3IC"
      },
      "outputs": [],
      "source": [
        "# Llenar esta información con los datos que te compartan los ingenieros de Bedu\n",
        "\n",
        "cnx = mysql.connector.connect(\n",
        "    host=\"ec2-35-87-219-230.us-west-2.compute.amazonaws.com\",\n",
        "    port=3306,\n",
        "    user=\"data\",\n",
        "    password='khQ9--mp6LWq97iA',\n",
        "    database='movielens'#traer un abse de datps especifiva  \n",
        ")"
      ]
    },
    {
      "cell_type": "code",
      "source": [
        "Host: ec2-35-87-219-230.us-west-2.compute.amazonaws.com\n",
        "Port: 3306\n",
        "User: data\n",
        "Password: khQ9--mp6LWq97iA\n"
      ],
      "metadata": {
        "id": "n6j7EgFtm1-b"
      },
      "execution_count": null,
      "outputs": []
    },
    {
      "cell_type": "markdown",
      "metadata": {
        "id": "buNfUtJul3ID"
      },
      "source": [
        "Ahora, para poder realizar lecturas a nuestra base de datos, tenemos que crear un objeto llamado `cursor`:"
      ]
    },
    {
      "cell_type": "code",
      "execution_count": 7,
      "metadata": {
        "id": "h1lahun1l3ID"
      },
      "outputs": [],
      "source": [
        "cursor = cnx.cursor()"
      ]
    },
    {
      "cell_type": "markdown",
      "metadata": {
        "id": "1SKva1RNl3IE"
      },
      "source": [
        "Éste objeto lo podemos usar para realizar cualquier consulta en lenguaje SQL. Por ejemplo, veamos qué tablas existen en nuestra base de datos:"
      ]
    },
    {
      "cell_type": "code",
      "execution_count": 11,
      "metadata": {
        "id": "XI5VbPrul3IE"
      },
      "outputs": [],
      "source": [
        "cursor.execute(\"SHOW TABLES\")"
      ]
    },
    {
      "cell_type": "markdown",
      "metadata": {
        "id": "Qfik-SFdl3IF"
      },
      "source": [
        "Después de ejecutar el comando, tenemos que extraer la información de esta manera:"
      ]
    },
    {
      "cell_type": "code",
      "execution_count": 9,
      "metadata": {
        "id": "WMnI9uQUl3IF"
      },
      "outputs": [],
      "source": [
        "result = cursor.fetchall()"
      ]
    },
    {
      "cell_type": "code",
      "execution_count": 10,
      "metadata": {
        "id": "ovtcfENSl3IF",
        "outputId": "013dec37-1255-42ed-ee4c-e09e4ca2244e",
        "colab": {
          "base_uri": "https://localhost:8080/"
        }
      },
      "outputs": [
        {
          "output_type": "execute_result",
          "data": {
            "text/plain": [
              "[('age_ranges',), ('movies',), ('occupations',), ('ratings',), ('users',)]"
            ]
          },
          "metadata": {},
          "execution_count": 10
        }
      ],
      "source": [
        "result"
      ]
    },
    {
      "cell_type": "markdown",
      "metadata": {
        "id": "lBtpIWEvl3IG"
      },
      "source": [
        "Listo. Sabemos que tenemos 5 tablas en nuestra base de datos."
      ]
    },
    {
      "cell_type": "markdown",
      "metadata": {
        "id": "Bwt7OaFLl3IG"
      },
      "source": [
        "Por último, es importante cerrar nuestro `cursor` para no utilizar memoria extra en nuestra computadora:"
      ]
    },
    {
      "cell_type": "code",
      "execution_count": null,
      "metadata": {
        "id": "7AzeYnZLl3IG"
      },
      "outputs": [],
      "source": [
        "cursor.close()"
      ]
    }
  ],
  "metadata": {
    "kernelspec": {
      "display_name": "Python (data_science)",
      "language": "python",
      "name": "data_science"
    },
    "language_info": {
      "codemirror_mode": {
        "name": "ipython",
        "version": 3
      },
      "file_extension": ".py",
      "mimetype": "text/x-python",
      "name": "python",
      "nbconvert_exporter": "python",
      "pygments_lexer": "ipython3",
      "version": "3.8.1"
    },
    "colab": {
      "name": "conectandose.ipynb",
      "provenance": [],
      "include_colab_link": true
    }
  },
  "nbformat": 4,
  "nbformat_minor": 0
}