{
  "nbformat": 4,
  "nbformat_minor": 0,
  "metadata": {
    "colab": {
      "name": "Pandas.ipynb",
      "provenance": [],
      "mount_file_id": "https://github.com/calosos/py_resumenes_codigos/blob/main/Pandas.ipynb",
      "authorship_tag": "ABX9TyN5G3MKeLjupG3aG7TTBn+7",
      "include_colab_link": true
    },
    "kernelspec": {
      "name": "python3",
      "display_name": "Python 3"
    },
    "language_info": {
      "name": "python"
    }
  },
  "cells": [
    {
      "cell_type": "markdown",
      "metadata": {
        "id": "view-in-github",
        "colab_type": "text"
      },
      "source": [
        "<a href=\"https://colab.research.google.com/github/calosos/py_resumenes_codigos/blob/main/Pandas.ipynb\" target=\"_parent\"><img src=\"https://colab.research.google.com/assets/colab-badge.svg\" alt=\"Open In Colab\"/></a>"
      ]
    },
    {
      "cell_type": "markdown",
      "source": [
        "pandas viene de panell dat\n",
        "pandas.pydata.org\n",
        "python for data analisis o really -> Free\n",
        "Data Wrngling = limpieza de data\n",
        "\"Garbagein, garbage out\""
      ],
      "metadata": {
        "id": "Vi6T2PRCUZI5"
      }
    },
    {
      "cell_type": "code",
      "source": [
        "import pandas as pd\n",
        "import numpy as np"
      ],
      "metadata": {
        "id": "46lAQLmGUYbJ"
      },
      "execution_count": 2,
      "outputs": []
    },
    {
      "cell_type": "markdown",
      "source": [
        "##Series\n"
      ],
      "metadata": {
        "id": "xPT5bFVRWSsn"
      }
    },
    {
      "cell_type": "code",
      "execution_count": null,
      "metadata": {
        "colab": {
          "base_uri": "https://localhost:8080/"
        },
        "id": "sRn0fH76RGxD",
        "outputId": "2297f59b-911f-4cdd-9a4c-44c4c96c3766"
      },
      "outputs": [
        {
          "output_type": "execute_result",
          "data": {
            "text/plain": [
              "[50, 52, 54, 56, 58, 60, 62, 64, 66, 68]"
            ]
          },
          "metadata": {},
          "execution_count": 3
        }
      ],
      "source": [
        "numeros = range(50,70, 2)\n",
        "list(numeros)"
      ]
    },
    {
      "cell_type": "code",
      "source": [
        "numeros_serie = pd.Series(numeros)\n",
        "print(numeros_serie) \n",
        "print(numeros_serie.values) #Values es un atributo, no lleva parentesis\n",
        "#values retorna los datos  en un lista\n",
        "#Metodos es objeto()\n",
        "print(numeros_serie.index)#rango del indice\n",
        "print(numeros_serie[2])"
      ],
      "metadata": {
        "colab": {
          "base_uri": "https://localhost:8080/"
        },
        "id": "KPiPfj7iWerQ",
        "outputId": "482ae517-876a-48fd-e7c5-d9504edf6cf1"
      },
      "execution_count": null,
      "outputs": [
        {
          "output_type": "stream",
          "name": "stdout",
          "text": [
            "0    50\n",
            "1    52\n",
            "2    54\n",
            "3    56\n",
            "4    58\n",
            "5    60\n",
            "6    62\n",
            "7    64\n",
            "8    66\n",
            "9    68\n",
            "dtype: int64\n",
            "[50 52 54 56 58 60 62 64 66 68]\n",
            "RangeIndex(start=0, stop=10, step=1)\n",
            "54\n"
          ]
        }
      ]
    },
    {
      "cell_type": "code",
      "source": [
        "numbers_in_text = ['first','second','third', 'fourth', 'fifth','sixth', 'seventh', 'eighth','ninth','tenth']\n",
        "number_serie_2 = pd.Series(numeros, index= numbers_in_text)\n",
        "print(number_serie_2) "
      ],
      "metadata": {
        "colab": {
          "base_uri": "https://localhost:8080/"
        },
        "id": "tEakprcxXqag",
        "outputId": "9229cdd8-94c4-4c1a-d622-c3f9c140167c"
      },
      "execution_count": null,
      "outputs": [
        {
          "output_type": "stream",
          "name": "stdout",
          "text": [
            "first      50\n",
            "second     52\n",
            "third      54\n",
            "fourth     56\n",
            "fifth      58\n",
            "sixth      60\n",
            "seventh    62\n",
            "eighth     64\n",
            "ninth      66\n",
            "tenth      68\n",
            "dtype: int64\n"
          ]
        }
      ]
    },
    {
      "cell_type": "markdown",
      "source": [
        "##DATAFRAME"
      ],
      "metadata": {
        "id": "pZ2lTtOmZG-X"
      }
    },
    {
      "cell_type": "code",
      "source": [
        "models  = [ 'A4 3.0 Quattro 4dr manul',\n",
        "            'A4 3.0 Quattro 4dr auto',\n",
        "            'A6 3.0 4dr ',\n",
        "            'A6 3.0 Quattro 4dr auto',\n",
        "            'A4 3.0 convertible 2dr',]\n",
        "weight =[3583, 3627, 3561, 3880, 3814]\n",
        "prices =[ '$33,430', '$34,480', '$36,640','$39,640', '$42,490' ]"
      ],
      "metadata": {
        "id": "5aSlVdGvZClv"
      },
      "execution_count": null,
      "outputs": []
    },
    {
      "cell_type": "code",
      "source": [
        "car_weight = pd.Series(weight, index= models)\n",
        "print(car_weight)"
      ],
      "metadata": {
        "colab": {
          "base_uri": "https://localhost:8080/"
        },
        "id": "Sr3Fwe5Vdu-e",
        "outputId": "2c5c6b3e-694f-404f-f8cf-445b2f118966"
      },
      "execution_count": null,
      "outputs": [
        {
          "output_type": "stream",
          "name": "stdout",
          "text": [
            "A4 3.0 Quattro 4dr manul    3583\n",
            "A4 3.0 Quattro 4dr auto     3627\n",
            "A6 3.0 4dr                  3561\n",
            "A6 3.0 Quattro 4dr auto     3880\n",
            "A4 3.0 convertible 2dr      3814\n",
            "dtype: int64\n"
          ]
        }
      ]
    },
    {
      "cell_type": "code",
      "source": [
        "car_prices = pd.Series(prices, index = models)\n",
        "print(car_prices)"
      ],
      "metadata": {
        "colab": {
          "base_uri": "https://localhost:8080/"
        },
        "id": "pt_7V5pQew59",
        "outputId": "f787a211-adef-4b4f-ca58-019106aa15c6"
      },
      "execution_count": null,
      "outputs": [
        {
          "output_type": "stream",
          "name": "stdout",
          "text": [
            "A4 3.0 Quattro 4dr manul    $33,430\n",
            "A4 3.0 Quattro 4dr auto     $34,480\n",
            "A6 3.0 4dr                  $36,640\n",
            "A6 3.0 Quattro 4dr auto     $39,640\n",
            "A4 3.0 convertible 2dr      $42,490\n",
            "dtype: object\n"
          ]
        }
      ]
    },
    {
      "cell_type": "code",
      "source": [
        "cars = pd.DataFrame( {'Weight':car_weight, 'Prices': car_prices})\n",
        "cars\n",
        "#Crer DF con Diccionarios"
      ],
      "metadata": {
        "colab": {
          "base_uri": "https://localhost:8080/",
          "height": 206
        },
        "id": "fJ2nAMTNfZ3_",
        "outputId": "5b5309e9-625f-41ab-93a3-312e8da2bea0"
      },
      "execution_count": null,
      "outputs": [
        {
          "output_type": "execute_result",
          "data": {
            "text/plain": [
              "                          Weight   Prices\n",
              "A4 3.0 Quattro 4dr manul    3583  $33,430\n",
              "A4 3.0 Quattro 4dr auto     3627  $34,480\n",
              "A6 3.0 4dr                  3561  $36,640\n",
              "A6 3.0 Quattro 4dr auto     3880  $39,640\n",
              "A4 3.0 convertible 2dr      3814  $42,490"
            ],
            "text/html": [
              "\n",
              "  <div id=\"df-72b5ff41-a929-413c-9cb1-193406be2082\">\n",
              "    <div class=\"colab-df-container\">\n",
              "      <div>\n",
              "<style scoped>\n",
              "    .dataframe tbody tr th:only-of-type {\n",
              "        vertical-align: middle;\n",
              "    }\n",
              "\n",
              "    .dataframe tbody tr th {\n",
              "        vertical-align: top;\n",
              "    }\n",
              "\n",
              "    .dataframe thead th {\n",
              "        text-align: right;\n",
              "    }\n",
              "</style>\n",
              "<table border=\"1\" class=\"dataframe\">\n",
              "  <thead>\n",
              "    <tr style=\"text-align: right;\">\n",
              "      <th></th>\n",
              "      <th>Weight</th>\n",
              "      <th>Prices</th>\n",
              "    </tr>\n",
              "  </thead>\n",
              "  <tbody>\n",
              "    <tr>\n",
              "      <th>A4 3.0 Quattro 4dr manul</th>\n",
              "      <td>3583</td>\n",
              "      <td>$33,430</td>\n",
              "    </tr>\n",
              "    <tr>\n",
              "      <th>A4 3.0 Quattro 4dr auto</th>\n",
              "      <td>3627</td>\n",
              "      <td>$34,480</td>\n",
              "    </tr>\n",
              "    <tr>\n",
              "      <th>A6 3.0 4dr</th>\n",
              "      <td>3561</td>\n",
              "      <td>$36,640</td>\n",
              "    </tr>\n",
              "    <tr>\n",
              "      <th>A6 3.0 Quattro 4dr auto</th>\n",
              "      <td>3880</td>\n",
              "      <td>$39,640</td>\n",
              "    </tr>\n",
              "    <tr>\n",
              "      <th>A4 3.0 convertible 2dr</th>\n",
              "      <td>3814</td>\n",
              "      <td>$42,490</td>\n",
              "    </tr>\n",
              "  </tbody>\n",
              "</table>\n",
              "</div>\n",
              "      <button class=\"colab-df-convert\" onclick=\"convertToInteractive('df-72b5ff41-a929-413c-9cb1-193406be2082')\"\n",
              "              title=\"Convert this dataframe to an interactive table.\"\n",
              "              style=\"display:none;\">\n",
              "        \n",
              "  <svg xmlns=\"http://www.w3.org/2000/svg\" height=\"24px\"viewBox=\"0 0 24 24\"\n",
              "       width=\"24px\">\n",
              "    <path d=\"M0 0h24v24H0V0z\" fill=\"none\"/>\n",
              "    <path d=\"M18.56 5.44l.94 2.06.94-2.06 2.06-.94-2.06-.94-.94-2.06-.94 2.06-2.06.94zm-11 1L8.5 8.5l.94-2.06 2.06-.94-2.06-.94L8.5 2.5l-.94 2.06-2.06.94zm10 10l.94 2.06.94-2.06 2.06-.94-2.06-.94-.94-2.06-.94 2.06-2.06.94z\"/><path d=\"M17.41 7.96l-1.37-1.37c-.4-.4-.92-.59-1.43-.59-.52 0-1.04.2-1.43.59L10.3 9.45l-7.72 7.72c-.78.78-.78 2.05 0 2.83L4 21.41c.39.39.9.59 1.41.59.51 0 1.02-.2 1.41-.59l7.78-7.78 2.81-2.81c.8-.78.8-2.07 0-2.86zM5.41 20L4 18.59l7.72-7.72 1.47 1.35L5.41 20z\"/>\n",
              "  </svg>\n",
              "      </button>\n",
              "      \n",
              "  <style>\n",
              "    .colab-df-container {\n",
              "      display:flex;\n",
              "      flex-wrap:wrap;\n",
              "      gap: 12px;\n",
              "    }\n",
              "\n",
              "    .colab-df-convert {\n",
              "      background-color: #E8F0FE;\n",
              "      border: none;\n",
              "      border-radius: 50%;\n",
              "      cursor: pointer;\n",
              "      display: none;\n",
              "      fill: #1967D2;\n",
              "      height: 32px;\n",
              "      padding: 0 0 0 0;\n",
              "      width: 32px;\n",
              "    }\n",
              "\n",
              "    .colab-df-convert:hover {\n",
              "      background-color: #E2EBFA;\n",
              "      box-shadow: 0px 1px 2px rgba(60, 64, 67, 0.3), 0px 1px 3px 1px rgba(60, 64, 67, 0.15);\n",
              "      fill: #174EA6;\n",
              "    }\n",
              "\n",
              "    [theme=dark] .colab-df-convert {\n",
              "      background-color: #3B4455;\n",
              "      fill: #D2E3FC;\n",
              "    }\n",
              "\n",
              "    [theme=dark] .colab-df-convert:hover {\n",
              "      background-color: #434B5C;\n",
              "      box-shadow: 0px 1px 3px 1px rgba(0, 0, 0, 0.15);\n",
              "      filter: drop-shadow(0px 1px 2px rgba(0, 0, 0, 0.3));\n",
              "      fill: #FFFFFF;\n",
              "    }\n",
              "  </style>\n",
              "\n",
              "      <script>\n",
              "        const buttonEl =\n",
              "          document.querySelector('#df-72b5ff41-a929-413c-9cb1-193406be2082 button.colab-df-convert');\n",
              "        buttonEl.style.display =\n",
              "          google.colab.kernel.accessAllowed ? 'block' : 'none';\n",
              "\n",
              "        async function convertToInteractive(key) {\n",
              "          const element = document.querySelector('#df-72b5ff41-a929-413c-9cb1-193406be2082');\n",
              "          const dataTable =\n",
              "            await google.colab.kernel.invokeFunction('convertToInteractive',\n",
              "                                                     [key], {});\n",
              "          if (!dataTable) return;\n",
              "\n",
              "          const docLinkHtml = 'Like what you see? Visit the ' +\n",
              "            '<a target=\"_blank\" href=https://colab.research.google.com/notebooks/data_table.ipynb>data table notebook</a>'\n",
              "            + ' to learn more about interactive tables.';\n",
              "          element.innerHTML = '';\n",
              "          dataTable['output_type'] = 'display_data';\n",
              "          await google.colab.output.renderOutput(dataTable, element);\n",
              "          const docLink = document.createElement('div');\n",
              "          docLink.innerHTML = docLinkHtml;\n",
              "          element.appendChild(docLink);\n",
              "        }\n",
              "      </script>\n",
              "    </div>\n",
              "  </div>\n",
              "  "
            ]
          },
          "metadata": {},
          "execution_count": 26
        }
      ]
    },
    {
      "cell_type": "code",
      "source": [
        "chess_64 = np.arange(1,65)\n",
        "print(chess_64) \n",
        "chess_64 =chess_64.reshape(8,8)"
      ],
      "metadata": {
        "colab": {
          "base_uri": "https://localhost:8080/"
        },
        "id": "TMPQwtNggMak",
        "outputId": "f026fb38-6587-4f6b-d455-b5e5e344a91e"
      },
      "execution_count": null,
      "outputs": [
        {
          "output_type": "stream",
          "name": "stdout",
          "text": [
            "[ 1  2  3  4  5  6  7  8  9 10 11 12 13 14 15 16 17 18 19 20 21 22 23 24\n",
            " 25 26 27 28 29 30 31 32 33 34 35 36 37 38 39 40 41 42 43 44 45 46 47 48\n",
            " 49 50 51 52 53 54 55 56 57 58 59 60 61 62 63 64]\n"
          ]
        }
      ]
    },
    {
      "cell_type": "code",
      "source": [
        "chess_df = pd.DataFrame(chess_64, columns=range(1,9),\n",
        "             index=['A','B','C','D','E','F','G','H'])"
      ],
      "metadata": {
        "id": "40Ws2UCmhUD8"
      },
      "execution_count": null,
      "outputs": []
    },
    {
      "cell_type": "code",
      "source": [
        "chess_df"
      ],
      "metadata": {
        "colab": {
          "base_uri": "https://localhost:8080/",
          "height": 300
        },
        "id": "9skcWkzYh8nk",
        "outputId": "2bd14269-e853-4c10-9f9e-1d0ac0d1d1a4"
      },
      "execution_count": null,
      "outputs": [
        {
          "output_type": "execute_result",
          "data": {
            "text/plain": [
              "    1   2   3   4   5   6   7   8\n",
              "A   1   2   3   4   5   6   7   8\n",
              "B   9  10  11  12  13  14  15  16\n",
              "C  17  18  19  20  21  22  23  24\n",
              "D  25  26  27  28  29  30  31  32\n",
              "E  33  34  35  36  37  38  39  40\n",
              "F  41  42  43  44  45  46  47  48\n",
              "G  49  50  51  52  53  54  55  56\n",
              "H  57  58  59  60  61  62  63  64"
            ],
            "text/html": [
              "\n",
              "  <div id=\"df-3ba60f7d-3552-475a-846e-875bca4bec6f\">\n",
              "    <div class=\"colab-df-container\">\n",
              "      <div>\n",
              "<style scoped>\n",
              "    .dataframe tbody tr th:only-of-type {\n",
              "        vertical-align: middle;\n",
              "    }\n",
              "\n",
              "    .dataframe tbody tr th {\n",
              "        vertical-align: top;\n",
              "    }\n",
              "\n",
              "    .dataframe thead th {\n",
              "        text-align: right;\n",
              "    }\n",
              "</style>\n",
              "<table border=\"1\" class=\"dataframe\">\n",
              "  <thead>\n",
              "    <tr style=\"text-align: right;\">\n",
              "      <th></th>\n",
              "      <th>1</th>\n",
              "      <th>2</th>\n",
              "      <th>3</th>\n",
              "      <th>4</th>\n",
              "      <th>5</th>\n",
              "      <th>6</th>\n",
              "      <th>7</th>\n",
              "      <th>8</th>\n",
              "    </tr>\n",
              "  </thead>\n",
              "  <tbody>\n",
              "    <tr>\n",
              "      <th>A</th>\n",
              "      <td>1</td>\n",
              "      <td>2</td>\n",
              "      <td>3</td>\n",
              "      <td>4</td>\n",
              "      <td>5</td>\n",
              "      <td>6</td>\n",
              "      <td>7</td>\n",
              "      <td>8</td>\n",
              "    </tr>\n",
              "    <tr>\n",
              "      <th>B</th>\n",
              "      <td>9</td>\n",
              "      <td>10</td>\n",
              "      <td>11</td>\n",
              "      <td>12</td>\n",
              "      <td>13</td>\n",
              "      <td>14</td>\n",
              "      <td>15</td>\n",
              "      <td>16</td>\n",
              "    </tr>\n",
              "    <tr>\n",
              "      <th>C</th>\n",
              "      <td>17</td>\n",
              "      <td>18</td>\n",
              "      <td>19</td>\n",
              "      <td>20</td>\n",
              "      <td>21</td>\n",
              "      <td>22</td>\n",
              "      <td>23</td>\n",
              "      <td>24</td>\n",
              "    </tr>\n",
              "    <tr>\n",
              "      <th>D</th>\n",
              "      <td>25</td>\n",
              "      <td>26</td>\n",
              "      <td>27</td>\n",
              "      <td>28</td>\n",
              "      <td>29</td>\n",
              "      <td>30</td>\n",
              "      <td>31</td>\n",
              "      <td>32</td>\n",
              "    </tr>\n",
              "    <tr>\n",
              "      <th>E</th>\n",
              "      <td>33</td>\n",
              "      <td>34</td>\n",
              "      <td>35</td>\n",
              "      <td>36</td>\n",
              "      <td>37</td>\n",
              "      <td>38</td>\n",
              "      <td>39</td>\n",
              "      <td>40</td>\n",
              "    </tr>\n",
              "    <tr>\n",
              "      <th>F</th>\n",
              "      <td>41</td>\n",
              "      <td>42</td>\n",
              "      <td>43</td>\n",
              "      <td>44</td>\n",
              "      <td>45</td>\n",
              "      <td>46</td>\n",
              "      <td>47</td>\n",
              "      <td>48</td>\n",
              "    </tr>\n",
              "    <tr>\n",
              "      <th>G</th>\n",
              "      <td>49</td>\n",
              "      <td>50</td>\n",
              "      <td>51</td>\n",
              "      <td>52</td>\n",
              "      <td>53</td>\n",
              "      <td>54</td>\n",
              "      <td>55</td>\n",
              "      <td>56</td>\n",
              "    </tr>\n",
              "    <tr>\n",
              "      <th>H</th>\n",
              "      <td>57</td>\n",
              "      <td>58</td>\n",
              "      <td>59</td>\n",
              "      <td>60</td>\n",
              "      <td>61</td>\n",
              "      <td>62</td>\n",
              "      <td>63</td>\n",
              "      <td>64</td>\n",
              "    </tr>\n",
              "  </tbody>\n",
              "</table>\n",
              "</div>\n",
              "      <button class=\"colab-df-convert\" onclick=\"convertToInteractive('df-3ba60f7d-3552-475a-846e-875bca4bec6f')\"\n",
              "              title=\"Convert this dataframe to an interactive table.\"\n",
              "              style=\"display:none;\">\n",
              "        \n",
              "  <svg xmlns=\"http://www.w3.org/2000/svg\" height=\"24px\"viewBox=\"0 0 24 24\"\n",
              "       width=\"24px\">\n",
              "    <path d=\"M0 0h24v24H0V0z\" fill=\"none\"/>\n",
              "    <path d=\"M18.56 5.44l.94 2.06.94-2.06 2.06-.94-2.06-.94-.94-2.06-.94 2.06-2.06.94zm-11 1L8.5 8.5l.94-2.06 2.06-.94-2.06-.94L8.5 2.5l-.94 2.06-2.06.94zm10 10l.94 2.06.94-2.06 2.06-.94-2.06-.94-.94-2.06-.94 2.06-2.06.94z\"/><path d=\"M17.41 7.96l-1.37-1.37c-.4-.4-.92-.59-1.43-.59-.52 0-1.04.2-1.43.59L10.3 9.45l-7.72 7.72c-.78.78-.78 2.05 0 2.83L4 21.41c.39.39.9.59 1.41.59.51 0 1.02-.2 1.41-.59l7.78-7.78 2.81-2.81c.8-.78.8-2.07 0-2.86zM5.41 20L4 18.59l7.72-7.72 1.47 1.35L5.41 20z\"/>\n",
              "  </svg>\n",
              "      </button>\n",
              "      \n",
              "  <style>\n",
              "    .colab-df-container {\n",
              "      display:flex;\n",
              "      flex-wrap:wrap;\n",
              "      gap: 12px;\n",
              "    }\n",
              "\n",
              "    .colab-df-convert {\n",
              "      background-color: #E8F0FE;\n",
              "      border: none;\n",
              "      border-radius: 50%;\n",
              "      cursor: pointer;\n",
              "      display: none;\n",
              "      fill: #1967D2;\n",
              "      height: 32px;\n",
              "      padding: 0 0 0 0;\n",
              "      width: 32px;\n",
              "    }\n",
              "\n",
              "    .colab-df-convert:hover {\n",
              "      background-color: #E2EBFA;\n",
              "      box-shadow: 0px 1px 2px rgba(60, 64, 67, 0.3), 0px 1px 3px 1px rgba(60, 64, 67, 0.15);\n",
              "      fill: #174EA6;\n",
              "    }\n",
              "\n",
              "    [theme=dark] .colab-df-convert {\n",
              "      background-color: #3B4455;\n",
              "      fill: #D2E3FC;\n",
              "    }\n",
              "\n",
              "    [theme=dark] .colab-df-convert:hover {\n",
              "      background-color: #434B5C;\n",
              "      box-shadow: 0px 1px 3px 1px rgba(0, 0, 0, 0.15);\n",
              "      filter: drop-shadow(0px 1px 2px rgba(0, 0, 0, 0.3));\n",
              "      fill: #FFFFFF;\n",
              "    }\n",
              "  </style>\n",
              "\n",
              "      <script>\n",
              "        const buttonEl =\n",
              "          document.querySelector('#df-3ba60f7d-3552-475a-846e-875bca4bec6f button.colab-df-convert');\n",
              "        buttonEl.style.display =\n",
              "          google.colab.kernel.accessAllowed ? 'block' : 'none';\n",
              "\n",
              "        async function convertToInteractive(key) {\n",
              "          const element = document.querySelector('#df-3ba60f7d-3552-475a-846e-875bca4bec6f');\n",
              "          const dataTable =\n",
              "            await google.colab.kernel.invokeFunction('convertToInteractive',\n",
              "                                                     [key], {});\n",
              "          if (!dataTable) return;\n",
              "\n",
              "          const docLinkHtml = 'Like what you see? Visit the ' +\n",
              "            '<a target=\"_blank\" href=https://colab.research.google.com/notebooks/data_table.ipynb>data table notebook</a>'\n",
              "            + ' to learn more about interactive tables.';\n",
              "          element.innerHTML = '';\n",
              "          dataTable['output_type'] = 'display_data';\n",
              "          await google.colab.output.renderOutput(dataTable, element);\n",
              "          const docLink = document.createElement('div');\n",
              "          docLink.innerHTML = docLinkHtml;\n",
              "          element.appendChild(docLink);\n",
              "        }\n",
              "      </script>\n",
              "    </div>\n",
              "  </div>\n",
              "  "
            ]
          },
          "metadata": {},
          "execution_count": 36
        }
      ]
    },
    {
      "cell_type": "markdown",
      "source": [
        "##SELECTION"
      ],
      "metadata": {
        "id": "f5JEGcjIiUsD"
      }
    },
    {
      "cell_type": "code",
      "source": [
        "print(number_serie_2['fifth'])"
      ],
      "metadata": {
        "colab": {
          "base_uri": "https://localhost:8080/"
        },
        "id": "tmUTe-MBiZGD",
        "outputId": "002ee820-48ae-4352-c43c-c7870071091b"
      },
      "execution_count": null,
      "outputs": [
        {
          "output_type": "stream",
          "name": "stdout",
          "text": [
            "58\n"
          ]
        }
      ]
    },
    {
      "cell_type": "code",
      "source": [
        "#Formal wayloc\n",
        "#loc -> etiqueta\n",
        "print(number_serie_2.loc['fifth'])"
      ],
      "metadata": {
        "colab": {
          "base_uri": "https://localhost:8080/"
        },
        "id": "9PG-3X8JizRc",
        "outputId": "9b34710c-32cc-49f4-9c1b-35f7c96f66bc"
      },
      "execution_count": null,
      "outputs": [
        {
          "output_type": "stream",
          "name": "stdout",
          "text": [
            "58\n"
          ]
        }
      ]
    },
    {
      "cell_type": "code",
      "source": [
        "#iloc -> usando indices\n",
        "print(number_serie_2.iloc[4])"
      ],
      "metadata": {
        "colab": {
          "base_uri": "https://localhost:8080/"
        },
        "id": "67gCe2dKjHVz",
        "outputId": "09136db5-a2a2-437c-ea1b-ad7827e4462c"
      },
      "execution_count": null,
      "outputs": [
        {
          "output_type": "stream",
          "name": "stdout",
          "text": [
            "58\n"
          ]
        }
      ]
    },
    {
      "cell_type": "code",
      "source": [
        "#validaciones\n",
        "print('fifth' in number_serie_2)"
      ],
      "metadata": {
        "colab": {
          "base_uri": "https://localhost:8080/"
        },
        "id": "kGTim5s0jb30",
        "outputId": "a8563217-bc88-4232-8d0c-640a16a9b858"
      },
      "execution_count": null,
      "outputs": [
        {
          "output_type": "stream",
          "name": "stdout",
          "text": [
            "True\n"
          ]
        }
      ]
    },
    {
      "cell_type": "code",
      "source": [
        "print('first' in number_serie_2)\n",
        "number_serie_2['first']= 11\n",
        "number_serie_2"
      ],
      "metadata": {
        "colab": {
          "base_uri": "https://localhost:8080/"
        },
        "id": "NegMgYT5jwks",
        "outputId": "476cec58-3c4b-4038-8e5c-4d8d3e2bb7f0"
      },
      "execution_count": null,
      "outputs": [
        {
          "output_type": "stream",
          "name": "stdout",
          "text": [
            "True\n"
          ]
        },
        {
          "output_type": "execute_result",
          "data": {
            "text/plain": [
              "first      11\n",
              "second     52\n",
              "third      54\n",
              "fourth     56\n",
              "fifth      58\n",
              "sixth      60\n",
              "seventh    62\n",
              "eighth     64\n",
              "ninth      66\n",
              "tenth      68\n",
              "dtype: int64"
            ]
          },
          "metadata": {},
          "execution_count": 45
        }
      ]
    },
    {
      "cell_type": "code",
      "source": [
        "cars"
      ],
      "metadata": {
        "colab": {
          "base_uri": "https://localhost:8080/",
          "height": 206
        },
        "id": "TNECRGiLkd1i",
        "outputId": "e12bf4ce-b3e8-43ed-88b9-d68fd7809c00"
      },
      "execution_count": null,
      "outputs": [
        {
          "output_type": "execute_result",
          "data": {
            "text/plain": [
              "                          Weight   Prices\n",
              "A4 3.0 Quattro 4dr manul    3583  $33,430\n",
              "A4 3.0 Quattro 4dr auto     3627  $34,480\n",
              "A6 3.0 4dr                  3561  $36,640\n",
              "A6 3.0 Quattro 4dr auto     3880  $39,640\n",
              "A4 3.0 convertible 2dr      3814  $42,490"
            ],
            "text/html": [
              "\n",
              "  <div id=\"df-9d19ee92-91dc-4dde-b703-562d3e64d403\">\n",
              "    <div class=\"colab-df-container\">\n",
              "      <div>\n",
              "<style scoped>\n",
              "    .dataframe tbody tr th:only-of-type {\n",
              "        vertical-align: middle;\n",
              "    }\n",
              "\n",
              "    .dataframe tbody tr th {\n",
              "        vertical-align: top;\n",
              "    }\n",
              "\n",
              "    .dataframe thead th {\n",
              "        text-align: right;\n",
              "    }\n",
              "</style>\n",
              "<table border=\"1\" class=\"dataframe\">\n",
              "  <thead>\n",
              "    <tr style=\"text-align: right;\">\n",
              "      <th></th>\n",
              "      <th>Weight</th>\n",
              "      <th>Prices</th>\n",
              "    </tr>\n",
              "  </thead>\n",
              "  <tbody>\n",
              "    <tr>\n",
              "      <th>A4 3.0 Quattro 4dr manul</th>\n",
              "      <td>3583</td>\n",
              "      <td>$33,430</td>\n",
              "    </tr>\n",
              "    <tr>\n",
              "      <th>A4 3.0 Quattro 4dr auto</th>\n",
              "      <td>3627</td>\n",
              "      <td>$34,480</td>\n",
              "    </tr>\n",
              "    <tr>\n",
              "      <th>A6 3.0 4dr</th>\n",
              "      <td>3561</td>\n",
              "      <td>$36,640</td>\n",
              "    </tr>\n",
              "    <tr>\n",
              "      <th>A6 3.0 Quattro 4dr auto</th>\n",
              "      <td>3880</td>\n",
              "      <td>$39,640</td>\n",
              "    </tr>\n",
              "    <tr>\n",
              "      <th>A4 3.0 convertible 2dr</th>\n",
              "      <td>3814</td>\n",
              "      <td>$42,490</td>\n",
              "    </tr>\n",
              "  </tbody>\n",
              "</table>\n",
              "</div>\n",
              "      <button class=\"colab-df-convert\" onclick=\"convertToInteractive('df-9d19ee92-91dc-4dde-b703-562d3e64d403')\"\n",
              "              title=\"Convert this dataframe to an interactive table.\"\n",
              "              style=\"display:none;\">\n",
              "        \n",
              "  <svg xmlns=\"http://www.w3.org/2000/svg\" height=\"24px\"viewBox=\"0 0 24 24\"\n",
              "       width=\"24px\">\n",
              "    <path d=\"M0 0h24v24H0V0z\" fill=\"none\"/>\n",
              "    <path d=\"M18.56 5.44l.94 2.06.94-2.06 2.06-.94-2.06-.94-.94-2.06-.94 2.06-2.06.94zm-11 1L8.5 8.5l.94-2.06 2.06-.94-2.06-.94L8.5 2.5l-.94 2.06-2.06.94zm10 10l.94 2.06.94-2.06 2.06-.94-2.06-.94-.94-2.06-.94 2.06-2.06.94z\"/><path d=\"M17.41 7.96l-1.37-1.37c-.4-.4-.92-.59-1.43-.59-.52 0-1.04.2-1.43.59L10.3 9.45l-7.72 7.72c-.78.78-.78 2.05 0 2.83L4 21.41c.39.39.9.59 1.41.59.51 0 1.02-.2 1.41-.59l7.78-7.78 2.81-2.81c.8-.78.8-2.07 0-2.86zM5.41 20L4 18.59l7.72-7.72 1.47 1.35L5.41 20z\"/>\n",
              "  </svg>\n",
              "      </button>\n",
              "      \n",
              "  <style>\n",
              "    .colab-df-container {\n",
              "      display:flex;\n",
              "      flex-wrap:wrap;\n",
              "      gap: 12px;\n",
              "    }\n",
              "\n",
              "    .colab-df-convert {\n",
              "      background-color: #E8F0FE;\n",
              "      border: none;\n",
              "      border-radius: 50%;\n",
              "      cursor: pointer;\n",
              "      display: none;\n",
              "      fill: #1967D2;\n",
              "      height: 32px;\n",
              "      padding: 0 0 0 0;\n",
              "      width: 32px;\n",
              "    }\n",
              "\n",
              "    .colab-df-convert:hover {\n",
              "      background-color: #E2EBFA;\n",
              "      box-shadow: 0px 1px 2px rgba(60, 64, 67, 0.3), 0px 1px 3px 1px rgba(60, 64, 67, 0.15);\n",
              "      fill: #174EA6;\n",
              "    }\n",
              "\n",
              "    [theme=dark] .colab-df-convert {\n",
              "      background-color: #3B4455;\n",
              "      fill: #D2E3FC;\n",
              "    }\n",
              "\n",
              "    [theme=dark] .colab-df-convert:hover {\n",
              "      background-color: #434B5C;\n",
              "      box-shadow: 0px 1px 3px 1px rgba(0, 0, 0, 0.15);\n",
              "      filter: drop-shadow(0px 1px 2px rgba(0, 0, 0, 0.3));\n",
              "      fill: #FFFFFF;\n",
              "    }\n",
              "  </style>\n",
              "\n",
              "      <script>\n",
              "        const buttonEl =\n",
              "          document.querySelector('#df-9d19ee92-91dc-4dde-b703-562d3e64d403 button.colab-df-convert');\n",
              "        buttonEl.style.display =\n",
              "          google.colab.kernel.accessAllowed ? 'block' : 'none';\n",
              "\n",
              "        async function convertToInteractive(key) {\n",
              "          const element = document.querySelector('#df-9d19ee92-91dc-4dde-b703-562d3e64d403');\n",
              "          const dataTable =\n",
              "            await google.colab.kernel.invokeFunction('convertToInteractive',\n",
              "                                                     [key], {});\n",
              "          if (!dataTable) return;\n",
              "\n",
              "          const docLinkHtml = 'Like what you see? Visit the ' +\n",
              "            '<a target=\"_blank\" href=https://colab.research.google.com/notebooks/data_table.ipynb>data table notebook</a>'\n",
              "            + ' to learn more about interactive tables.';\n",
              "          element.innerHTML = '';\n",
              "          dataTable['output_type'] = 'display_data';\n",
              "          await google.colab.output.renderOutput(dataTable, element);\n",
              "          const docLink = document.createElement('div');\n",
              "          docLink.innerHTML = docLinkHtml;\n",
              "          element.appendChild(docLink);\n",
              "        }\n",
              "      </script>\n",
              "    </div>\n",
              "  </div>\n",
              "  "
            ]
          },
          "metadata": {},
          "execution_count": 46
        }
      ]
    },
    {
      "cell_type": "code",
      "source": [
        "cars.index"
      ],
      "metadata": {
        "colab": {
          "base_uri": "https://localhost:8080/"
        },
        "id": "7XqEuqzUkgDC",
        "outputId": "a9d547cd-d235-43ba-fb80-3d27f6f6781c"
      },
      "execution_count": null,
      "outputs": [
        {
          "output_type": "execute_result",
          "data": {
            "text/plain": [
              "Index(['A4 3.0 Quattro 4dr manul', 'A4 3.0 Quattro 4dr auto', 'A6 3.0 4dr ',\n",
              "       'A6 3.0 Quattro 4dr auto', 'A4 3.0 convertible 2dr'],\n",
              "      dtype='object')"
            ]
          },
          "metadata": {},
          "execution_count": 47
        }
      ]
    },
    {
      "cell_type": "code",
      "source": [
        "cars.columns"
      ],
      "metadata": {
        "colab": {
          "base_uri": "https://localhost:8080/"
        },
        "id": "cOHxR8ljkpAK",
        "outputId": "848dc1f5-d6ae-4c92-94f2-0676edce90b0"
      },
      "execution_count": null,
      "outputs": [
        {
          "output_type": "execute_result",
          "data": {
            "text/plain": [
              "Index(['Weight', 'Prices'], dtype='object')"
            ]
          },
          "metadata": {},
          "execution_count": 48
        }
      ]
    },
    {
      "cell_type": "code",
      "source": [
        "#values\n",
        "cars.values"
      ],
      "metadata": {
        "colab": {
          "base_uri": "https://localhost:8080/"
        },
        "id": "1gC3vZD5kr5j",
        "outputId": "e55fa1b7-4f5b-4916-82e1-6a2f35de0653"
      },
      "execution_count": null,
      "outputs": [
        {
          "output_type": "execute_result",
          "data": {
            "text/plain": [
              "array([[3583, '$33,430'],\n",
              "       [3627, '$34,480'],\n",
              "       [3561, '$36,640'],\n",
              "       [3880, '$39,640'],\n",
              "       [3814, '$42,490']], dtype=object)"
            ]
          },
          "metadata": {},
          "execution_count": 49
        }
      ]
    },
    {
      "cell_type": "code",
      "source": [
        "cars.Weight"
      ],
      "metadata": {
        "colab": {
          "base_uri": "https://localhost:8080/"
        },
        "id": "ig6or4zklAZT",
        "outputId": "1a26864b-9320-4fde-d0d1-fa942d9eb38c"
      },
      "execution_count": null,
      "outputs": [
        {
          "output_type": "execute_result",
          "data": {
            "text/plain": [
              "A4 3.0 Quattro 4dr manul    3583\n",
              "A4 3.0 Quattro 4dr auto     3627\n",
              "A6 3.0 4dr                  3561\n",
              "A6 3.0 Quattro 4dr auto     3880\n",
              "A4 3.0 convertible 2dr      3814\n",
              "Name: Weight, dtype: int64"
            ]
          },
          "metadata": {},
          "execution_count": 50
        }
      ]
    },
    {
      "cell_type": "code",
      "source": [
        "cars['Weight'] #Recomendble"
      ],
      "metadata": {
        "colab": {
          "base_uri": "https://localhost:8080/"
        },
        "id": "Qn4iixailL4q",
        "outputId": "efa5a088-32c9-4f1b-b83e-4e5ab6cb0d83"
      },
      "execution_count": null,
      "outputs": [
        {
          "output_type": "execute_result",
          "data": {
            "text/plain": [
              "A4 3.0 Quattro 4dr manul    3583\n",
              "A4 3.0 Quattro 4dr auto     3627\n",
              "A6 3.0 4dr                  3561\n",
              "A6 3.0 Quattro 4dr auto     3880\n",
              "A4 3.0 convertible 2dr      3814\n",
              "Name: Weight, dtype: int64"
            ]
          },
          "metadata": {},
          "execution_count": 51
        }
      ]
    },
    {
      "cell_type": "code",
      "source": [
        "cars.values[1]#Para filas"
      ],
      "metadata": {
        "colab": {
          "base_uri": "https://localhost:8080/"
        },
        "id": "_53qNyAalRtE",
        "outputId": "d1241829-1718-4524-bb54-fb5910b466fd"
      },
      "execution_count": null,
      "outputs": [
        {
          "output_type": "execute_result",
          "data": {
            "text/plain": [
              "array([3627, '$34,480'], dtype=object)"
            ]
          },
          "metadata": {},
          "execution_count": 53
        }
      ]
    },
    {
      "cell_type": "code",
      "source": [
        "#formato pandas\n",
        "cars.loc['A4 3.0 Quattro 4dr auto', ]"
      ],
      "metadata": {
        "colab": {
          "base_uri": "https://localhost:8080/"
        },
        "id": "FqOxdR_GmD2h",
        "outputId": "8c065e23-c4c1-4f83-d8b6-db78cae8d0b9"
      },
      "execution_count": null,
      "outputs": [
        {
          "output_type": "execute_result",
          "data": {
            "text/plain": [
              "Weight       3627\n",
              "Prices    $34,480\n",
              "Name: A4 3.0 Quattro 4dr auto, dtype: object"
            ]
          },
          "metadata": {},
          "execution_count": 55
        }
      ]
    },
    {
      "cell_type": "code",
      "source": [
        "#conditions\n",
        "cars['Weight'] >=3600"
      ],
      "metadata": {
        "colab": {
          "base_uri": "https://localhost:8080/"
        },
        "id": "eihonV5ymfAx",
        "outputId": "d5c4914b-d165-4829-de2e-74abac90a1cf"
      },
      "execution_count": null,
      "outputs": [
        {
          "output_type": "execute_result",
          "data": {
            "text/plain": [
              "A4 3.0 Quattro 4dr manul    False\n",
              "A4 3.0 Quattro 4dr auto      True\n",
              "A6 3.0 4dr                  False\n",
              "A6 3.0 Quattro 4dr auto      True\n",
              "A4 3.0 convertible 2dr       True\n",
              "Name: Weight, dtype: bool"
            ]
          },
          "metadata": {},
          "execution_count": 56
        }
      ]
    },
    {
      "cell_type": "code",
      "source": [
        "#Use condition as index\n",
        "cars.loc[cars['Weight'] >= 3600,'Prices']"
      ],
      "metadata": {
        "colab": {
          "base_uri": "https://localhost:8080/"
        },
        "id": "jYqMjFdsmsRR",
        "outputId": "73cd1929-a55a-4858-b40e-2aea8b505d7b"
      },
      "execution_count": null,
      "outputs": [
        {
          "output_type": "execute_result",
          "data": {
            "text/plain": [
              "A4 3.0 Quattro 4dr auto    $34,480\n",
              "A6 3.0 Quattro 4dr auto    $39,640\n",
              "A4 3.0 convertible 2dr     $42,490\n",
              "Name: Prices, dtype: object"
            ]
          },
          "metadata": {},
          "execution_count": 60
        }
      ]
    },
    {
      "cell_type": "code",
      "source": [
        "#trnsposición= cambiar la fil por columa\n",
        "cars.T"
      ],
      "metadata": {
        "colab": {
          "base_uri": "https://localhost:8080/",
          "height": 173
        },
        "id": "u3QfvWFBnZuZ",
        "outputId": "5befb411-37dd-49d5-ca21-d3b8e3a9df83"
      },
      "execution_count": null,
      "outputs": [
        {
          "output_type": "execute_result",
          "data": {
            "text/plain": [
              "       A4 3.0 Quattro 4dr manul A4 3.0 Quattro 4dr auto A6 3.0 4dr   \\\n",
              "Weight                     3583                    3627        3561   \n",
              "Prices                  $33,430                 $34,480     $36,640   \n",
              "\n",
              "       A6 3.0 Quattro 4dr auto A4 3.0 convertible 2dr  \n",
              "Weight                    3880                   3814  \n",
              "Prices                 $39,640                $42,490  "
            ],
            "text/html": [
              "\n",
              "  <div id=\"df-b55b5150-81f2-40e7-80b1-c71df02e9014\">\n",
              "    <div class=\"colab-df-container\">\n",
              "      <div>\n",
              "<style scoped>\n",
              "    .dataframe tbody tr th:only-of-type {\n",
              "        vertical-align: middle;\n",
              "    }\n",
              "\n",
              "    .dataframe tbody tr th {\n",
              "        vertical-align: top;\n",
              "    }\n",
              "\n",
              "    .dataframe thead th {\n",
              "        text-align: right;\n",
              "    }\n",
              "</style>\n",
              "<table border=\"1\" class=\"dataframe\">\n",
              "  <thead>\n",
              "    <tr style=\"text-align: right;\">\n",
              "      <th></th>\n",
              "      <th>A4 3.0 Quattro 4dr manul</th>\n",
              "      <th>A4 3.0 Quattro 4dr auto</th>\n",
              "      <th>A6 3.0 4dr</th>\n",
              "      <th>A6 3.0 Quattro 4dr auto</th>\n",
              "      <th>A4 3.0 convertible 2dr</th>\n",
              "    </tr>\n",
              "  </thead>\n",
              "  <tbody>\n",
              "    <tr>\n",
              "      <th>Weight</th>\n",
              "      <td>3583</td>\n",
              "      <td>3627</td>\n",
              "      <td>3561</td>\n",
              "      <td>3880</td>\n",
              "      <td>3814</td>\n",
              "    </tr>\n",
              "    <tr>\n",
              "      <th>Prices</th>\n",
              "      <td>$33,430</td>\n",
              "      <td>$34,480</td>\n",
              "      <td>$36,640</td>\n",
              "      <td>$39,640</td>\n",
              "      <td>$42,490</td>\n",
              "    </tr>\n",
              "  </tbody>\n",
              "</table>\n",
              "</div>\n",
              "      <button class=\"colab-df-convert\" onclick=\"convertToInteractive('df-b55b5150-81f2-40e7-80b1-c71df02e9014')\"\n",
              "              title=\"Convert this dataframe to an interactive table.\"\n",
              "              style=\"display:none;\">\n",
              "        \n",
              "  <svg xmlns=\"http://www.w3.org/2000/svg\" height=\"24px\"viewBox=\"0 0 24 24\"\n",
              "       width=\"24px\">\n",
              "    <path d=\"M0 0h24v24H0V0z\" fill=\"none\"/>\n",
              "    <path d=\"M18.56 5.44l.94 2.06.94-2.06 2.06-.94-2.06-.94-.94-2.06-.94 2.06-2.06.94zm-11 1L8.5 8.5l.94-2.06 2.06-.94-2.06-.94L8.5 2.5l-.94 2.06-2.06.94zm10 10l.94 2.06.94-2.06 2.06-.94-2.06-.94-.94-2.06-.94 2.06-2.06.94z\"/><path d=\"M17.41 7.96l-1.37-1.37c-.4-.4-.92-.59-1.43-.59-.52 0-1.04.2-1.43.59L10.3 9.45l-7.72 7.72c-.78.78-.78 2.05 0 2.83L4 21.41c.39.39.9.59 1.41.59.51 0 1.02-.2 1.41-.59l7.78-7.78 2.81-2.81c.8-.78.8-2.07 0-2.86zM5.41 20L4 18.59l7.72-7.72 1.47 1.35L5.41 20z\"/>\n",
              "  </svg>\n",
              "      </button>\n",
              "      \n",
              "  <style>\n",
              "    .colab-df-container {\n",
              "      display:flex;\n",
              "      flex-wrap:wrap;\n",
              "      gap: 12px;\n",
              "    }\n",
              "\n",
              "    .colab-df-convert {\n",
              "      background-color: #E8F0FE;\n",
              "      border: none;\n",
              "      border-radius: 50%;\n",
              "      cursor: pointer;\n",
              "      display: none;\n",
              "      fill: #1967D2;\n",
              "      height: 32px;\n",
              "      padding: 0 0 0 0;\n",
              "      width: 32px;\n",
              "    }\n",
              "\n",
              "    .colab-df-convert:hover {\n",
              "      background-color: #E2EBFA;\n",
              "      box-shadow: 0px 1px 2px rgba(60, 64, 67, 0.3), 0px 1px 3px 1px rgba(60, 64, 67, 0.15);\n",
              "      fill: #174EA6;\n",
              "    }\n",
              "\n",
              "    [theme=dark] .colab-df-convert {\n",
              "      background-color: #3B4455;\n",
              "      fill: #D2E3FC;\n",
              "    }\n",
              "\n",
              "    [theme=dark] .colab-df-convert:hover {\n",
              "      background-color: #434B5C;\n",
              "      box-shadow: 0px 1px 3px 1px rgba(0, 0, 0, 0.15);\n",
              "      filter: drop-shadow(0px 1px 2px rgba(0, 0, 0, 0.3));\n",
              "      fill: #FFFFFF;\n",
              "    }\n",
              "  </style>\n",
              "\n",
              "      <script>\n",
              "        const buttonEl =\n",
              "          document.querySelector('#df-b55b5150-81f2-40e7-80b1-c71df02e9014 button.colab-df-convert');\n",
              "        buttonEl.style.display =\n",
              "          google.colab.kernel.accessAllowed ? 'block' : 'none';\n",
              "\n",
              "        async function convertToInteractive(key) {\n",
              "          const element = document.querySelector('#df-b55b5150-81f2-40e7-80b1-c71df02e9014');\n",
              "          const dataTable =\n",
              "            await google.colab.kernel.invokeFunction('convertToInteractive',\n",
              "                                                     [key], {});\n",
              "          if (!dataTable) return;\n",
              "\n",
              "          const docLinkHtml = 'Like what you see? Visit the ' +\n",
              "            '<a target=\"_blank\" href=https://colab.research.google.com/notebooks/data_table.ipynb>data table notebook</a>'\n",
              "            + ' to learn more about interactive tables.';\n",
              "          element.innerHTML = '';\n",
              "          dataTable['output_type'] = 'display_data';\n",
              "          await google.colab.output.renderOutput(dataTable, element);\n",
              "          const docLink = document.createElement('div');\n",
              "          docLink.innerHTML = docLinkHtml;\n",
              "          element.appendChild(docLink);\n",
              "        }\n",
              "      </script>\n",
              "    </div>\n",
              "  </div>\n",
              "  "
            ]
          },
          "metadata": {},
          "execution_count": 61
        }
      ]
    },
    {
      "cell_type": "markdown",
      "source": [
        "##Operations"
      ],
      "metadata": {
        "id": "96ibm6erqIvp"
      }
    },
    {
      "cell_type": "code",
      "source": [
        "weight"
      ],
      "metadata": {
        "colab": {
          "base_uri": "https://localhost:8080/"
        },
        "id": "jJizahZFqIE9",
        "outputId": "f09ab3af-f515-44d6-dc14-41acc1f0b4fc"
      },
      "execution_count": null,
      "outputs": [
        {
          "output_type": "execute_result",
          "data": {
            "text/plain": [
              "[3583, 3627, 3561, 3880, 3814]"
            ]
          },
          "metadata": {},
          "execution_count": 62
        }
      ]
    },
    {
      "cell_type": "code",
      "source": [
        "models"
      ],
      "metadata": {
        "colab": {
          "base_uri": "https://localhost:8080/"
        },
        "id": "_-keyHIBqID7",
        "outputId": "d0844af9-76b1-483e-bbd7-5ebc0f2e77a1"
      },
      "execution_count": null,
      "outputs": [
        {
          "output_type": "execute_result",
          "data": {
            "text/plain": [
              "['A4 3.0 Quattro 4dr manul',\n",
              " 'A4 3.0 Quattro 4dr auto',\n",
              " 'A6 3.0 4dr ',\n",
              " 'A6 3.0 Quattro 4dr auto',\n",
              " 'A4 3.0 convertible 2dr']"
            ]
          },
          "metadata": {},
          "execution_count": 63
        }
      ]
    },
    {
      "cell_type": "code",
      "source": [
        "large = [179,179, 192,192, 180]\n",
        "cars_2 = pd.DataFrame({'Weight':weight,'Large':large},  index=models)\n",
        "cars_2"
      ],
      "metadata": {
        "colab": {
          "base_uri": "https://localhost:8080/",
          "height": 206
        },
        "id": "GqdS0P3iqUmY",
        "outputId": "f284b7e8-1c30-458d-d7cd-19699b0dd52b"
      },
      "execution_count": null,
      "outputs": [
        {
          "output_type": "execute_result",
          "data": {
            "text/plain": [
              "                          Weight  Large\n",
              "A4 3.0 Quattro 4dr manul    3583    179\n",
              "A4 3.0 Quattro 4dr auto     3627    179\n",
              "A6 3.0 4dr                  3561    192\n",
              "A6 3.0 Quattro 4dr auto     3880    192\n",
              "A4 3.0 convertible 2dr      3814    180"
            ],
            "text/html": [
              "\n",
              "  <div id=\"df-20b82ea3-ca7b-4e5b-ae99-df575a3dbb88\">\n",
              "    <div class=\"colab-df-container\">\n",
              "      <div>\n",
              "<style scoped>\n",
              "    .dataframe tbody tr th:only-of-type {\n",
              "        vertical-align: middle;\n",
              "    }\n",
              "\n",
              "    .dataframe tbody tr th {\n",
              "        vertical-align: top;\n",
              "    }\n",
              "\n",
              "    .dataframe thead th {\n",
              "        text-align: right;\n",
              "    }\n",
              "</style>\n",
              "<table border=\"1\" class=\"dataframe\">\n",
              "  <thead>\n",
              "    <tr style=\"text-align: right;\">\n",
              "      <th></th>\n",
              "      <th>Weight</th>\n",
              "      <th>Large</th>\n",
              "    </tr>\n",
              "  </thead>\n",
              "  <tbody>\n",
              "    <tr>\n",
              "      <th>A4 3.0 Quattro 4dr manul</th>\n",
              "      <td>3583</td>\n",
              "      <td>179</td>\n",
              "    </tr>\n",
              "    <tr>\n",
              "      <th>A4 3.0 Quattro 4dr auto</th>\n",
              "      <td>3627</td>\n",
              "      <td>179</td>\n",
              "    </tr>\n",
              "    <tr>\n",
              "      <th>A6 3.0 4dr</th>\n",
              "      <td>3561</td>\n",
              "      <td>192</td>\n",
              "    </tr>\n",
              "    <tr>\n",
              "      <th>A6 3.0 Quattro 4dr auto</th>\n",
              "      <td>3880</td>\n",
              "      <td>192</td>\n",
              "    </tr>\n",
              "    <tr>\n",
              "      <th>A4 3.0 convertible 2dr</th>\n",
              "      <td>3814</td>\n",
              "      <td>180</td>\n",
              "    </tr>\n",
              "  </tbody>\n",
              "</table>\n",
              "</div>\n",
              "      <button class=\"colab-df-convert\" onclick=\"convertToInteractive('df-20b82ea3-ca7b-4e5b-ae99-df575a3dbb88')\"\n",
              "              title=\"Convert this dataframe to an interactive table.\"\n",
              "              style=\"display:none;\">\n",
              "        \n",
              "  <svg xmlns=\"http://www.w3.org/2000/svg\" height=\"24px\"viewBox=\"0 0 24 24\"\n",
              "       width=\"24px\">\n",
              "    <path d=\"M0 0h24v24H0V0z\" fill=\"none\"/>\n",
              "    <path d=\"M18.56 5.44l.94 2.06.94-2.06 2.06-.94-2.06-.94-.94-2.06-.94 2.06-2.06.94zm-11 1L8.5 8.5l.94-2.06 2.06-.94-2.06-.94L8.5 2.5l-.94 2.06-2.06.94zm10 10l.94 2.06.94-2.06 2.06-.94-2.06-.94-.94-2.06-.94 2.06-2.06.94z\"/><path d=\"M17.41 7.96l-1.37-1.37c-.4-.4-.92-.59-1.43-.59-.52 0-1.04.2-1.43.59L10.3 9.45l-7.72 7.72c-.78.78-.78 2.05 0 2.83L4 21.41c.39.39.9.59 1.41.59.51 0 1.02-.2 1.41-.59l7.78-7.78 2.81-2.81c.8-.78.8-2.07 0-2.86zM5.41 20L4 18.59l7.72-7.72 1.47 1.35L5.41 20z\"/>\n",
              "  </svg>\n",
              "      </button>\n",
              "      \n",
              "  <style>\n",
              "    .colab-df-container {\n",
              "      display:flex;\n",
              "      flex-wrap:wrap;\n",
              "      gap: 12px;\n",
              "    }\n",
              "\n",
              "    .colab-df-convert {\n",
              "      background-color: #E8F0FE;\n",
              "      border: none;\n",
              "      border-radius: 50%;\n",
              "      cursor: pointer;\n",
              "      display: none;\n",
              "      fill: #1967D2;\n",
              "      height: 32px;\n",
              "      padding: 0 0 0 0;\n",
              "      width: 32px;\n",
              "    }\n",
              "\n",
              "    .colab-df-convert:hover {\n",
              "      background-color: #E2EBFA;\n",
              "      box-shadow: 0px 1px 2px rgba(60, 64, 67, 0.3), 0px 1px 3px 1px rgba(60, 64, 67, 0.15);\n",
              "      fill: #174EA6;\n",
              "    }\n",
              "\n",
              "    [theme=dark] .colab-df-convert {\n",
              "      background-color: #3B4455;\n",
              "      fill: #D2E3FC;\n",
              "    }\n",
              "\n",
              "    [theme=dark] .colab-df-convert:hover {\n",
              "      background-color: #434B5C;\n",
              "      box-shadow: 0px 1px 3px 1px rgba(0, 0, 0, 0.15);\n",
              "      filter: drop-shadow(0px 1px 2px rgba(0, 0, 0, 0.3));\n",
              "      fill: #FFFFFF;\n",
              "    }\n",
              "  </style>\n",
              "\n",
              "      <script>\n",
              "        const buttonEl =\n",
              "          document.querySelector('#df-20b82ea3-ca7b-4e5b-ae99-df575a3dbb88 button.colab-df-convert');\n",
              "        buttonEl.style.display =\n",
              "          google.colab.kernel.accessAllowed ? 'block' : 'none';\n",
              "\n",
              "        async function convertToInteractive(key) {\n",
              "          const element = document.querySelector('#df-20b82ea3-ca7b-4e5b-ae99-df575a3dbb88');\n",
              "          const dataTable =\n",
              "            await google.colab.kernel.invokeFunction('convertToInteractive',\n",
              "                                                     [key], {});\n",
              "          if (!dataTable) return;\n",
              "\n",
              "          const docLinkHtml = 'Like what you see? Visit the ' +\n",
              "            '<a target=\"_blank\" href=https://colab.research.google.com/notebooks/data_table.ipynb>data table notebook</a>'\n",
              "            + ' to learn more about interactive tables.';\n",
              "          element.innerHTML = '';\n",
              "          dataTable['output_type'] = 'display_data';\n",
              "          await google.colab.output.renderOutput(dataTable, element);\n",
              "          const docLink = document.createElement('div');\n",
              "          docLink.innerHTML = docLinkHtml;\n",
              "          element.appendChild(docLink);\n",
              "        }\n",
              "      </script>\n",
              "    </div>\n",
              "  </div>\n",
              "  "
            ]
          },
          "metadata": {},
          "execution_count": 66
        }
      ]
    },
    {
      "cell_type": "code",
      "source": [
        "cars_2.iloc[0]"
      ],
      "metadata": {
        "colab": {
          "base_uri": "https://localhost:8080/"
        },
        "id": "AfCYjNmqvkfe",
        "outputId": "d46f2fe4-ea1a-4ad4-d8e2-c1e988bf21d3"
      },
      "execution_count": null,
      "outputs": [
        {
          "output_type": "execute_result",
          "data": {
            "text/plain": [
              "Weight    3583\n",
              "Large      179\n",
              "Name: A4 3.0 Quattro 4dr manul, dtype: int64"
            ]
          },
          "metadata": {},
          "execution_count": 67
        }
      ]
    },
    {
      "cell_type": "code",
      "source": [
        "cars_2/ cars_2.iloc[0]"
      ],
      "metadata": {
        "colab": {
          "base_uri": "https://localhost:8080/",
          "height": 206
        },
        "id": "bHrmtFQYvuou",
        "outputId": "39524224-300e-4fec-fb5c-909f47a1e5ce"
      },
      "execution_count": null,
      "outputs": [
        {
          "output_type": "execute_result",
          "data": {
            "text/plain": [
              "                            Weight     Large\n",
              "A4 3.0 Quattro 4dr manul  1.000000  1.000000\n",
              "A4 3.0 Quattro 4dr auto   1.012280  1.000000\n",
              "A6 3.0 4dr                0.993860  1.072626\n",
              "A6 3.0 Quattro 4dr auto   1.082891  1.072626\n",
              "A4 3.0 convertible 2dr    1.064471  1.005587"
            ],
            "text/html": [
              "\n",
              "  <div id=\"df-c235d206-3671-4fff-8c66-e45cd9537100\">\n",
              "    <div class=\"colab-df-container\">\n",
              "      <div>\n",
              "<style scoped>\n",
              "    .dataframe tbody tr th:only-of-type {\n",
              "        vertical-align: middle;\n",
              "    }\n",
              "\n",
              "    .dataframe tbody tr th {\n",
              "        vertical-align: top;\n",
              "    }\n",
              "\n",
              "    .dataframe thead th {\n",
              "        text-align: right;\n",
              "    }\n",
              "</style>\n",
              "<table border=\"1\" class=\"dataframe\">\n",
              "  <thead>\n",
              "    <tr style=\"text-align: right;\">\n",
              "      <th></th>\n",
              "      <th>Weight</th>\n",
              "      <th>Large</th>\n",
              "    </tr>\n",
              "  </thead>\n",
              "  <tbody>\n",
              "    <tr>\n",
              "      <th>A4 3.0 Quattro 4dr manul</th>\n",
              "      <td>1.000000</td>\n",
              "      <td>1.000000</td>\n",
              "    </tr>\n",
              "    <tr>\n",
              "      <th>A4 3.0 Quattro 4dr auto</th>\n",
              "      <td>1.012280</td>\n",
              "      <td>1.000000</td>\n",
              "    </tr>\n",
              "    <tr>\n",
              "      <th>A6 3.0 4dr</th>\n",
              "      <td>0.993860</td>\n",
              "      <td>1.072626</td>\n",
              "    </tr>\n",
              "    <tr>\n",
              "      <th>A6 3.0 Quattro 4dr auto</th>\n",
              "      <td>1.082891</td>\n",
              "      <td>1.072626</td>\n",
              "    </tr>\n",
              "    <tr>\n",
              "      <th>A4 3.0 convertible 2dr</th>\n",
              "      <td>1.064471</td>\n",
              "      <td>1.005587</td>\n",
              "    </tr>\n",
              "  </tbody>\n",
              "</table>\n",
              "</div>\n",
              "      <button class=\"colab-df-convert\" onclick=\"convertToInteractive('df-c235d206-3671-4fff-8c66-e45cd9537100')\"\n",
              "              title=\"Convert this dataframe to an interactive table.\"\n",
              "              style=\"display:none;\">\n",
              "        \n",
              "  <svg xmlns=\"http://www.w3.org/2000/svg\" height=\"24px\"viewBox=\"0 0 24 24\"\n",
              "       width=\"24px\">\n",
              "    <path d=\"M0 0h24v24H0V0z\" fill=\"none\"/>\n",
              "    <path d=\"M18.56 5.44l.94 2.06.94-2.06 2.06-.94-2.06-.94-.94-2.06-.94 2.06-2.06.94zm-11 1L8.5 8.5l.94-2.06 2.06-.94-2.06-.94L8.5 2.5l-.94 2.06-2.06.94zm10 10l.94 2.06.94-2.06 2.06-.94-2.06-.94-.94-2.06-.94 2.06-2.06.94z\"/><path d=\"M17.41 7.96l-1.37-1.37c-.4-.4-.92-.59-1.43-.59-.52 0-1.04.2-1.43.59L10.3 9.45l-7.72 7.72c-.78.78-.78 2.05 0 2.83L4 21.41c.39.39.9.59 1.41.59.51 0 1.02-.2 1.41-.59l7.78-7.78 2.81-2.81c.8-.78.8-2.07 0-2.86zM5.41 20L4 18.59l7.72-7.72 1.47 1.35L5.41 20z\"/>\n",
              "  </svg>\n",
              "      </button>\n",
              "      \n",
              "  <style>\n",
              "    .colab-df-container {\n",
              "      display:flex;\n",
              "      flex-wrap:wrap;\n",
              "      gap: 12px;\n",
              "    }\n",
              "\n",
              "    .colab-df-convert {\n",
              "      background-color: #E8F0FE;\n",
              "      border: none;\n",
              "      border-radius: 50%;\n",
              "      cursor: pointer;\n",
              "      display: none;\n",
              "      fill: #1967D2;\n",
              "      height: 32px;\n",
              "      padding: 0 0 0 0;\n",
              "      width: 32px;\n",
              "    }\n",
              "\n",
              "    .colab-df-convert:hover {\n",
              "      background-color: #E2EBFA;\n",
              "      box-shadow: 0px 1px 2px rgba(60, 64, 67, 0.3), 0px 1px 3px 1px rgba(60, 64, 67, 0.15);\n",
              "      fill: #174EA6;\n",
              "    }\n",
              "\n",
              "    [theme=dark] .colab-df-convert {\n",
              "      background-color: #3B4455;\n",
              "      fill: #D2E3FC;\n",
              "    }\n",
              "\n",
              "    [theme=dark] .colab-df-convert:hover {\n",
              "      background-color: #434B5C;\n",
              "      box-shadow: 0px 1px 3px 1px rgba(0, 0, 0, 0.15);\n",
              "      filter: drop-shadow(0px 1px 2px rgba(0, 0, 0, 0.3));\n",
              "      fill: #FFFFFF;\n",
              "    }\n",
              "  </style>\n",
              "\n",
              "      <script>\n",
              "        const buttonEl =\n",
              "          document.querySelector('#df-c235d206-3671-4fff-8c66-e45cd9537100 button.colab-df-convert');\n",
              "        buttonEl.style.display =\n",
              "          google.colab.kernel.accessAllowed ? 'block' : 'none';\n",
              "\n",
              "        async function convertToInteractive(key) {\n",
              "          const element = document.querySelector('#df-c235d206-3671-4fff-8c66-e45cd9537100');\n",
              "          const dataTable =\n",
              "            await google.colab.kernel.invokeFunction('convertToInteractive',\n",
              "                                                     [key], {});\n",
              "          if (!dataTable) return;\n",
              "\n",
              "          const docLinkHtml = 'Like what you see? Visit the ' +\n",
              "            '<a target=\"_blank\" href=https://colab.research.google.com/notebooks/data_table.ipynb>data table notebook</a>'\n",
              "            + ' to learn more about interactive tables.';\n",
              "          element.innerHTML = '';\n",
              "          dataTable['output_type'] = 'display_data';\n",
              "          await google.colab.output.renderOutput(dataTable, element);\n",
              "          const docLink = document.createElement('div');\n",
              "          docLink.innerHTML = docLinkHtml;\n",
              "          element.appendChild(docLink);\n",
              "        }\n",
              "      </script>\n",
              "    </div>\n",
              "  </div>\n",
              "  "
            ]
          },
          "metadata": {},
          "execution_count": 68
        }
      ]
    },
    {
      "cell_type": "code",
      "source": [
        "cars_2/ cars_2.iloc[0]*100"
      ],
      "metadata": {
        "colab": {
          "base_uri": "https://localhost:8080/",
          "height": 206
        },
        "id": "VE_gAXb3wFH_",
        "outputId": "ef5125b7-2b67-42a9-bd35-fae7a514817c"
      },
      "execution_count": null,
      "outputs": [
        {
          "output_type": "execute_result",
          "data": {
            "text/plain": [
              "                              Weight       Large\n",
              "A4 3.0 Quattro 4dr manul  100.000000  100.000000\n",
              "A4 3.0 Quattro 4dr auto   101.228021  100.000000\n",
              "A6 3.0 4dr                 99.385989  107.262570\n",
              "A6 3.0 Quattro 4dr auto   108.289143  107.262570\n",
              "A4 3.0 convertible 2dr    106.447111  100.558659"
            ],
            "text/html": [
              "\n",
              "  <div id=\"df-5e9da9bd-4d29-4351-9a3d-c9863611b2f1\">\n",
              "    <div class=\"colab-df-container\">\n",
              "      <div>\n",
              "<style scoped>\n",
              "    .dataframe tbody tr th:only-of-type {\n",
              "        vertical-align: middle;\n",
              "    }\n",
              "\n",
              "    .dataframe tbody tr th {\n",
              "        vertical-align: top;\n",
              "    }\n",
              "\n",
              "    .dataframe thead th {\n",
              "        text-align: right;\n",
              "    }\n",
              "</style>\n",
              "<table border=\"1\" class=\"dataframe\">\n",
              "  <thead>\n",
              "    <tr style=\"text-align: right;\">\n",
              "      <th></th>\n",
              "      <th>Weight</th>\n",
              "      <th>Large</th>\n",
              "    </tr>\n",
              "  </thead>\n",
              "  <tbody>\n",
              "    <tr>\n",
              "      <th>A4 3.0 Quattro 4dr manul</th>\n",
              "      <td>100.000000</td>\n",
              "      <td>100.000000</td>\n",
              "    </tr>\n",
              "    <tr>\n",
              "      <th>A4 3.0 Quattro 4dr auto</th>\n",
              "      <td>101.228021</td>\n",
              "      <td>100.000000</td>\n",
              "    </tr>\n",
              "    <tr>\n",
              "      <th>A6 3.0 4dr</th>\n",
              "      <td>99.385989</td>\n",
              "      <td>107.262570</td>\n",
              "    </tr>\n",
              "    <tr>\n",
              "      <th>A6 3.0 Quattro 4dr auto</th>\n",
              "      <td>108.289143</td>\n",
              "      <td>107.262570</td>\n",
              "    </tr>\n",
              "    <tr>\n",
              "      <th>A4 3.0 convertible 2dr</th>\n",
              "      <td>106.447111</td>\n",
              "      <td>100.558659</td>\n",
              "    </tr>\n",
              "  </tbody>\n",
              "</table>\n",
              "</div>\n",
              "      <button class=\"colab-df-convert\" onclick=\"convertToInteractive('df-5e9da9bd-4d29-4351-9a3d-c9863611b2f1')\"\n",
              "              title=\"Convert this dataframe to an interactive table.\"\n",
              "              style=\"display:none;\">\n",
              "        \n",
              "  <svg xmlns=\"http://www.w3.org/2000/svg\" height=\"24px\"viewBox=\"0 0 24 24\"\n",
              "       width=\"24px\">\n",
              "    <path d=\"M0 0h24v24H0V0z\" fill=\"none\"/>\n",
              "    <path d=\"M18.56 5.44l.94 2.06.94-2.06 2.06-.94-2.06-.94-.94-2.06-.94 2.06-2.06.94zm-11 1L8.5 8.5l.94-2.06 2.06-.94-2.06-.94L8.5 2.5l-.94 2.06-2.06.94zm10 10l.94 2.06.94-2.06 2.06-.94-2.06-.94-.94-2.06-.94 2.06-2.06.94z\"/><path d=\"M17.41 7.96l-1.37-1.37c-.4-.4-.92-.59-1.43-.59-.52 0-1.04.2-1.43.59L10.3 9.45l-7.72 7.72c-.78.78-.78 2.05 0 2.83L4 21.41c.39.39.9.59 1.41.59.51 0 1.02-.2 1.41-.59l7.78-7.78 2.81-2.81c.8-.78.8-2.07 0-2.86zM5.41 20L4 18.59l7.72-7.72 1.47 1.35L5.41 20z\"/>\n",
              "  </svg>\n",
              "      </button>\n",
              "      \n",
              "  <style>\n",
              "    .colab-df-container {\n",
              "      display:flex;\n",
              "      flex-wrap:wrap;\n",
              "      gap: 12px;\n",
              "    }\n",
              "\n",
              "    .colab-df-convert {\n",
              "      background-color: #E8F0FE;\n",
              "      border: none;\n",
              "      border-radius: 50%;\n",
              "      cursor: pointer;\n",
              "      display: none;\n",
              "      fill: #1967D2;\n",
              "      height: 32px;\n",
              "      padding: 0 0 0 0;\n",
              "      width: 32px;\n",
              "    }\n",
              "\n",
              "    .colab-df-convert:hover {\n",
              "      background-color: #E2EBFA;\n",
              "      box-shadow: 0px 1px 2px rgba(60, 64, 67, 0.3), 0px 1px 3px 1px rgba(60, 64, 67, 0.15);\n",
              "      fill: #174EA6;\n",
              "    }\n",
              "\n",
              "    [theme=dark] .colab-df-convert {\n",
              "      background-color: #3B4455;\n",
              "      fill: #D2E3FC;\n",
              "    }\n",
              "\n",
              "    [theme=dark] .colab-df-convert:hover {\n",
              "      background-color: #434B5C;\n",
              "      box-shadow: 0px 1px 3px 1px rgba(0, 0, 0, 0.15);\n",
              "      filter: drop-shadow(0px 1px 2px rgba(0, 0, 0, 0.3));\n",
              "      fill: #FFFFFF;\n",
              "    }\n",
              "  </style>\n",
              "\n",
              "      <script>\n",
              "        const buttonEl =\n",
              "          document.querySelector('#df-5e9da9bd-4d29-4351-9a3d-c9863611b2f1 button.colab-df-convert');\n",
              "        buttonEl.style.display =\n",
              "          google.colab.kernel.accessAllowed ? 'block' : 'none';\n",
              "\n",
              "        async function convertToInteractive(key) {\n",
              "          const element = document.querySelector('#df-5e9da9bd-4d29-4351-9a3d-c9863611b2f1');\n",
              "          const dataTable =\n",
              "            await google.colab.kernel.invokeFunction('convertToInteractive',\n",
              "                                                     [key], {});\n",
              "          if (!dataTable) return;\n",
              "\n",
              "          const docLinkHtml = 'Like what you see? Visit the ' +\n",
              "            '<a target=\"_blank\" href=https://colab.research.google.com/notebooks/data_table.ipynb>data table notebook</a>'\n",
              "            + ' to learn more about interactive tables.';\n",
              "          element.innerHTML = '';\n",
              "          dataTable['output_type'] = 'display_data';\n",
              "          await google.colab.output.renderOutput(dataTable, element);\n",
              "          const docLink = document.createElement('div');\n",
              "          docLink.innerHTML = docLinkHtml;\n",
              "          element.appendChild(docLink);\n",
              "        }\n",
              "      </script>\n",
              "    </div>\n",
              "  </div>\n",
              "  "
            ]
          },
          "metadata": {},
          "execution_count": 69
        }
      ]
    },
    {
      "cell_type": "code",
      "source": [
        "numbers_in_text"
      ],
      "metadata": {
        "colab": {
          "base_uri": "https://localhost:8080/"
        },
        "id": "CUeysVsGwSB3",
        "outputId": "ef48dc0f-8c06-4906-a067-403dcdf62a31"
      },
      "execution_count": null,
      "outputs": [
        {
          "output_type": "execute_result",
          "data": {
            "text/plain": [
              "['first',\n",
              " 'second',\n",
              " 'third',\n",
              " 'fourth',\n",
              " 'fifth',\n",
              " 'sixth',\n",
              " 'seventh',\n",
              " 'eighth',\n",
              " 'ninth',\n",
              " 'tenth']"
            ]
          },
          "metadata": {},
          "execution_count": 70
        }
      ]
    },
    {
      "cell_type": "code",
      "source": [
        "numbers_3 = range(51,70,2)\n",
        "list(numbers_3)"
      ],
      "metadata": {
        "colab": {
          "base_uri": "https://localhost:8080/"
        },
        "id": "I2AzA3fKwWCG",
        "outputId": "b4bda841-f86a-460e-d3f6-3e686aba5806"
      },
      "execution_count": null,
      "outputs": [
        {
          "output_type": "execute_result",
          "data": {
            "text/plain": [
              "[51, 53, 55, 57, 59, 61, 63, 65, 67, 69]"
            ]
          },
          "metadata": {},
          "execution_count": 73
        }
      ]
    },
    {
      "cell_type": "code",
      "source": [
        "number_serie_3 = pd.Series(numbers_3, index=numbers_in_text)\n",
        "number_serie_3"
      ],
      "metadata": {
        "colab": {
          "base_uri": "https://localhost:8080/"
        },
        "id": "O8XSfB5awmbG",
        "outputId": "3251acb6-8def-43e3-bf37-cab1e931fda2"
      },
      "execution_count": null,
      "outputs": [
        {
          "output_type": "execute_result",
          "data": {
            "text/plain": [
              "first      51\n",
              "second     53\n",
              "third      55\n",
              "fourth     57\n",
              "fifth      59\n",
              "sixth      61\n",
              "seventh    63\n",
              "eighth     65\n",
              "ninth      67\n",
              "tenth      69\n",
              "dtype: int64"
            ]
          },
          "metadata": {},
          "execution_count": 76
        }
      ]
    },
    {
      "cell_type": "code",
      "source": [
        "print(number_serie_2 + number_serie_3 )"
      ],
      "metadata": {
        "colab": {
          "base_uri": "https://localhost:8080/"
        },
        "id": "bNUL5uv_xBk-",
        "outputId": "9c60860f-7a09-4233-fc14-e64df9e58c57"
      },
      "execution_count": null,
      "outputs": [
        {
          "output_type": "stream",
          "name": "stdout",
          "text": [
            "first       62\n",
            "second     105\n",
            "third      109\n",
            "fourth     113\n",
            "fifth      117\n",
            "sixth      121\n",
            "seventh    125\n",
            "eighth     129\n",
            "ninth      133\n",
            "tenth      137\n",
            "dtype: int64\n"
          ]
        }
      ]
    },
    {
      "cell_type": "code",
      "source": [
        "#Suma con una constante\n",
        "print(number_serie_3*1.5)\n"
      ],
      "metadata": {
        "colab": {
          "base_uri": "https://localhost:8080/"
        },
        "id": "fLDMqb7uxNpG",
        "outputId": "25aed7c2-52b2-4a6b-e5a3-9cab1ced630b"
      },
      "execution_count": null,
      "outputs": [
        {
          "output_type": "stream",
          "name": "stdout",
          "text": [
            "first       76.5\n",
            "second      79.5\n",
            "third       82.5\n",
            "fourth      85.5\n",
            "fifth       88.5\n",
            "sixth       91.5\n",
            "seventh     94.5\n",
            "eighth      97.5\n",
            "ninth      100.5\n",
            "tenth      103.5\n",
            "dtype: float64\n"
          ]
        }
      ]
    },
    {
      "cell_type": "code",
      "source": [
        "number_serie_2_position = number_serie_2[4:7]\n",
        "number_serie_2_position"
      ],
      "metadata": {
        "colab": {
          "base_uri": "https://localhost:8080/"
        },
        "id": "M8luMv0pxtjp",
        "outputId": "f1af9b51-3271-49dd-c005-f40d3ad286ca"
      },
      "execution_count": null,
      "outputs": [
        {
          "output_type": "execute_result",
          "data": {
            "text/plain": [
              "fifth      58\n",
              "sixth      60\n",
              "seventh    62\n",
              "dtype: int64"
            ]
          },
          "metadata": {},
          "execution_count": 82
        }
      ]
    },
    {
      "cell_type": "code",
      "source": [
        "number_serie_3_position = number_serie_3[5:8]\n",
        "number_serie_3_position"
      ],
      "metadata": {
        "colab": {
          "base_uri": "https://localhost:8080/"
        },
        "id": "ln90aX_dx8Fm",
        "outputId": "914053ef-9593-49cf-d1a4-1d7ed4cc12f9"
      },
      "execution_count": null,
      "outputs": [
        {
          "output_type": "execute_result",
          "data": {
            "text/plain": [
              "sixth      61\n",
              "seventh    63\n",
              "eighth     65\n",
              "dtype: int64"
            ]
          },
          "metadata": {},
          "execution_count": 83
        }
      ]
    },
    {
      "cell_type": "code",
      "source": [
        "number_serie_2_position +number_serie_3_position\n",
        "#Las que tienen el mismo indise suman, difetenes indice no los sumo\n",
        "#NaN not a numbes, valor nulo, valo vació#cualquier operacion  con nan da resultado nan"
      ],
      "metadata": {
        "colab": {
          "base_uri": "https://localhost:8080/"
        },
        "id": "uFhz43UBySY9",
        "outputId": "c6b6eee8-baf3-4f98-e47e-01304ea674ca"
      },
      "execution_count": null,
      "outputs": [
        {
          "output_type": "execute_result",
          "data": {
            "text/plain": [
              "eighth       NaN\n",
              "fifth        NaN\n",
              "seventh    125.0\n",
              "sixth      121.0\n",
              "dtype: float64"
            ]
          },
          "metadata": {},
          "execution_count": 84
        }
      ]
    },
    {
      "cell_type": "code",
      "source": [
        "print(65 + np.nan)"
      ],
      "metadata": {
        "colab": {
          "base_uri": "https://localhost:8080/"
        },
        "id": "XhxP6_FVyqEd",
        "outputId": "92d84045-bc6c-4341-bda0-24b715238104"
      },
      "execution_count": null,
      "outputs": [
        {
          "output_type": "stream",
          "name": "stdout",
          "text": [
            "nan\n"
          ]
        }
      ]
    },
    {
      "cell_type": "code",
      "source": [
        "#fill vales\n",
        "print(number_serie_2_position.add(number_serie_3_position, fill_value=0))#rellenar nn con  0"
      ],
      "metadata": {
        "colab": {
          "base_uri": "https://localhost:8080/"
        },
        "id": "n-O5DPQjzB5_",
        "outputId": "ad37c9a4-1b6d-4752-87eb-3f9eaf8a06b7"
      },
      "execution_count": null,
      "outputs": [
        {
          "output_type": "stream",
          "name": "stdout",
          "text": [
            "eighth      65.0\n",
            "fifth       58.0\n",
            "seventh    125.0\n",
            "sixth      121.0\n",
            "dtype: float64\n"
          ]
        }
      ]
    },
    {
      "cell_type": "markdown",
      "source": [
        "##NOT A NUMBER"
      ],
      "metadata": {
        "id": "AprhuzNc0u_U"
      }
    },
    {
      "cell_type": "code",
      "source": [
        "nan_value = np.nan"
      ],
      "metadata": {
        "id": "10R2XFyn0sH8"
      },
      "execution_count": null,
      "outputs": []
    },
    {
      "cell_type": "code",
      "source": [
        "np.NAN"
      ],
      "metadata": {
        "colab": {
          "base_uri": "https://localhost:8080/"
        },
        "id": "NGfHodGM0-JE",
        "outputId": "79877486-6745-48cf-b28f-6289ae11518c"
      },
      "execution_count": null,
      "outputs": [
        {
          "output_type": "execute_result",
          "data": {
            "text/plain": [
              "nan"
            ]
          },
          "metadata": {},
          "execution_count": 88
        }
      ]
    },
    {
      "cell_type": "code",
      "source": [
        "np.NaN"
      ],
      "metadata": {
        "colab": {
          "base_uri": "https://localhost:8080/"
        },
        "id": "NBTrWmL91Ap0",
        "outputId": "990fa1c4-96c4-418c-a152-1095165c0e01"
      },
      "execution_count": null,
      "outputs": [
        {
          "output_type": "execute_result",
          "data": {
            "text/plain": [
              "nan"
            ]
          },
          "metadata": {},
          "execution_count": 89
        }
      ]
    },
    {
      "cell_type": "code",
      "source": [
        "type(nan_value)"
      ],
      "metadata": {
        "colab": {
          "base_uri": "https://localhost:8080/"
        },
        "id": "7R4VVQa71DYW",
        "outputId": "04738128-5ec4-4545-87c5-bd63cab37029"
      },
      "execution_count": null,
      "outputs": [
        {
          "output_type": "execute_result",
          "data": {
            "text/plain": [
              "float"
            ]
          },
          "metadata": {},
          "execution_count": 91
        }
      ]
    },
    {
      "cell_type": "code",
      "source": [
        "nan_value*55"
      ],
      "metadata": {
        "colab": {
          "base_uri": "https://localhost:8080/"
        },
        "id": "knK0UGNP104T",
        "outputId": "a3e9ca22-4b81-457f-f5f6-a358ec668468"
      },
      "execution_count": null,
      "outputs": [
        {
          "output_type": "execute_result",
          "data": {
            "text/plain": [
              "nan"
            ]
          },
          "metadata": {},
          "execution_count": 94
        }
      ]
    },
    {
      "cell_type": "code",
      "source": [
        "np.nanprod([2, nan_value])"
      ],
      "metadata": {
        "colab": {
          "base_uri": "https://localhost:8080/"
        },
        "id": "8wEOtXca14zL",
        "outputId": "a67b3624-ab6a-49b4-ecaa-cf92ab705877"
      },
      "execution_count": null,
      "outputs": [
        {
          "output_type": "execute_result",
          "data": {
            "text/plain": [
              "2.0"
            ]
          },
          "metadata": {},
          "execution_count": 95
        }
      ]
    },
    {
      "cell_type": "code",
      "source": [
        "nan_numbers= number_serie_2_position+number_serie_3_position\n",
        "nan_numbers"
      ],
      "metadata": {
        "id": "UCEMnBcN2JJ0"
      },
      "execution_count": null,
      "outputs": []
    },
    {
      "cell_type": "code",
      "source": [
        "nan_numbers.isnull()"
      ],
      "metadata": {
        "colab": {
          "base_uri": "https://localhost:8080/"
        },
        "id": "9JUG8RLO2hMj",
        "outputId": "fa244d4f-6717-4503-cec7-e15bd5c8fc90"
      },
      "execution_count": null,
      "outputs": [
        {
          "output_type": "execute_result",
          "data": {
            "text/plain": [
              "eighth      True\n",
              "fifth       True\n",
              "seventh    False\n",
              "sixth      False\n",
              "dtype: bool"
            ]
          },
          "metadata": {},
          "execution_count": 99
        }
      ]
    },
    {
      "cell_type": "code",
      "source": [
        "#sumacasosverdderos\n",
        "nan_numbers.isnull().sum()"
      ],
      "metadata": {
        "colab": {
          "base_uri": "https://localhost:8080/"
        },
        "id": "6cY1hd-r2yGL",
        "outputId": "9167362d-d51d-4841-fc6e-c18be9bb00cc"
      },
      "execution_count": null,
      "outputs": [
        {
          "output_type": "execute_result",
          "data": {
            "text/plain": [
              "2"
            ]
          },
          "metadata": {},
          "execution_count": 101
        }
      ]
    },
    {
      "cell_type": "code",
      "source": [
        "#delete  nan\n",
        "nan_numbers.dropna()"
      ],
      "metadata": {
        "colab": {
          "base_uri": "https://localhost:8080/"
        },
        "id": "LHvpRId53E58",
        "outputId": "336a4674-7552-4f63-97a3-74e2ba66f474"
      },
      "execution_count": null,
      "outputs": [
        {
          "output_type": "execute_result",
          "data": {
            "text/plain": [
              "seventh    125.0\n",
              "sixth      121.0\n",
              "dtype: float64"
            ]
          },
          "metadata": {},
          "execution_count": 102
        }
      ]
    },
    {
      "cell_type": "code",
      "source": [
        "#fill nan  with n\n",
        "nan_numbers.fillna(0)"
      ],
      "metadata": {
        "colab": {
          "base_uri": "https://localhost:8080/"
        },
        "id": "qc4PuXmz30Dj",
        "outputId": "1f5ec27d-c8b8-4034-d6fd-b8141d86e4d9"
      },
      "execution_count": null,
      "outputs": [
        {
          "output_type": "execute_result",
          "data": {
            "text/plain": [
              "eighth       0.0\n",
              "fifth        0.0\n",
              "seventh    125.0\n",
              "sixth      121.0\n",
              "dtype: float64"
            ]
          },
          "metadata": {},
          "execution_count": 103
        }
      ]
    },
    {
      "cell_type": "markdown",
      "source": [
        "##Agregaciones\n",
        "son tipo de operción\n",
        "son sobre un conjunto de datos\n",
        "retornan un resuñltdp que es un medid resumen\n",
        "sum, mean, max std, var -> \n",
        "csv coma value separate\n",
        "Para un webinar no usar colan para demo \n"
      ],
      "metadata": {
        "id": "5QhR2MjwACly"
      }
    },
    {
      "cell_type": "code",
      "source": [
        "df_rains= pd.read_csv('/content/drive/MyDrive/para borrar/Copia de pune_1965_to_2002.csv')\n",
        "df_rains.head()#n"
      ],
      "metadata": {
        "id": "sezfLuAw4A68",
        "colab": {
          "base_uri": "https://localhost:8080/",
          "height": 206
        },
        "outputId": "c07764c6-3c18-4e2a-a796-54513f4672dd"
      },
      "execution_count": null,
      "outputs": [
        {
          "output_type": "execute_result",
          "data": {
            "text/plain": [
              "   Year    Jan    Feb    Mar     Apr     May      Jun      Jul      Aug  \\\n",
              "0  1965  0.029  0.069  0.000  21.667  17.859  102.111  606.071  402.521   \n",
              "1  1966  0.905  0.000  0.000   2.981  63.008   94.088  481.942   59.386   \n",
              "2  1967  0.248  3.390  1.320  13.482  11.116  251.314  780.006  181.069   \n",
              "3  1968  0.318  3.035  1.704  23.307   7.441  179.872  379.354  171.979   \n",
              "4  1969  0.248  2.524  0.334   4.569   6.213  393.682  678.354  397.335   \n",
              "\n",
              "       Sep     Oct     Nov     Dec  \n",
              "0   69.511   5.249  16.232  22.075  \n",
              "1  150.624   1.308  41.214   4.132  \n",
              "2  183.757  50.404   8.393  37.685  \n",
              "3  219.884  73.997  23.326   2.020  \n",
              "4  205.413  24.014  24.385   1.951  "
            ],
            "text/html": [
              "\n",
              "  <div id=\"df-9ae4f54f-3887-4694-84b5-0b0651274443\">\n",
              "    <div class=\"colab-df-container\">\n",
              "      <div>\n",
              "<style scoped>\n",
              "    .dataframe tbody tr th:only-of-type {\n",
              "        vertical-align: middle;\n",
              "    }\n",
              "\n",
              "    .dataframe tbody tr th {\n",
              "        vertical-align: top;\n",
              "    }\n",
              "\n",
              "    .dataframe thead th {\n",
              "        text-align: right;\n",
              "    }\n",
              "</style>\n",
              "<table border=\"1\" class=\"dataframe\">\n",
              "  <thead>\n",
              "    <tr style=\"text-align: right;\">\n",
              "      <th></th>\n",
              "      <th>Year</th>\n",
              "      <th>Jan</th>\n",
              "      <th>Feb</th>\n",
              "      <th>Mar</th>\n",
              "      <th>Apr</th>\n",
              "      <th>May</th>\n",
              "      <th>Jun</th>\n",
              "      <th>Jul</th>\n",
              "      <th>Aug</th>\n",
              "      <th>Sep</th>\n",
              "      <th>Oct</th>\n",
              "      <th>Nov</th>\n",
              "      <th>Dec</th>\n",
              "    </tr>\n",
              "  </thead>\n",
              "  <tbody>\n",
              "    <tr>\n",
              "      <th>0</th>\n",
              "      <td>1965</td>\n",
              "      <td>0.029</td>\n",
              "      <td>0.069</td>\n",
              "      <td>0.000</td>\n",
              "      <td>21.667</td>\n",
              "      <td>17.859</td>\n",
              "      <td>102.111</td>\n",
              "      <td>606.071</td>\n",
              "      <td>402.521</td>\n",
              "      <td>69.511</td>\n",
              "      <td>5.249</td>\n",
              "      <td>16.232</td>\n",
              "      <td>22.075</td>\n",
              "    </tr>\n",
              "    <tr>\n",
              "      <th>1</th>\n",
              "      <td>1966</td>\n",
              "      <td>0.905</td>\n",
              "      <td>0.000</td>\n",
              "      <td>0.000</td>\n",
              "      <td>2.981</td>\n",
              "      <td>63.008</td>\n",
              "      <td>94.088</td>\n",
              "      <td>481.942</td>\n",
              "      <td>59.386</td>\n",
              "      <td>150.624</td>\n",
              "      <td>1.308</td>\n",
              "      <td>41.214</td>\n",
              "      <td>4.132</td>\n",
              "    </tr>\n",
              "    <tr>\n",
              "      <th>2</th>\n",
              "      <td>1967</td>\n",
              "      <td>0.248</td>\n",
              "      <td>3.390</td>\n",
              "      <td>1.320</td>\n",
              "      <td>13.482</td>\n",
              "      <td>11.116</td>\n",
              "      <td>251.314</td>\n",
              "      <td>780.006</td>\n",
              "      <td>181.069</td>\n",
              "      <td>183.757</td>\n",
              "      <td>50.404</td>\n",
              "      <td>8.393</td>\n",
              "      <td>37.685</td>\n",
              "    </tr>\n",
              "    <tr>\n",
              "      <th>3</th>\n",
              "      <td>1968</td>\n",
              "      <td>0.318</td>\n",
              "      <td>3.035</td>\n",
              "      <td>1.704</td>\n",
              "      <td>23.307</td>\n",
              "      <td>7.441</td>\n",
              "      <td>179.872</td>\n",
              "      <td>379.354</td>\n",
              "      <td>171.979</td>\n",
              "      <td>219.884</td>\n",
              "      <td>73.997</td>\n",
              "      <td>23.326</td>\n",
              "      <td>2.020</td>\n",
              "    </tr>\n",
              "    <tr>\n",
              "      <th>4</th>\n",
              "      <td>1969</td>\n",
              "      <td>0.248</td>\n",
              "      <td>2.524</td>\n",
              "      <td>0.334</td>\n",
              "      <td>4.569</td>\n",
              "      <td>6.213</td>\n",
              "      <td>393.682</td>\n",
              "      <td>678.354</td>\n",
              "      <td>397.335</td>\n",
              "      <td>205.413</td>\n",
              "      <td>24.014</td>\n",
              "      <td>24.385</td>\n",
              "      <td>1.951</td>\n",
              "    </tr>\n",
              "  </tbody>\n",
              "</table>\n",
              "</div>\n",
              "      <button class=\"colab-df-convert\" onclick=\"convertToInteractive('df-9ae4f54f-3887-4694-84b5-0b0651274443')\"\n",
              "              title=\"Convert this dataframe to an interactive table.\"\n",
              "              style=\"display:none;\">\n",
              "        \n",
              "  <svg xmlns=\"http://www.w3.org/2000/svg\" height=\"24px\"viewBox=\"0 0 24 24\"\n",
              "       width=\"24px\">\n",
              "    <path d=\"M0 0h24v24H0V0z\" fill=\"none\"/>\n",
              "    <path d=\"M18.56 5.44l.94 2.06.94-2.06 2.06-.94-2.06-.94-.94-2.06-.94 2.06-2.06.94zm-11 1L8.5 8.5l.94-2.06 2.06-.94-2.06-.94L8.5 2.5l-.94 2.06-2.06.94zm10 10l.94 2.06.94-2.06 2.06-.94-2.06-.94-.94-2.06-.94 2.06-2.06.94z\"/><path d=\"M17.41 7.96l-1.37-1.37c-.4-.4-.92-.59-1.43-.59-.52 0-1.04.2-1.43.59L10.3 9.45l-7.72 7.72c-.78.78-.78 2.05 0 2.83L4 21.41c.39.39.9.59 1.41.59.51 0 1.02-.2 1.41-.59l7.78-7.78 2.81-2.81c.8-.78.8-2.07 0-2.86zM5.41 20L4 18.59l7.72-7.72 1.47 1.35L5.41 20z\"/>\n",
              "  </svg>\n",
              "      </button>\n",
              "      \n",
              "  <style>\n",
              "    .colab-df-container {\n",
              "      display:flex;\n",
              "      flex-wrap:wrap;\n",
              "      gap: 12px;\n",
              "    }\n",
              "\n",
              "    .colab-df-convert {\n",
              "      background-color: #E8F0FE;\n",
              "      border: none;\n",
              "      border-radius: 50%;\n",
              "      cursor: pointer;\n",
              "      display: none;\n",
              "      fill: #1967D2;\n",
              "      height: 32px;\n",
              "      padding: 0 0 0 0;\n",
              "      width: 32px;\n",
              "    }\n",
              "\n",
              "    .colab-df-convert:hover {\n",
              "      background-color: #E2EBFA;\n",
              "      box-shadow: 0px 1px 2px rgba(60, 64, 67, 0.3), 0px 1px 3px 1px rgba(60, 64, 67, 0.15);\n",
              "      fill: #174EA6;\n",
              "    }\n",
              "\n",
              "    [theme=dark] .colab-df-convert {\n",
              "      background-color: #3B4455;\n",
              "      fill: #D2E3FC;\n",
              "    }\n",
              "\n",
              "    [theme=dark] .colab-df-convert:hover {\n",
              "      background-color: #434B5C;\n",
              "      box-shadow: 0px 1px 3px 1px rgba(0, 0, 0, 0.15);\n",
              "      filter: drop-shadow(0px 1px 2px rgba(0, 0, 0, 0.3));\n",
              "      fill: #FFFFFF;\n",
              "    }\n",
              "  </style>\n",
              "\n",
              "      <script>\n",
              "        const buttonEl =\n",
              "          document.querySelector('#df-9ae4f54f-3887-4694-84b5-0b0651274443 button.colab-df-convert');\n",
              "        buttonEl.style.display =\n",
              "          google.colab.kernel.accessAllowed ? 'block' : 'none';\n",
              "\n",
              "        async function convertToInteractive(key) {\n",
              "          const element = document.querySelector('#df-9ae4f54f-3887-4694-84b5-0b0651274443');\n",
              "          const dataTable =\n",
              "            await google.colab.kernel.invokeFunction('convertToInteractive',\n",
              "                                                     [key], {});\n",
              "          if (!dataTable) return;\n",
              "\n",
              "          const docLinkHtml = 'Like what you see? Visit the ' +\n",
              "            '<a target=\"_blank\" href=https://colab.research.google.com/notebooks/data_table.ipynb>data table notebook</a>'\n",
              "            + ' to learn more about interactive tables.';\n",
              "          element.innerHTML = '';\n",
              "          dataTable['output_type'] = 'display_data';\n",
              "          await google.colab.output.renderOutput(dataTable, element);\n",
              "          const docLink = document.createElement('div');\n",
              "          docLink.innerHTML = docLinkHtml;\n",
              "          element.appendChild(docLink);\n",
              "        }\n",
              "      </script>\n",
              "    </div>\n",
              "  </div>\n",
              "  "
            ]
          },
          "metadata": {},
          "execution_count": 107
        }
      ]
    },
    {
      "cell_type": "code",
      "source": [
        "#form\n",
        "df_rains.shape"
      ],
      "metadata": {
        "colab": {
          "base_uri": "https://localhost:8080/"
        },
        "id": "yx3AYDEyDuo4",
        "outputId": "7c801772-cdf6-4d43-e7fa-971d365b95f6"
      },
      "execution_count": null,
      "outputs": [
        {
          "output_type": "execute_result",
          "data": {
            "text/plain": [
              "(38, 13)"
            ]
          },
          "metadata": {},
          "execution_count": 110
        }
      ]
    },
    {
      "cell_type": "code",
      "source": [
        "df_rains.info()"
      ],
      "metadata": {
        "colab": {
          "base_uri": "https://localhost:8080/"
        },
        "id": "UjeYmXApEEM2",
        "outputId": "3dedc6b5-600c-44b8-a7ed-4f4078594b57"
      },
      "execution_count": null,
      "outputs": [
        {
          "output_type": "stream",
          "name": "stdout",
          "text": [
            "<class 'pandas.core.frame.DataFrame'>\n",
            "RangeIndex: 38 entries, 0 to 37\n",
            "Data columns (total 13 columns):\n",
            " #   Column  Non-Null Count  Dtype  \n",
            "---  ------  --------------  -----  \n",
            " 0   Year    38 non-null     int64  \n",
            " 1   Jan     38 non-null     float64\n",
            " 2   Feb     38 non-null     float64\n",
            " 3   Mar     38 non-null     float64\n",
            " 4   Apr     38 non-null     float64\n",
            " 5   May     38 non-null     float64\n",
            " 6   Jun     38 non-null     float64\n",
            " 7   Jul     38 non-null     float64\n",
            " 8   Aug     38 non-null     float64\n",
            " 9   Sep     38 non-null     float64\n",
            " 10  Oct     38 non-null     float64\n",
            " 11  Nov     38 non-null     float64\n",
            " 12  Dec     38 non-null     float64\n",
            "dtypes: float64(12), int64(1)\n",
            "memory usage: 4.0 KB\n"
          ]
        }
      ]
    },
    {
      "cell_type": "code",
      "source": [
        "index_rains  = list(df_rains.Year)\n",
        "index_rains"
      ],
      "metadata": {
        "colab": {
          "base_uri": "https://localhost:8080/"
        },
        "id": "Qps4Bay3ERme",
        "outputId": "057c6203-38b8-4439-da2c-368003355dc2"
      },
      "execution_count": null,
      "outputs": [
        {
          "output_type": "execute_result",
          "data": {
            "text/plain": [
              "[1965,\n",
              " 1966,\n",
              " 1967,\n",
              " 1968,\n",
              " 1969,\n",
              " 1970,\n",
              " 1971,\n",
              " 1972,\n",
              " 1973,\n",
              " 1974,\n",
              " 1975,\n",
              " 1976,\n",
              " 1977,\n",
              " 1978,\n",
              " 1979,\n",
              " 1980,\n",
              " 1981,\n",
              " 1982,\n",
              " 1983,\n",
              " 1984,\n",
              " 1985,\n",
              " 1986,\n",
              " 1987,\n",
              " 1988,\n",
              " 1989,\n",
              " 1990,\n",
              " 1991,\n",
              " 1992,\n",
              " 1993,\n",
              " 1994,\n",
              " 1995,\n",
              " 1996,\n",
              " 1997,\n",
              " 1998,\n",
              " 1999,\n",
              " 2000,\n",
              " 2001,\n",
              " 2002]"
            ]
          },
          "metadata": {},
          "execution_count": 112
        }
      ]
    },
    {
      "cell_type": "code",
      "source": [
        "df_rains.columns"
      ],
      "metadata": {
        "colab": {
          "base_uri": "https://localhost:8080/"
        },
        "id": "KtSFUYNQFCLG",
        "outputId": "3e9bb2cf-1d11-4974-ace5-571eba46406b"
      },
      "execution_count": null,
      "outputs": [
        {
          "output_type": "execute_result",
          "data": {
            "text/plain": [
              "Index(['Year', 'Jan', 'Feb', 'Mar', 'Apr', 'May', 'Jun', 'Jul', 'Aug', 'Sep',\n",
              "       'Oct', 'Nov', 'Dec'],\n",
              "      dtype='object')"
            ]
          },
          "metadata": {},
          "execution_count": 115
        }
      ]
    },
    {
      "cell_type": "code",
      "source": [
        "columns_rains = df_rains.columns[1:]\n",
        "columns_rains "
      ],
      "metadata": {
        "colab": {
          "base_uri": "https://localhost:8080/"
        },
        "id": "_XzXJcoFEw8O",
        "outputId": "23e2e5f5-56af-436a-9f01-50b17f753608"
      },
      "execution_count": null,
      "outputs": [
        {
          "output_type": "execute_result",
          "data": {
            "text/plain": [
              "Index(['Jan', 'Feb', 'Mar', 'Apr', 'May', 'Jun', 'Jul', 'Aug', 'Sep', 'Oct',\n",
              "       'Nov', 'Dec'],\n",
              "      dtype='object')"
            ]
          },
          "metadata": {},
          "execution_count": 113
        }
      ]
    },
    {
      "cell_type": "code",
      "source": [
        "values_rains= df_rains.values[:,1:]"
      ],
      "metadata": {
        "id": "oC_rRa_lFgPV"
      },
      "execution_count": null,
      "outputs": []
    },
    {
      "cell_type": "markdown",
      "source": [
        "transform data"
      ],
      "metadata": {
        "id": "NqtkdP7oGMgd"
      }
    },
    {
      "cell_type": "code",
      "source": [
        "#now index is the year\n",
        "df_rains_2 = pd.DataFrame( values_rains, index=index_rains, columns=columns_rains)\n",
        "df_rains_2.head()"
      ],
      "metadata": {
        "colab": {
          "base_uri": "https://localhost:8080/",
          "height": 206
        },
        "id": "kZIO5fOJFq_2",
        "outputId": "6c5c1981-e22d-4144-e395-59f7aa8e2eba"
      },
      "execution_count": null,
      "outputs": [
        {
          "output_type": "execute_result",
          "data": {
            "text/plain": [
              "        Jan    Feb    Mar     Apr     May      Jun      Jul      Aug      Sep  \\\n",
              "1965  0.029  0.069  0.000  21.667  17.859  102.111  606.071  402.521   69.511   \n",
              "1966  0.905  0.000  0.000   2.981  63.008   94.088  481.942   59.386  150.624   \n",
              "1967  0.248  3.390  1.320  13.482  11.116  251.314  780.006  181.069  183.757   \n",
              "1968  0.318  3.035  1.704  23.307   7.441  179.872  379.354  171.979  219.884   \n",
              "1969  0.248  2.524  0.334   4.569   6.213  393.682  678.354  397.335  205.413   \n",
              "\n",
              "         Oct     Nov     Dec  \n",
              "1965   5.249  16.232  22.075  \n",
              "1966   1.308  41.214   4.132  \n",
              "1967  50.404   8.393  37.685  \n",
              "1968  73.997  23.326   2.020  \n",
              "1969  24.014  24.385   1.951  "
            ],
            "text/html": [
              "\n",
              "  <div id=\"df-49a3543e-2d74-4894-a15c-3600a96a4057\">\n",
              "    <div class=\"colab-df-container\">\n",
              "      <div>\n",
              "<style scoped>\n",
              "    .dataframe tbody tr th:only-of-type {\n",
              "        vertical-align: middle;\n",
              "    }\n",
              "\n",
              "    .dataframe tbody tr th {\n",
              "        vertical-align: top;\n",
              "    }\n",
              "\n",
              "    .dataframe thead th {\n",
              "        text-align: right;\n",
              "    }\n",
              "</style>\n",
              "<table border=\"1\" class=\"dataframe\">\n",
              "  <thead>\n",
              "    <tr style=\"text-align: right;\">\n",
              "      <th></th>\n",
              "      <th>Jan</th>\n",
              "      <th>Feb</th>\n",
              "      <th>Mar</th>\n",
              "      <th>Apr</th>\n",
              "      <th>May</th>\n",
              "      <th>Jun</th>\n",
              "      <th>Jul</th>\n",
              "      <th>Aug</th>\n",
              "      <th>Sep</th>\n",
              "      <th>Oct</th>\n",
              "      <th>Nov</th>\n",
              "      <th>Dec</th>\n",
              "    </tr>\n",
              "  </thead>\n",
              "  <tbody>\n",
              "    <tr>\n",
              "      <th>1965</th>\n",
              "      <td>0.029</td>\n",
              "      <td>0.069</td>\n",
              "      <td>0.000</td>\n",
              "      <td>21.667</td>\n",
              "      <td>17.859</td>\n",
              "      <td>102.111</td>\n",
              "      <td>606.071</td>\n",
              "      <td>402.521</td>\n",
              "      <td>69.511</td>\n",
              "      <td>5.249</td>\n",
              "      <td>16.232</td>\n",
              "      <td>22.075</td>\n",
              "    </tr>\n",
              "    <tr>\n",
              "      <th>1966</th>\n",
              "      <td>0.905</td>\n",
              "      <td>0.000</td>\n",
              "      <td>0.000</td>\n",
              "      <td>2.981</td>\n",
              "      <td>63.008</td>\n",
              "      <td>94.088</td>\n",
              "      <td>481.942</td>\n",
              "      <td>59.386</td>\n",
              "      <td>150.624</td>\n",
              "      <td>1.308</td>\n",
              "      <td>41.214</td>\n",
              "      <td>4.132</td>\n",
              "    </tr>\n",
              "    <tr>\n",
              "      <th>1967</th>\n",
              "      <td>0.248</td>\n",
              "      <td>3.390</td>\n",
              "      <td>1.320</td>\n",
              "      <td>13.482</td>\n",
              "      <td>11.116</td>\n",
              "      <td>251.314</td>\n",
              "      <td>780.006</td>\n",
              "      <td>181.069</td>\n",
              "      <td>183.757</td>\n",
              "      <td>50.404</td>\n",
              "      <td>8.393</td>\n",
              "      <td>37.685</td>\n",
              "    </tr>\n",
              "    <tr>\n",
              "      <th>1968</th>\n",
              "      <td>0.318</td>\n",
              "      <td>3.035</td>\n",
              "      <td>1.704</td>\n",
              "      <td>23.307</td>\n",
              "      <td>7.441</td>\n",
              "      <td>179.872</td>\n",
              "      <td>379.354</td>\n",
              "      <td>171.979</td>\n",
              "      <td>219.884</td>\n",
              "      <td>73.997</td>\n",
              "      <td>23.326</td>\n",
              "      <td>2.020</td>\n",
              "    </tr>\n",
              "    <tr>\n",
              "      <th>1969</th>\n",
              "      <td>0.248</td>\n",
              "      <td>2.524</td>\n",
              "      <td>0.334</td>\n",
              "      <td>4.569</td>\n",
              "      <td>6.213</td>\n",
              "      <td>393.682</td>\n",
              "      <td>678.354</td>\n",
              "      <td>397.335</td>\n",
              "      <td>205.413</td>\n",
              "      <td>24.014</td>\n",
              "      <td>24.385</td>\n",
              "      <td>1.951</td>\n",
              "    </tr>\n",
              "  </tbody>\n",
              "</table>\n",
              "</div>\n",
              "      <button class=\"colab-df-convert\" onclick=\"convertToInteractive('df-49a3543e-2d74-4894-a15c-3600a96a4057')\"\n",
              "              title=\"Convert this dataframe to an interactive table.\"\n",
              "              style=\"display:none;\">\n",
              "        \n",
              "  <svg xmlns=\"http://www.w3.org/2000/svg\" height=\"24px\"viewBox=\"0 0 24 24\"\n",
              "       width=\"24px\">\n",
              "    <path d=\"M0 0h24v24H0V0z\" fill=\"none\"/>\n",
              "    <path d=\"M18.56 5.44l.94 2.06.94-2.06 2.06-.94-2.06-.94-.94-2.06-.94 2.06-2.06.94zm-11 1L8.5 8.5l.94-2.06 2.06-.94-2.06-.94L8.5 2.5l-.94 2.06-2.06.94zm10 10l.94 2.06.94-2.06 2.06-.94-2.06-.94-.94-2.06-.94 2.06-2.06.94z\"/><path d=\"M17.41 7.96l-1.37-1.37c-.4-.4-.92-.59-1.43-.59-.52 0-1.04.2-1.43.59L10.3 9.45l-7.72 7.72c-.78.78-.78 2.05 0 2.83L4 21.41c.39.39.9.59 1.41.59.51 0 1.02-.2 1.41-.59l7.78-7.78 2.81-2.81c.8-.78.8-2.07 0-2.86zM5.41 20L4 18.59l7.72-7.72 1.47 1.35L5.41 20z\"/>\n",
              "  </svg>\n",
              "      </button>\n",
              "      \n",
              "  <style>\n",
              "    .colab-df-container {\n",
              "      display:flex;\n",
              "      flex-wrap:wrap;\n",
              "      gap: 12px;\n",
              "    }\n",
              "\n",
              "    .colab-df-convert {\n",
              "      background-color: #E8F0FE;\n",
              "      border: none;\n",
              "      border-radius: 50%;\n",
              "      cursor: pointer;\n",
              "      display: none;\n",
              "      fill: #1967D2;\n",
              "      height: 32px;\n",
              "      padding: 0 0 0 0;\n",
              "      width: 32px;\n",
              "    }\n",
              "\n",
              "    .colab-df-convert:hover {\n",
              "      background-color: #E2EBFA;\n",
              "      box-shadow: 0px 1px 2px rgba(60, 64, 67, 0.3), 0px 1px 3px 1px rgba(60, 64, 67, 0.15);\n",
              "      fill: #174EA6;\n",
              "    }\n",
              "\n",
              "    [theme=dark] .colab-df-convert {\n",
              "      background-color: #3B4455;\n",
              "      fill: #D2E3FC;\n",
              "    }\n",
              "\n",
              "    [theme=dark] .colab-df-convert:hover {\n",
              "      background-color: #434B5C;\n",
              "      box-shadow: 0px 1px 3px 1px rgba(0, 0, 0, 0.15);\n",
              "      filter: drop-shadow(0px 1px 2px rgba(0, 0, 0, 0.3));\n",
              "      fill: #FFFFFF;\n",
              "    }\n",
              "  </style>\n",
              "\n",
              "      <script>\n",
              "        const buttonEl =\n",
              "          document.querySelector('#df-49a3543e-2d74-4894-a15c-3600a96a4057 button.colab-df-convert');\n",
              "        buttonEl.style.display =\n",
              "          google.colab.kernel.accessAllowed ? 'block' : 'none';\n",
              "\n",
              "        async function convertToInteractive(key) {\n",
              "          const element = document.querySelector('#df-49a3543e-2d74-4894-a15c-3600a96a4057');\n",
              "          const dataTable =\n",
              "            await google.colab.kernel.invokeFunction('convertToInteractive',\n",
              "                                                     [key], {});\n",
              "          if (!dataTable) return;\n",
              "\n",
              "          const docLinkHtml = 'Like what you see? Visit the ' +\n",
              "            '<a target=\"_blank\" href=https://colab.research.google.com/notebooks/data_table.ipynb>data table notebook</a>'\n",
              "            + ' to learn more about interactive tables.';\n",
              "          element.innerHTML = '';\n",
              "          dataTable['output_type'] = 'display_data';\n",
              "          await google.colab.output.renderOutput(dataTable, element);\n",
              "          const docLink = document.createElement('div');\n",
              "          docLink.innerHTML = docLinkHtml;\n",
              "          element.appendChild(docLink);\n",
              "        }\n",
              "      </script>\n",
              "    </div>\n",
              "  </div>\n",
              "  "
            ]
          },
          "metadata": {},
          "execution_count": 118
        }
      ]
    },
    {
      "cell_type": "code",
      "source": [
        "#Forma rápida\n",
        "df_rains_2 = pd.read_csv('/content/drive/MyDrive/para borrar/Copia de pune_1965_to_2002.csv', index_col = 'Year')\n",
        "df_rains_2.head()"
      ],
      "metadata": {
        "id": "4i-yuqez-Hbs",
        "outputId": "b3e0113d-d3f8-419b-d6da-5540410fa678",
        "colab": {
          "base_uri": "https://localhost:8080/",
          "height": 237
        }
      },
      "execution_count": 3,
      "outputs": [
        {
          "output_type": "execute_result",
          "data": {
            "text/plain": [
              "        Jan    Feb    Mar     Apr     May      Jun      Jul      Aug      Sep  \\\n",
              "Year                                                                            \n",
              "1965  0.029  0.069  0.000  21.667  17.859  102.111  606.071  402.521   69.511   \n",
              "1966  0.905  0.000  0.000   2.981  63.008   94.088  481.942   59.386  150.624   \n",
              "1967  0.248  3.390  1.320  13.482  11.116  251.314  780.006  181.069  183.757   \n",
              "1968  0.318  3.035  1.704  23.307   7.441  179.872  379.354  171.979  219.884   \n",
              "1969  0.248  2.524  0.334   4.569   6.213  393.682  678.354  397.335  205.413   \n",
              "\n",
              "         Oct     Nov     Dec  \n",
              "Year                          \n",
              "1965   5.249  16.232  22.075  \n",
              "1966   1.308  41.214   4.132  \n",
              "1967  50.404   8.393  37.685  \n",
              "1968  73.997  23.326   2.020  \n",
              "1969  24.014  24.385   1.951  "
            ],
            "text/html": [
              "\n",
              "  <div id=\"df-70f975b6-44e4-4e23-bf68-3dab1d31402e\">\n",
              "    <div class=\"colab-df-container\">\n",
              "      <div>\n",
              "<style scoped>\n",
              "    .dataframe tbody tr th:only-of-type {\n",
              "        vertical-align: middle;\n",
              "    }\n",
              "\n",
              "    .dataframe tbody tr th {\n",
              "        vertical-align: top;\n",
              "    }\n",
              "\n",
              "    .dataframe thead th {\n",
              "        text-align: right;\n",
              "    }\n",
              "</style>\n",
              "<table border=\"1\" class=\"dataframe\">\n",
              "  <thead>\n",
              "    <tr style=\"text-align: right;\">\n",
              "      <th></th>\n",
              "      <th>Jan</th>\n",
              "      <th>Feb</th>\n",
              "      <th>Mar</th>\n",
              "      <th>Apr</th>\n",
              "      <th>May</th>\n",
              "      <th>Jun</th>\n",
              "      <th>Jul</th>\n",
              "      <th>Aug</th>\n",
              "      <th>Sep</th>\n",
              "      <th>Oct</th>\n",
              "      <th>Nov</th>\n",
              "      <th>Dec</th>\n",
              "    </tr>\n",
              "    <tr>\n",
              "      <th>Year</th>\n",
              "      <th></th>\n",
              "      <th></th>\n",
              "      <th></th>\n",
              "      <th></th>\n",
              "      <th></th>\n",
              "      <th></th>\n",
              "      <th></th>\n",
              "      <th></th>\n",
              "      <th></th>\n",
              "      <th></th>\n",
              "      <th></th>\n",
              "      <th></th>\n",
              "    </tr>\n",
              "  </thead>\n",
              "  <tbody>\n",
              "    <tr>\n",
              "      <th>1965</th>\n",
              "      <td>0.029</td>\n",
              "      <td>0.069</td>\n",
              "      <td>0.000</td>\n",
              "      <td>21.667</td>\n",
              "      <td>17.859</td>\n",
              "      <td>102.111</td>\n",
              "      <td>606.071</td>\n",
              "      <td>402.521</td>\n",
              "      <td>69.511</td>\n",
              "      <td>5.249</td>\n",
              "      <td>16.232</td>\n",
              "      <td>22.075</td>\n",
              "    </tr>\n",
              "    <tr>\n",
              "      <th>1966</th>\n",
              "      <td>0.905</td>\n",
              "      <td>0.000</td>\n",
              "      <td>0.000</td>\n",
              "      <td>2.981</td>\n",
              "      <td>63.008</td>\n",
              "      <td>94.088</td>\n",
              "      <td>481.942</td>\n",
              "      <td>59.386</td>\n",
              "      <td>150.624</td>\n",
              "      <td>1.308</td>\n",
              "      <td>41.214</td>\n",
              "      <td>4.132</td>\n",
              "    </tr>\n",
              "    <tr>\n",
              "      <th>1967</th>\n",
              "      <td>0.248</td>\n",
              "      <td>3.390</td>\n",
              "      <td>1.320</td>\n",
              "      <td>13.482</td>\n",
              "      <td>11.116</td>\n",
              "      <td>251.314</td>\n",
              "      <td>780.006</td>\n",
              "      <td>181.069</td>\n",
              "      <td>183.757</td>\n",
              "      <td>50.404</td>\n",
              "      <td>8.393</td>\n",
              "      <td>37.685</td>\n",
              "    </tr>\n",
              "    <tr>\n",
              "      <th>1968</th>\n",
              "      <td>0.318</td>\n",
              "      <td>3.035</td>\n",
              "      <td>1.704</td>\n",
              "      <td>23.307</td>\n",
              "      <td>7.441</td>\n",
              "      <td>179.872</td>\n",
              "      <td>379.354</td>\n",
              "      <td>171.979</td>\n",
              "      <td>219.884</td>\n",
              "      <td>73.997</td>\n",
              "      <td>23.326</td>\n",
              "      <td>2.020</td>\n",
              "    </tr>\n",
              "    <tr>\n",
              "      <th>1969</th>\n",
              "      <td>0.248</td>\n",
              "      <td>2.524</td>\n",
              "      <td>0.334</td>\n",
              "      <td>4.569</td>\n",
              "      <td>6.213</td>\n",
              "      <td>393.682</td>\n",
              "      <td>678.354</td>\n",
              "      <td>397.335</td>\n",
              "      <td>205.413</td>\n",
              "      <td>24.014</td>\n",
              "      <td>24.385</td>\n",
              "      <td>1.951</td>\n",
              "    </tr>\n",
              "  </tbody>\n",
              "</table>\n",
              "</div>\n",
              "      <button class=\"colab-df-convert\" onclick=\"convertToInteractive('df-70f975b6-44e4-4e23-bf68-3dab1d31402e')\"\n",
              "              title=\"Convert this dataframe to an interactive table.\"\n",
              "              style=\"display:none;\">\n",
              "        \n",
              "  <svg xmlns=\"http://www.w3.org/2000/svg\" height=\"24px\"viewBox=\"0 0 24 24\"\n",
              "       width=\"24px\">\n",
              "    <path d=\"M0 0h24v24H0V0z\" fill=\"none\"/>\n",
              "    <path d=\"M18.56 5.44l.94 2.06.94-2.06 2.06-.94-2.06-.94-.94-2.06-.94 2.06-2.06.94zm-11 1L8.5 8.5l.94-2.06 2.06-.94-2.06-.94L8.5 2.5l-.94 2.06-2.06.94zm10 10l.94 2.06.94-2.06 2.06-.94-2.06-.94-.94-2.06-.94 2.06-2.06.94z\"/><path d=\"M17.41 7.96l-1.37-1.37c-.4-.4-.92-.59-1.43-.59-.52 0-1.04.2-1.43.59L10.3 9.45l-7.72 7.72c-.78.78-.78 2.05 0 2.83L4 21.41c.39.39.9.59 1.41.59.51 0 1.02-.2 1.41-.59l7.78-7.78 2.81-2.81c.8-.78.8-2.07 0-2.86zM5.41 20L4 18.59l7.72-7.72 1.47 1.35L5.41 20z\"/>\n",
              "  </svg>\n",
              "      </button>\n",
              "      \n",
              "  <style>\n",
              "    .colab-df-container {\n",
              "      display:flex;\n",
              "      flex-wrap:wrap;\n",
              "      gap: 12px;\n",
              "    }\n",
              "\n",
              "    .colab-df-convert {\n",
              "      background-color: #E8F0FE;\n",
              "      border: none;\n",
              "      border-radius: 50%;\n",
              "      cursor: pointer;\n",
              "      display: none;\n",
              "      fill: #1967D2;\n",
              "      height: 32px;\n",
              "      padding: 0 0 0 0;\n",
              "      width: 32px;\n",
              "    }\n",
              "\n",
              "    .colab-df-convert:hover {\n",
              "      background-color: #E2EBFA;\n",
              "      box-shadow: 0px 1px 2px rgba(60, 64, 67, 0.3), 0px 1px 3px 1px rgba(60, 64, 67, 0.15);\n",
              "      fill: #174EA6;\n",
              "    }\n",
              "\n",
              "    [theme=dark] .colab-df-convert {\n",
              "      background-color: #3B4455;\n",
              "      fill: #D2E3FC;\n",
              "    }\n",
              "\n",
              "    [theme=dark] .colab-df-convert:hover {\n",
              "      background-color: #434B5C;\n",
              "      box-shadow: 0px 1px 3px 1px rgba(0, 0, 0, 0.15);\n",
              "      filter: drop-shadow(0px 1px 2px rgba(0, 0, 0, 0.3));\n",
              "      fill: #FFFFFF;\n",
              "    }\n",
              "  </style>\n",
              "\n",
              "      <script>\n",
              "        const buttonEl =\n",
              "          document.querySelector('#df-70f975b6-44e4-4e23-bf68-3dab1d31402e button.colab-df-convert');\n",
              "        buttonEl.style.display =\n",
              "          google.colab.kernel.accessAllowed ? 'block' : 'none';\n",
              "\n",
              "        async function convertToInteractive(key) {\n",
              "          const element = document.querySelector('#df-70f975b6-44e4-4e23-bf68-3dab1d31402e');\n",
              "          const dataTable =\n",
              "            await google.colab.kernel.invokeFunction('convertToInteractive',\n",
              "                                                     [key], {});\n",
              "          if (!dataTable) return;\n",
              "\n",
              "          const docLinkHtml = 'Like what you see? Visit the ' +\n",
              "            '<a target=\"_blank\" href=https://colab.research.google.com/notebooks/data_table.ipynb>data table notebook</a>'\n",
              "            + ' to learn more about interactive tables.';\n",
              "          element.innerHTML = '';\n",
              "          dataTable['output_type'] = 'display_data';\n",
              "          await google.colab.output.renderOutput(dataTable, element);\n",
              "          const docLink = document.createElement('div');\n",
              "          docLink.innerHTML = docLinkHtml;\n",
              "          element.appendChild(docLink);\n",
              "        }\n",
              "      </script>\n",
              "    </div>\n",
              "  </div>\n",
              "  "
            ]
          },
          "metadata": {},
          "execution_count": 3
        }
      ]
    },
    {
      "cell_type": "code",
      "source": [
        "#sum rains\n",
        "\n",
        "df_rains_2.sum()"
      ],
      "metadata": {
        "colab": {
          "base_uri": "https://localhost:8080/"
        },
        "id": "jLWLlzS1GLlF",
        "outputId": "41e81c98-1d9d-436f-d970-6034349948a1"
      },
      "execution_count": null,
      "outputs": [
        {
          "output_type": "execute_result",
          "data": {
            "text/plain": [
              "Jan       11.186\n",
              "Feb       41.843\n",
              "Mar       63.733\n",
              "Apr      470.487\n",
              "May      952.272\n",
              "Jun    12809.663\n",
              "Jul    16340.395\n",
              "Aug    10529.357\n",
              "Sep     7642.245\n",
              "Oct     2783.320\n",
              "Nov      958.492\n",
              "Dec      230.646\n",
              "dtype: float64"
            ]
          },
          "metadata": {},
          "execution_count": 119
        }
      ]
    },
    {
      "cell_type": "code",
      "source": [
        "df_rains_2.sum(axis  ='columns')"
      ],
      "metadata": {
        "colab": {
          "base_uri": "https://localhost:8080/"
        },
        "id": "Qj6PgP3rGjII",
        "outputId": "4ff33b27-213e-452f-a522-5bc0e2c29370"
      },
      "execution_count": null,
      "outputs": [
        {
          "output_type": "execute_result",
          "data": {
            "text/plain": [
              "1965    1263.394\n",
              "1966     899.588\n",
              "1967    1522.184\n",
              "1968    1086.237\n",
              "1969    1739.022\n",
              "1970    1273.507\n",
              "1971    1176.612\n",
              "1972     710.475\n",
              "1973    1570.073\n",
              "1974    1425.876\n",
              "1975    1777.838\n",
              "1976    1941.167\n",
              "1977    1202.154\n",
              "1978    1168.583\n",
              "1979    1769.187\n",
              "1980    1268.185\n",
              "1981    1562.761\n",
              "1982     943.087\n",
              "1983    1616.948\n",
              "1984    1538.961\n",
              "1985    1214.852\n",
              "1986    1267.969\n",
              "1987    1197.999\n",
              "1988    1822.649\n",
              "1989    1400.024\n",
              "1990    1766.294\n",
              "1991    1497.256\n",
              "1992    1323.883\n",
              "1993    1210.252\n",
              "1994    1987.689\n",
              "1995    1209.068\n",
              "1996    1631.331\n",
              "1997    1844.840\n",
              "1998    1603.243\n",
              "1999    1235.683\n",
              "2000    1094.062\n",
              "2001    1045.825\n",
              "2002    1024.881\n",
              "dtype: float64"
            ]
          },
          "metadata": {},
          "execution_count": 120
        }
      ]
    },
    {
      "cell_type": "code",
      "source": [
        "df_rains_2.mean()"
      ],
      "metadata": {
        "colab": {
          "base_uri": "https://localhost:8080/"
        },
        "id": "sYqWJ7BdGrql",
        "outputId": "be674584-55c2-41c5-b9a6-2412b1ff0631"
      },
      "execution_count": null,
      "outputs": [
        {
          "output_type": "execute_result",
          "data": {
            "text/plain": [
              "Jan      0.294368\n",
              "Feb      1.101132\n",
              "Mar      1.677184\n",
              "Apr     12.381237\n",
              "May     25.059789\n",
              "Jun    337.096395\n",
              "Jul    430.010395\n",
              "Aug    277.088342\n",
              "Sep    201.111711\n",
              "Oct     73.245263\n",
              "Nov     25.223474\n",
              "Dec      6.069632\n",
              "dtype: float64"
            ]
          },
          "metadata": {},
          "execution_count": 122
        }
      ]
    },
    {
      "cell_type": "code",
      "source": [
        "df_rains_2.mean(axis= 'columns')"
      ],
      "metadata": {
        "colab": {
          "base_uri": "https://localhost:8080/"
        },
        "id": "jcQDfpuxGv69",
        "outputId": "7527362f-5933-43e2-b3e2-c36b70c7b1f4"
      },
      "execution_count": null,
      "outputs": [
        {
          "output_type": "execute_result",
          "data": {
            "text/plain": [
              "1965    105.282833\n",
              "1966     74.965667\n",
              "1967    126.848667\n",
              "1968     90.519750\n",
              "1969    144.918500\n",
              "1970    106.125583\n",
              "1971     98.051000\n",
              "1972     59.206250\n",
              "1973    130.839417\n",
              "1974    118.823000\n",
              "1975    148.153167\n",
              "1976    161.763917\n",
              "1977    100.179500\n",
              "1978     97.381917\n",
              "1979    147.432250\n",
              "1980    105.682083\n",
              "1981    130.230083\n",
              "1982     78.590583\n",
              "1983    134.745667\n",
              "1984    128.246750\n",
              "1985    101.237667\n",
              "1986    105.664083\n",
              "1987     99.833250\n",
              "1988    151.887417\n",
              "1989    116.668667\n",
              "1990    147.191167\n",
              "1991    124.771333\n",
              "1992    110.323583\n",
              "1993    100.854333\n",
              "1994    165.640750\n",
              "1995    100.755667\n",
              "1996    135.944250\n",
              "1997    153.736667\n",
              "1998    133.603583\n",
              "1999    102.973583\n",
              "2000     91.171833\n",
              "2001     87.152083\n",
              "2002     85.406750\n",
              "dtype: float64"
            ]
          },
          "metadata": {},
          "execution_count": 123
        }
      ]
    },
    {
      "cell_type": "markdown",
      "source": [
        "##Describe"
      ],
      "metadata": {
        "id": "UAH779z0HBRF"
      }
    },
    {
      "cell_type": "code",
      "source": [
        "df_rains_2.describe()"
      ],
      "metadata": {
        "colab": {
          "base_uri": "https://localhost:8080/",
          "height": 300
        },
        "id": "7gmBmcQ4G3mV",
        "outputId": "5f7ac163-a261-4404-b804-025d8001900f"
      },
      "execution_count": null,
      "outputs": [
        {
          "output_type": "execute_result",
          "data": {
            "text/plain": [
              "             Jan        Feb        Mar        Apr        May         Jun  \\\n",
              "count  38.000000  38.000000  38.000000  38.000000  38.000000   38.000000   \n",
              "mean    0.294368   1.101132   1.677184  12.381237  25.059789  337.096395   \n",
              "std     0.640510   1.741219   2.486516  13.671071  22.451708  171.666565   \n",
              "min     0.000000   0.000000   0.000000   0.061000   0.508000   94.088000   \n",
              "25%     0.000000   0.000000   0.000000   2.291750   7.005250  226.180250   \n",
              "50%     0.008000   0.247500   0.596000   5.489500  18.144500  312.100000   \n",
              "75%     0.248000   1.948500   2.076000  19.796500  33.066000  412.568250   \n",
              "max     3.013000   8.410000   9.619000  53.266000  80.539000  773.737000   \n",
              "\n",
              "              Jul         Aug         Sep         Oct         Nov        Dec  \n",
              "count   38.000000   38.000000   38.000000   38.000000   38.000000  38.000000  \n",
              "mean   430.010395  277.088342  201.111711   73.245263   25.223474   6.069632  \n",
              "std    177.976444  132.245356  123.736320   62.936775   31.806180  11.725716  \n",
              "min     84.936000   59.386000   44.574000    1.078000    0.260000   0.000000  \n",
              "25%    322.461000  183.152750  105.936000   21.970500    3.732750   0.000000  \n",
              "50%    415.079500  243.230500  180.966500   49.830500   14.686000   0.496500  \n",
              "75%    555.284250  401.224500  242.433500  115.655750   37.006750   4.151500  \n",
              "max    780.006000  541.579000  613.522000  225.904000  122.809000  37.685000  "
            ],
            "text/html": [
              "\n",
              "  <div id=\"df-6a4639d1-1954-4209-a569-ff04c2e1f745\">\n",
              "    <div class=\"colab-df-container\">\n",
              "      <div>\n",
              "<style scoped>\n",
              "    .dataframe tbody tr th:only-of-type {\n",
              "        vertical-align: middle;\n",
              "    }\n",
              "\n",
              "    .dataframe tbody tr th {\n",
              "        vertical-align: top;\n",
              "    }\n",
              "\n",
              "    .dataframe thead th {\n",
              "        text-align: right;\n",
              "    }\n",
              "</style>\n",
              "<table border=\"1\" class=\"dataframe\">\n",
              "  <thead>\n",
              "    <tr style=\"text-align: right;\">\n",
              "      <th></th>\n",
              "      <th>Jan</th>\n",
              "      <th>Feb</th>\n",
              "      <th>Mar</th>\n",
              "      <th>Apr</th>\n",
              "      <th>May</th>\n",
              "      <th>Jun</th>\n",
              "      <th>Jul</th>\n",
              "      <th>Aug</th>\n",
              "      <th>Sep</th>\n",
              "      <th>Oct</th>\n",
              "      <th>Nov</th>\n",
              "      <th>Dec</th>\n",
              "    </tr>\n",
              "  </thead>\n",
              "  <tbody>\n",
              "    <tr>\n",
              "      <th>count</th>\n",
              "      <td>38.000000</td>\n",
              "      <td>38.000000</td>\n",
              "      <td>38.000000</td>\n",
              "      <td>38.000000</td>\n",
              "      <td>38.000000</td>\n",
              "      <td>38.000000</td>\n",
              "      <td>38.000000</td>\n",
              "      <td>38.000000</td>\n",
              "      <td>38.000000</td>\n",
              "      <td>38.000000</td>\n",
              "      <td>38.000000</td>\n",
              "      <td>38.000000</td>\n",
              "    </tr>\n",
              "    <tr>\n",
              "      <th>mean</th>\n",
              "      <td>0.294368</td>\n",
              "      <td>1.101132</td>\n",
              "      <td>1.677184</td>\n",
              "      <td>12.381237</td>\n",
              "      <td>25.059789</td>\n",
              "      <td>337.096395</td>\n",
              "      <td>430.010395</td>\n",
              "      <td>277.088342</td>\n",
              "      <td>201.111711</td>\n",
              "      <td>73.245263</td>\n",
              "      <td>25.223474</td>\n",
              "      <td>6.069632</td>\n",
              "    </tr>\n",
              "    <tr>\n",
              "      <th>std</th>\n",
              "      <td>0.640510</td>\n",
              "      <td>1.741219</td>\n",
              "      <td>2.486516</td>\n",
              "      <td>13.671071</td>\n",
              "      <td>22.451708</td>\n",
              "      <td>171.666565</td>\n",
              "      <td>177.976444</td>\n",
              "      <td>132.245356</td>\n",
              "      <td>123.736320</td>\n",
              "      <td>62.936775</td>\n",
              "      <td>31.806180</td>\n",
              "      <td>11.725716</td>\n",
              "    </tr>\n",
              "    <tr>\n",
              "      <th>min</th>\n",
              "      <td>0.000000</td>\n",
              "      <td>0.000000</td>\n",
              "      <td>0.000000</td>\n",
              "      <td>0.061000</td>\n",
              "      <td>0.508000</td>\n",
              "      <td>94.088000</td>\n",
              "      <td>84.936000</td>\n",
              "      <td>59.386000</td>\n",
              "      <td>44.574000</td>\n",
              "      <td>1.078000</td>\n",
              "      <td>0.260000</td>\n",
              "      <td>0.000000</td>\n",
              "    </tr>\n",
              "    <tr>\n",
              "      <th>25%</th>\n",
              "      <td>0.000000</td>\n",
              "      <td>0.000000</td>\n",
              "      <td>0.000000</td>\n",
              "      <td>2.291750</td>\n",
              "      <td>7.005250</td>\n",
              "      <td>226.180250</td>\n",
              "      <td>322.461000</td>\n",
              "      <td>183.152750</td>\n",
              "      <td>105.936000</td>\n",
              "      <td>21.970500</td>\n",
              "      <td>3.732750</td>\n",
              "      <td>0.000000</td>\n",
              "    </tr>\n",
              "    <tr>\n",
              "      <th>50%</th>\n",
              "      <td>0.008000</td>\n",
              "      <td>0.247500</td>\n",
              "      <td>0.596000</td>\n",
              "      <td>5.489500</td>\n",
              "      <td>18.144500</td>\n",
              "      <td>312.100000</td>\n",
              "      <td>415.079500</td>\n",
              "      <td>243.230500</td>\n",
              "      <td>180.966500</td>\n",
              "      <td>49.830500</td>\n",
              "      <td>14.686000</td>\n",
              "      <td>0.496500</td>\n",
              "    </tr>\n",
              "    <tr>\n",
              "      <th>75%</th>\n",
              "      <td>0.248000</td>\n",
              "      <td>1.948500</td>\n",
              "      <td>2.076000</td>\n",
              "      <td>19.796500</td>\n",
              "      <td>33.066000</td>\n",
              "      <td>412.568250</td>\n",
              "      <td>555.284250</td>\n",
              "      <td>401.224500</td>\n",
              "      <td>242.433500</td>\n",
              "      <td>115.655750</td>\n",
              "      <td>37.006750</td>\n",
              "      <td>4.151500</td>\n",
              "    </tr>\n",
              "    <tr>\n",
              "      <th>max</th>\n",
              "      <td>3.013000</td>\n",
              "      <td>8.410000</td>\n",
              "      <td>9.619000</td>\n",
              "      <td>53.266000</td>\n",
              "      <td>80.539000</td>\n",
              "      <td>773.737000</td>\n",
              "      <td>780.006000</td>\n",
              "      <td>541.579000</td>\n",
              "      <td>613.522000</td>\n",
              "      <td>225.904000</td>\n",
              "      <td>122.809000</td>\n",
              "      <td>37.685000</td>\n",
              "    </tr>\n",
              "  </tbody>\n",
              "</table>\n",
              "</div>\n",
              "      <button class=\"colab-df-convert\" onclick=\"convertToInteractive('df-6a4639d1-1954-4209-a569-ff04c2e1f745')\"\n",
              "              title=\"Convert this dataframe to an interactive table.\"\n",
              "              style=\"display:none;\">\n",
              "        \n",
              "  <svg xmlns=\"http://www.w3.org/2000/svg\" height=\"24px\"viewBox=\"0 0 24 24\"\n",
              "       width=\"24px\">\n",
              "    <path d=\"M0 0h24v24H0V0z\" fill=\"none\"/>\n",
              "    <path d=\"M18.56 5.44l.94 2.06.94-2.06 2.06-.94-2.06-.94-.94-2.06-.94 2.06-2.06.94zm-11 1L8.5 8.5l.94-2.06 2.06-.94-2.06-.94L8.5 2.5l-.94 2.06-2.06.94zm10 10l.94 2.06.94-2.06 2.06-.94-2.06-.94-.94-2.06-.94 2.06-2.06.94z\"/><path d=\"M17.41 7.96l-1.37-1.37c-.4-.4-.92-.59-1.43-.59-.52 0-1.04.2-1.43.59L10.3 9.45l-7.72 7.72c-.78.78-.78 2.05 0 2.83L4 21.41c.39.39.9.59 1.41.59.51 0 1.02-.2 1.41-.59l7.78-7.78 2.81-2.81c.8-.78.8-2.07 0-2.86zM5.41 20L4 18.59l7.72-7.72 1.47 1.35L5.41 20z\"/>\n",
              "  </svg>\n",
              "      </button>\n",
              "      \n",
              "  <style>\n",
              "    .colab-df-container {\n",
              "      display:flex;\n",
              "      flex-wrap:wrap;\n",
              "      gap: 12px;\n",
              "    }\n",
              "\n",
              "    .colab-df-convert {\n",
              "      background-color: #E8F0FE;\n",
              "      border: none;\n",
              "      border-radius: 50%;\n",
              "      cursor: pointer;\n",
              "      display: none;\n",
              "      fill: #1967D2;\n",
              "      height: 32px;\n",
              "      padding: 0 0 0 0;\n",
              "      width: 32px;\n",
              "    }\n",
              "\n",
              "    .colab-df-convert:hover {\n",
              "      background-color: #E2EBFA;\n",
              "      box-shadow: 0px 1px 2px rgba(60, 64, 67, 0.3), 0px 1px 3px 1px rgba(60, 64, 67, 0.15);\n",
              "      fill: #174EA6;\n",
              "    }\n",
              "\n",
              "    [theme=dark] .colab-df-convert {\n",
              "      background-color: #3B4455;\n",
              "      fill: #D2E3FC;\n",
              "    }\n",
              "\n",
              "    [theme=dark] .colab-df-convert:hover {\n",
              "      background-color: #434B5C;\n",
              "      box-shadow: 0px 1px 3px 1px rgba(0, 0, 0, 0.15);\n",
              "      filter: drop-shadow(0px 1px 2px rgba(0, 0, 0, 0.3));\n",
              "      fill: #FFFFFF;\n",
              "    }\n",
              "  </style>\n",
              "\n",
              "      <script>\n",
              "        const buttonEl =\n",
              "          document.querySelector('#df-6a4639d1-1954-4209-a569-ff04c2e1f745 button.colab-df-convert');\n",
              "        buttonEl.style.display =\n",
              "          google.colab.kernel.accessAllowed ? 'block' : 'none';\n",
              "\n",
              "        async function convertToInteractive(key) {\n",
              "          const element = document.querySelector('#df-6a4639d1-1954-4209-a569-ff04c2e1f745');\n",
              "          const dataTable =\n",
              "            await google.colab.kernel.invokeFunction('convertToInteractive',\n",
              "                                                     [key], {});\n",
              "          if (!dataTable) return;\n",
              "\n",
              "          const docLinkHtml = 'Like what you see? Visit the ' +\n",
              "            '<a target=\"_blank\" href=https://colab.research.google.com/notebooks/data_table.ipynb>data table notebook</a>'\n",
              "            + ' to learn more about interactive tables.';\n",
              "          element.innerHTML = '';\n",
              "          dataTable['output_type'] = 'display_data';\n",
              "          await google.colab.output.renderOutput(dataTable, element);\n",
              "          const docLink = document.createElement('div');\n",
              "          docLink.innerHTML = docLinkHtml;\n",
              "          element.appendChild(docLink);\n",
              "        }\n",
              "      </script>\n",
              "    </div>\n",
              "  </div>\n",
              "  "
            ]
          },
          "metadata": {},
          "execution_count": 124
        }
      ]
    },
    {
      "cell_type": "code",
      "source": [
        "#probr con trasposicion\n",
        "df_rains_2.T"
      ],
      "metadata": {
        "colab": {
          "base_uri": "https://localhost:8080/",
          "height": 455
        },
        "id": "WBhTKYnWHRaD",
        "outputId": "4f9d2371-f6df-4adc-85b5-00c7287ef5d2"
      },
      "execution_count": null,
      "outputs": [
        {
          "output_type": "execute_result",
          "data": {
            "text/plain": [
              "        1965     1966     1967     1968     1969     1970     1971     1972  \\\n",
              "Jan    0.029    0.905    0.248    0.318    0.248    0.070    0.000    0.000   \n",
              "Feb    0.069    0.000    3.390    3.035    2.524    0.000    0.000    0.029   \n",
              "Mar    0.000    0.000    1.320    1.704    0.334    0.001    0.000    0.000   \n",
              "Apr   21.667    2.981   13.482   23.307    4.569   16.218    0.812    5.982   \n",
              "May   17.859   63.008   11.116    7.441    6.213   68.036   57.691   19.101   \n",
              "Jun  102.111   94.088  251.314  179.872  393.682  300.546  297.187  132.413   \n",
              "Jul  606.071  481.942  780.006  379.354  678.354  330.502  122.195  338.484   \n",
              "Aug  402.521   59.386  181.069  171.979  397.335  283.476  372.693   68.741   \n",
              "Sep   69.511  150.624  183.757  219.884  205.413  158.640  286.056  120.415   \n",
              "Oct    5.249    1.308   50.404   73.997   24.014  115.758   39.424    1.078   \n",
              "Nov   16.232   41.214    8.393   23.326   24.385    0.260    0.554   24.089   \n",
              "Dec   22.075    4.132   37.685    2.020    1.951    0.000    0.000    0.143   \n",
              "\n",
              "        1973     1974  ...     1993     1994     1995     1996     1997  \\\n",
              "Jan    0.000    0.000  ...    0.000    0.879    0.695    0.016    1.284   \n",
              "Feb    2.969    0.000  ...    0.078    0.325    0.000    2.779    0.000   \n",
              "Mar    0.234    6.427  ...    1.211    2.415    1.770    0.087    0.747   \n",
              "Apr    3.925   16.864  ...    2.062   16.823   25.949    6.318   23.912   \n",
              "May   14.978   51.209  ...    3.248   33.378   23.964    5.134    4.664   \n",
              "Jun  304.484  148.697  ...  234.068  749.030  163.515  453.607  673.831   \n",
              "Jul  696.024  405.359  ...  450.088  707.986  501.461  558.586  422.913   \n",
              "Aug  256.932  319.651  ...  150.278  230.898  114.206  212.489  541.579   \n",
              "Sep  183.206  288.533  ...  101.928  115.509  288.262  203.642   60.477   \n",
              "Oct  101.805  188.876  ...  225.904  116.348   84.359  176.471   31.050   \n",
              "Nov    5.516    0.260  ...    6.240   14.098    4.866   12.202   65.392   \n",
              "Dec    0.000    0.000  ...   35.147    0.000    0.021    0.000   18.991   \n",
              "\n",
              "        1998     1999     2000     2001     2002  \n",
              "Jan    0.008    0.000    0.000    0.147    0.231  \n",
              "Feb    2.671    1.431    0.170    0.000    0.911  \n",
              "Mar    0.073    0.000    0.000    2.178    0.388  \n",
              "Apr    0.377    0.642    1.193    1.528   53.266  \n",
              "May   15.717   35.828   26.237    7.860   18.430  \n",
              "Jun  238.609  415.471  371.328  247.982  509.145  \n",
              "Jul  590.663  277.137  265.417  279.547   84.936  \n",
              "Aug  362.357   98.616  220.814  189.404  257.205  \n",
              "Sep  243.444  225.962  147.196  158.025   78.269  \n",
              "Oct   96.324  180.300   38.246  135.518   21.486  \n",
              "Nov   52.965    0.263   15.274   23.633    0.614  \n",
              "Dec    0.035    0.033    8.187    0.003    0.000  \n",
              "\n",
              "[12 rows x 38 columns]"
            ],
            "text/html": [
              "\n",
              "  <div id=\"df-a210240f-ca7f-41c1-84b1-0fa0470c023e\">\n",
              "    <div class=\"colab-df-container\">\n",
              "      <div>\n",
              "<style scoped>\n",
              "    .dataframe tbody tr th:only-of-type {\n",
              "        vertical-align: middle;\n",
              "    }\n",
              "\n",
              "    .dataframe tbody tr th {\n",
              "        vertical-align: top;\n",
              "    }\n",
              "\n",
              "    .dataframe thead th {\n",
              "        text-align: right;\n",
              "    }\n",
              "</style>\n",
              "<table border=\"1\" class=\"dataframe\">\n",
              "  <thead>\n",
              "    <tr style=\"text-align: right;\">\n",
              "      <th></th>\n",
              "      <th>1965</th>\n",
              "      <th>1966</th>\n",
              "      <th>1967</th>\n",
              "      <th>1968</th>\n",
              "      <th>1969</th>\n",
              "      <th>1970</th>\n",
              "      <th>1971</th>\n",
              "      <th>1972</th>\n",
              "      <th>1973</th>\n",
              "      <th>1974</th>\n",
              "      <th>...</th>\n",
              "      <th>1993</th>\n",
              "      <th>1994</th>\n",
              "      <th>1995</th>\n",
              "      <th>1996</th>\n",
              "      <th>1997</th>\n",
              "      <th>1998</th>\n",
              "      <th>1999</th>\n",
              "      <th>2000</th>\n",
              "      <th>2001</th>\n",
              "      <th>2002</th>\n",
              "    </tr>\n",
              "  </thead>\n",
              "  <tbody>\n",
              "    <tr>\n",
              "      <th>Jan</th>\n",
              "      <td>0.029</td>\n",
              "      <td>0.905</td>\n",
              "      <td>0.248</td>\n",
              "      <td>0.318</td>\n",
              "      <td>0.248</td>\n",
              "      <td>0.070</td>\n",
              "      <td>0.000</td>\n",
              "      <td>0.000</td>\n",
              "      <td>0.000</td>\n",
              "      <td>0.000</td>\n",
              "      <td>...</td>\n",
              "      <td>0.000</td>\n",
              "      <td>0.879</td>\n",
              "      <td>0.695</td>\n",
              "      <td>0.016</td>\n",
              "      <td>1.284</td>\n",
              "      <td>0.008</td>\n",
              "      <td>0.000</td>\n",
              "      <td>0.000</td>\n",
              "      <td>0.147</td>\n",
              "      <td>0.231</td>\n",
              "    </tr>\n",
              "    <tr>\n",
              "      <th>Feb</th>\n",
              "      <td>0.069</td>\n",
              "      <td>0.000</td>\n",
              "      <td>3.390</td>\n",
              "      <td>3.035</td>\n",
              "      <td>2.524</td>\n",
              "      <td>0.000</td>\n",
              "      <td>0.000</td>\n",
              "      <td>0.029</td>\n",
              "      <td>2.969</td>\n",
              "      <td>0.000</td>\n",
              "      <td>...</td>\n",
              "      <td>0.078</td>\n",
              "      <td>0.325</td>\n",
              "      <td>0.000</td>\n",
              "      <td>2.779</td>\n",
              "      <td>0.000</td>\n",
              "      <td>2.671</td>\n",
              "      <td>1.431</td>\n",
              "      <td>0.170</td>\n",
              "      <td>0.000</td>\n",
              "      <td>0.911</td>\n",
              "    </tr>\n",
              "    <tr>\n",
              "      <th>Mar</th>\n",
              "      <td>0.000</td>\n",
              "      <td>0.000</td>\n",
              "      <td>1.320</td>\n",
              "      <td>1.704</td>\n",
              "      <td>0.334</td>\n",
              "      <td>0.001</td>\n",
              "      <td>0.000</td>\n",
              "      <td>0.000</td>\n",
              "      <td>0.234</td>\n",
              "      <td>6.427</td>\n",
              "      <td>...</td>\n",
              "      <td>1.211</td>\n",
              "      <td>2.415</td>\n",
              "      <td>1.770</td>\n",
              "      <td>0.087</td>\n",
              "      <td>0.747</td>\n",
              "      <td>0.073</td>\n",
              "      <td>0.000</td>\n",
              "      <td>0.000</td>\n",
              "      <td>2.178</td>\n",
              "      <td>0.388</td>\n",
              "    </tr>\n",
              "    <tr>\n",
              "      <th>Apr</th>\n",
              "      <td>21.667</td>\n",
              "      <td>2.981</td>\n",
              "      <td>13.482</td>\n",
              "      <td>23.307</td>\n",
              "      <td>4.569</td>\n",
              "      <td>16.218</td>\n",
              "      <td>0.812</td>\n",
              "      <td>5.982</td>\n",
              "      <td>3.925</td>\n",
              "      <td>16.864</td>\n",
              "      <td>...</td>\n",
              "      <td>2.062</td>\n",
              "      <td>16.823</td>\n",
              "      <td>25.949</td>\n",
              "      <td>6.318</td>\n",
              "      <td>23.912</td>\n",
              "      <td>0.377</td>\n",
              "      <td>0.642</td>\n",
              "      <td>1.193</td>\n",
              "      <td>1.528</td>\n",
              "      <td>53.266</td>\n",
              "    </tr>\n",
              "    <tr>\n",
              "      <th>May</th>\n",
              "      <td>17.859</td>\n",
              "      <td>63.008</td>\n",
              "      <td>11.116</td>\n",
              "      <td>7.441</td>\n",
              "      <td>6.213</td>\n",
              "      <td>68.036</td>\n",
              "      <td>57.691</td>\n",
              "      <td>19.101</td>\n",
              "      <td>14.978</td>\n",
              "      <td>51.209</td>\n",
              "      <td>...</td>\n",
              "      <td>3.248</td>\n",
              "      <td>33.378</td>\n",
              "      <td>23.964</td>\n",
              "      <td>5.134</td>\n",
              "      <td>4.664</td>\n",
              "      <td>15.717</td>\n",
              "      <td>35.828</td>\n",
              "      <td>26.237</td>\n",
              "      <td>7.860</td>\n",
              "      <td>18.430</td>\n",
              "    </tr>\n",
              "    <tr>\n",
              "      <th>Jun</th>\n",
              "      <td>102.111</td>\n",
              "      <td>94.088</td>\n",
              "      <td>251.314</td>\n",
              "      <td>179.872</td>\n",
              "      <td>393.682</td>\n",
              "      <td>300.546</td>\n",
              "      <td>297.187</td>\n",
              "      <td>132.413</td>\n",
              "      <td>304.484</td>\n",
              "      <td>148.697</td>\n",
              "      <td>...</td>\n",
              "      <td>234.068</td>\n",
              "      <td>749.030</td>\n",
              "      <td>163.515</td>\n",
              "      <td>453.607</td>\n",
              "      <td>673.831</td>\n",
              "      <td>238.609</td>\n",
              "      <td>415.471</td>\n",
              "      <td>371.328</td>\n",
              "      <td>247.982</td>\n",
              "      <td>509.145</td>\n",
              "    </tr>\n",
              "    <tr>\n",
              "      <th>Jul</th>\n",
              "      <td>606.071</td>\n",
              "      <td>481.942</td>\n",
              "      <td>780.006</td>\n",
              "      <td>379.354</td>\n",
              "      <td>678.354</td>\n",
              "      <td>330.502</td>\n",
              "      <td>122.195</td>\n",
              "      <td>338.484</td>\n",
              "      <td>696.024</td>\n",
              "      <td>405.359</td>\n",
              "      <td>...</td>\n",
              "      <td>450.088</td>\n",
              "      <td>707.986</td>\n",
              "      <td>501.461</td>\n",
              "      <td>558.586</td>\n",
              "      <td>422.913</td>\n",
              "      <td>590.663</td>\n",
              "      <td>277.137</td>\n",
              "      <td>265.417</td>\n",
              "      <td>279.547</td>\n",
              "      <td>84.936</td>\n",
              "    </tr>\n",
              "    <tr>\n",
              "      <th>Aug</th>\n",
              "      <td>402.521</td>\n",
              "      <td>59.386</td>\n",
              "      <td>181.069</td>\n",
              "      <td>171.979</td>\n",
              "      <td>397.335</td>\n",
              "      <td>283.476</td>\n",
              "      <td>372.693</td>\n",
              "      <td>68.741</td>\n",
              "      <td>256.932</td>\n",
              "      <td>319.651</td>\n",
              "      <td>...</td>\n",
              "      <td>150.278</td>\n",
              "      <td>230.898</td>\n",
              "      <td>114.206</td>\n",
              "      <td>212.489</td>\n",
              "      <td>541.579</td>\n",
              "      <td>362.357</td>\n",
              "      <td>98.616</td>\n",
              "      <td>220.814</td>\n",
              "      <td>189.404</td>\n",
              "      <td>257.205</td>\n",
              "    </tr>\n",
              "    <tr>\n",
              "      <th>Sep</th>\n",
              "      <td>69.511</td>\n",
              "      <td>150.624</td>\n",
              "      <td>183.757</td>\n",
              "      <td>219.884</td>\n",
              "      <td>205.413</td>\n",
              "      <td>158.640</td>\n",
              "      <td>286.056</td>\n",
              "      <td>120.415</td>\n",
              "      <td>183.206</td>\n",
              "      <td>288.533</td>\n",
              "      <td>...</td>\n",
              "      <td>101.928</td>\n",
              "      <td>115.509</td>\n",
              "      <td>288.262</td>\n",
              "      <td>203.642</td>\n",
              "      <td>60.477</td>\n",
              "      <td>243.444</td>\n",
              "      <td>225.962</td>\n",
              "      <td>147.196</td>\n",
              "      <td>158.025</td>\n",
              "      <td>78.269</td>\n",
              "    </tr>\n",
              "    <tr>\n",
              "      <th>Oct</th>\n",
              "      <td>5.249</td>\n",
              "      <td>1.308</td>\n",
              "      <td>50.404</td>\n",
              "      <td>73.997</td>\n",
              "      <td>24.014</td>\n",
              "      <td>115.758</td>\n",
              "      <td>39.424</td>\n",
              "      <td>1.078</td>\n",
              "      <td>101.805</td>\n",
              "      <td>188.876</td>\n",
              "      <td>...</td>\n",
              "      <td>225.904</td>\n",
              "      <td>116.348</td>\n",
              "      <td>84.359</td>\n",
              "      <td>176.471</td>\n",
              "      <td>31.050</td>\n",
              "      <td>96.324</td>\n",
              "      <td>180.300</td>\n",
              "      <td>38.246</td>\n",
              "      <td>135.518</td>\n",
              "      <td>21.486</td>\n",
              "    </tr>\n",
              "    <tr>\n",
              "      <th>Nov</th>\n",
              "      <td>16.232</td>\n",
              "      <td>41.214</td>\n",
              "      <td>8.393</td>\n",
              "      <td>23.326</td>\n",
              "      <td>24.385</td>\n",
              "      <td>0.260</td>\n",
              "      <td>0.554</td>\n",
              "      <td>24.089</td>\n",
              "      <td>5.516</td>\n",
              "      <td>0.260</td>\n",
              "      <td>...</td>\n",
              "      <td>6.240</td>\n",
              "      <td>14.098</td>\n",
              "      <td>4.866</td>\n",
              "      <td>12.202</td>\n",
              "      <td>65.392</td>\n",
              "      <td>52.965</td>\n",
              "      <td>0.263</td>\n",
              "      <td>15.274</td>\n",
              "      <td>23.633</td>\n",
              "      <td>0.614</td>\n",
              "    </tr>\n",
              "    <tr>\n",
              "      <th>Dec</th>\n",
              "      <td>22.075</td>\n",
              "      <td>4.132</td>\n",
              "      <td>37.685</td>\n",
              "      <td>2.020</td>\n",
              "      <td>1.951</td>\n",
              "      <td>0.000</td>\n",
              "      <td>0.000</td>\n",
              "      <td>0.143</td>\n",
              "      <td>0.000</td>\n",
              "      <td>0.000</td>\n",
              "      <td>...</td>\n",
              "      <td>35.147</td>\n",
              "      <td>0.000</td>\n",
              "      <td>0.021</td>\n",
              "      <td>0.000</td>\n",
              "      <td>18.991</td>\n",
              "      <td>0.035</td>\n",
              "      <td>0.033</td>\n",
              "      <td>8.187</td>\n",
              "      <td>0.003</td>\n",
              "      <td>0.000</td>\n",
              "    </tr>\n",
              "  </tbody>\n",
              "</table>\n",
              "<p>12 rows × 38 columns</p>\n",
              "</div>\n",
              "      <button class=\"colab-df-convert\" onclick=\"convertToInteractive('df-a210240f-ca7f-41c1-84b1-0fa0470c023e')\"\n",
              "              title=\"Convert this dataframe to an interactive table.\"\n",
              "              style=\"display:none;\">\n",
              "        \n",
              "  <svg xmlns=\"http://www.w3.org/2000/svg\" height=\"24px\"viewBox=\"0 0 24 24\"\n",
              "       width=\"24px\">\n",
              "    <path d=\"M0 0h24v24H0V0z\" fill=\"none\"/>\n",
              "    <path d=\"M18.56 5.44l.94 2.06.94-2.06 2.06-.94-2.06-.94-.94-2.06-.94 2.06-2.06.94zm-11 1L8.5 8.5l.94-2.06 2.06-.94-2.06-.94L8.5 2.5l-.94 2.06-2.06.94zm10 10l.94 2.06.94-2.06 2.06-.94-2.06-.94-.94-2.06-.94 2.06-2.06.94z\"/><path d=\"M17.41 7.96l-1.37-1.37c-.4-.4-.92-.59-1.43-.59-.52 0-1.04.2-1.43.59L10.3 9.45l-7.72 7.72c-.78.78-.78 2.05 0 2.83L4 21.41c.39.39.9.59 1.41.59.51 0 1.02-.2 1.41-.59l7.78-7.78 2.81-2.81c.8-.78.8-2.07 0-2.86zM5.41 20L4 18.59l7.72-7.72 1.47 1.35L5.41 20z\"/>\n",
              "  </svg>\n",
              "      </button>\n",
              "      \n",
              "  <style>\n",
              "    .colab-df-container {\n",
              "      display:flex;\n",
              "      flex-wrap:wrap;\n",
              "      gap: 12px;\n",
              "    }\n",
              "\n",
              "    .colab-df-convert {\n",
              "      background-color: #E8F0FE;\n",
              "      border: none;\n",
              "      border-radius: 50%;\n",
              "      cursor: pointer;\n",
              "      display: none;\n",
              "      fill: #1967D2;\n",
              "      height: 32px;\n",
              "      padding: 0 0 0 0;\n",
              "      width: 32px;\n",
              "    }\n",
              "\n",
              "    .colab-df-convert:hover {\n",
              "      background-color: #E2EBFA;\n",
              "      box-shadow: 0px 1px 2px rgba(60, 64, 67, 0.3), 0px 1px 3px 1px rgba(60, 64, 67, 0.15);\n",
              "      fill: #174EA6;\n",
              "    }\n",
              "\n",
              "    [theme=dark] .colab-df-convert {\n",
              "      background-color: #3B4455;\n",
              "      fill: #D2E3FC;\n",
              "    }\n",
              "\n",
              "    [theme=dark] .colab-df-convert:hover {\n",
              "      background-color: #434B5C;\n",
              "      box-shadow: 0px 1px 3px 1px rgba(0, 0, 0, 0.15);\n",
              "      filter: drop-shadow(0px 1px 2px rgba(0, 0, 0, 0.3));\n",
              "      fill: #FFFFFF;\n",
              "    }\n",
              "  </style>\n",
              "\n",
              "      <script>\n",
              "        const buttonEl =\n",
              "          document.querySelector('#df-a210240f-ca7f-41c1-84b1-0fa0470c023e button.colab-df-convert');\n",
              "        buttonEl.style.display =\n",
              "          google.colab.kernel.accessAllowed ? 'block' : 'none';\n",
              "\n",
              "        async function convertToInteractive(key) {\n",
              "          const element = document.querySelector('#df-a210240f-ca7f-41c1-84b1-0fa0470c023e');\n",
              "          const dataTable =\n",
              "            await google.colab.kernel.invokeFunction('convertToInteractive',\n",
              "                                                     [key], {});\n",
              "          if (!dataTable) return;\n",
              "\n",
              "          const docLinkHtml = 'Like what you see? Visit the ' +\n",
              "            '<a target=\"_blank\" href=https://colab.research.google.com/notebooks/data_table.ipynb>data table notebook</a>'\n",
              "            + ' to learn more about interactive tables.';\n",
              "          element.innerHTML = '';\n",
              "          dataTable['output_type'] = 'display_data';\n",
              "          await google.colab.output.renderOutput(dataTable, element);\n",
              "          const docLink = document.createElement('div');\n",
              "          docLink.innerHTML = docLinkHtml;\n",
              "          element.appendChild(docLink);\n",
              "        }\n",
              "      </script>\n",
              "    </div>\n",
              "  </div>\n",
              "  "
            ]
          },
          "metadata": {},
          "execution_count": 126
        }
      ]
    },
    {
      "cell_type": "code",
      "source": [
        "df_rains_2.T.describe()"
      ],
      "metadata": {
        "colab": {
          "base_uri": "https://localhost:8080/",
          "height": 393
        },
        "id": "6F7oGksyHRZA",
        "outputId": "0a142c7b-c501-4432-facd-b4991487085c"
      },
      "execution_count": null,
      "outputs": [
        {
          "output_type": "execute_result",
          "data": {
            "text/plain": [
              "             1965        1966        1967        1968        1969        1970  \\\n",
              "count   12.000000   12.000000   12.000000   12.000000   12.000000   12.000000   \n",
              "mean   105.282833   74.965667  126.848667   90.519750  144.918500  106.125583   \n",
              "std    193.803249  136.712641  223.481438  121.542279  226.523917  130.810410   \n",
              "min      0.000000    0.000000    0.248000    0.318000    0.248000    0.000000   \n",
              "25%      3.954000    1.207250    7.142250    2.781250    2.380750    0.052750   \n",
              "50%     19.763000   22.673000   25.583500   23.316500   15.113500   42.127000   \n",
              "75%     77.661000   70.778000  181.741000  173.952250  252.480250  189.849000   \n",
              "max    606.071000  481.942000  780.006000  379.354000  678.354000  330.502000   \n",
              "\n",
              "             1971        1972        1973        1974  ...        1993  \\\n",
              "count   12.000000   12.000000   12.000000   12.000000  ...   12.000000   \n",
              "mean    98.051000   59.206250  130.839417  118.823000  ...  100.854333   \n",
              "std    139.314988  100.112325  209.317999  148.032607  ...  141.615296   \n",
              "min      0.000000    0.000000    0.000000    0.000000  ...    0.000000   \n",
              "25%      0.000000    0.114500    2.285250    0.195000  ...    1.849250   \n",
              "50%     20.118000   12.541500   10.247000   34.036500  ...   20.693500   \n",
              "75%    163.160250   81.659500  201.637500  213.790250  ...  169.184500   \n",
              "max    372.693000  338.484000  696.024000  405.359000  ...  450.088000   \n",
              "\n",
              "             1994        1995        1996        1997        1998        1999  \\\n",
              "count   12.000000   12.000000   12.000000   12.000000   12.000000   12.000000   \n",
              "mean   165.640750  100.755667  135.944250  153.736667  133.603583  102.973583   \n",
              "std    272.170311  154.009795  193.999557  243.543158  189.382612  140.375007   \n",
              "min      0.000000    0.000000    0.000000    0.000000    0.008000    0.000000   \n",
              "25%      2.031000    1.501250    2.106000    3.819000    0.301000    0.205500   \n",
              "50%     25.100500   24.956500    9.260000   27.481000   34.341000   18.629500   \n",
              "75%    144.985500  126.533250  205.853750  154.772250  239.817750  191.715500   \n",
              "max    749.030000  501.461000  558.586000  673.831000  590.663000  415.471000   \n",
              "\n",
              "             2000        2001        2002  \n",
              "count   12.000000   12.000000   12.000000  \n",
              "mean    91.171833   87.152083   85.406750  \n",
              "std    128.438675  108.012656  152.205435  \n",
              "min      0.000000    0.000000    0.000000  \n",
              "25%      0.937250    1.182750    0.557500  \n",
              "50%     20.755500   15.746500   19.958000  \n",
              "75%    165.600500  165.869750   79.935750  \n",
              "max    371.328000  279.547000  509.145000  \n",
              "\n",
              "[8 rows x 38 columns]"
            ],
            "text/html": [
              "\n",
              "  <div id=\"df-5fbfb14c-3bab-48d1-8ba7-9dfd128c82b7\">\n",
              "    <div class=\"colab-df-container\">\n",
              "      <div>\n",
              "<style scoped>\n",
              "    .dataframe tbody tr th:only-of-type {\n",
              "        vertical-align: middle;\n",
              "    }\n",
              "\n",
              "    .dataframe tbody tr th {\n",
              "        vertical-align: top;\n",
              "    }\n",
              "\n",
              "    .dataframe thead th {\n",
              "        text-align: right;\n",
              "    }\n",
              "</style>\n",
              "<table border=\"1\" class=\"dataframe\">\n",
              "  <thead>\n",
              "    <tr style=\"text-align: right;\">\n",
              "      <th></th>\n",
              "      <th>1965</th>\n",
              "      <th>1966</th>\n",
              "      <th>1967</th>\n",
              "      <th>1968</th>\n",
              "      <th>1969</th>\n",
              "      <th>1970</th>\n",
              "      <th>1971</th>\n",
              "      <th>1972</th>\n",
              "      <th>1973</th>\n",
              "      <th>1974</th>\n",
              "      <th>...</th>\n",
              "      <th>1993</th>\n",
              "      <th>1994</th>\n",
              "      <th>1995</th>\n",
              "      <th>1996</th>\n",
              "      <th>1997</th>\n",
              "      <th>1998</th>\n",
              "      <th>1999</th>\n",
              "      <th>2000</th>\n",
              "      <th>2001</th>\n",
              "      <th>2002</th>\n",
              "    </tr>\n",
              "  </thead>\n",
              "  <tbody>\n",
              "    <tr>\n",
              "      <th>count</th>\n",
              "      <td>12.000000</td>\n",
              "      <td>12.000000</td>\n",
              "      <td>12.000000</td>\n",
              "      <td>12.000000</td>\n",
              "      <td>12.000000</td>\n",
              "      <td>12.000000</td>\n",
              "      <td>12.000000</td>\n",
              "      <td>12.000000</td>\n",
              "      <td>12.000000</td>\n",
              "      <td>12.000000</td>\n",
              "      <td>...</td>\n",
              "      <td>12.000000</td>\n",
              "      <td>12.000000</td>\n",
              "      <td>12.000000</td>\n",
              "      <td>12.000000</td>\n",
              "      <td>12.000000</td>\n",
              "      <td>12.000000</td>\n",
              "      <td>12.000000</td>\n",
              "      <td>12.000000</td>\n",
              "      <td>12.000000</td>\n",
              "      <td>12.000000</td>\n",
              "    </tr>\n",
              "    <tr>\n",
              "      <th>mean</th>\n",
              "      <td>105.282833</td>\n",
              "      <td>74.965667</td>\n",
              "      <td>126.848667</td>\n",
              "      <td>90.519750</td>\n",
              "      <td>144.918500</td>\n",
              "      <td>106.125583</td>\n",
              "      <td>98.051000</td>\n",
              "      <td>59.206250</td>\n",
              "      <td>130.839417</td>\n",
              "      <td>118.823000</td>\n",
              "      <td>...</td>\n",
              "      <td>100.854333</td>\n",
              "      <td>165.640750</td>\n",
              "      <td>100.755667</td>\n",
              "      <td>135.944250</td>\n",
              "      <td>153.736667</td>\n",
              "      <td>133.603583</td>\n",
              "      <td>102.973583</td>\n",
              "      <td>91.171833</td>\n",
              "      <td>87.152083</td>\n",
              "      <td>85.406750</td>\n",
              "    </tr>\n",
              "    <tr>\n",
              "      <th>std</th>\n",
              "      <td>193.803249</td>\n",
              "      <td>136.712641</td>\n",
              "      <td>223.481438</td>\n",
              "      <td>121.542279</td>\n",
              "      <td>226.523917</td>\n",
              "      <td>130.810410</td>\n",
              "      <td>139.314988</td>\n",
              "      <td>100.112325</td>\n",
              "      <td>209.317999</td>\n",
              "      <td>148.032607</td>\n",
              "      <td>...</td>\n",
              "      <td>141.615296</td>\n",
              "      <td>272.170311</td>\n",
              "      <td>154.009795</td>\n",
              "      <td>193.999557</td>\n",
              "      <td>243.543158</td>\n",
              "      <td>189.382612</td>\n",
              "      <td>140.375007</td>\n",
              "      <td>128.438675</td>\n",
              "      <td>108.012656</td>\n",
              "      <td>152.205435</td>\n",
              "    </tr>\n",
              "    <tr>\n",
              "      <th>min</th>\n",
              "      <td>0.000000</td>\n",
              "      <td>0.000000</td>\n",
              "      <td>0.248000</td>\n",
              "      <td>0.318000</td>\n",
              "      <td>0.248000</td>\n",
              "      <td>0.000000</td>\n",
              "      <td>0.000000</td>\n",
              "      <td>0.000000</td>\n",
              "      <td>0.000000</td>\n",
              "      <td>0.000000</td>\n",
              "      <td>...</td>\n",
              "      <td>0.000000</td>\n",
              "      <td>0.000000</td>\n",
              "      <td>0.000000</td>\n",
              "      <td>0.000000</td>\n",
              "      <td>0.000000</td>\n",
              "      <td>0.008000</td>\n",
              "      <td>0.000000</td>\n",
              "      <td>0.000000</td>\n",
              "      <td>0.000000</td>\n",
              "      <td>0.000000</td>\n",
              "    </tr>\n",
              "    <tr>\n",
              "      <th>25%</th>\n",
              "      <td>3.954000</td>\n",
              "      <td>1.207250</td>\n",
              "      <td>7.142250</td>\n",
              "      <td>2.781250</td>\n",
              "      <td>2.380750</td>\n",
              "      <td>0.052750</td>\n",
              "      <td>0.000000</td>\n",
              "      <td>0.114500</td>\n",
              "      <td>2.285250</td>\n",
              "      <td>0.195000</td>\n",
              "      <td>...</td>\n",
              "      <td>1.849250</td>\n",
              "      <td>2.031000</td>\n",
              "      <td>1.501250</td>\n",
              "      <td>2.106000</td>\n",
              "      <td>3.819000</td>\n",
              "      <td>0.301000</td>\n",
              "      <td>0.205500</td>\n",
              "      <td>0.937250</td>\n",
              "      <td>1.182750</td>\n",
              "      <td>0.557500</td>\n",
              "    </tr>\n",
              "    <tr>\n",
              "      <th>50%</th>\n",
              "      <td>19.763000</td>\n",
              "      <td>22.673000</td>\n",
              "      <td>25.583500</td>\n",
              "      <td>23.316500</td>\n",
              "      <td>15.113500</td>\n",
              "      <td>42.127000</td>\n",
              "      <td>20.118000</td>\n",
              "      <td>12.541500</td>\n",
              "      <td>10.247000</td>\n",
              "      <td>34.036500</td>\n",
              "      <td>...</td>\n",
              "      <td>20.693500</td>\n",
              "      <td>25.100500</td>\n",
              "      <td>24.956500</td>\n",
              "      <td>9.260000</td>\n",
              "      <td>27.481000</td>\n",
              "      <td>34.341000</td>\n",
              "      <td>18.629500</td>\n",
              "      <td>20.755500</td>\n",
              "      <td>15.746500</td>\n",
              "      <td>19.958000</td>\n",
              "    </tr>\n",
              "    <tr>\n",
              "      <th>75%</th>\n",
              "      <td>77.661000</td>\n",
              "      <td>70.778000</td>\n",
              "      <td>181.741000</td>\n",
              "      <td>173.952250</td>\n",
              "      <td>252.480250</td>\n",
              "      <td>189.849000</td>\n",
              "      <td>163.160250</td>\n",
              "      <td>81.659500</td>\n",
              "      <td>201.637500</td>\n",
              "      <td>213.790250</td>\n",
              "      <td>...</td>\n",
              "      <td>169.184500</td>\n",
              "      <td>144.985500</td>\n",
              "      <td>126.533250</td>\n",
              "      <td>205.853750</td>\n",
              "      <td>154.772250</td>\n",
              "      <td>239.817750</td>\n",
              "      <td>191.715500</td>\n",
              "      <td>165.600500</td>\n",
              "      <td>165.869750</td>\n",
              "      <td>79.935750</td>\n",
              "    </tr>\n",
              "    <tr>\n",
              "      <th>max</th>\n",
              "      <td>606.071000</td>\n",
              "      <td>481.942000</td>\n",
              "      <td>780.006000</td>\n",
              "      <td>379.354000</td>\n",
              "      <td>678.354000</td>\n",
              "      <td>330.502000</td>\n",
              "      <td>372.693000</td>\n",
              "      <td>338.484000</td>\n",
              "      <td>696.024000</td>\n",
              "      <td>405.359000</td>\n",
              "      <td>...</td>\n",
              "      <td>450.088000</td>\n",
              "      <td>749.030000</td>\n",
              "      <td>501.461000</td>\n",
              "      <td>558.586000</td>\n",
              "      <td>673.831000</td>\n",
              "      <td>590.663000</td>\n",
              "      <td>415.471000</td>\n",
              "      <td>371.328000</td>\n",
              "      <td>279.547000</td>\n",
              "      <td>509.145000</td>\n",
              "    </tr>\n",
              "  </tbody>\n",
              "</table>\n",
              "<p>8 rows × 38 columns</p>\n",
              "</div>\n",
              "      <button class=\"colab-df-convert\" onclick=\"convertToInteractive('df-5fbfb14c-3bab-48d1-8ba7-9dfd128c82b7')\"\n",
              "              title=\"Convert this dataframe to an interactive table.\"\n",
              "              style=\"display:none;\">\n",
              "        \n",
              "  <svg xmlns=\"http://www.w3.org/2000/svg\" height=\"24px\"viewBox=\"0 0 24 24\"\n",
              "       width=\"24px\">\n",
              "    <path d=\"M0 0h24v24H0V0z\" fill=\"none\"/>\n",
              "    <path d=\"M18.56 5.44l.94 2.06.94-2.06 2.06-.94-2.06-.94-.94-2.06-.94 2.06-2.06.94zm-11 1L8.5 8.5l.94-2.06 2.06-.94-2.06-.94L8.5 2.5l-.94 2.06-2.06.94zm10 10l.94 2.06.94-2.06 2.06-.94-2.06-.94-.94-2.06-.94 2.06-2.06.94z\"/><path d=\"M17.41 7.96l-1.37-1.37c-.4-.4-.92-.59-1.43-.59-.52 0-1.04.2-1.43.59L10.3 9.45l-7.72 7.72c-.78.78-.78 2.05 0 2.83L4 21.41c.39.39.9.59 1.41.59.51 0 1.02-.2 1.41-.59l7.78-7.78 2.81-2.81c.8-.78.8-2.07 0-2.86zM5.41 20L4 18.59l7.72-7.72 1.47 1.35L5.41 20z\"/>\n",
              "  </svg>\n",
              "      </button>\n",
              "      \n",
              "  <style>\n",
              "    .colab-df-container {\n",
              "      display:flex;\n",
              "      flex-wrap:wrap;\n",
              "      gap: 12px;\n",
              "    }\n",
              "\n",
              "    .colab-df-convert {\n",
              "      background-color: #E8F0FE;\n",
              "      border: none;\n",
              "      border-radius: 50%;\n",
              "      cursor: pointer;\n",
              "      display: none;\n",
              "      fill: #1967D2;\n",
              "      height: 32px;\n",
              "      padding: 0 0 0 0;\n",
              "      width: 32px;\n",
              "    }\n",
              "\n",
              "    .colab-df-convert:hover {\n",
              "      background-color: #E2EBFA;\n",
              "      box-shadow: 0px 1px 2px rgba(60, 64, 67, 0.3), 0px 1px 3px 1px rgba(60, 64, 67, 0.15);\n",
              "      fill: #174EA6;\n",
              "    }\n",
              "\n",
              "    [theme=dark] .colab-df-convert {\n",
              "      background-color: #3B4455;\n",
              "      fill: #D2E3FC;\n",
              "    }\n",
              "\n",
              "    [theme=dark] .colab-df-convert:hover {\n",
              "      background-color: #434B5C;\n",
              "      box-shadow: 0px 1px 3px 1px rgba(0, 0, 0, 0.15);\n",
              "      filter: drop-shadow(0px 1px 2px rgba(0, 0, 0, 0.3));\n",
              "      fill: #FFFFFF;\n",
              "    }\n",
              "  </style>\n",
              "\n",
              "      <script>\n",
              "        const buttonEl =\n",
              "          document.querySelector('#df-5fbfb14c-3bab-48d1-8ba7-9dfd128c82b7 button.colab-df-convert');\n",
              "        buttonEl.style.display =\n",
              "          google.colab.kernel.accessAllowed ? 'block' : 'none';\n",
              "\n",
              "        async function convertToInteractive(key) {\n",
              "          const element = document.querySelector('#df-5fbfb14c-3bab-48d1-8ba7-9dfd128c82b7');\n",
              "          const dataTable =\n",
              "            await google.colab.kernel.invokeFunction('convertToInteractive',\n",
              "                                                     [key], {});\n",
              "          if (!dataTable) return;\n",
              "\n",
              "          const docLinkHtml = 'Like what you see? Visit the ' +\n",
              "            '<a target=\"_blank\" href=https://colab.research.google.com/notebooks/data_table.ipynb>data table notebook</a>'\n",
              "            + ' to learn more about interactive tables.';\n",
              "          element.innerHTML = '';\n",
              "          dataTable['output_type'] = 'display_data';\n",
              "          await google.colab.output.renderOutput(dataTable, element);\n",
              "          const docLink = document.createElement('div');\n",
              "          docLink.innerHTML = docLinkHtml;\n",
              "          element.appendChild(docLink);\n",
              "        }\n",
              "      </script>\n",
              "    </div>\n",
              "  </div>\n",
              "  "
            ]
          },
          "metadata": {},
          "execution_count": 127
        }
      ]
    },
    {
      "cell_type": "code",
      "source": [
        "#two decimañ\n",
        "df_rains_2.T.describe().round(2)"
      ],
      "metadata": {
        "colab": {
          "base_uri": "https://localhost:8080/",
          "height": 330
        },
        "id": "gRiVj8PcH5cd",
        "outputId": "21e3a42c-71e7-4dc7-c647-27cb75b25ce3"
      },
      "execution_count": null,
      "outputs": [
        {
          "output_type": "execute_result",
          "data": {
            "text/plain": [
              "         1965    1966    1967    1968    1969    1970    1971    1972    1973  \\\n",
              "count   12.00   12.00   12.00   12.00   12.00   12.00   12.00   12.00   12.00   \n",
              "mean   105.28   74.97  126.85   90.52  144.92  106.13   98.05   59.21  130.84   \n",
              "std    193.80  136.71  223.48  121.54  226.52  130.81  139.31  100.11  209.32   \n",
              "min      0.00    0.00    0.25    0.32    0.25    0.00    0.00    0.00    0.00   \n",
              "25%      3.95    1.21    7.14    2.78    2.38    0.05    0.00    0.11    2.29   \n",
              "50%     19.76   22.67   25.58   23.32   15.11   42.13   20.12   12.54   10.25   \n",
              "75%     77.66   70.78  181.74  173.95  252.48  189.85  163.16   81.66  201.64   \n",
              "max    606.07  481.94  780.01  379.35  678.35  330.50  372.69  338.48  696.02   \n",
              "\n",
              "         1974  ...    1993    1994    1995    1996    1997    1998    1999  \\\n",
              "count   12.00  ...   12.00   12.00   12.00   12.00   12.00   12.00   12.00   \n",
              "mean   118.82  ...  100.85  165.64  100.76  135.94  153.74  133.60  102.97   \n",
              "std    148.03  ...  141.62  272.17  154.01  194.00  243.54  189.38  140.38   \n",
              "min      0.00  ...    0.00    0.00    0.00    0.00    0.00    0.01    0.00   \n",
              "25%      0.20  ...    1.85    2.03    1.50    2.11    3.82    0.30    0.21   \n",
              "50%     34.04  ...   20.69   25.10   24.96    9.26   27.48   34.34   18.63   \n",
              "75%    213.79  ...  169.18  144.99  126.53  205.85  154.77  239.82  191.72   \n",
              "max    405.36  ...  450.09  749.03  501.46  558.59  673.83  590.66  415.47   \n",
              "\n",
              "         2000    2001    2002  \n",
              "count   12.00   12.00   12.00  \n",
              "mean    91.17   87.15   85.41  \n",
              "std    128.44  108.01  152.21  \n",
              "min      0.00    0.00    0.00  \n",
              "25%      0.94    1.18    0.56  \n",
              "50%     20.76   15.75   19.96  \n",
              "75%    165.60  165.87   79.94  \n",
              "max    371.33  279.55  509.14  \n",
              "\n",
              "[8 rows x 38 columns]"
            ],
            "text/html": [
              "\n",
              "  <div id=\"df-3d75f2fe-52bf-4724-a583-92282d728b2a\">\n",
              "    <div class=\"colab-df-container\">\n",
              "      <div>\n",
              "<style scoped>\n",
              "    .dataframe tbody tr th:only-of-type {\n",
              "        vertical-align: middle;\n",
              "    }\n",
              "\n",
              "    .dataframe tbody tr th {\n",
              "        vertical-align: top;\n",
              "    }\n",
              "\n",
              "    .dataframe thead th {\n",
              "        text-align: right;\n",
              "    }\n",
              "</style>\n",
              "<table border=\"1\" class=\"dataframe\">\n",
              "  <thead>\n",
              "    <tr style=\"text-align: right;\">\n",
              "      <th></th>\n",
              "      <th>1965</th>\n",
              "      <th>1966</th>\n",
              "      <th>1967</th>\n",
              "      <th>1968</th>\n",
              "      <th>1969</th>\n",
              "      <th>1970</th>\n",
              "      <th>1971</th>\n",
              "      <th>1972</th>\n",
              "      <th>1973</th>\n",
              "      <th>1974</th>\n",
              "      <th>...</th>\n",
              "      <th>1993</th>\n",
              "      <th>1994</th>\n",
              "      <th>1995</th>\n",
              "      <th>1996</th>\n",
              "      <th>1997</th>\n",
              "      <th>1998</th>\n",
              "      <th>1999</th>\n",
              "      <th>2000</th>\n",
              "      <th>2001</th>\n",
              "      <th>2002</th>\n",
              "    </tr>\n",
              "  </thead>\n",
              "  <tbody>\n",
              "    <tr>\n",
              "      <th>count</th>\n",
              "      <td>12.00</td>\n",
              "      <td>12.00</td>\n",
              "      <td>12.00</td>\n",
              "      <td>12.00</td>\n",
              "      <td>12.00</td>\n",
              "      <td>12.00</td>\n",
              "      <td>12.00</td>\n",
              "      <td>12.00</td>\n",
              "      <td>12.00</td>\n",
              "      <td>12.00</td>\n",
              "      <td>...</td>\n",
              "      <td>12.00</td>\n",
              "      <td>12.00</td>\n",
              "      <td>12.00</td>\n",
              "      <td>12.00</td>\n",
              "      <td>12.00</td>\n",
              "      <td>12.00</td>\n",
              "      <td>12.00</td>\n",
              "      <td>12.00</td>\n",
              "      <td>12.00</td>\n",
              "      <td>12.00</td>\n",
              "    </tr>\n",
              "    <tr>\n",
              "      <th>mean</th>\n",
              "      <td>105.28</td>\n",
              "      <td>74.97</td>\n",
              "      <td>126.85</td>\n",
              "      <td>90.52</td>\n",
              "      <td>144.92</td>\n",
              "      <td>106.13</td>\n",
              "      <td>98.05</td>\n",
              "      <td>59.21</td>\n",
              "      <td>130.84</td>\n",
              "      <td>118.82</td>\n",
              "      <td>...</td>\n",
              "      <td>100.85</td>\n",
              "      <td>165.64</td>\n",
              "      <td>100.76</td>\n",
              "      <td>135.94</td>\n",
              "      <td>153.74</td>\n",
              "      <td>133.60</td>\n",
              "      <td>102.97</td>\n",
              "      <td>91.17</td>\n",
              "      <td>87.15</td>\n",
              "      <td>85.41</td>\n",
              "    </tr>\n",
              "    <tr>\n",
              "      <th>std</th>\n",
              "      <td>193.80</td>\n",
              "      <td>136.71</td>\n",
              "      <td>223.48</td>\n",
              "      <td>121.54</td>\n",
              "      <td>226.52</td>\n",
              "      <td>130.81</td>\n",
              "      <td>139.31</td>\n",
              "      <td>100.11</td>\n",
              "      <td>209.32</td>\n",
              "      <td>148.03</td>\n",
              "      <td>...</td>\n",
              "      <td>141.62</td>\n",
              "      <td>272.17</td>\n",
              "      <td>154.01</td>\n",
              "      <td>194.00</td>\n",
              "      <td>243.54</td>\n",
              "      <td>189.38</td>\n",
              "      <td>140.38</td>\n",
              "      <td>128.44</td>\n",
              "      <td>108.01</td>\n",
              "      <td>152.21</td>\n",
              "    </tr>\n",
              "    <tr>\n",
              "      <th>min</th>\n",
              "      <td>0.00</td>\n",
              "      <td>0.00</td>\n",
              "      <td>0.25</td>\n",
              "      <td>0.32</td>\n",
              "      <td>0.25</td>\n",
              "      <td>0.00</td>\n",
              "      <td>0.00</td>\n",
              "      <td>0.00</td>\n",
              "      <td>0.00</td>\n",
              "      <td>0.00</td>\n",
              "      <td>...</td>\n",
              "      <td>0.00</td>\n",
              "      <td>0.00</td>\n",
              "      <td>0.00</td>\n",
              "      <td>0.00</td>\n",
              "      <td>0.00</td>\n",
              "      <td>0.01</td>\n",
              "      <td>0.00</td>\n",
              "      <td>0.00</td>\n",
              "      <td>0.00</td>\n",
              "      <td>0.00</td>\n",
              "    </tr>\n",
              "    <tr>\n",
              "      <th>25%</th>\n",
              "      <td>3.95</td>\n",
              "      <td>1.21</td>\n",
              "      <td>7.14</td>\n",
              "      <td>2.78</td>\n",
              "      <td>2.38</td>\n",
              "      <td>0.05</td>\n",
              "      <td>0.00</td>\n",
              "      <td>0.11</td>\n",
              "      <td>2.29</td>\n",
              "      <td>0.20</td>\n",
              "      <td>...</td>\n",
              "      <td>1.85</td>\n",
              "      <td>2.03</td>\n",
              "      <td>1.50</td>\n",
              "      <td>2.11</td>\n",
              "      <td>3.82</td>\n",
              "      <td>0.30</td>\n",
              "      <td>0.21</td>\n",
              "      <td>0.94</td>\n",
              "      <td>1.18</td>\n",
              "      <td>0.56</td>\n",
              "    </tr>\n",
              "    <tr>\n",
              "      <th>50%</th>\n",
              "      <td>19.76</td>\n",
              "      <td>22.67</td>\n",
              "      <td>25.58</td>\n",
              "      <td>23.32</td>\n",
              "      <td>15.11</td>\n",
              "      <td>42.13</td>\n",
              "      <td>20.12</td>\n",
              "      <td>12.54</td>\n",
              "      <td>10.25</td>\n",
              "      <td>34.04</td>\n",
              "      <td>...</td>\n",
              "      <td>20.69</td>\n",
              "      <td>25.10</td>\n",
              "      <td>24.96</td>\n",
              "      <td>9.26</td>\n",
              "      <td>27.48</td>\n",
              "      <td>34.34</td>\n",
              "      <td>18.63</td>\n",
              "      <td>20.76</td>\n",
              "      <td>15.75</td>\n",
              "      <td>19.96</td>\n",
              "    </tr>\n",
              "    <tr>\n",
              "      <th>75%</th>\n",
              "      <td>77.66</td>\n",
              "      <td>70.78</td>\n",
              "      <td>181.74</td>\n",
              "      <td>173.95</td>\n",
              "      <td>252.48</td>\n",
              "      <td>189.85</td>\n",
              "      <td>163.16</td>\n",
              "      <td>81.66</td>\n",
              "      <td>201.64</td>\n",
              "      <td>213.79</td>\n",
              "      <td>...</td>\n",
              "      <td>169.18</td>\n",
              "      <td>144.99</td>\n",
              "      <td>126.53</td>\n",
              "      <td>205.85</td>\n",
              "      <td>154.77</td>\n",
              "      <td>239.82</td>\n",
              "      <td>191.72</td>\n",
              "      <td>165.60</td>\n",
              "      <td>165.87</td>\n",
              "      <td>79.94</td>\n",
              "    </tr>\n",
              "    <tr>\n",
              "      <th>max</th>\n",
              "      <td>606.07</td>\n",
              "      <td>481.94</td>\n",
              "      <td>780.01</td>\n",
              "      <td>379.35</td>\n",
              "      <td>678.35</td>\n",
              "      <td>330.50</td>\n",
              "      <td>372.69</td>\n",
              "      <td>338.48</td>\n",
              "      <td>696.02</td>\n",
              "      <td>405.36</td>\n",
              "      <td>...</td>\n",
              "      <td>450.09</td>\n",
              "      <td>749.03</td>\n",
              "      <td>501.46</td>\n",
              "      <td>558.59</td>\n",
              "      <td>673.83</td>\n",
              "      <td>590.66</td>\n",
              "      <td>415.47</td>\n",
              "      <td>371.33</td>\n",
              "      <td>279.55</td>\n",
              "      <td>509.14</td>\n",
              "    </tr>\n",
              "  </tbody>\n",
              "</table>\n",
              "<p>8 rows × 38 columns</p>\n",
              "</div>\n",
              "      <button class=\"colab-df-convert\" onclick=\"convertToInteractive('df-3d75f2fe-52bf-4724-a583-92282d728b2a')\"\n",
              "              title=\"Convert this dataframe to an interactive table.\"\n",
              "              style=\"display:none;\">\n",
              "        \n",
              "  <svg xmlns=\"http://www.w3.org/2000/svg\" height=\"24px\"viewBox=\"0 0 24 24\"\n",
              "       width=\"24px\">\n",
              "    <path d=\"M0 0h24v24H0V0z\" fill=\"none\"/>\n",
              "    <path d=\"M18.56 5.44l.94 2.06.94-2.06 2.06-.94-2.06-.94-.94-2.06-.94 2.06-2.06.94zm-11 1L8.5 8.5l.94-2.06 2.06-.94-2.06-.94L8.5 2.5l-.94 2.06-2.06.94zm10 10l.94 2.06.94-2.06 2.06-.94-2.06-.94-.94-2.06-.94 2.06-2.06.94z\"/><path d=\"M17.41 7.96l-1.37-1.37c-.4-.4-.92-.59-1.43-.59-.52 0-1.04.2-1.43.59L10.3 9.45l-7.72 7.72c-.78.78-.78 2.05 0 2.83L4 21.41c.39.39.9.59 1.41.59.51 0 1.02-.2 1.41-.59l7.78-7.78 2.81-2.81c.8-.78.8-2.07 0-2.86zM5.41 20L4 18.59l7.72-7.72 1.47 1.35L5.41 20z\"/>\n",
              "  </svg>\n",
              "      </button>\n",
              "      \n",
              "  <style>\n",
              "    .colab-df-container {\n",
              "      display:flex;\n",
              "      flex-wrap:wrap;\n",
              "      gap: 12px;\n",
              "    }\n",
              "\n",
              "    .colab-df-convert {\n",
              "      background-color: #E8F0FE;\n",
              "      border: none;\n",
              "      border-radius: 50%;\n",
              "      cursor: pointer;\n",
              "      display: none;\n",
              "      fill: #1967D2;\n",
              "      height: 32px;\n",
              "      padding: 0 0 0 0;\n",
              "      width: 32px;\n",
              "    }\n",
              "\n",
              "    .colab-df-convert:hover {\n",
              "      background-color: #E2EBFA;\n",
              "      box-shadow: 0px 1px 2px rgba(60, 64, 67, 0.3), 0px 1px 3px 1px rgba(60, 64, 67, 0.15);\n",
              "      fill: #174EA6;\n",
              "    }\n",
              "\n",
              "    [theme=dark] .colab-df-convert {\n",
              "      background-color: #3B4455;\n",
              "      fill: #D2E3FC;\n",
              "    }\n",
              "\n",
              "    [theme=dark] .colab-df-convert:hover {\n",
              "      background-color: #434B5C;\n",
              "      box-shadow: 0px 1px 3px 1px rgba(0, 0, 0, 0.15);\n",
              "      filter: drop-shadow(0px 1px 2px rgba(0, 0, 0, 0.3));\n",
              "      fill: #FFFFFF;\n",
              "    }\n",
              "  </style>\n",
              "\n",
              "      <script>\n",
              "        const buttonEl =\n",
              "          document.querySelector('#df-3d75f2fe-52bf-4724-a583-92282d728b2a button.colab-df-convert');\n",
              "        buttonEl.style.display =\n",
              "          google.colab.kernel.accessAllowed ? 'block' : 'none';\n",
              "\n",
              "        async function convertToInteractive(key) {\n",
              "          const element = document.querySelector('#df-3d75f2fe-52bf-4724-a583-92282d728b2a');\n",
              "          const dataTable =\n",
              "            await google.colab.kernel.invokeFunction('convertToInteractive',\n",
              "                                                     [key], {});\n",
              "          if (!dataTable) return;\n",
              "\n",
              "          const docLinkHtml = 'Like what you see? Visit the ' +\n",
              "            '<a target=\"_blank\" href=https://colab.research.google.com/notebooks/data_table.ipynb>data table notebook</a>'\n",
              "            + ' to learn more about interactive tables.';\n",
              "          element.innerHTML = '';\n",
              "          dataTable['output_type'] = 'display_data';\n",
              "          await google.colab.output.renderOutput(dataTable, element);\n",
              "          const docLink = document.createElement('div');\n",
              "          docLink.innerHTML = docLinkHtml;\n",
              "          element.appendChild(docLink);\n",
              "        }\n",
              "      </script>\n",
              "    </div>\n",
              "  </div>\n",
              "  "
            ]
          },
          "metadata": {},
          "execution_count": 128
        }
      ]
    },
    {
      "cell_type": "code",
      "source": [
        "df_rains_2.sample(10)\n",
        "df_rains_2.tail(10)"
      ],
      "metadata": {
        "colab": {
          "base_uri": "https://localhost:8080/",
          "height": 362
        },
        "id": "ezaRGy8GIXDc",
        "outputId": "027faf53-b0a5-4845-ddc6-2e95b37fb11c"
      },
      "execution_count": null,
      "outputs": [
        {
          "output_type": "execute_result",
          "data": {
            "text/plain": [
              "        Jan    Feb    Mar     Apr     May      Jun      Jul      Aug      Sep  \\\n",
              "1988  0.000  0.000  0.000  43.570  12.862  186.431  740.613  211.781  613.522   \n",
              "1990  0.004  0.531  0.789   0.274  78.384  423.314  583.557  451.707   69.182   \n",
              "1978  0.061  4.197  4.004  44.623  52.950  403.860  192.399  239.066  139.119   \n",
              "1974  0.000  0.000  6.427  16.864  51.209  148.697  405.359  319.651  288.533   \n",
              "2002  0.231  0.911  0.388  53.266  18.430  509.145   84.936  257.205   78.269   \n",
              "1971  0.000  0.000  0.000   0.812  57.691  297.187  122.195  372.693  286.056   \n",
              "1984  0.000  0.391  5.772   4.997   0.508  367.058  621.607  138.006  229.276   \n",
              "1993  0.000  0.078  1.211   2.062   3.248  234.068  450.088  150.278  101.928   \n",
              "1981  2.257  2.121  0.445  10.817  17.193  360.788  507.155  217.037  361.165   \n",
              "2001  0.147  0.000  2.178   1.528   7.860  247.982  279.547  189.404  158.025   \n",
              "\n",
              "          Oct     Nov     Dec  \n",
              "1988   12.375   0.458   1.037  \n",
              "1990  115.349  41.888   1.315  \n",
              "1978   26.711  60.996   0.597  \n",
              "1974  188.876   0.260   0.000  \n",
              "2002   21.486   0.614   0.000  \n",
              "1971   39.424   0.554   0.000  \n",
              "1984  167.164   3.786   0.396  \n",
              "1993  225.904   6.240  35.147  \n",
              "1981   80.018   3.715   0.050  \n",
              "2001  135.518  23.633   0.003  "
            ],
            "text/html": [
              "\n",
              "  <div id=\"df-c09fa686-b298-4761-8e8d-f0252cf6a7af\">\n",
              "    <div class=\"colab-df-container\">\n",
              "      <div>\n",
              "<style scoped>\n",
              "    .dataframe tbody tr th:only-of-type {\n",
              "        vertical-align: middle;\n",
              "    }\n",
              "\n",
              "    .dataframe tbody tr th {\n",
              "        vertical-align: top;\n",
              "    }\n",
              "\n",
              "    .dataframe thead th {\n",
              "        text-align: right;\n",
              "    }\n",
              "</style>\n",
              "<table border=\"1\" class=\"dataframe\">\n",
              "  <thead>\n",
              "    <tr style=\"text-align: right;\">\n",
              "      <th></th>\n",
              "      <th>Jan</th>\n",
              "      <th>Feb</th>\n",
              "      <th>Mar</th>\n",
              "      <th>Apr</th>\n",
              "      <th>May</th>\n",
              "      <th>Jun</th>\n",
              "      <th>Jul</th>\n",
              "      <th>Aug</th>\n",
              "      <th>Sep</th>\n",
              "      <th>Oct</th>\n",
              "      <th>Nov</th>\n",
              "      <th>Dec</th>\n",
              "    </tr>\n",
              "  </thead>\n",
              "  <tbody>\n",
              "    <tr>\n",
              "      <th>1988</th>\n",
              "      <td>0.000</td>\n",
              "      <td>0.000</td>\n",
              "      <td>0.000</td>\n",
              "      <td>43.570</td>\n",
              "      <td>12.862</td>\n",
              "      <td>186.431</td>\n",
              "      <td>740.613</td>\n",
              "      <td>211.781</td>\n",
              "      <td>613.522</td>\n",
              "      <td>12.375</td>\n",
              "      <td>0.458</td>\n",
              "      <td>1.037</td>\n",
              "    </tr>\n",
              "    <tr>\n",
              "      <th>1990</th>\n",
              "      <td>0.004</td>\n",
              "      <td>0.531</td>\n",
              "      <td>0.789</td>\n",
              "      <td>0.274</td>\n",
              "      <td>78.384</td>\n",
              "      <td>423.314</td>\n",
              "      <td>583.557</td>\n",
              "      <td>451.707</td>\n",
              "      <td>69.182</td>\n",
              "      <td>115.349</td>\n",
              "      <td>41.888</td>\n",
              "      <td>1.315</td>\n",
              "    </tr>\n",
              "    <tr>\n",
              "      <th>1978</th>\n",
              "      <td>0.061</td>\n",
              "      <td>4.197</td>\n",
              "      <td>4.004</td>\n",
              "      <td>44.623</td>\n",
              "      <td>52.950</td>\n",
              "      <td>403.860</td>\n",
              "      <td>192.399</td>\n",
              "      <td>239.066</td>\n",
              "      <td>139.119</td>\n",
              "      <td>26.711</td>\n",
              "      <td>60.996</td>\n",
              "      <td>0.597</td>\n",
              "    </tr>\n",
              "    <tr>\n",
              "      <th>1974</th>\n",
              "      <td>0.000</td>\n",
              "      <td>0.000</td>\n",
              "      <td>6.427</td>\n",
              "      <td>16.864</td>\n",
              "      <td>51.209</td>\n",
              "      <td>148.697</td>\n",
              "      <td>405.359</td>\n",
              "      <td>319.651</td>\n",
              "      <td>288.533</td>\n",
              "      <td>188.876</td>\n",
              "      <td>0.260</td>\n",
              "      <td>0.000</td>\n",
              "    </tr>\n",
              "    <tr>\n",
              "      <th>2002</th>\n",
              "      <td>0.231</td>\n",
              "      <td>0.911</td>\n",
              "      <td>0.388</td>\n",
              "      <td>53.266</td>\n",
              "      <td>18.430</td>\n",
              "      <td>509.145</td>\n",
              "      <td>84.936</td>\n",
              "      <td>257.205</td>\n",
              "      <td>78.269</td>\n",
              "      <td>21.486</td>\n",
              "      <td>0.614</td>\n",
              "      <td>0.000</td>\n",
              "    </tr>\n",
              "    <tr>\n",
              "      <th>1971</th>\n",
              "      <td>0.000</td>\n",
              "      <td>0.000</td>\n",
              "      <td>0.000</td>\n",
              "      <td>0.812</td>\n",
              "      <td>57.691</td>\n",
              "      <td>297.187</td>\n",
              "      <td>122.195</td>\n",
              "      <td>372.693</td>\n",
              "      <td>286.056</td>\n",
              "      <td>39.424</td>\n",
              "      <td>0.554</td>\n",
              "      <td>0.000</td>\n",
              "    </tr>\n",
              "    <tr>\n",
              "      <th>1984</th>\n",
              "      <td>0.000</td>\n",
              "      <td>0.391</td>\n",
              "      <td>5.772</td>\n",
              "      <td>4.997</td>\n",
              "      <td>0.508</td>\n",
              "      <td>367.058</td>\n",
              "      <td>621.607</td>\n",
              "      <td>138.006</td>\n",
              "      <td>229.276</td>\n",
              "      <td>167.164</td>\n",
              "      <td>3.786</td>\n",
              "      <td>0.396</td>\n",
              "    </tr>\n",
              "    <tr>\n",
              "      <th>1993</th>\n",
              "      <td>0.000</td>\n",
              "      <td>0.078</td>\n",
              "      <td>1.211</td>\n",
              "      <td>2.062</td>\n",
              "      <td>3.248</td>\n",
              "      <td>234.068</td>\n",
              "      <td>450.088</td>\n",
              "      <td>150.278</td>\n",
              "      <td>101.928</td>\n",
              "      <td>225.904</td>\n",
              "      <td>6.240</td>\n",
              "      <td>35.147</td>\n",
              "    </tr>\n",
              "    <tr>\n",
              "      <th>1981</th>\n",
              "      <td>2.257</td>\n",
              "      <td>2.121</td>\n",
              "      <td>0.445</td>\n",
              "      <td>10.817</td>\n",
              "      <td>17.193</td>\n",
              "      <td>360.788</td>\n",
              "      <td>507.155</td>\n",
              "      <td>217.037</td>\n",
              "      <td>361.165</td>\n",
              "      <td>80.018</td>\n",
              "      <td>3.715</td>\n",
              "      <td>0.050</td>\n",
              "    </tr>\n",
              "    <tr>\n",
              "      <th>2001</th>\n",
              "      <td>0.147</td>\n",
              "      <td>0.000</td>\n",
              "      <td>2.178</td>\n",
              "      <td>1.528</td>\n",
              "      <td>7.860</td>\n",
              "      <td>247.982</td>\n",
              "      <td>279.547</td>\n",
              "      <td>189.404</td>\n",
              "      <td>158.025</td>\n",
              "      <td>135.518</td>\n",
              "      <td>23.633</td>\n",
              "      <td>0.003</td>\n",
              "    </tr>\n",
              "  </tbody>\n",
              "</table>\n",
              "</div>\n",
              "      <button class=\"colab-df-convert\" onclick=\"convertToInteractive('df-c09fa686-b298-4761-8e8d-f0252cf6a7af')\"\n",
              "              title=\"Convert this dataframe to an interactive table.\"\n",
              "              style=\"display:none;\">\n",
              "        \n",
              "  <svg xmlns=\"http://www.w3.org/2000/svg\" height=\"24px\"viewBox=\"0 0 24 24\"\n",
              "       width=\"24px\">\n",
              "    <path d=\"M0 0h24v24H0V0z\" fill=\"none\"/>\n",
              "    <path d=\"M18.56 5.44l.94 2.06.94-2.06 2.06-.94-2.06-.94-.94-2.06-.94 2.06-2.06.94zm-11 1L8.5 8.5l.94-2.06 2.06-.94-2.06-.94L8.5 2.5l-.94 2.06-2.06.94zm10 10l.94 2.06.94-2.06 2.06-.94-2.06-.94-.94-2.06-.94 2.06-2.06.94z\"/><path d=\"M17.41 7.96l-1.37-1.37c-.4-.4-.92-.59-1.43-.59-.52 0-1.04.2-1.43.59L10.3 9.45l-7.72 7.72c-.78.78-.78 2.05 0 2.83L4 21.41c.39.39.9.59 1.41.59.51 0 1.02-.2 1.41-.59l7.78-7.78 2.81-2.81c.8-.78.8-2.07 0-2.86zM5.41 20L4 18.59l7.72-7.72 1.47 1.35L5.41 20z\"/>\n",
              "  </svg>\n",
              "      </button>\n",
              "      \n",
              "  <style>\n",
              "    .colab-df-container {\n",
              "      display:flex;\n",
              "      flex-wrap:wrap;\n",
              "      gap: 12px;\n",
              "    }\n",
              "\n",
              "    .colab-df-convert {\n",
              "      background-color: #E8F0FE;\n",
              "      border: none;\n",
              "      border-radius: 50%;\n",
              "      cursor: pointer;\n",
              "      display: none;\n",
              "      fill: #1967D2;\n",
              "      height: 32px;\n",
              "      padding: 0 0 0 0;\n",
              "      width: 32px;\n",
              "    }\n",
              "\n",
              "    .colab-df-convert:hover {\n",
              "      background-color: #E2EBFA;\n",
              "      box-shadow: 0px 1px 2px rgba(60, 64, 67, 0.3), 0px 1px 3px 1px rgba(60, 64, 67, 0.15);\n",
              "      fill: #174EA6;\n",
              "    }\n",
              "\n",
              "    [theme=dark] .colab-df-convert {\n",
              "      background-color: #3B4455;\n",
              "      fill: #D2E3FC;\n",
              "    }\n",
              "\n",
              "    [theme=dark] .colab-df-convert:hover {\n",
              "      background-color: #434B5C;\n",
              "      box-shadow: 0px 1px 3px 1px rgba(0, 0, 0, 0.15);\n",
              "      filter: drop-shadow(0px 1px 2px rgba(0, 0, 0, 0.3));\n",
              "      fill: #FFFFFF;\n",
              "    }\n",
              "  </style>\n",
              "\n",
              "      <script>\n",
              "        const buttonEl =\n",
              "          document.querySelector('#df-c09fa686-b298-4761-8e8d-f0252cf6a7af button.colab-df-convert');\n",
              "        buttonEl.style.display =\n",
              "          google.colab.kernel.accessAllowed ? 'block' : 'none';\n",
              "\n",
              "        async function convertToInteractive(key) {\n",
              "          const element = document.querySelector('#df-c09fa686-b298-4761-8e8d-f0252cf6a7af');\n",
              "          const dataTable =\n",
              "            await google.colab.kernel.invokeFunction('convertToInteractive',\n",
              "                                                     [key], {});\n",
              "          if (!dataTable) return;\n",
              "\n",
              "          const docLinkHtml = 'Like what you see? Visit the ' +\n",
              "            '<a target=\"_blank\" href=https://colab.research.google.com/notebooks/data_table.ipynb>data table notebook</a>'\n",
              "            + ' to learn more about interactive tables.';\n",
              "          element.innerHTML = '';\n",
              "          dataTable['output_type'] = 'display_data';\n",
              "          await google.colab.output.renderOutput(dataTable, element);\n",
              "          const docLink = document.createElement('div');\n",
              "          docLink.innerHTML = docLinkHtml;\n",
              "          element.appendChild(docLink);\n",
              "        }\n",
              "      </script>\n",
              "    </div>\n",
              "  </div>\n",
              "  "
            ]
          },
          "metadata": {},
          "execution_count": 130
        }
      ]
    },
    {
      "cell_type": "markdown",
      "source": [
        "##STRINF\n"
      ],
      "metadata": {
        "id": "65NBc3y8KnbM"
      }
    },
    {
      "cell_type": "code",
      "source": [
        "president_file = pd.read_csv('/content/drive/MyDrive/para borrar/Copia de us_presidents 2.csv')\n",
        "president_file.head()\n"
      ],
      "metadata": {
        "colab": {
          "base_uri": "https://localhost:8080/",
          "height": 206
        },
        "id": "rFGgZ8mAJ5Yk",
        "outputId": "7e6f0155-9733-43e8-d451-e432552b1992"
      },
      "execution_count": null,
      "outputs": [
        {
          "output_type": "execute_result",
          "data": {
            "text/plain": [
              "   Unnamed: 0  S.No.           start            end          president  \\\n",
              "0           0      1  April 30, 1789  March 4, 1797  George Washington   \n",
              "1           1      2   March 4, 1797  March 4, 1801         John Adams   \n",
              "2           2      3   March 4, 1801  March 4, 1809   Thomas Jefferson   \n",
              "3           3      4   March 4, 1809  March 4, 1817      James Madison   \n",
              "4           4      5   March 4, 1817  March 4, 1825       James Monroe   \n",
              "\n",
              "                                               prior                    party  \\\n",
              "0  Commander-in-Chief  of the  Continental Army  ...       Nonpartisan   [13]   \n",
              "1           1st  Vice President of the United States               Federalist   \n",
              "2           2nd  Vice President of the United States  Democratic-  Republican   \n",
              "3  5th  United States Secretary of State   (1801–...  Democratic-  Republican   \n",
              "4  7th  United States Secretary of State   (1811–...  Democratic-  Republican   \n",
              "\n",
              "                 vice  \n",
              "0          John Adams  \n",
              "1    Thomas Jefferson  \n",
              "2          Aaron Burr  \n",
              "3      George Clinton  \n",
              "4  Daniel D. Tompkins  "
            ],
            "text/html": [
              "\n",
              "  <div id=\"df-05f809ba-f94b-455b-8394-15524ef4f29f\">\n",
              "    <div class=\"colab-df-container\">\n",
              "      <div>\n",
              "<style scoped>\n",
              "    .dataframe tbody tr th:only-of-type {\n",
              "        vertical-align: middle;\n",
              "    }\n",
              "\n",
              "    .dataframe tbody tr th {\n",
              "        vertical-align: top;\n",
              "    }\n",
              "\n",
              "    .dataframe thead th {\n",
              "        text-align: right;\n",
              "    }\n",
              "</style>\n",
              "<table border=\"1\" class=\"dataframe\">\n",
              "  <thead>\n",
              "    <tr style=\"text-align: right;\">\n",
              "      <th></th>\n",
              "      <th>Unnamed: 0</th>\n",
              "      <th>S.No.</th>\n",
              "      <th>start</th>\n",
              "      <th>end</th>\n",
              "      <th>president</th>\n",
              "      <th>prior</th>\n",
              "      <th>party</th>\n",
              "      <th>vice</th>\n",
              "    </tr>\n",
              "  </thead>\n",
              "  <tbody>\n",
              "    <tr>\n",
              "      <th>0</th>\n",
              "      <td>0</td>\n",
              "      <td>1</td>\n",
              "      <td>April 30, 1789</td>\n",
              "      <td>March 4, 1797</td>\n",
              "      <td>George Washington</td>\n",
              "      <td>Commander-in-Chief  of the  Continental Army  ...</td>\n",
              "      <td>Nonpartisan   [13]</td>\n",
              "      <td>John Adams</td>\n",
              "    </tr>\n",
              "    <tr>\n",
              "      <th>1</th>\n",
              "      <td>1</td>\n",
              "      <td>2</td>\n",
              "      <td>March 4, 1797</td>\n",
              "      <td>March 4, 1801</td>\n",
              "      <td>John Adams</td>\n",
              "      <td>1st  Vice President of the United States</td>\n",
              "      <td>Federalist</td>\n",
              "      <td>Thomas Jefferson</td>\n",
              "    </tr>\n",
              "    <tr>\n",
              "      <th>2</th>\n",
              "      <td>2</td>\n",
              "      <td>3</td>\n",
              "      <td>March 4, 1801</td>\n",
              "      <td>March 4, 1809</td>\n",
              "      <td>Thomas Jefferson</td>\n",
              "      <td>2nd  Vice President of the United States</td>\n",
              "      <td>Democratic-  Republican</td>\n",
              "      <td>Aaron Burr</td>\n",
              "    </tr>\n",
              "    <tr>\n",
              "      <th>3</th>\n",
              "      <td>3</td>\n",
              "      <td>4</td>\n",
              "      <td>March 4, 1809</td>\n",
              "      <td>March 4, 1817</td>\n",
              "      <td>James Madison</td>\n",
              "      <td>5th  United States Secretary of State   (1801–...</td>\n",
              "      <td>Democratic-  Republican</td>\n",
              "      <td>George Clinton</td>\n",
              "    </tr>\n",
              "    <tr>\n",
              "      <th>4</th>\n",
              "      <td>4</td>\n",
              "      <td>5</td>\n",
              "      <td>March 4, 1817</td>\n",
              "      <td>March 4, 1825</td>\n",
              "      <td>James Monroe</td>\n",
              "      <td>7th  United States Secretary of State   (1811–...</td>\n",
              "      <td>Democratic-  Republican</td>\n",
              "      <td>Daniel D. Tompkins</td>\n",
              "    </tr>\n",
              "  </tbody>\n",
              "</table>\n",
              "</div>\n",
              "      <button class=\"colab-df-convert\" onclick=\"convertToInteractive('df-05f809ba-f94b-455b-8394-15524ef4f29f')\"\n",
              "              title=\"Convert this dataframe to an interactive table.\"\n",
              "              style=\"display:none;\">\n",
              "        \n",
              "  <svg xmlns=\"http://www.w3.org/2000/svg\" height=\"24px\"viewBox=\"0 0 24 24\"\n",
              "       width=\"24px\">\n",
              "    <path d=\"M0 0h24v24H0V0z\" fill=\"none\"/>\n",
              "    <path d=\"M18.56 5.44l.94 2.06.94-2.06 2.06-.94-2.06-.94-.94-2.06-.94 2.06-2.06.94zm-11 1L8.5 8.5l.94-2.06 2.06-.94-2.06-.94L8.5 2.5l-.94 2.06-2.06.94zm10 10l.94 2.06.94-2.06 2.06-.94-2.06-.94-.94-2.06-.94 2.06-2.06.94z\"/><path d=\"M17.41 7.96l-1.37-1.37c-.4-.4-.92-.59-1.43-.59-.52 0-1.04.2-1.43.59L10.3 9.45l-7.72 7.72c-.78.78-.78 2.05 0 2.83L4 21.41c.39.39.9.59 1.41.59.51 0 1.02-.2 1.41-.59l7.78-7.78 2.81-2.81c.8-.78.8-2.07 0-2.86zM5.41 20L4 18.59l7.72-7.72 1.47 1.35L5.41 20z\"/>\n",
              "  </svg>\n",
              "      </button>\n",
              "      \n",
              "  <style>\n",
              "    .colab-df-container {\n",
              "      display:flex;\n",
              "      flex-wrap:wrap;\n",
              "      gap: 12px;\n",
              "    }\n",
              "\n",
              "    .colab-df-convert {\n",
              "      background-color: #E8F0FE;\n",
              "      border: none;\n",
              "      border-radius: 50%;\n",
              "      cursor: pointer;\n",
              "      display: none;\n",
              "      fill: #1967D2;\n",
              "      height: 32px;\n",
              "      padding: 0 0 0 0;\n",
              "      width: 32px;\n",
              "    }\n",
              "\n",
              "    .colab-df-convert:hover {\n",
              "      background-color: #E2EBFA;\n",
              "      box-shadow: 0px 1px 2px rgba(60, 64, 67, 0.3), 0px 1px 3px 1px rgba(60, 64, 67, 0.15);\n",
              "      fill: #174EA6;\n",
              "    }\n",
              "\n",
              "    [theme=dark] .colab-df-convert {\n",
              "      background-color: #3B4455;\n",
              "      fill: #D2E3FC;\n",
              "    }\n",
              "\n",
              "    [theme=dark] .colab-df-convert:hover {\n",
              "      background-color: #434B5C;\n",
              "      box-shadow: 0px 1px 3px 1px rgba(0, 0, 0, 0.15);\n",
              "      filter: drop-shadow(0px 1px 2px rgba(0, 0, 0, 0.3));\n",
              "      fill: #FFFFFF;\n",
              "    }\n",
              "  </style>\n",
              "\n",
              "      <script>\n",
              "        const buttonEl =\n",
              "          document.querySelector('#df-05f809ba-f94b-455b-8394-15524ef4f29f button.colab-df-convert');\n",
              "        buttonEl.style.display =\n",
              "          google.colab.kernel.accessAllowed ? 'block' : 'none';\n",
              "\n",
              "        async function convertToInteractive(key) {\n",
              "          const element = document.querySelector('#df-05f809ba-f94b-455b-8394-15524ef4f29f');\n",
              "          const dataTable =\n",
              "            await google.colab.kernel.invokeFunction('convertToInteractive',\n",
              "                                                     [key], {});\n",
              "          if (!dataTable) return;\n",
              "\n",
              "          const docLinkHtml = 'Like what you see? Visit the ' +\n",
              "            '<a target=\"_blank\" href=https://colab.research.google.com/notebooks/data_table.ipynb>data table notebook</a>'\n",
              "            + ' to learn more about interactive tables.';\n",
              "          element.innerHTML = '';\n",
              "          dataTable['output_type'] = 'display_data';\n",
              "          await google.colab.output.renderOutput(dataTable, element);\n",
              "          const docLink = document.createElement('div');\n",
              "          docLink.innerHTML = docLinkHtml;\n",
              "          element.appendChild(docLink);\n",
              "        }\n",
              "      </script>\n",
              "    </div>\n",
              "  </div>\n",
              "  "
            ]
          },
          "metadata": {},
          "execution_count": 132
        }
      ]
    },
    {
      "cell_type": "code",
      "source": [
        "president_file.info()"
      ],
      "metadata": {
        "colab": {
          "base_uri": "https://localhost:8080/"
        },
        "id": "2DQRav-0KRlk",
        "outputId": "7a19081f-e5de-4031-9c09-e30b207b038b"
      },
      "execution_count": null,
      "outputs": [
        {
          "output_type": "stream",
          "name": "stdout",
          "text": [
            "<class 'pandas.core.frame.DataFrame'>\n",
            "RangeIndex: 45 entries, 0 to 44\n",
            "Data columns (total 8 columns):\n",
            " #   Column      Non-Null Count  Dtype \n",
            "---  ------      --------------  ----- \n",
            " 0   Unnamed: 0  45 non-null     int64 \n",
            " 1   S.No.       45 non-null     int64 \n",
            " 2   start       45 non-null     object\n",
            " 3   end         44 non-null     object\n",
            " 4   president   45 non-null     object\n",
            " 5   prior       45 non-null     object\n",
            " 6   party       45 non-null     object\n",
            " 7   vice        45 non-null     object\n",
            "dtypes: int64(2), object(6)\n",
            "memory usage: 2.9+ KB\n"
          ]
        }
      ]
    },
    {
      "cell_type": "code",
      "source": [
        "president_names = pd.Series(president_file['president'])\n",
        "president_names"
      ],
      "metadata": {
        "colab": {
          "base_uri": "https://localhost:8080/"
        },
        "id": "S8LW40KcLjiG",
        "outputId": "232679bf-64aa-459e-cf1a-936e95d231e5"
      },
      "execution_count": null,
      "outputs": [
        {
          "output_type": "execute_result",
          "data": {
            "text/plain": [
              "0          George Washington\n",
              "1                 John Adams\n",
              "2           Thomas Jefferson\n",
              "3              James Madison\n",
              "4               James Monroe\n",
              "5          John Quincy Adams\n",
              "6             Andrew Jackson\n",
              "7           Martin Van Buren\n",
              "8     William Henry Harrison\n",
              "9                 John Tyler\n",
              "10             James K. Polk\n",
              "11            Zachary Taylor\n",
              "12          Millard Fillmore\n",
              "13           Franklin Pierce\n",
              "14            James Buchanan\n",
              "15           Abraham Lincoln\n",
              "16            Andrew Johnson\n",
              "17          Ulysses S. Grant\n",
              "18       Rutherford B. Hayes\n",
              "19         James A. Garfield\n",
              "20         Chester A. Arthur\n",
              "21          Grover Cleveland\n",
              "22         Benjamin Harrison\n",
              "23          Grover Cleveland\n",
              "24          William McKinley\n",
              "25        Theodore Roosevelt\n",
              "26       William Howard Taft\n",
              "27            Woodrow Wilson\n",
              "28         Warren G. Harding\n",
              "29           Calvin Coolidge\n",
              "30            Herbert Hoover\n",
              "31     Franklin D. Roosevelt\n",
              "32           Harry S. Truman\n",
              "33      Dwight D. Eisenhower\n",
              "34           John F. Kennedy\n",
              "35         Lyndon B. Johnson\n",
              "36             Richard Nixon\n",
              "37               Gerald Ford\n",
              "38              Jimmy Carter\n",
              "39             Ronald Reagan\n",
              "40         George H. W. Bush\n",
              "41              Bill Clinton\n",
              "42            George W. Bush\n",
              "43              Barack Obama\n",
              "44              Donald Trump\n",
              "Name: president, dtype: object"
            ]
          },
          "metadata": {},
          "execution_count": 164
        }
      ]
    },
    {
      "cell_type": "markdown",
      "source": [
        "https://www.w3schools.com/python/python_ref_string.asp"
      ],
      "metadata": {
        "id": "p4IIMMXqMddj"
      }
    },
    {
      "cell_type": "code",
      "source": [
        "president_names.upper()"
      ],
      "metadata": {
        "colab": {
          "base_uri": "https://localhost:8080/",
          "height": 287
        },
        "id": "1iAK7__0L48B",
        "outputId": "05d952a2-8e45-4977-c9eb-6ad8f717bfe4"
      },
      "execution_count": null,
      "outputs": [
        {
          "output_type": "error",
          "ename": "AttributeError",
          "evalue": "ignored",
          "traceback": [
            "\u001b[0;31m---------------------------------------------------------------------------\u001b[0m",
            "\u001b[0;31mAttributeError\u001b[0m                            Traceback (most recent call last)",
            "\u001b[0;32m<ipython-input-135-e5a25436644a>\u001b[0m in \u001b[0;36m<module>\u001b[0;34m()\u001b[0m\n\u001b[0;32m----> 1\u001b[0;31m \u001b[0mpresident_names\u001b[0m\u001b[0;34m.\u001b[0m\u001b[0mupper\u001b[0m\u001b[0;34m(\u001b[0m\u001b[0;34m)\u001b[0m\u001b[0;34m\u001b[0m\u001b[0;34m\u001b[0m\u001b[0m\n\u001b[0m",
            "\u001b[0;32m/usr/local/lib/python3.7/dist-packages/pandas/core/generic.py\u001b[0m in \u001b[0;36m__getattr__\u001b[0;34m(self, name)\u001b[0m\n\u001b[1;32m   5485\u001b[0m         ):\n\u001b[1;32m   5486\u001b[0m             \u001b[0;32mreturn\u001b[0m \u001b[0mself\u001b[0m\u001b[0;34m[\u001b[0m\u001b[0mname\u001b[0m\u001b[0;34m]\u001b[0m\u001b[0;34m\u001b[0m\u001b[0;34m\u001b[0m\u001b[0m\n\u001b[0;32m-> 5487\u001b[0;31m         \u001b[0;32mreturn\u001b[0m \u001b[0mobject\u001b[0m\u001b[0;34m.\u001b[0m\u001b[0m__getattribute__\u001b[0m\u001b[0;34m(\u001b[0m\u001b[0mself\u001b[0m\u001b[0;34m,\u001b[0m \u001b[0mname\u001b[0m\u001b[0;34m)\u001b[0m\u001b[0;34m\u001b[0m\u001b[0;34m\u001b[0m\u001b[0m\n\u001b[0m\u001b[1;32m   5488\u001b[0m \u001b[0;34m\u001b[0m\u001b[0m\n\u001b[1;32m   5489\u001b[0m     \u001b[0;32mdef\u001b[0m \u001b[0m__setattr__\u001b[0m\u001b[0;34m(\u001b[0m\u001b[0mself\u001b[0m\u001b[0;34m,\u001b[0m \u001b[0mname\u001b[0m\u001b[0;34m:\u001b[0m \u001b[0mstr\u001b[0m\u001b[0;34m,\u001b[0m \u001b[0mvalue\u001b[0m\u001b[0;34m)\u001b[0m \u001b[0;34m->\u001b[0m \u001b[0;32mNone\u001b[0m\u001b[0;34m:\u001b[0m\u001b[0;34m\u001b[0m\u001b[0;34m\u001b[0m\u001b[0m\n",
            "\u001b[0;31mAttributeError\u001b[0m: 'Series' object has no attribute 'upper'"
          ]
        }
      ]
    },
    {
      "cell_type": "code",
      "source": [
        "#correct way\n",
        "president_names.str.upper()\n",
        "president_names.str.lower()"
      ],
      "metadata": {
        "colab": {
          "base_uri": "https://localhost:8080/"
        },
        "id": "CDoES3IFL46z",
        "outputId": "41819796-a391-433d-9035-5c905b60947b"
      },
      "execution_count": null,
      "outputs": [
        {
          "output_type": "execute_result",
          "data": {
            "text/plain": [
              "0          GEORGE WASHINGTON\n",
              "1                 JOHN ADAMS\n",
              "2           THOMAS JEFFERSON\n",
              "3              JAMES MADISON\n",
              "4               JAMES MONROE\n",
              "5          JOHN QUINCY ADAMS\n",
              "6             ANDREW JACKSON\n",
              "7           MARTIN VAN BUREN\n",
              "8     WILLIAM HENRY HARRISON\n",
              "9                 JOHN TYLER\n",
              "10             JAMES K. POLK\n",
              "11            ZACHARY TAYLOR\n",
              "12          MILLARD FILLMORE\n",
              "13           FRANKLIN PIERCE\n",
              "14            JAMES BUCHANAN\n",
              "15           ABRAHAM LINCOLN\n",
              "16            ANDREW JOHNSON\n",
              "17          ULYSSES S. GRANT\n",
              "18       RUTHERFORD B. HAYES\n",
              "19         JAMES A. GARFIELD\n",
              "20         CHESTER A. ARTHUR\n",
              "21          GROVER CLEVELAND\n",
              "22         BENJAMIN HARRISON\n",
              "23          GROVER CLEVELAND\n",
              "24          WILLIAM MCKINLEY\n",
              "25        THEODORE ROOSEVELT\n",
              "26       WILLIAM HOWARD TAFT\n",
              "27            WOODROW WILSON\n",
              "28         WARREN G. HARDING\n",
              "29           CALVIN COOLIDGE\n",
              "30            HERBERT HOOVER\n",
              "31     FRANKLIN D. ROOSEVELT\n",
              "32           HARRY S. TRUMAN\n",
              "33      DWIGHT D. EISENHOWER\n",
              "34           JOHN F. KENNEDY\n",
              "35         LYNDON B. JOHNSON\n",
              "36             RICHARD NIXON\n",
              "37               GERALD FORD\n",
              "38              JIMMY CARTER\n",
              "39             RONALD REAGAN\n",
              "40         GEORGE H. W. BUSH\n",
              "41              BILL CLINTON\n",
              "42            GEORGE W. BUSH\n",
              "43              BARACK OBAMA\n",
              "44              DONALD TRUMP\n",
              "Name: president, dtype: object"
            ]
          },
          "metadata": {},
          "execution_count": 136
        }
      ]
    },
    {
      "cell_type": "code",
      "source": [
        "#length\n",
        "president_names.str.len()\n",
        "president_names.str.len().max()"
      ],
      "metadata": {
        "colab": {
          "base_uri": "https://localhost:8080/"
        },
        "id": "YuRf62TaOmCM",
        "outputId": "4ea15857-8f15-40eb-a9d9-ca1df665ba35"
      },
      "execution_count": null,
      "outputs": [
        {
          "output_type": "execute_result",
          "data": {
            "text/plain": [
              "22"
            ]
          },
          "metadata": {},
          "execution_count": 139
        }
      ]
    },
    {
      "cell_type": "code",
      "source": [
        "#president_names.str.startswith('J')\n",
        "president_names.str.endswith('A')"
      ],
      "metadata": {
        "colab": {
          "base_uri": "https://localhost:8080/"
        },
        "id": "5eAu1pbBO1jS",
        "outputId": "10b35f7f-f5af-4088-f02d-a1db1b958adb"
      },
      "execution_count": null,
      "outputs": [
        {
          "output_type": "execute_result",
          "data": {
            "text/plain": [
              "0     False\n",
              "1     False\n",
              "2     False\n",
              "3     False\n",
              "4     False\n",
              "5     False\n",
              "6     False\n",
              "7     False\n",
              "8     False\n",
              "9     False\n",
              "10    False\n",
              "11    False\n",
              "12    False\n",
              "13    False\n",
              "14    False\n",
              "15    False\n",
              "16    False\n",
              "17    False\n",
              "18    False\n",
              "19    False\n",
              "20    False\n",
              "21    False\n",
              "22    False\n",
              "23    False\n",
              "24    False\n",
              "25    False\n",
              "26    False\n",
              "27    False\n",
              "28    False\n",
              "29    False\n",
              "30    False\n",
              "31    False\n",
              "32    False\n",
              "33    False\n",
              "34    False\n",
              "35    False\n",
              "36    False\n",
              "37    False\n",
              "38    False\n",
              "39    False\n",
              "40    False\n",
              "41    False\n",
              "42    False\n",
              "43    False\n",
              "44    False\n",
              "Name: president, dtype: bool"
            ]
          },
          "metadata": {},
          "execution_count": 142
        }
      ]
    },
    {
      "cell_type": "code",
      "source": [
        "president_names.str.split()"
      ],
      "metadata": {
        "colab": {
          "base_uri": "https://localhost:8080/"
        },
        "id": "vI1o_rmjPmxh",
        "outputId": "8b9b94e3-0759-419c-ec82-99548c2f9153"
      },
      "execution_count": null,
      "outputs": [
        {
          "output_type": "execute_result",
          "data": {
            "text/plain": [
              "0           [George, Washington]\n",
              "1                  [John, Adams]\n",
              "2            [Thomas, Jefferson]\n",
              "3               [James, Madison]\n",
              "4                [James, Monroe]\n",
              "5          [John, Quincy, Adams]\n",
              "6              [Andrew, Jackson]\n",
              "7           [Martin, Van, Buren]\n",
              "8     [William, Henry, Harrison]\n",
              "9                  [John, Tyler]\n",
              "10             [James, K., Polk]\n",
              "11             [Zachary, Taylor]\n",
              "12           [Millard, Fillmore]\n",
              "13            [Franklin, Pierce]\n",
              "14             [James, Buchanan]\n",
              "15            [Abraham, Lincoln]\n",
              "16             [Andrew, Johnson]\n",
              "17          [Ulysses, S., Grant]\n",
              "18       [Rutherford, B., Hayes]\n",
              "19         [James, A., Garfield]\n",
              "20         [Chester, A., Arthur]\n",
              "21           [Grover, Cleveland]\n",
              "22          [Benjamin, Harrison]\n",
              "23           [Grover, Cleveland]\n",
              "24           [William, McKinley]\n",
              "25         [Theodore, Roosevelt]\n",
              "26       [William, Howard, Taft]\n",
              "27             [Woodrow, Wilson]\n",
              "28         [Warren, G., Harding]\n",
              "29            [Calvin, Coolidge]\n",
              "30             [Herbert, Hoover]\n",
              "31     [Franklin, D., Roosevelt]\n",
              "32           [Harry, S., Truman]\n",
              "33      [Dwight, D., Eisenhower]\n",
              "34           [John, F., Kennedy]\n",
              "35         [Lyndon, B., Johnson]\n",
              "36              [Richard, Nixon]\n",
              "37                [Gerald, Ford]\n",
              "38               [Jimmy, Carter]\n",
              "39              [Ronald, Reagan]\n",
              "40        [George, H., W., Bush]\n",
              "41               [Bill, Clinton]\n",
              "42            [George, W., Bush]\n",
              "43               [Barack, Obama]\n",
              "44               [Donald, Trump]\n",
              "Name: president, dtype: object"
            ]
          },
          "metadata": {},
          "execution_count": 157
        }
      ]
    },
    {
      "cell_type": "markdown",
      "source": [
        "#TIME SERIES"
      ],
      "metadata": {
        "id": "8-PtKrJuQehx"
      }
    },
    {
      "cell_type": "code",
      "source": [
        "date_pd =  pd.to_datetime('03/01/2020', dayfirst=True)\n",
        "date_pd\n",
        "#Sello detiempo"
      ],
      "metadata": {
        "colab": {
          "base_uri": "https://localhost:8080/"
        },
        "id": "Xvn8EBTPQeEq",
        "outputId": "e277eb45-7ca6-4801-996f-efab1b63ffe0"
      },
      "execution_count": null,
      "outputs": [
        {
          "output_type": "execute_result",
          "data": {
            "text/plain": [
              "Timestamp('2020-01-03 00:00:00')"
            ]
          },
          "metadata": {},
          "execution_count": 145
        }
      ]
    },
    {
      "cell_type": "code",
      "source": [
        "date_1 = pd.date_range(start= date_pd , end= pd.to_datetime('10/01/2020', dayfirst=True) )\n",
        "date_1"
      ],
      "metadata": {
        "colab": {
          "base_uri": "https://localhost:8080/"
        },
        "id": "KpFunZFcPmwU",
        "outputId": "e2c716d8-ac1c-418f-ee52-629d8a660166"
      },
      "execution_count": null,
      "outputs": [
        {
          "output_type": "execute_result",
          "data": {
            "text/plain": [
              "DatetimeIndex(['2020-01-03', '2020-01-04', '2020-01-05', '2020-01-06',\n",
              "               '2020-01-07', '2020-01-08', '2020-01-09', '2020-01-10'],\n",
              "              dtype='datetime64[ns]', freq='D')"
            ]
          },
          "metadata": {},
          "execution_count": 146
        }
      ]
    },
    {
      "cell_type": "code",
      "source": [
        "date_2 = pd.date_range(start= date_pd, periods = 8)\n",
        "date_2"
      ],
      "metadata": {
        "colab": {
          "base_uri": "https://localhost:8080/"
        },
        "id": "anGFyp3xRwPx",
        "outputId": "c64a5985-fe98-4f76-8366-12047c45f437"
      },
      "execution_count": null,
      "outputs": [
        {
          "output_type": "execute_result",
          "data": {
            "text/plain": [
              "DatetimeIndex(['2020-01-03', '2020-01-04', '2020-01-05', '2020-01-06',\n",
              "               '2020-01-07', '2020-01-08', '2020-01-09', '2020-01-10'],\n",
              "              dtype='datetime64[ns]', freq='D')"
            ]
          },
          "metadata": {},
          "execution_count": 147
        }
      ]
    },
    {
      "cell_type": "code",
      "source": [
        "date_3= pd.date_range( start= date_pd,periods=8 , freq='M')\n",
        "date_3"
      ],
      "metadata": {
        "colab": {
          "base_uri": "https://localhost:8080/"
        },
        "id": "7_fZleCqSMnx",
        "outputId": "4711fe2c-8e9a-45f9-c03c-9f7193db50bd"
      },
      "execution_count": null,
      "outputs": [
        {
          "output_type": "execute_result",
          "data": {
            "text/plain": [
              "DatetimeIndex(['2020-01-31', '2020-02-29', '2020-03-31', '2020-04-30',\n",
              "               '2020-05-31', '2020-06-30', '2020-07-31', '2020-08-31'],\n",
              "              dtype='datetime64[ns]', freq='M')"
            ]
          },
          "metadata": {},
          "execution_count": 148
        }
      ]
    },
    {
      "cell_type": "code",
      "source": [
        "start_month=date_pd.strftime('%Y-%m')\n",
        "print(start_month)"
      ],
      "metadata": {
        "colab": {
          "base_uri": "https://localhost:8080/"
        },
        "id": "E6AiZrZ5Sgz8",
        "outputId": "0f2dcb42-c575-40b7-ea42-8de8de0c93f3"
      },
      "execution_count": null,
      "outputs": [
        {
          "output_type": "stream",
          "name": "stdout",
          "text": [
            "2020-01\n"
          ]
        }
      ]
    },
    {
      "cell_type": "code",
      "source": [
        "date_4= pd.period_range(start=start_month, periods=8, freq='M')\n",
        "date_4"
      ],
      "metadata": {
        "colab": {
          "base_uri": "https://localhost:8080/"
        },
        "id": "zLt3sRp4TETB",
        "outputId": "42d9a5f1-32b2-4997-c3f5-e22e10dfe8e2"
      },
      "execution_count": null,
      "outputs": [
        {
          "output_type": "execute_result",
          "data": {
            "text/plain": [
              "PeriodIndex(['2020-01', '2020-02', '2020-03', '2020-04', '2020-05', '2020-06',\n",
              "             '2020-07', '2020-08'],\n",
              "            dtype='period[M]')"
            ]
          },
          "metadata": {},
          "execution_count": 150
        }
      ]
    },
    {
      "cell_type": "code",
      "source": [
        "date_3\n",
        "how_long = date_3[7] - date_3[0]\n",
        "print(how_long)"
      ],
      "metadata": {
        "colab": {
          "base_uri": "https://localhost:8080/"
        },
        "id": "cRQZmXnKTsh4",
        "outputId": "c4405ae6-e67c-4365-8fb5-68eec030e40a"
      },
      "execution_count": null,
      "outputs": [
        {
          "output_type": "stream",
          "name": "stdout",
          "text": [
            "213 days 00:00:00\n"
          ]
        }
      ]
    },
    {
      "cell_type": "code",
      "source": [
        "how_long = date_3[7].to_period('M') - date_3[0].to_period('M')\n",
        "print(how_long)"
      ],
      "metadata": {
        "colab": {
          "base_uri": "https://localhost:8080/"
        },
        "id": "uBMhGOd-UVsw",
        "outputId": "e55c8a9a-9d1a-4c3a-d2b4-2f0471d6ff5e"
      },
      "execution_count": null,
      "outputs": [
        {
          "output_type": "stream",
          "name": "stdout",
          "text": [
            "<7 * MonthEnds>\n"
          ]
        }
      ]
    },
    {
      "cell_type": "code",
      "source": [
        "president_file.head(3)"
      ],
      "metadata": {
        "colab": {
          "base_uri": "https://localhost:8080/",
          "height": 172
        },
        "id": "orVkKp_0Uk4C",
        "outputId": "eed38295-5de1-451a-a36e-c1ca61a5d605"
      },
      "execution_count": null,
      "outputs": [
        {
          "output_type": "execute_result",
          "data": {
            "text/plain": [
              "   Unnamed: 0  S.No.           start            end          president  \\\n",
              "0           0      1  April 30, 1789  March 4, 1797  George Washington   \n",
              "1           1      2   March 4, 1797  March 4, 1801         John Adams   \n",
              "2           2      3   March 4, 1801  March 4, 1809   Thomas Jefferson   \n",
              "\n",
              "                                               prior                    party  \\\n",
              "0  Commander-in-Chief  of the  Continental Army  ...       Nonpartisan   [13]   \n",
              "1           1st  Vice President of the United States               Federalist   \n",
              "2           2nd  Vice President of the United States  Democratic-  Republican   \n",
              "\n",
              "               vice  \n",
              "0        John Adams  \n",
              "1  Thomas Jefferson  \n",
              "2        Aaron Burr  "
            ],
            "text/html": [
              "\n",
              "  <div id=\"df-f9a5f097-7d9e-480e-9d5f-343a8d47c6cb\">\n",
              "    <div class=\"colab-df-container\">\n",
              "      <div>\n",
              "<style scoped>\n",
              "    .dataframe tbody tr th:only-of-type {\n",
              "        vertical-align: middle;\n",
              "    }\n",
              "\n",
              "    .dataframe tbody tr th {\n",
              "        vertical-align: top;\n",
              "    }\n",
              "\n",
              "    .dataframe thead th {\n",
              "        text-align: right;\n",
              "    }\n",
              "</style>\n",
              "<table border=\"1\" class=\"dataframe\">\n",
              "  <thead>\n",
              "    <tr style=\"text-align: right;\">\n",
              "      <th></th>\n",
              "      <th>Unnamed: 0</th>\n",
              "      <th>S.No.</th>\n",
              "      <th>start</th>\n",
              "      <th>end</th>\n",
              "      <th>president</th>\n",
              "      <th>prior</th>\n",
              "      <th>party</th>\n",
              "      <th>vice</th>\n",
              "    </tr>\n",
              "  </thead>\n",
              "  <tbody>\n",
              "    <tr>\n",
              "      <th>0</th>\n",
              "      <td>0</td>\n",
              "      <td>1</td>\n",
              "      <td>April 30, 1789</td>\n",
              "      <td>March 4, 1797</td>\n",
              "      <td>George Washington</td>\n",
              "      <td>Commander-in-Chief  of the  Continental Army  ...</td>\n",
              "      <td>Nonpartisan   [13]</td>\n",
              "      <td>John Adams</td>\n",
              "    </tr>\n",
              "    <tr>\n",
              "      <th>1</th>\n",
              "      <td>1</td>\n",
              "      <td>2</td>\n",
              "      <td>March 4, 1797</td>\n",
              "      <td>March 4, 1801</td>\n",
              "      <td>John Adams</td>\n",
              "      <td>1st  Vice President of the United States</td>\n",
              "      <td>Federalist</td>\n",
              "      <td>Thomas Jefferson</td>\n",
              "    </tr>\n",
              "    <tr>\n",
              "      <th>2</th>\n",
              "      <td>2</td>\n",
              "      <td>3</td>\n",
              "      <td>March 4, 1801</td>\n",
              "      <td>March 4, 1809</td>\n",
              "      <td>Thomas Jefferson</td>\n",
              "      <td>2nd  Vice President of the United States</td>\n",
              "      <td>Democratic-  Republican</td>\n",
              "      <td>Aaron Burr</td>\n",
              "    </tr>\n",
              "  </tbody>\n",
              "</table>\n",
              "</div>\n",
              "      <button class=\"colab-df-convert\" onclick=\"convertToInteractive('df-f9a5f097-7d9e-480e-9d5f-343a8d47c6cb')\"\n",
              "              title=\"Convert this dataframe to an interactive table.\"\n",
              "              style=\"display:none;\">\n",
              "        \n",
              "  <svg xmlns=\"http://www.w3.org/2000/svg\" height=\"24px\"viewBox=\"0 0 24 24\"\n",
              "       width=\"24px\">\n",
              "    <path d=\"M0 0h24v24H0V0z\" fill=\"none\"/>\n",
              "    <path d=\"M18.56 5.44l.94 2.06.94-2.06 2.06-.94-2.06-.94-.94-2.06-.94 2.06-2.06.94zm-11 1L8.5 8.5l.94-2.06 2.06-.94-2.06-.94L8.5 2.5l-.94 2.06-2.06.94zm10 10l.94 2.06.94-2.06 2.06-.94-2.06-.94-.94-2.06-.94 2.06-2.06.94z\"/><path d=\"M17.41 7.96l-1.37-1.37c-.4-.4-.92-.59-1.43-.59-.52 0-1.04.2-1.43.59L10.3 9.45l-7.72 7.72c-.78.78-.78 2.05 0 2.83L4 21.41c.39.39.9.59 1.41.59.51 0 1.02-.2 1.41-.59l7.78-7.78 2.81-2.81c.8-.78.8-2.07 0-2.86zM5.41 20L4 18.59l7.72-7.72 1.47 1.35L5.41 20z\"/>\n",
              "  </svg>\n",
              "      </button>\n",
              "      \n",
              "  <style>\n",
              "    .colab-df-container {\n",
              "      display:flex;\n",
              "      flex-wrap:wrap;\n",
              "      gap: 12px;\n",
              "    }\n",
              "\n",
              "    .colab-df-convert {\n",
              "      background-color: #E8F0FE;\n",
              "      border: none;\n",
              "      border-radius: 50%;\n",
              "      cursor: pointer;\n",
              "      display: none;\n",
              "      fill: #1967D2;\n",
              "      height: 32px;\n",
              "      padding: 0 0 0 0;\n",
              "      width: 32px;\n",
              "    }\n",
              "\n",
              "    .colab-df-convert:hover {\n",
              "      background-color: #E2EBFA;\n",
              "      box-shadow: 0px 1px 2px rgba(60, 64, 67, 0.3), 0px 1px 3px 1px rgba(60, 64, 67, 0.15);\n",
              "      fill: #174EA6;\n",
              "    }\n",
              "\n",
              "    [theme=dark] .colab-df-convert {\n",
              "      background-color: #3B4455;\n",
              "      fill: #D2E3FC;\n",
              "    }\n",
              "\n",
              "    [theme=dark] .colab-df-convert:hover {\n",
              "      background-color: #434B5C;\n",
              "      box-shadow: 0px 1px 3px 1px rgba(0, 0, 0, 0.15);\n",
              "      filter: drop-shadow(0px 1px 2px rgba(0, 0, 0, 0.3));\n",
              "      fill: #FFFFFF;\n",
              "    }\n",
              "  </style>\n",
              "\n",
              "      <script>\n",
              "        const buttonEl =\n",
              "          document.querySelector('#df-f9a5f097-7d9e-480e-9d5f-343a8d47c6cb button.colab-df-convert');\n",
              "        buttonEl.style.display =\n",
              "          google.colab.kernel.accessAllowed ? 'block' : 'none';\n",
              "\n",
              "        async function convertToInteractive(key) {\n",
              "          const element = document.querySelector('#df-f9a5f097-7d9e-480e-9d5f-343a8d47c6cb');\n",
              "          const dataTable =\n",
              "            await google.colab.kernel.invokeFunction('convertToInteractive',\n",
              "                                                     [key], {});\n",
              "          if (!dataTable) return;\n",
              "\n",
              "          const docLinkHtml = 'Like what you see? Visit the ' +\n",
              "            '<a target=\"_blank\" href=https://colab.research.google.com/notebooks/data_table.ipynb>data table notebook</a>'\n",
              "            + ' to learn more about interactive tables.';\n",
              "          element.innerHTML = '';\n",
              "          dataTable['output_type'] = 'display_data';\n",
              "          await google.colab.output.renderOutput(dataTable, element);\n",
              "          const docLink = document.createElement('div');\n",
              "          docLink.innerHTML = docLinkHtml;\n",
              "          element.appendChild(docLink);\n",
              "        }\n",
              "      </script>\n",
              "    </div>\n",
              "  </div>\n",
              "  "
            ]
          },
          "metadata": {},
          "execution_count": 153
        }
      ]
    },
    {
      "cell_type": "code",
      "source": [
        "dates_president_start = president_file['start']\n",
        "print(dates_president_start)\n",
        "print(type(dates_president_start))"
      ],
      "metadata": {
        "colab": {
          "base_uri": "https://localhost:8080/"
        },
        "id": "fBUqt4PrUqFQ",
        "outputId": "eb57a6dc-303f-434c-8b4c-b56d80b9ef44"
      },
      "execution_count": null,
      "outputs": [
        {
          "output_type": "stream",
          "name": "stdout",
          "text": [
            "0         April 30, 1789\n",
            "1          March 4, 1797\n",
            "2          March 4, 1801\n",
            "3          March 4, 1809\n",
            "4          March 4, 1817\n",
            "5          March 4, 1825\n",
            "6          March 4, 1829\n",
            "7          March 4, 1837\n",
            "8          March 4, 1841\n",
            "9          April 4, 1841\n",
            "10         March 4, 1845\n",
            "11         March 4, 1849\n",
            "12          July 9, 1850\n",
            "13         March 4, 1853\n",
            "14         March 4, 1857\n",
            "15         March 4, 1861\n",
            "16        April 15, 1865\n",
            "17         March 4, 1869\n",
            "18         March 4, 1877\n",
            "19         March 4, 1881\n",
            "20    September 19, 1881\n",
            "21         March 4, 1885\n",
            "22         March 4, 1889\n",
            "23         March 4, 1893\n",
            "24         March 4, 1897\n",
            "25    September 14, 1901\n",
            "26         March 4, 1909\n",
            "27         March 4, 1913\n",
            "28         March 4, 1921\n",
            "29        August 2, 1923\n",
            "30         March 4, 1929\n",
            "31         March 4, 1933\n",
            "32        April 12, 1945\n",
            "33      January 20, 1953\n",
            "34      January 20, 1961\n",
            "35     November 22, 1963\n",
            "36      January 20, 1969\n",
            "37        August 9, 1974\n",
            "38      January 20, 1977\n",
            "39      January 20, 1981\n",
            "40      January 20, 1989\n",
            "41      January 20, 1993\n",
            "42      January 20, 2001\n",
            "43      January 20, 2009\n",
            "44      January 20, 2017\n",
            "Name: start, dtype: object\n",
            "<class 'pandas.core.series.Series'>\n"
          ]
        }
      ]
    },
    {
      "cell_type": "code",
      "source": [
        "dates_president_pd = pd.DatetimeIndex(dates_president_start)\n",
        "print(dates_president_pd)"
      ],
      "metadata": {
        "colab": {
          "base_uri": "https://localhost:8080/"
        },
        "id": "qZ53cWpYVNQX",
        "outputId": "4860291e-9fdd-4298-949e-0af1d7e8d99b"
      },
      "execution_count": null,
      "outputs": [
        {
          "output_type": "stream",
          "name": "stdout",
          "text": [
            "DatetimeIndex(['1789-04-30', '1797-03-04', '1801-03-04', '1809-03-04',\n",
            "               '1817-03-04', '1825-03-04', '1829-03-04', '1837-03-04',\n",
            "               '1841-03-04', '1841-04-04', '1845-03-04', '1849-03-04',\n",
            "               '1850-07-09', '1853-03-04', '1857-03-04', '1861-03-04',\n",
            "               '1865-04-15', '1869-03-04', '1877-03-04', '1881-03-04',\n",
            "               '1881-09-19', '1885-03-04', '1889-03-04', '1893-03-04',\n",
            "               '1897-03-04', '1901-09-14', '1909-03-04', '1913-03-04',\n",
            "               '1921-03-04', '1923-08-02', '1929-03-04', '1933-03-04',\n",
            "               '1945-04-12', '1953-01-20', '1961-01-20', '1963-11-22',\n",
            "               '1969-01-20', '1974-08-09', '1977-01-20', '1981-01-20',\n",
            "               '1989-01-20', '1993-01-20', '2001-01-20', '2009-01-20',\n",
            "               '2017-01-20'],\n",
            "              dtype='datetime64[ns]', name='start', freq=None)\n"
          ]
        }
      ]
    },
    {
      "cell_type": "code",
      "source": [
        "how_long_2= dates_president_pd[-1].to_period('Y')- dates_president_pd[0].to_period('Y')\n",
        "how_long_2"
      ],
      "metadata": {
        "colab": {
          "base_uri": "https://localhost:8080/"
        },
        "id": "aNARH0zfX6Hn",
        "outputId": "e1e0e59e-81b8-4ef4-f64d-71489a82b4b3"
      },
      "execution_count": null,
      "outputs": [
        {
          "output_type": "execute_result",
          "data": {
            "text/plain": [
              "<228 * YearEnds: month=12>"
            ]
          },
          "metadata": {},
          "execution_count": 169
        }
      ]
    },
    {
      "cell_type": "code",
      "source": [
        "dates_president_pd.max()"
      ],
      "metadata": {
        "colab": {
          "base_uri": "https://localhost:8080/"
        },
        "id": "VuDQg4fjYLSH",
        "outputId": "153f9fe4-b435-4fc1-8360-711049476e96"
      },
      "execution_count": null,
      "outputs": [
        {
          "output_type": "execute_result",
          "data": {
            "text/plain": [
              "Timestamp('2017-01-20 00:00:00')"
            ]
          },
          "metadata": {},
          "execution_count": 168
        }
      ]
    },
    {
      "cell_type": "code",
      "source": [
        "president_names"
      ],
      "metadata": {
        "colab": {
          "base_uri": "https://localhost:8080/"
        },
        "id": "tTbTswYaWnfA",
        "outputId": "a93d1858-679a-433d-ceaf-7f580e1a583c"
      },
      "execution_count": null,
      "outputs": [
        {
          "output_type": "execute_result",
          "data": {
            "text/plain": [
              "0          George Washington\n",
              "1                 John Adams\n",
              "2           Thomas Jefferson\n",
              "3              James Madison\n",
              "4               James Monroe\n",
              "5          John Quincy Adams\n",
              "6             Andrew Jackson\n",
              "7           Martin Van Buren\n",
              "8     William Henry Harrison\n",
              "9                 John Tyler\n",
              "10             James K. Polk\n",
              "11            Zachary Taylor\n",
              "12          Millard Fillmore\n",
              "13           Franklin Pierce\n",
              "14            James Buchanan\n",
              "15           Abraham Lincoln\n",
              "16            Andrew Johnson\n",
              "17          Ulysses S. Grant\n",
              "18       Rutherford B. Hayes\n",
              "19         James A. Garfield\n",
              "20         Chester A. Arthur\n",
              "21          Grover Cleveland\n",
              "22         Benjamin Harrison\n",
              "23          Grover Cleveland\n",
              "24          William McKinley\n",
              "25        Theodore Roosevelt\n",
              "26       William Howard Taft\n",
              "27            Woodrow Wilson\n",
              "28         Warren G. Harding\n",
              "29           Calvin Coolidge\n",
              "30            Herbert Hoover\n",
              "31     Franklin D. Roosevelt\n",
              "32           Harry S. Truman\n",
              "33      Dwight D. Eisenhower\n",
              "34           John F. Kennedy\n",
              "35         Lyndon B. Johnson\n",
              "36             Richard Nixon\n",
              "37               Gerald Ford\n",
              "38              Jimmy Carter\n",
              "39             Ronald Reagan\n",
              "40         George H. W. Bush\n",
              "41              Bill Clinton\n",
              "42            George W. Bush\n",
              "43              Barack Obama\n",
              "44              Donald Trump\n",
              "Name: president, dtype: object"
            ]
          },
          "metadata": {},
          "execution_count": 161
        }
      ]
    },
    {
      "cell_type": "markdown",
      "source": [
        ""
      ],
      "metadata": {
        "id": "sZ-OnmJxXyf3"
      }
    },
    {
      "cell_type": "code",
      "source": [
        "series_president= pd.Series(president_names.values, index=dates_president_pd)\n",
        "series_president"
      ],
      "metadata": {
        "colab": {
          "base_uri": "https://localhost:8080/"
        },
        "id": "59d9MKPJV_tn",
        "outputId": "3c1b3c27-605b-42df-dd69-9a91130267ce"
      },
      "execution_count": null,
      "outputs": [
        {
          "output_type": "execute_result",
          "data": {
            "text/plain": [
              "start\n",
              "1789-04-30         George Washington\n",
              "1797-03-04                John Adams\n",
              "1801-03-04          Thomas Jefferson\n",
              "1809-03-04             James Madison\n",
              "1817-03-04              James Monroe\n",
              "1825-03-04         John Quincy Adams\n",
              "1829-03-04            Andrew Jackson\n",
              "1837-03-04          Martin Van Buren\n",
              "1841-03-04    William Henry Harrison\n",
              "1841-04-04                John Tyler\n",
              "1845-03-04             James K. Polk\n",
              "1849-03-04            Zachary Taylor\n",
              "1850-07-09          Millard Fillmore\n",
              "1853-03-04           Franklin Pierce\n",
              "1857-03-04            James Buchanan\n",
              "1861-03-04           Abraham Lincoln\n",
              "1865-04-15            Andrew Johnson\n",
              "1869-03-04          Ulysses S. Grant\n",
              "1877-03-04       Rutherford B. Hayes\n",
              "1881-03-04         James A. Garfield\n",
              "1881-09-19         Chester A. Arthur\n",
              "1885-03-04          Grover Cleveland\n",
              "1889-03-04         Benjamin Harrison\n",
              "1893-03-04          Grover Cleveland\n",
              "1897-03-04          William McKinley\n",
              "1901-09-14        Theodore Roosevelt\n",
              "1909-03-04       William Howard Taft\n",
              "1913-03-04            Woodrow Wilson\n",
              "1921-03-04         Warren G. Harding\n",
              "1923-08-02           Calvin Coolidge\n",
              "1929-03-04            Herbert Hoover\n",
              "1933-03-04     Franklin D. Roosevelt\n",
              "1945-04-12           Harry S. Truman\n",
              "1953-01-20      Dwight D. Eisenhower\n",
              "1961-01-20           John F. Kennedy\n",
              "1963-11-22         Lyndon B. Johnson\n",
              "1969-01-20             Richard Nixon\n",
              "1974-08-09               Gerald Ford\n",
              "1977-01-20              Jimmy Carter\n",
              "1981-01-20             Ronald Reagan\n",
              "1989-01-20         George H. W. Bush\n",
              "1993-01-20              Bill Clinton\n",
              "2001-01-20            George W. Bush\n",
              "2009-01-20              Barack Obama\n",
              "2017-01-20              Donald Trump\n",
              "dtype: object"
            ]
          },
          "metadata": {},
          "execution_count": 172
        }
      ]
    },
    {
      "cell_type": "code",
      "source": [
        "series_president['1850':'1902']"
      ],
      "metadata": {
        "colab": {
          "base_uri": "https://localhost:8080/"
        },
        "id": "ojhAfjSmZ9tC",
        "outputId": "dd0c6d82-323c-4c51-8bf2-d6a45cbcdae9"
      },
      "execution_count": null,
      "outputs": [
        {
          "output_type": "execute_result",
          "data": {
            "text/plain": [
              "start\n",
              "1850-07-09       Millard Fillmore\n",
              "1853-03-04        Franklin Pierce\n",
              "1857-03-04         James Buchanan\n",
              "1861-03-04        Abraham Lincoln\n",
              "1865-04-15         Andrew Johnson\n",
              "1869-03-04       Ulysses S. Grant\n",
              "1877-03-04    Rutherford B. Hayes\n",
              "1881-03-04      James A. Garfield\n",
              "1881-09-19      Chester A. Arthur\n",
              "1885-03-04       Grover Cleveland\n",
              "1889-03-04      Benjamin Harrison\n",
              "1893-03-04       Grover Cleveland\n",
              "1897-03-04       William McKinley\n",
              "1901-09-14     Theodore Roosevelt\n",
              "dtype: object"
            ]
          },
          "metadata": {},
          "execution_count": 176
        }
      ]
    },
    {
      "cell_type": "code",
      "source": [
        "#df_toy = df_toy.fillna({'columna':0,'columna_dos'} : -1)"
      ],
      "metadata": {
        "id": "73dNaPnY_R2h"
      },
      "execution_count": null,
      "outputs": []
    },
    {
      "cell_type": "code",
      "source": [
        "#filas  por identifiacador o indice \n",
        "#df.iloc[2]    Indice de la fila\n",
        "#df.iloc[2:10] hasta le idice 9 \n",
        "#df.iloc['fila']\n",
        "#df.iloc[[1,2,4]]\n",
        "\n",
        "#df.loc['hola']\n",
        "#df.loc['hola']\n",
        "\n",
        "#filas y columnas con iloc\n",
        "#df.loc['fila]['columnas]\n",
        "#df.iloc[][]"
      ],
      "metadata": {
        "id": "n_qe3RJ2_muR"
      },
      "execution_count": null,
      "outputs": []
    },
    {
      "cell_type": "code",
      "source": [
        "#filas \n",
        "df['df[']"
      ],
      "metadata": {
        "id": "oPXNOdf-A1Y6"
      },
      "execution_count": null,
      "outputs": []
    }
  ]
}