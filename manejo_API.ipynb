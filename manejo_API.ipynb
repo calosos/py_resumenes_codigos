{
  "nbformat": 4,
  "nbformat_minor": 0,
  "metadata": {
    "colab": {
      "name": "Untitled8.ipynb",
      "provenance": [],
      "authorship_tag": "ABX9TyP8CjOvdM4k0/Mnj4MA1uty",
      "include_colab_link": true
    },
    "kernelspec": {
      "name": "python3",
      "display_name": "Python 3"
    },
    "language_info": {
      "name": "python"
    }
  },
  "cells": [
    {
      "cell_type": "markdown",
      "metadata": {
        "id": "view-in-github",
        "colab_type": "text"
      },
      "source": [
        "<a href=\"https://colab.research.google.com/github/calosos/py_resumenes_codigos/blob/main/manejo_API.ipynb\" target=\"_parent\"><img src=\"https://colab.research.google.com/assets/colab-badge.svg\" alt=\"Open In Colab\"/></a>"
      ]
    },
    {
      "cell_type": "code",
      "execution_count": null,
      "metadata": {
        "id": "D6Fr9mqqLNym"
      },
      "outputs": [],
      "source": [
        ""
      ]
    },
    {
      "cell_type": "markdown",
      "source": [
        ""
      ],
      "metadata": {
        "id": "u4O-c2pgMYIt"
      }
    },
    {
      "cell_type": "markdown",
      "source": [
        "#Api\n",
        "Interfaz para comiunicarnos con un software que está corriendo en algún servidor remoto. Se usan para obtener datos de algún tema en especifico.\n",
        "Automatizar la preciciones\n",
        "Peticiones HTTP : solicitud de información de un cliente a un servidor usando el protocolo HTTP, que son una serie de reglas que nos dicen cuál es la manera apropidad de comunicarnos con el servidor.\n",
        "\n",
        "Endpoints y URL´s son las direcciones en las cuales pedimos la información. Una Api tiene una documentación  donde indica cuales son las urls disponibles. Cada url apunta hacia información o recursos distintos. Se usan software como Postman o Requests para llamar el endpoint y aplicar una accion.\n",
        "#Verbos HTTP\n",
        "al realizar una petición HTTP se usa un tipo de verbo que indica la acción que se quiere realizar.los más importantes:\n",
        "GET: pedir información\n",
        "POST: para enviar información para crear algo(cuenta  o usuario).\n",
        "PUT: para sustituir algún dato por otro.\n",
        "PATCH: para modificar algún dato\n",
        "DELETE: para eliminar algún dato.\n",
        "\n",
        "recurso: https://juanda.gitbooks.io/webapps/content/api/arquitectura-api-rest.html\n",
        "\n",
        "#Parámetros\n",
        "al hacer una solicitud HTTP vamos a a tener que enviar parámetros para delimitar nuestras búsquedas. Los parámetros funcionan de manera similar a los parpametos de las funciones, tienen un nombre y le pasas unvalor como argumento. Los parámetros que enviemos determinarán qué datos vamos a obtener de regreso y en qué forma.\n",
        "\n",
        "#Respuestas\n",
        "Son los tados que recibimos de una API. Normalmente los datos que se trandieren atracpes de una API están en formato JSON. Las respuestas contienen los datos que solicitamos, algo \"metadata\" (datos acerca de los datos) y un estatus de la petición.\n",
        "\n",
        "#Estatus de la petición\n",
        "Cuando recibimos un respuesta tambipen vamos a recibir un código de estatus que sireve para identificar cuál fue el resultado de nuestra solicitud. También hay muchos tipos de estatus, los más importantes:\n",
        "\n",
        "200 : Todo salió bien\n",
        "201: Los recursos que querías crear fueron creados con éxito.\n",
        "404: El recurso no fue encontrado en ese URL.\n",
        "400: Los datos enviados fueron incorrectos.\n",
        "500: Hubo un error interno en el servidor.\n"
      ],
      "metadata": {
        "id": "gSq17H2qMYM6"
      }
    },
    {
      "cell_type": "markdown",
      "source": [
        "#Libería  REQUEST\n",
        "para ahcer peticiones"
      ],
      "metadata": {
        "id": "Oj-7Slv5QbOg"
      }
    },
    {
      "cell_type": "code",
      "source": [
        "!pip install requests"
      ],
      "metadata": {
        "colab": {
          "base_uri": "https://localhost:8080/"
        },
        "id": "BgF0I-70QiP3",
        "outputId": "84f65856-0b5e-4d24-93f4-99531fa17078"
      },
      "execution_count": 1,
      "outputs": [
        {
          "output_type": "stream",
          "name": "stdout",
          "text": [
            "Requirement already satisfied: requests in /usr/local/lib/python3.7/dist-packages (2.23.0)\n",
            "Requirement already satisfied: chardet<4,>=3.0.2 in /usr/local/lib/python3.7/dist-packages (from requests) (3.0.4)\n",
            "Requirement already satisfied: idna<3,>=2.5 in /usr/local/lib/python3.7/dist-packages (from requests) (2.10)\n",
            "Requirement already satisfied: urllib3!=1.25.0,!=1.25.1,<1.26,>=1.21.1 in /usr/local/lib/python3.7/dist-packages (from requests) (1.24.3)\n",
            "Requirement already satisfied: certifi>=2017.4.17 in /usr/local/lib/python3.7/dist-packages (from requests) (2021.10.8)\n"
          ]
        }
      ]
    },
    {
      "cell_type": "markdown",
      "source": [
        "Documentación API NASA: https://api.nasa.gov/\n",
        "\n",
        "registro para api :\n",
        "Your API key for aldairortizsuarez@gmail.com is:\n",
        "\n",
        "IdEs6y9Yslmfi3L5gF1xEnPDsRL5ySchmrgboMkg\n",
        "You can start using this key to make web service requests. Simply pass your key in the URL when making a web request. Here's an example:\n",
        "\n",
        "https://api.nasa.gov/planetary/apod?api_key=IdEs6y9Yslmfi3L5gF1xEnPDsRL5ySchmrgboMkg"
      ],
      "metadata": {
        "id": "FNgCjw5IQ469"
      }
    }
  ]
}