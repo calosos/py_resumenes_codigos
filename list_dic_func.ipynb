{
  "nbformat": 4,
  "nbformat_minor": 0,
  "metadata": {
    "colab": {
      "name": "list_dic_func.ipynb",
      "provenance": [],
      "authorship_tag": "ABX9TyPV8EtOERwYz7bNgEdGMmca",
      "include_colab_link": true
    },
    "kernelspec": {
      "name": "python3",
      "display_name": "Python 3"
    },
    "language_info": {
      "name": "python"
    }
  },
  "cells": [
    {
      "cell_type": "markdown",
      "metadata": {
        "id": "view-in-github",
        "colab_type": "text"
      },
      "source": [
        "<a href=\"https://colab.research.google.com/github/calosos/py_resumenes_codigos/blob/main/list_dic_func.ipynb\" target=\"_parent\"><img src=\"https://colab.research.google.com/assets/colab-badge.svg\" alt=\"Open In Colab\"/></a>"
      ]
    },
    {
      "cell_type": "code",
      "execution_count": 8,
      "metadata": {
        "id": "vzks1kEyQzSV"
      },
      "outputs": [],
      "source": [
        "num_range = range(1,11)\n",
        "lista_uno =list(num_range)\n",
        "lista_int=[1,4,8,9,7,2,7]\n",
        "lista_float= [1.5,3.65,9.5,9.4]\n",
        "lista_str=['Listas','de','cadenas', 'y', 'así']\n",
        "lista_bool =[True,False, True,False,True,True,False,False,True,False,True, ]\n",
        "lista_lista=[[1,4,8,],[8,9,7],[1,4,8,9,7,2,7]]\n",
        "listas_dif_tipos= ['hola',55, 44.4, 333.2, True, [1,2,3,4]]\n",
        "lista_aleat = [random.randint(0, 10) for x in range(10)]"
      ]
    },
    {
      "cell_type": "code",
      "source": [
        "import random\n",
        "lista_mayor_a_menor = [9,8,7,6,5,4,3,2,1]\n",
        "print(lista_mayor_a_menor[0])\n",
        "print(lista_mayor_a_menor[1])\n",
        "print(lista_mayor_a_menor[2])\n",
        "print(lista_mayor_a_menor[3])"
      ],
      "metadata": {
        "colab": {
          "base_uri": "https://localhost:8080/"
        },
        "id": "JgQhMSPYTJ_v",
        "outputId": "51123046-c832-4ea3-8149-2d3db74877f3"
      },
      "execution_count": 11,
      "outputs": [
        {
          "output_type": "stream",
          "name": "stdout",
          "text": [
            "9\n",
            "8\n",
            "7\n",
            "6\n"
          ]
        }
      ]
    },
    {
      "cell_type": "code",
      "source": [
        "#Agrefar dato\n",
        "lista_mayor_a_menor.append(0)#El parametro es el dato a agregar\n",
        "#lista_mayor_a_menor.pop()#sin parametro borra el ultimo dato\n",
        "lista_mayor_a_menor.pop(0)#el parametro es indice, la posicion quese desa borrar\n",
        "print(len(lista_mayor_a_menor))\n",
        "print(lista_mayor_a_menor)"
      ],
      "metadata": {
        "colab": {
          "base_uri": "https://localhost:8080/"
        },
        "id": "cRsXfP4SUJLn",
        "outputId": "30833e53-76d3-46e6-f223-9b4587f8af29"
      },
      "execution_count": 22,
      "outputs": [
        {
          "output_type": "stream",
          "name": "stdout",
          "text": [
            "10\n",
            "[7, 6, 5, 4, 3, 2, 1, 0, 0, 0]\n"
          ]
        }
      ]
    },
    {
      "cell_type": "code",
      "source": [
        "dic={\n",
        "    \"llave 1\":1,\n",
        "    \"llave 2\":2,\n",
        "    \"llave 3\":3\n",
        "}\n",
        "dic_num= {\n",
        "    1:'uno',\n",
        "    2:'dos',\n",
        "    3:'tres',\n",
        "    4:'cuatro',\n",
        "    5:'cinco'\n",
        "}"
      ],
      "metadata": {
        "id": "NMxQ5froWBoG"
      },
      "execution_count": 29,
      "outputs": []
    },
    {
      "cell_type": "code",
      "source": [
        "print(dic[\"llave 1\"])\n",
        "print(dic[\"llave 3\"])\n",
        "print(dic[\"nueva llave\"])\n",
        "print(dic_num[3])\n",
        "print(dic_num[5])"
      ],
      "metadata": {
        "colab": {
          "base_uri": "https://localhost:8080/"
        },
        "id": "YZR7LJhiWj_F",
        "outputId": "c07c2c4e-afb6-4682-d0a4-688ddeee117c"
      },
      "execution_count": 39,
      "outputs": [
        {
          "output_type": "stream",
          "name": "stdout",
          "text": [
            "1\n",
            "3\n",
            "ahora soy una cadena\n",
            "tres\n",
            "cinco\n"
          ]
        }
      ]
    },
    {
      "cell_type": "code",
      "source": [
        "#AgregarDatps\n",
        "dic[\"nueva llave\"]=45\n",
        "#modificar datos\n",
        "dic[\"nueva llave\"]=\"ahora soy una cadena\""
      ],
      "metadata": {
        "id": "kXgDY6s4X9yN"
      },
      "execution_count": 38,
      "outputs": []
    },
    {
      "cell_type": "code",
      "source": [
        "datos_compras ={\n",
        "    \"Nombre\":\"Alberto Suarez\",\n",
        "    \"productos_comprados\":[\"TV\",'Chromebook','VGA-USB-C'],\n",
        "    \"Direccion_factracion\":{\n",
        "        \"coloni\": \"Escandon\",\n",
        "        \"calle\":\"Mutualismo\",\n",
        "        \"numero\": 33,\n",
        "        \"codigo_posta\":11800\n",
        "    }\n",
        "}"
      ],
      "metadata": {
        "id": "BIzL7CbGZolt"
      },
      "execution_count": 41,
      "outputs": []
    },
    {
      "cell_type": "code",
      "source": [
        "datos_compras[\"productos_comprados\"].append('Ipad Nano')\n",
        "datos_compras\n"
      ],
      "metadata": {
        "colab": {
          "base_uri": "https://localhost:8080/"
        },
        "id": "JfJGuXrhanz1",
        "outputId": "382b6159-0f30-406e-fc9f-748448b885bc"
      },
      "execution_count": 43,
      "outputs": [
        {
          "output_type": "execute_result",
          "data": {
            "text/plain": [
              "{'Direccion_factracion': {'calle': 'Mutualismo',\n",
              "  'codigo_posta': 11800,\n",
              "  'coloni': 'Escandon',\n",
              "  'numero': 33},\n",
              " 'Nombre': 'Alberto Suarez',\n",
              " 'productos_comprados': ['TV',\n",
              "  'Chromebook',\n",
              "  'VGA-USB-C',\n",
              "  'Ipad Nano',\n",
              "  'Ipad Nano']}"
            ]
          },
          "metadata": {},
          "execution_count": 43
        }
      ]
    },
    {
      "cell_type": "code",
      "source": [
        "dic.pop(\"nueva llave\")  "
      ],
      "metadata": {
        "colab": {
          "base_uri": "https://localhost:8080/",
          "height": 165
        },
        "id": "1vmSoUJWbAQ1",
        "outputId": "d7b73704-88a8-4e54-8e1f-a26affa556a4"
      },
      "execution_count": 45,
      "outputs": [
        {
          "output_type": "error",
          "ename": "KeyError",
          "evalue": "ignored",
          "traceback": [
            "\u001b[0;31m---------------------------------------------------------------------------\u001b[0m",
            "\u001b[0;31mKeyError\u001b[0m                                  Traceback (most recent call last)",
            "\u001b[0;32m<ipython-input-45-1813a140a61a>\u001b[0m in \u001b[0;36m<module>\u001b[0;34m()\u001b[0m\n\u001b[0;32m----> 1\u001b[0;31m \u001b[0mdic\u001b[0m\u001b[0;34m.\u001b[0m\u001b[0mpop\u001b[0m\u001b[0;34m(\u001b[0m\u001b[0;34m\"nueva llave\"\u001b[0m\u001b[0;34m)\u001b[0m\u001b[0;34m\u001b[0m\u001b[0;34m\u001b[0m\u001b[0m\n\u001b[0m",
            "\u001b[0;31mKeyError\u001b[0m: 'nueva llave'"
          ]
        }
      ]
    },
    {
      "cell_type": "code",
      "source": [
        "\n",
        "alumnos_posgrado=30634\n",
        "alumnos_licenciatura =217808\n",
        "alumnos_bachillerato =111569\n",
        "alumnos_prope_musica = 872\n",
        "total_alumnos= alumnos_posgrado +alumnos_licenciatura+alumnos_bachillerato+alumnos_prope_musica\n",
        "#Porcentaje por nivel\n",
        "\n",
        "def calcular_porcentaje(muestra, total):\n",
        "  porcentaje = muestra*100/total\n",
        "  return porcentaje\n",
        "por_alumnos_posgrado = calcular_porcentaje(alumnos_posgrado,total_alumnos)\n",
        "por_alumnos_licenciatura = calcular_porcentaje(alumnos_licenciatura,total_alumnos)\n",
        "por_alumnos_bachillerato = calcular_porcentaje(alumnos_bachillerato,total_alumnos)\n",
        "por_alumnos_prope_musica =  calcular_porcentaje(alumnos_prope_musica,total_alumnos)\n",
        "print(por_alumnos_posgrado,por_alumnos_licenciatura,por_alumnos_bachillerato,por_alumnos_prope_musica)\n"
      ],
      "metadata": {
        "colab": {
          "base_uri": "https://localhost:8080/"
        },
        "id": "FEDbHV-7b8-l",
        "outputId": "603615fe-9f96-4446-beb0-9037de00b35f"
      },
      "execution_count": 52,
      "outputs": [
        {
          "output_type": "stream",
          "name": "stdout",
          "text": [
            "8.488623736778957 60.35418681400897 30.915559890601664 0.24162955861040836\n"
          ]
        }
      ]
    }
  ]
}