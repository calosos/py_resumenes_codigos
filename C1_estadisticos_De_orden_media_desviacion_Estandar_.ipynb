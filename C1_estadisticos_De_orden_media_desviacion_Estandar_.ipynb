{
  "nbformat": 4,
  "nbformat_minor": 0,
  "metadata": {
    "colab": {
      "name": "C1_estadisticos_De_orden_media_desviacion_Estandar .ipynb",
      "provenance": [],
      "mount_file_id": "1TWsgWCtIUCO_Lg6hN6vl_znPIVn3JZ7t",
      "authorship_tag": "ABX9TyPgdSrBYUtAx2r8TZtlBqum",
      "include_colab_link": true
    },
    "kernelspec": {
      "name": "python3",
      "display_name": "Python 3"
    },
    "language_info": {
      "name": "python"
    }
  },
  "cells": [
    {
      "cell_type": "markdown",
      "metadata": {
        "id": "view-in-github",
        "colab_type": "text"
      },
      "source": [
        "<a href=\"https://colab.research.google.com/github/calosos/py_resumenes_codigos/blob/main/C1_estadisticos_De_orden_media_desviacion_Estandar_.ipynb\" target=\"_parent\"><img src=\"https://colab.research.google.com/assets/colab-badge.svg\" alt=\"Open In Colab\"/></a>"
      ]
    },
    {
      "cell_type": "code",
      "execution_count": null,
      "metadata": {
        "id": "8paF67rwYGYS"
      },
      "outputs": [],
      "source": [
        "import pandas as pd\n",
        "from scipy import stats"
      ]
    },
    {
      "cell_type": "code",
      "source": [
        "df = pd.read_csv('/content/drive/MyDrive/Remoto Datasets/Remoto melbourne_housing-clean.csv' ,index_col=0)"
      ],
      "metadata": {
        "id": "SIf1hiWEbcBQ"
      },
      "execution_count": null,
      "outputs": []
    },
    {
      "cell_type": "code",
      "source": [
        "df.sample(5)"
      ],
      "metadata": {
        "colab": {
          "base_uri": "https://localhost:8080/",
          "height": 444
        },
        "id": "8flLtTX6bxlt",
        "outputId": "9018c9f4-d4a3-4719-800a-cfdd716d8ad7"
      },
      "execution_count": null,
      "outputs": [
        {
          "output_type": "execute_result",
          "data": {
            "text/plain": [
              "             suburb           address  rooms type      price method seller_g  \\\n",
              "88      Albert Park    29 Faussett St      2    h  2120000.0      S     Greg   \n",
              "1868      Chadstone     15 Aloomba St      3    h   992000.0      S     Gary   \n",
              "3662            Kew  5/93 Princess St      3    t   732000.0      S   Nelson   \n",
              "8901      Northcote   26 Salisbury Gr      4    h  1900000.0     PI   Jellis   \n",
              "10877  Burwood East   2/7 Bellevue Av      2    u   746000.0     SP   Jellis   \n",
              "\n",
              "             date  distance  postcode  bedroom_2  bathroom  car  land_size  \\\n",
              "88     10/09/2016       3.3    3206.0        2.0       1.0  1.0      199.0   \n",
              "1868   15/10/2016      13.6    3148.0        3.0       1.0  2.0      586.0   \n",
              "3662   26/07/2016       5.6    3101.0        3.0       1.0  1.0      904.0   \n",
              "8901    1/07/2017       5.3    3070.0        4.0       2.0  2.0      313.0   \n",
              "10877  12/08/2017      14.7    3151.0        3.0       2.0  2.0      499.0   \n",
              "\n",
              "       council_area  latitude  longitude            region_name  \\\n",
              "88     Port Phillip -37.84220  144.95540  Southern Metropolitan   \n",
              "1868         Monash -37.88050  145.09780  Southern Metropolitan   \n",
              "3662     Boroondara -37.80100  145.02970  Southern Metropolitan   \n",
              "8901        Darebin -37.76501  145.00269  Northern Metropolitan   \n",
              "10877       Bayside -37.90183  145.00882  Southern Metropolitan   \n",
              "\n",
              "       property_count  \n",
              "88             3280.0  \n",
              "1868           3582.0  \n",
              "3662          10331.0  \n",
              "8901          11364.0  \n",
              "10877          4048.0  "
            ],
            "text/html": [
              "\n",
              "  <div id=\"df-6bc25880-361f-4f11-a769-2701f8bff2be\">\n",
              "    <div class=\"colab-df-container\">\n",
              "      <div>\n",
              "<style scoped>\n",
              "    .dataframe tbody tr th:only-of-type {\n",
              "        vertical-align: middle;\n",
              "    }\n",
              "\n",
              "    .dataframe tbody tr th {\n",
              "        vertical-align: top;\n",
              "    }\n",
              "\n",
              "    .dataframe thead th {\n",
              "        text-align: right;\n",
              "    }\n",
              "</style>\n",
              "<table border=\"1\" class=\"dataframe\">\n",
              "  <thead>\n",
              "    <tr style=\"text-align: right;\">\n",
              "      <th></th>\n",
              "      <th>suburb</th>\n",
              "      <th>address</th>\n",
              "      <th>rooms</th>\n",
              "      <th>type</th>\n",
              "      <th>price</th>\n",
              "      <th>method</th>\n",
              "      <th>seller_g</th>\n",
              "      <th>date</th>\n",
              "      <th>distance</th>\n",
              "      <th>postcode</th>\n",
              "      <th>bedroom_2</th>\n",
              "      <th>bathroom</th>\n",
              "      <th>car</th>\n",
              "      <th>land_size</th>\n",
              "      <th>council_area</th>\n",
              "      <th>latitude</th>\n",
              "      <th>longitude</th>\n",
              "      <th>region_name</th>\n",
              "      <th>property_count</th>\n",
              "    </tr>\n",
              "  </thead>\n",
              "  <tbody>\n",
              "    <tr>\n",
              "      <th>88</th>\n",
              "      <td>Albert Park</td>\n",
              "      <td>29 Faussett St</td>\n",
              "      <td>2</td>\n",
              "      <td>h</td>\n",
              "      <td>2120000.0</td>\n",
              "      <td>S</td>\n",
              "      <td>Greg</td>\n",
              "      <td>10/09/2016</td>\n",
              "      <td>3.3</td>\n",
              "      <td>3206.0</td>\n",
              "      <td>2.0</td>\n",
              "      <td>1.0</td>\n",
              "      <td>1.0</td>\n",
              "      <td>199.0</td>\n",
              "      <td>Port Phillip</td>\n",
              "      <td>-37.84220</td>\n",
              "      <td>144.95540</td>\n",
              "      <td>Southern Metropolitan</td>\n",
              "      <td>3280.0</td>\n",
              "    </tr>\n",
              "    <tr>\n",
              "      <th>1868</th>\n",
              "      <td>Chadstone</td>\n",
              "      <td>15 Aloomba St</td>\n",
              "      <td>3</td>\n",
              "      <td>h</td>\n",
              "      <td>992000.0</td>\n",
              "      <td>S</td>\n",
              "      <td>Gary</td>\n",
              "      <td>15/10/2016</td>\n",
              "      <td>13.6</td>\n",
              "      <td>3148.0</td>\n",
              "      <td>3.0</td>\n",
              "      <td>1.0</td>\n",
              "      <td>2.0</td>\n",
              "      <td>586.0</td>\n",
              "      <td>Monash</td>\n",
              "      <td>-37.88050</td>\n",
              "      <td>145.09780</td>\n",
              "      <td>Southern Metropolitan</td>\n",
              "      <td>3582.0</td>\n",
              "    </tr>\n",
              "    <tr>\n",
              "      <th>3662</th>\n",
              "      <td>Kew</td>\n",
              "      <td>5/93 Princess St</td>\n",
              "      <td>3</td>\n",
              "      <td>t</td>\n",
              "      <td>732000.0</td>\n",
              "      <td>S</td>\n",
              "      <td>Nelson</td>\n",
              "      <td>26/07/2016</td>\n",
              "      <td>5.6</td>\n",
              "      <td>3101.0</td>\n",
              "      <td>3.0</td>\n",
              "      <td>1.0</td>\n",
              "      <td>1.0</td>\n",
              "      <td>904.0</td>\n",
              "      <td>Boroondara</td>\n",
              "      <td>-37.80100</td>\n",
              "      <td>145.02970</td>\n",
              "      <td>Southern Metropolitan</td>\n",
              "      <td>10331.0</td>\n",
              "    </tr>\n",
              "    <tr>\n",
              "      <th>8901</th>\n",
              "      <td>Northcote</td>\n",
              "      <td>26 Salisbury Gr</td>\n",
              "      <td>4</td>\n",
              "      <td>h</td>\n",
              "      <td>1900000.0</td>\n",
              "      <td>PI</td>\n",
              "      <td>Jellis</td>\n",
              "      <td>1/07/2017</td>\n",
              "      <td>5.3</td>\n",
              "      <td>3070.0</td>\n",
              "      <td>4.0</td>\n",
              "      <td>2.0</td>\n",
              "      <td>2.0</td>\n",
              "      <td>313.0</td>\n",
              "      <td>Darebin</td>\n",
              "      <td>-37.76501</td>\n",
              "      <td>145.00269</td>\n",
              "      <td>Northern Metropolitan</td>\n",
              "      <td>11364.0</td>\n",
              "    </tr>\n",
              "    <tr>\n",
              "      <th>10877</th>\n",
              "      <td>Burwood East</td>\n",
              "      <td>2/7 Bellevue Av</td>\n",
              "      <td>2</td>\n",
              "      <td>u</td>\n",
              "      <td>746000.0</td>\n",
              "      <td>SP</td>\n",
              "      <td>Jellis</td>\n",
              "      <td>12/08/2017</td>\n",
              "      <td>14.7</td>\n",
              "      <td>3151.0</td>\n",
              "      <td>3.0</td>\n",
              "      <td>2.0</td>\n",
              "      <td>2.0</td>\n",
              "      <td>499.0</td>\n",
              "      <td>Bayside</td>\n",
              "      <td>-37.90183</td>\n",
              "      <td>145.00882</td>\n",
              "      <td>Southern Metropolitan</td>\n",
              "      <td>4048.0</td>\n",
              "    </tr>\n",
              "  </tbody>\n",
              "</table>\n",
              "</div>\n",
              "      <button class=\"colab-df-convert\" onclick=\"convertToInteractive('df-6bc25880-361f-4f11-a769-2701f8bff2be')\"\n",
              "              title=\"Convert this dataframe to an interactive table.\"\n",
              "              style=\"display:none;\">\n",
              "        \n",
              "  <svg xmlns=\"http://www.w3.org/2000/svg\" height=\"24px\"viewBox=\"0 0 24 24\"\n",
              "       width=\"24px\">\n",
              "    <path d=\"M0 0h24v24H0V0z\" fill=\"none\"/>\n",
              "    <path d=\"M18.56 5.44l.94 2.06.94-2.06 2.06-.94-2.06-.94-.94-2.06-.94 2.06-2.06.94zm-11 1L8.5 8.5l.94-2.06 2.06-.94-2.06-.94L8.5 2.5l-.94 2.06-2.06.94zm10 10l.94 2.06.94-2.06 2.06-.94-2.06-.94-.94-2.06-.94 2.06-2.06.94z\"/><path d=\"M17.41 7.96l-1.37-1.37c-.4-.4-.92-.59-1.43-.59-.52 0-1.04.2-1.43.59L10.3 9.45l-7.72 7.72c-.78.78-.78 2.05 0 2.83L4 21.41c.39.39.9.59 1.41.59.51 0 1.02-.2 1.41-.59l7.78-7.78 2.81-2.81c.8-.78.8-2.07 0-2.86zM5.41 20L4 18.59l7.72-7.72 1.47 1.35L5.41 20z\"/>\n",
              "  </svg>\n",
              "      </button>\n",
              "      \n",
              "  <style>\n",
              "    .colab-df-container {\n",
              "      display:flex;\n",
              "      flex-wrap:wrap;\n",
              "      gap: 12px;\n",
              "    }\n",
              "\n",
              "    .colab-df-convert {\n",
              "      background-color: #E8F0FE;\n",
              "      border: none;\n",
              "      border-radius: 50%;\n",
              "      cursor: pointer;\n",
              "      display: none;\n",
              "      fill: #1967D2;\n",
              "      height: 32px;\n",
              "      padding: 0 0 0 0;\n",
              "      width: 32px;\n",
              "    }\n",
              "\n",
              "    .colab-df-convert:hover {\n",
              "      background-color: #E2EBFA;\n",
              "      box-shadow: 0px 1px 2px rgba(60, 64, 67, 0.3), 0px 1px 3px 1px rgba(60, 64, 67, 0.15);\n",
              "      fill: #174EA6;\n",
              "    }\n",
              "\n",
              "    [theme=dark] .colab-df-convert {\n",
              "      background-color: #3B4455;\n",
              "      fill: #D2E3FC;\n",
              "    }\n",
              "\n",
              "    [theme=dark] .colab-df-convert:hover {\n",
              "      background-color: #434B5C;\n",
              "      box-shadow: 0px 1px 3px 1px rgba(0, 0, 0, 0.15);\n",
              "      filter: drop-shadow(0px 1px 2px rgba(0, 0, 0, 0.3));\n",
              "      fill: #FFFFFF;\n",
              "    }\n",
              "  </style>\n",
              "\n",
              "      <script>\n",
              "        const buttonEl =\n",
              "          document.querySelector('#df-6bc25880-361f-4f11-a769-2701f8bff2be button.colab-df-convert');\n",
              "        buttonEl.style.display =\n",
              "          google.colab.kernel.accessAllowed ? 'block' : 'none';\n",
              "\n",
              "        async function convertToInteractive(key) {\n",
              "          const element = document.querySelector('#df-6bc25880-361f-4f11-a769-2701f8bff2be');\n",
              "          const dataTable =\n",
              "            await google.colab.kernel.invokeFunction('convertToInteractive',\n",
              "                                                     [key], {});\n",
              "          if (!dataTable) return;\n",
              "\n",
              "          const docLinkHtml = 'Like what you see? Visit the ' +\n",
              "            '<a target=\"_blank\" href=https://colab.research.google.com/notebooks/data_table.ipynb>data table notebook</a>'\n",
              "            + ' to learn more about interactive tables.';\n",
              "          element.innerHTML = '';\n",
              "          dataTable['output_type'] = 'display_data';\n",
              "          await google.colab.output.renderOutput(dataTable, element);\n",
              "          const docLink = document.createElement('div');\n",
              "          docLink.innerHTML = docLinkHtml;\n",
              "          element.appendChild(docLink);\n",
              "        }\n",
              "      </script>\n",
              "    </div>\n",
              "  </div>\n",
              "  "
            ]
          },
          "metadata": {},
          "execution_count": 3
        }
      ]
    },
    {
      "cell_type": "markdown",
      "source": [
        "#Media y Mediana "
      ],
      "metadata": {
        "id": "FCOcLG-0dWqg"
      }
    },
    {
      "cell_type": "code",
      "source": [
        "promedio =df['price'].mean()\n",
        "print(f'El promedio es: {promedio}')"
      ],
      "metadata": {
        "colab": {
          "base_uri": "https://localhost:8080/"
        },
        "id": "xJZVwBc5b1Tu",
        "outputId": "7206e0a6-2432-484e-9340-43dc48627b59"
      },
      "execution_count": null,
      "outputs": [
        {
          "output_type": "stream",
          "name": "stdout",
          "text": [
            "Este es el promedio: 1068141.895071269\n"
          ]
        }
      ]
    },
    {
      "cell_type": "code",
      "source": [
        "median = df['price'].median()    \n",
        "print(f'La mediana es: {median}')"
      ],
      "metadata": {
        "colab": {
          "base_uri": "https://localhost:8080/"
        },
        "id": "YjYICleEcgbM",
        "outputId": "9091b6e4-a46d-4f31-9a45-6ed77be2e702"
      },
      "execution_count": null,
      "outputs": [
        {
          "output_type": "stream",
          "name": "stdout",
          "text": [
            "Esta es la mediana: 895500.0\n"
          ]
        }
      ]
    },
    {
      "cell_type": "markdown",
      "source": [
        "#Media Truncada"
      ],
      "metadata": {
        "id": "2LepnrGEdbm9"
      }
    },
    {
      "cell_type": "markdown",
      "source": [
        "La media truncada es un estimado de locación más robusto que el promedio y la mediana. Esto significa que es menos sensible a valores atípicos. La media truncada se obtiene de la siguiente manera:\n",
        "\n",
        "Primero ordenamos nuestro conjunto de manera ascendente.\n",
        "Después decidimos qué porcentaje de nuestros datos vamos a truncar. Los valores más comunes suelen variar entre 5% y 25%.\n",
        "Divide el porcentaje acordado entre dos y elimina esa fracción de tus datos del inicio y del final de tu secuencia. Por ejemplo, si decides truncar un 5%, elimina el 2.5% de tus datos del inicio de tu secuencia y el otro 2.5% del final de tu secuencia.\n",
        "Obtén el promedio de los valores restantes."
      ],
      "metadata": {
        "id": "Nuo40a4Vdf3R"
      }
    },
    {
      "cell_type": "code",
      "source": [
        "media_truncada = stats.trim_mean(df['price'],0.10)"
      ],
      "metadata": {
        "id": "BUmGoY6AdaS4"
      },
      "execution_count": null,
      "outputs": []
    },
    {
      "cell_type": "code",
      "source": [
        "print(f'El promedio es: {promedio}')\n",
        "print(f'La mediana es: {median}')\n",
        "print(f'La media truncada es: {media_truncada}')"
      ],
      "metadata": {
        "colab": {
          "base_uri": "https://localhost:8080/"
        },
        "id": "YnPaBaGSeatz",
        "outputId": "32bb5750-94b6-4a38-8574-cbad04e0e760"
      },
      "execution_count": null,
      "outputs": [
        {
          "output_type": "stream",
          "name": "stdout",
          "text": [
            "El promedio es: 1068141.895071269\n",
            "La mediana es: 895500.0\n",
            "La media truncada es: 973653.7960935823\n"
          ]
        }
      ]
    },
    {
      "cell_type": "markdown",
      "source": [
        "#Desviación Estándar/Tv bípica"
      ],
      "metadata": {
        "id": "2q4d5Lfnik4U"
      }
    },
    {
      "cell_type": "code",
      "source": [
        "df['price'].std()"
      ],
      "metadata": {
        "id": "jqSH25IGinby",
        "colab": {
          "base_uri": "https://localhost:8080/"
        },
        "outputId": "0ce02204-8a1c-404d-b691-aba314ea3389"
      },
      "execution_count": 16,
      "outputs": [
        {
          "output_type": "execute_result",
          "data": {
            "text/plain": [
              "643728.1914372866"
            ]
          },
          "metadata": {},
          "execution_count": 16
        }
      ]
    },
    {
      "cell_type": "markdown",
      "source": [
        "Entre mayor sea nuestro resultado quiere decir que nuestros datos están más dispersos (es decir, hay muchos datos que se alejan de nuestro valor típico); entre menor sea el resultado quiere decir que nuestros datos están menos dispersos (es decir, están más cerca de nuestro valor típico)."
      ],
      "metadata": {
        "id": "PaGrPKzGpsdh"
      }
    },
    {
      "cell_type": "markdown",
      "source": [
        "#Rango\n",
        "El rango es simplemente la diferencia entre el valor máximo de un conjunto y el valor mínimo de un conjunto. Por lo tanto, podemos obtenerla de esta manera:"
      ],
      "metadata": {
        "id": "IpQ2znQ_ptXv"
      }
    },
    {
      "cell_type": "code",
      "source": [
        "rango  = df['price'].max() - df['price'].min()\n",
        "print(f'El rango es : {rango}')"
      ],
      "metadata": {
        "colab": {
          "base_uri": "https://localhost:8080/"
        },
        "id": "aIZOQAGVqxIB",
        "outputId": "7dc17968-f924-4852-8173-4c3713faadb2"
      },
      "execution_count": 17,
      "outputs": [
        {
          "output_type": "stream",
          "name": "stdout",
          "text": [
            "El rango es : 8915000.0\n"
          ]
        }
      ]
    },
    {
      "cell_type": "markdown",
      "source": [
        "#### Percentiles\n",
        "\n",
        "El percentil `P` es un valor que indica que por lo menos `P%` de los valores en el conjunto tienen este valor o un valor menor; mientras que `(100-P)%` de los valores tienen este valor o un valor mayor. Por ejemplo, para obtener el percentil 80 primero ordenamos nuestro conjunto de manera ascendente y después elegimos un valor de manera que el 80% de los valores en nuestro conjunto sean iguales o menores a ese valor.\n",
        "\n",
        "En `pandas`, los percentiles están implementados como cuantiles, que es lo mismo que los percentiles pero en versión fracciones. Es decir, el percentil 80 es lo  mismo que el cuantil 0.8."
      ],
      "metadata": {
        "id": "A1S8aTbdwtrU"
      }
    },
    {
      "cell_type": "code",
      "source": [
        "df['price'].quantile(0.8)"
      ],
      "metadata": {
        "colab": {
          "base_uri": "https://localhost:8080/"
        },
        "id": "tJ1ucMQlw4rY",
        "outputId": "6d8090e3-752b-4f17-8615-8f0c74687cea"
      },
      "execution_count": 18,
      "outputs": [
        {
          "output_type": "execute_result",
          "data": {
            "text/plain": [
              "1440000.0"
            ]
          },
          "metadata": {},
          "execution_count": 18
        }
      ]
    },
    {
      "cell_type": "code",
      "source": [
        "print(f'Valor mínimo: {df[\"price\"].min()}')\n",
        "print(f'Percentil 10: {df[\"price\"].quantile(0.1)}')\n",
        "print(f'Percentil 25: {df[\"price\"].quantile(0.25)}')\n",
        "print(f'Percentil 50: {df[\"price\"].median()}')\n",
        "print(f'Percentil 75: {df[\"price\"].quantile(0.75)}')\n",
        "print(f'Percentil 90: {df[\"price\"].quantile(0.9)}')\n",
        "print(f'Valor máximo: {df[\"price\"].max()}')"
      ],
      "metadata": {
        "colab": {
          "base_uri": "https://localhost:8080/"
        },
        "id": "Mur0uPH9w9x6",
        "outputId": "38478f67-483b-4db8-eb11-6cbd6e134338"
      },
      "execution_count": 20,
      "outputs": [
        {
          "output_type": "stream",
          "name": "stdout",
          "text": [
            "Valor mínimo: 85000.0\n",
            "Percentil 10: 470000.0\n",
            "Percentil 25: 640000.0\n",
            "Percentil 50: 895500.0\n",
            "Percentil 75: 1325000.0\n",
            "Percentil 90: 1850000.0\n",
            "Valor máximo: 9000000.0\n"
          ]
        }
      ]
    }
  ]
}