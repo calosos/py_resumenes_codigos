{
  "nbformat": 4,
  "nbformat_minor": 0,
  "metadata": {
    "colab": {
      "name": "C2_Retos.ipynb",
      "provenance": [],
      "mount_file_id": "1wZSz0VZkuvJV2CRmj2uBTQTNS1v0j811",
      "authorship_tag": "ABX9TyOA01rAyrfYdEN9B7O12xnH",
      "include_colab_link": true
    },
    "kernelspec": {
      "name": "python3",
      "display_name": "Python 3"
    },
    "language_info": {
      "name": "python"
    }
  },
  "cells": [
    {
      "cell_type": "markdown",
      "metadata": {
        "id": "view-in-github",
        "colab_type": "text"
      },
      "source": [
        "<a href=\"https://colab.research.google.com/github/calosos/py_resumenes_codigos/blob/main/C2_Retos.ipynb\" target=\"_parent\"><img src=\"https://colab.research.google.com/assets/colab-badge.svg\" alt=\"Open In Colab\"/></a>"
      ]
    },
    {
      "cell_type": "code",
      "execution_count": null,
      "metadata": {
        "id": "Wd04Ou3yr7P3"
      },
      "outputs": [],
      "source": [
        "import pandas as pd\n",
        "import seaborn as sns"
      ]
    },
    {
      "cell_type": "code",
      "source": [
        "import json"
      ],
      "metadata": {
        "id": "2CxKfMxwz5Rh"
      },
      "execution_count": null,
      "outputs": []
    },
    {
      "cell_type": "code",
      "source": [
        "df_near_objets = pd.read_csv('/content/drive/MyDrive/Remoto Datasets/Remoto near_earth_objects-jan_feb_1995-clean.csv', index_col=0)\n",
        "df_melbourne= pd.read_csv('/content/drive/MyDrive/Remoto Datasets/Remoto melbourne_housing-clean.csv', index_col=0)  "
      ],
      "metadata": {
        "id": "PXZfdKpstz2I"
      },
      "execution_count": null,
      "outputs": []
    },
    {
      "cell_type": "code",
      "source": [
        "df_ny_b_s= pd.read_json('/content/drive/MyDrive/Remoto Datasets/Remoto new_york_times_bestsellers-clean.json')"
      ],
      "metadata": {
        "id": "yLGNVHGazGYy"
      },
      "execution_count": null,
      "outputs": []
    },
    {
      "cell_type": "code",
      "source": [
        "#near_objets estimated_diameter.meters.estimated_diameter_max\n",
        "sns.set(style='darkgrid')\n",
        "sns.boxplot(x= df_near_objets['estimated_diameter.meters.estimated_diameter_max'])"
      ],
      "metadata": {
        "colab": {
          "base_uri": "https://localhost:8080/",
          "height": 302
        },
        "id": "5-YgEjuTwDXj",
        "outputId": "427e825a-f564-42c1-9e8d-9c0d7d34a2a1"
      },
      "execution_count": null,
      "outputs": [
        {
          "output_type": "execute_result",
          "data": {
            "text/plain": [
              "<matplotlib.axes._subplots.AxesSubplot at 0x7ff1298173d0>"
            ]
          },
          "metadata": {},
          "execution_count": 5
        },
        {
          "output_type": "display_data",
          "data": {
            "text/plain": [
              "<Figure size 432x288 with 1 Axes>"
            ],
            "image/png": "[encoded data removed]"
          },
          "metadata": {}
        }
      ]
    },
    {
      "cell_type": "code",
      "source": [
        "#near_obje\n",
        "sns.set(style='darkgrid')\n",
        "sns.boxplot(x= df_near_objets['relative_velocity.kilometers_per_second'])"
      ],
      "metadata": {
        "colab": {
          "base_uri": "https://localhost:8080/",
          "height": 302
        },
        "id": "WvUPxSA-wzNT",
        "outputId": "0b5d4f65-1f91-4c55-8c62-f320c653bc1f"
      },
      "execution_count": null,
      "outputs": [
        {
          "output_type": "execute_result",
          "data": {
            "text/plain": [
              "<matplotlib.axes._subplots.AxesSubplot at 0x7ff12766a150>"
            ]
          },
          "metadata": {},
          "execution_count": 6
        },
        {
          "output_type": "display_data",
          "data": {
            "text/plain": [
              "<Figure size 432x288 with 1 Axes>"
            ],
            "image/png": "[encoded data removed]"
          },
          "metadata": {}
        }
      ]
    },
    {
      "cell_type": "code",
      "source": [
        "sns.set(style='dark')\n",
        "sns.boxenplot(x= df_ny_b_s['price.numberDouble'])"
      ],
      "metadata": {
        "colab": {
          "base_uri": "https://localhost:8080/",
          "height": 302
        },
        "id": "v_364AEOwzCj",
        "outputId": "d001d2e6-3998-4c0e-ae86-7da026f1f3ad"
      },
      "execution_count": null,
      "outputs": [
        {
          "output_type": "execute_result",
          "data": {
            "text/plain": [
              "<matplotlib.axes._subplots.AxesSubplot at 0x7ff12d80b850>"
            ]
          },
          "metadata": {},
          "execution_count": 17
        },
        {
          "output_type": "display_data",
          "data": {
            "text/plain": [
              "<Figure size 432x288 with 1 Axes>"
            ],
            "image/png": "[encoded data removed]"
          },
          "metadata": {}
        }
      ]
    },
    {
      "cell_type": "code",
      "source": [
        "#1"
      ],
      "metadata": {
        "id": "ZTSc1NCp0ZkS"
      },
      "execution_count": null,
      "outputs": []
    },
    {
      "cell_type": "code",
      "source": [
        "#2"
      ],
      "metadata": {
        "id": "8U36YnQz0Zcx"
      },
      "execution_count": null,
      "outputs": []
    },
    {
      "cell_type": "code",
      "source": [
        "#3"
      ],
      "metadata": {
        "id": "5f9tYcNN0ZNj"
      },
      "execution_count": null,
      "outputs": []
    },
    {
      "cell_type": "code",
      "source": [
        "#4"
      ],
      "metadata": {
        "id": "o62jQ_jz0dA8"
      },
      "execution_count": null,
      "outputs": []
    },
    {
      "cell_type": "code",
      "source": [
        "df_near_objets.dtypes"
      ],
      "metadata": {
        "colab": {
          "base_uri": "https://localhost:8080/"
        },
        "id": "uvxYdpm716eA",
        "outputId": "70e9c1a7-bab3-488b-b814-51460b61d34c"
      },
      "execution_count": null,
      "outputs": [
        {
          "output_type": "execute_result",
          "data": {
            "text/plain": [
              "id                                                    int64\n",
              "name                                                 object\n",
              "is_potentially_hazardous_asteroid                      bool\n",
              "estimated_diameter.meters.estimated_diameter_min    float64\n",
              "estimated_diameter.meters.estimated_diameter_max    float64\n",
              "close_approach_date                                  object\n",
              "epoch_date_close_approach                             int64\n",
              "orbiting_body                                        object\n",
              "relative_velocity.kilometers_per_second             float64\n",
              "relative_velocity.kilometers_per_hour               float64\n",
              "dtype: object"
            ]
          },
          "metadata": {},
          "execution_count": 21
        }
      ]
    },
    {
      "cell_type": "code",
      "source": [
        "iqr_n_o = df_near_objets['estimated_diameter.meters.estimated_diameter_max'].quantile(0.75) - df_near_objets['estimated_diameter.meters.estimated_diameter_max'].quantile(0.25)\n",
        "filtro_inferior_n_o = df_near_objets['estimated_diameter.meters.estimated_diameter_max'] > df_near_objets['estimated_diameter.meters.estimated_diameter_max'].quantile(0.25)-(iqr_n_o*1.5)\n",
        "filtro_superior_n_o= df_near_objets['estimated_diameter.meters.estimated_diameter_max'].quantile(0.75)+(iqr_n_o*1.5)\n",
        "df_filtrado = df_near_objets[filtro_inferior_n_o & filtro_superior_n_o]"
      ],
      "metadata": {
        "colab": {
          "base_uri": "https://localhost:8080/",
          "height": 536
        },
        "id": "vcIuMx-10WvB",
        "outputId": "5a5f9040-dc52-4fb5-d453-6ce747844953"
      },
      "execution_count": null,
      "outputs": [
        {
          "output_type": "error",
          "ename": "TypeError",
          "evalue": "ignored",
          "traceback": [
            "\u001b[0;31m---------------------------------------------------------------------------\u001b[0m",
            "\u001b[0;31mTypeError\u001b[0m                                 Traceback (most recent call last)",
            "\u001b[0;32m/usr/local/lib/python3.7/dist-packages/pandas/core/ops/array_ops.py\u001b[0m in \u001b[0;36mna_logical_op\u001b[0;34m(x, y, op)\u001b[0m\n\u001b[1;32m    301\u001b[0m         \u001b[0;31m#  (xint or xbool) and (yint or bool)\u001b[0m\u001b[0;34m\u001b[0m\u001b[0;34m\u001b[0m\u001b[0;34m\u001b[0m\u001b[0m\n\u001b[0;32m--> 302\u001b[0;31m         \u001b[0mresult\u001b[0m \u001b[0;34m=\u001b[0m \u001b[0mop\u001b[0m\u001b[0;34m(\u001b[0m\u001b[0mx\u001b[0m\u001b[0;34m,\u001b[0m \u001b[0my\u001b[0m\u001b[0;34m)\u001b[0m\u001b[0;34m\u001b[0m\u001b[0;34m\u001b[0m\u001b[0m\n\u001b[0m\u001b[1;32m    303\u001b[0m     \u001b[0;32mexcept\u001b[0m \u001b[0mTypeError\u001b[0m\u001b[0;34m:\u001b[0m\u001b[0;34m\u001b[0m\u001b[0;34m\u001b[0m\u001b[0m\n",
            "\u001b[0;31mTypeError\u001b[0m: ufunc 'bitwise_and' not supported for the input types, and the inputs could not be safely coerced to any supported types according to the casting rule ''safe''",
            "\nDuring handling of the above exception, another exception occurred:\n",
            "\u001b[0;31mValueError\u001b[0m                                Traceback (most recent call last)",
            "\u001b[0;32m/usr/local/lib/python3.7/dist-packages/pandas/core/ops/array_ops.py\u001b[0m in \u001b[0;36mna_logical_op\u001b[0;34m(x, y, op)\u001b[0m\n\u001b[1;32m    315\u001b[0m             \u001b[0;32mtry\u001b[0m\u001b[0;34m:\u001b[0m\u001b[0;34m\u001b[0m\u001b[0;34m\u001b[0m\u001b[0m\n\u001b[0;32m--> 316\u001b[0;31m                 \u001b[0mresult\u001b[0m \u001b[0;34m=\u001b[0m \u001b[0mlibops\u001b[0m\u001b[0;34m.\u001b[0m\u001b[0mscalar_binop\u001b[0m\u001b[0;34m(\u001b[0m\u001b[0mx\u001b[0m\u001b[0;34m,\u001b[0m \u001b[0my\u001b[0m\u001b[0;34m,\u001b[0m \u001b[0mop\u001b[0m\u001b[0;34m)\u001b[0m\u001b[0;34m\u001b[0m\u001b[0;34m\u001b[0m\u001b[0m\n\u001b[0m\u001b[1;32m    317\u001b[0m             except (\n",
            "\u001b[0;32m/usr/local/lib/python3.7/dist-packages/pandas/_libs/ops.pyx\u001b[0m in \u001b[0;36mpandas._libs.ops.scalar_binop\u001b[0;34m()\u001b[0m\n",
            "\u001b[0;31mValueError\u001b[0m: Buffer dtype mismatch, expected 'Python object' but got 'bool'",
            "\nThe above exception was the direct cause of the following exception:\n",
            "\u001b[0;31mTypeError\u001b[0m                                 Traceback (most recent call last)",
            "\u001b[0;32m<ipython-input-20-fd410748cfe5>\u001b[0m in \u001b[0;36m<module>\u001b[0;34m()\u001b[0m\n\u001b[1;32m      2\u001b[0m \u001b[0mfiltro_inferior_n_o\u001b[0m \u001b[0;34m=\u001b[0m \u001b[0mdf_near_objets\u001b[0m\u001b[0;34m[\u001b[0m\u001b[0;34m'estimated_diameter.meters.estimated_diameter_max'\u001b[0m\u001b[0;34m]\u001b[0m \u001b[0;34m>\u001b[0m \u001b[0mdf_near_objets\u001b[0m\u001b[0;34m[\u001b[0m\u001b[0;34m'estimated_diameter.meters.estimated_diameter_max'\u001b[0m\u001b[0;34m]\u001b[0m\u001b[0;34m.\u001b[0m\u001b[0mquantile\u001b[0m\u001b[0;34m(\u001b[0m\u001b[0;36m0.25\u001b[0m\u001b[0;34m)\u001b[0m\u001b[0;34m-\u001b[0m\u001b[0;34m(\u001b[0m\u001b[0miqr_n_o\u001b[0m\u001b[0;34m*\u001b[0m\u001b[0;36m1.5\u001b[0m\u001b[0;34m)\u001b[0m\u001b[0;34m\u001b[0m\u001b[0;34m\u001b[0m\u001b[0m\n\u001b[1;32m      3\u001b[0m \u001b[0mfiltro_superior_n_o\u001b[0m\u001b[0;34m=\u001b[0m \u001b[0mdf_near_objets\u001b[0m\u001b[0;34m[\u001b[0m\u001b[0;34m'estimated_diameter.meters.estimated_diameter_max'\u001b[0m\u001b[0;34m]\u001b[0m\u001b[0;34m.\u001b[0m\u001b[0mquantile\u001b[0m\u001b[0;34m(\u001b[0m\u001b[0;36m0.75\u001b[0m\u001b[0;34m)\u001b[0m\u001b[0;34m+\u001b[0m\u001b[0;34m(\u001b[0m\u001b[0miqr_n_o\u001b[0m\u001b[0;34m*\u001b[0m\u001b[0;36m1.5\u001b[0m\u001b[0;34m)\u001b[0m\u001b[0;34m\u001b[0m\u001b[0;34m\u001b[0m\u001b[0m\n\u001b[0;32m----> 4\u001b[0;31m \u001b[0mdf_filtrado\u001b[0m \u001b[0;34m=\u001b[0m \u001b[0mdf_near_objets\u001b[0m\u001b[0;34m[\u001b[0m\u001b[0mfiltro_inferior_n_o\u001b[0m \u001b[0;34m&\u001b[0m \u001b[0mfiltro_superior_n_o\u001b[0m\u001b[0;34m]\u001b[0m\u001b[0;34m\u001b[0m\u001b[0;34m\u001b[0m\u001b[0m\n\u001b[0m",
            "\u001b[0;32m/usr/local/lib/python3.7/dist-packages/pandas/core/ops/common.py\u001b[0m in \u001b[0;36mnew_method\u001b[0;34m(self, other)\u001b[0m\n\u001b[1;32m     67\u001b[0m         \u001b[0mother\u001b[0m \u001b[0;34m=\u001b[0m \u001b[0mitem_from_zerodim\u001b[0m\u001b[0;34m(\u001b[0m\u001b[0mother\u001b[0m\u001b[0;34m)\u001b[0m\u001b[0;34m\u001b[0m\u001b[0;34m\u001b[0m\u001b[0m\n\u001b[1;32m     68\u001b[0m \u001b[0;34m\u001b[0m\u001b[0m\n\u001b[0;32m---> 69\u001b[0;31m         \u001b[0;32mreturn\u001b[0m \u001b[0mmethod\u001b[0m\u001b[0;34m(\u001b[0m\u001b[0mself\u001b[0m\u001b[0;34m,\u001b[0m \u001b[0mother\u001b[0m\u001b[0;34m)\u001b[0m\u001b[0;34m\u001b[0m\u001b[0;34m\u001b[0m\u001b[0m\n\u001b[0m\u001b[1;32m     70\u001b[0m \u001b[0;34m\u001b[0m\u001b[0m\n\u001b[1;32m     71\u001b[0m     \u001b[0;32mreturn\u001b[0m \u001b[0mnew_method\u001b[0m\u001b[0;34m\u001b[0m\u001b[0;34m\u001b[0m\u001b[0m\n",
            "\u001b[0;32m/usr/local/lib/python3.7/dist-packages/pandas/core/arraylike.py\u001b[0m in \u001b[0;36m__and__\u001b[0;34m(self, other)\u001b[0m\n\u001b[1;32m     60\u001b[0m     \u001b[0;34m@\u001b[0m\u001b[0munpack_zerodim_and_defer\u001b[0m\u001b[0;34m(\u001b[0m\u001b[0;34m\"__and__\"\u001b[0m\u001b[0;34m)\u001b[0m\u001b[0;34m\u001b[0m\u001b[0;34m\u001b[0m\u001b[0m\n\u001b[1;32m     61\u001b[0m     \u001b[0;32mdef\u001b[0m \u001b[0m__and__\u001b[0m\u001b[0;34m(\u001b[0m\u001b[0mself\u001b[0m\u001b[0;34m,\u001b[0m \u001b[0mother\u001b[0m\u001b[0;34m)\u001b[0m\u001b[0;34m:\u001b[0m\u001b[0;34m\u001b[0m\u001b[0;34m\u001b[0m\u001b[0m\n\u001b[0;32m---> 62\u001b[0;31m         \u001b[0;32mreturn\u001b[0m \u001b[0mself\u001b[0m\u001b[0;34m.\u001b[0m\u001b[0m_logical_method\u001b[0m\u001b[0;34m(\u001b[0m\u001b[0mother\u001b[0m\u001b[0;34m,\u001b[0m \u001b[0moperator\u001b[0m\u001b[0;34m.\u001b[0m\u001b[0mand_\u001b[0m\u001b[0;34m)\u001b[0m\u001b[0;34m\u001b[0m\u001b[0;34m\u001b[0m\u001b[0m\n\u001b[0m\u001b[1;32m     63\u001b[0m \u001b[0;34m\u001b[0m\u001b[0m\n\u001b[1;32m     64\u001b[0m     \u001b[0;34m@\u001b[0m\u001b[0munpack_zerodim_and_defer\u001b[0m\u001b[0;34m(\u001b[0m\u001b[0;34m\"__rand__\"\u001b[0m\u001b[0;34m)\u001b[0m\u001b[0;34m\u001b[0m\u001b[0;34m\u001b[0m\u001b[0m\n",
            "\u001b[0;32m/usr/local/lib/python3.7/dist-packages/pandas/core/series.py\u001b[0m in \u001b[0;36m_logical_method\u001b[0;34m(self, other, op)\u001b[0m\n\u001b[1;32m   5511\u001b[0m         \u001b[0mrvalues\u001b[0m \u001b[0;34m=\u001b[0m \u001b[0mextract_array\u001b[0m\u001b[0;34m(\u001b[0m\u001b[0mother\u001b[0m\u001b[0;34m,\u001b[0m \u001b[0mextract_numpy\u001b[0m\u001b[0;34m=\u001b[0m\u001b[0;32mTrue\u001b[0m\u001b[0;34m,\u001b[0m \u001b[0mextract_range\u001b[0m\u001b[0;34m=\u001b[0m\u001b[0;32mTrue\u001b[0m\u001b[0;34m)\u001b[0m\u001b[0;34m\u001b[0m\u001b[0;34m\u001b[0m\u001b[0m\n\u001b[1;32m   5512\u001b[0m \u001b[0;34m\u001b[0m\u001b[0m\n\u001b[0;32m-> 5513\u001b[0;31m         \u001b[0mres_values\u001b[0m \u001b[0;34m=\u001b[0m \u001b[0mops\u001b[0m\u001b[0;34m.\u001b[0m\u001b[0mlogical_op\u001b[0m\u001b[0;34m(\u001b[0m\u001b[0mlvalues\u001b[0m\u001b[0;34m,\u001b[0m \u001b[0mrvalues\u001b[0m\u001b[0;34m,\u001b[0m \u001b[0mop\u001b[0m\u001b[0;34m)\u001b[0m\u001b[0;34m\u001b[0m\u001b[0;34m\u001b[0m\u001b[0m\n\u001b[0m\u001b[1;32m   5514\u001b[0m         \u001b[0;32mreturn\u001b[0m \u001b[0mself\u001b[0m\u001b[0;34m.\u001b[0m\u001b[0m_construct_result\u001b[0m\u001b[0;34m(\u001b[0m\u001b[0mres_values\u001b[0m\u001b[0;34m,\u001b[0m \u001b[0mname\u001b[0m\u001b[0;34m=\u001b[0m\u001b[0mres_name\u001b[0m\u001b[0;34m)\u001b[0m\u001b[0;34m\u001b[0m\u001b[0;34m\u001b[0m\u001b[0m\n\u001b[1;32m   5515\u001b[0m \u001b[0;34m\u001b[0m\u001b[0m\n",
            "\u001b[0;32m/usr/local/lib/python3.7/dist-packages/pandas/core/ops/array_ops.py\u001b[0m in \u001b[0;36mlogical_op\u001b[0;34m(left, right, op)\u001b[0m\n\u001b[1;32m    390\u001b[0m         \u001b[0mfiller\u001b[0m \u001b[0;34m=\u001b[0m \u001b[0mfill_int\u001b[0m \u001b[0;32mif\u001b[0m \u001b[0mis_self_int_dtype\u001b[0m \u001b[0;32mand\u001b[0m \u001b[0mis_other_int_dtype\u001b[0m \u001b[0;32melse\u001b[0m \u001b[0mfill_bool\u001b[0m\u001b[0;34m\u001b[0m\u001b[0;34m\u001b[0m\u001b[0m\n\u001b[1;32m    391\u001b[0m \u001b[0;34m\u001b[0m\u001b[0m\n\u001b[0;32m--> 392\u001b[0;31m         \u001b[0mres_values\u001b[0m \u001b[0;34m=\u001b[0m \u001b[0mna_logical_op\u001b[0m\u001b[0;34m(\u001b[0m\u001b[0mlvalues\u001b[0m\u001b[0;34m,\u001b[0m \u001b[0mrvalues\u001b[0m\u001b[0;34m,\u001b[0m \u001b[0mop\u001b[0m\u001b[0;34m)\u001b[0m\u001b[0;34m\u001b[0m\u001b[0;34m\u001b[0m\u001b[0m\n\u001b[0m\u001b[1;32m    393\u001b[0m         \u001b[0;31m# error: Cannot call function of unknown type\u001b[0m\u001b[0;34m\u001b[0m\u001b[0;34m\u001b[0m\u001b[0;34m\u001b[0m\u001b[0m\n\u001b[1;32m    394\u001b[0m         \u001b[0mres_values\u001b[0m \u001b[0;34m=\u001b[0m \u001b[0mfiller\u001b[0m\u001b[0;34m(\u001b[0m\u001b[0mres_values\u001b[0m\u001b[0;34m)\u001b[0m  \u001b[0;31m# type: ignore[operator]\u001b[0m\u001b[0;34m\u001b[0m\u001b[0;34m\u001b[0m\u001b[0m\n",
            "\u001b[0;32m/usr/local/lib/python3.7/dist-packages/pandas/core/ops/array_ops.py\u001b[0m in \u001b[0;36mna_logical_op\u001b[0;34m(x, y, op)\u001b[0m\n\u001b[1;32m    326\u001b[0m                     \u001b[0;34mf\"Cannot perform '{op.__name__}' with a dtyped [{x.dtype}] array \"\u001b[0m\u001b[0;34m\u001b[0m\u001b[0;34m\u001b[0m\u001b[0m\n\u001b[1;32m    327\u001b[0m                     \u001b[0;34mf\"and scalar of type [{typ}]\"\u001b[0m\u001b[0;34m\u001b[0m\u001b[0;34m\u001b[0m\u001b[0m\n\u001b[0;32m--> 328\u001b[0;31m                 ) from err\n\u001b[0m\u001b[1;32m    329\u001b[0m \u001b[0;34m\u001b[0m\u001b[0m\n\u001b[1;32m    330\u001b[0m     \u001b[0;32mreturn\u001b[0m \u001b[0mresult\u001b[0m\u001b[0;34m.\u001b[0m\u001b[0mreshape\u001b[0m\u001b[0;34m(\u001b[0m\u001b[0mx\u001b[0m\u001b[0;34m.\u001b[0m\u001b[0mshape\u001b[0m\u001b[0;34m)\u001b[0m\u001b[0;34m\u001b[0m\u001b[0;34m\u001b[0m\u001b[0m\n",
            "\u001b[0;31mTypeError\u001b[0m: Cannot perform 'and_' with a dtyped [bool] array and scalar of type [bool]"
          ]
        }
      ]
    },
    {
      "cell_type": "code",
      "source": [
        ""
      ],
      "metadata": {
        "id": "i-Lud8Is1qvh"
      },
      "execution_count": null,
      "outputs": []
    },
    {
      "cell_type": "code",
      "source": [
        "sns.set(style='darkgrid')\n",
        "sns.boxplot(x= df_filtrado['estimated_diameter.meters.estimated_diameter_max'])"
      ],
      "metadata": {
        "colab": {
          "base_uri": "https://localhost:8080/",
          "height": 183
        },
        "id": "73hteHIu1Y4R",
        "outputId": "c69e3a12-6027-4a9b-ca4a-3325e3b6dd24"
      },
      "execution_count": null,
      "outputs": [
        {
          "output_type": "error",
          "ename": "NameError",
          "evalue": "ignored",
          "traceback": [
            "\u001b[0;31m---------------------------------------------------------------------------\u001b[0m",
            "\u001b[0;31mNameError\u001b[0m                                 Traceback (most recent call last)",
            "\u001b[0;32m<ipython-input-18-ff9379d9c584>\u001b[0m in \u001b[0;36m<module>\u001b[0;34m()\u001b[0m\n\u001b[1;32m      1\u001b[0m \u001b[0msns\u001b[0m\u001b[0;34m.\u001b[0m\u001b[0mset\u001b[0m\u001b[0;34m(\u001b[0m\u001b[0mstyle\u001b[0m\u001b[0;34m=\u001b[0m\u001b[0;34m'darkgrid'\u001b[0m\u001b[0;34m)\u001b[0m\u001b[0;34m\u001b[0m\u001b[0;34m\u001b[0m\u001b[0m\n\u001b[0;32m----> 2\u001b[0;31m \u001b[0msns\u001b[0m\u001b[0;34m.\u001b[0m\u001b[0mboxplot\u001b[0m\u001b[0;34m(\u001b[0m\u001b[0mx\u001b[0m\u001b[0;34m=\u001b[0m \u001b[0mdf_filtrado\u001b[0m\u001b[0;34m[\u001b[0m\u001b[0;34m'estimated_diameter.meters.estimated_diameter_max'\u001b[0m\u001b[0;34m]\u001b[0m\u001b[0;34m)\u001b[0m\u001b[0;34m\u001b[0m\u001b[0;34m\u001b[0m\u001b[0m\n\u001b[0m",
            "\u001b[0;31mNameError\u001b[0m: name 'df_filtrado' is not defined"
          ]
        }
      ]
    },
    {
      "cell_type": "code",
      "source": [
        ""
      ],
      "metadata": {
        "id": "Eh35sa1b9nXz"
      },
      "execution_count": null,
      "outputs": []
    },
    {
      "cell_type": "code",
      "source": [
        "df_ny_b_s.shape"
      ],
      "metadata": {
        "colab": {
          "base_uri": "https://localhost:8080/"
        },
        "id": "VyuzwFNN42-6",
        "outputId": "e2f86959-a318-4cdc-ae4c-cbc52f11f30a"
      },
      "execution_count": null,
      "outputs": [
        {
          "output_type": "execute_result",
          "data": {
            "text/plain": [
              "(3033, 12)"
            ]
          },
          "metadata": {},
          "execution_count": 24
        }
      ]
    },
    {
      "cell_type": "code",
      "source": [
        "serie_prices = df_ny_b_s['price.numberDouble']\n",
        "df_prices_ny_b_s = pd.DataFrame(df_ny_b_s['price.numberDouble']) \n",
        "df_prices_ny_b_s.sample(10)"
      ],
      "metadata": {
        "colab": {
          "base_uri": "https://localhost:8080/",
          "height": 363
        },
        "id": "Y3s7uW_w3r4A",
        "outputId": "30e178cb-0594-4c9e-8c53-bf83508fb967"
      },
      "execution_count": null,
      "outputs": [
        {
          "output_type": "execute_result",
          "data": {
            "text/plain": [
              "      price.numberDouble\n",
              "2351               27.99\n",
              "2731               26.95\n",
              "907                26.95\n",
              "2315               27.99\n",
              "1924               27.99\n",
              "1180               26.95\n",
              "549                27.95\n",
              "456                22.95\n",
              "817                26.95\n",
              "2141               26.99"
            ],
            "text/html": [
              "\n",
              "  <div id=\"df-e3ad028f-426b-4b03-a583-149290847282\">\n",
              "    <div class=\"colab-df-container\">\n",
              "      <div>\n",
              "<style scoped>\n",
              "    .dataframe tbody tr th:only-of-type {\n",
              "        vertical-align: middle;\n",
              "    }\n",
              "\n",
              "    .dataframe tbody tr th {\n",
              "        vertical-align: top;\n",
              "    }\n",
              "\n",
              "    .dataframe thead th {\n",
              "        text-align: right;\n",
              "    }\n",
              "</style>\n",
              "<table border=\"1\" class=\"dataframe\">\n",
              "  <thead>\n",
              "    <tr style=\"text-align: right;\">\n",
              "      <th></th>\n",
              "      <th>price.numberDouble</th>\n",
              "    </tr>\n",
              "  </thead>\n",
              "  <tbody>\n",
              "    <tr>\n",
              "      <th>2351</th>\n",
              "      <td>27.99</td>\n",
              "    </tr>\n",
              "    <tr>\n",
              "      <th>2731</th>\n",
              "      <td>26.95</td>\n",
              "    </tr>\n",
              "    <tr>\n",
              "      <th>907</th>\n",
              "      <td>26.95</td>\n",
              "    </tr>\n",
              "    <tr>\n",
              "      <th>2315</th>\n",
              "      <td>27.99</td>\n",
              "    </tr>\n",
              "    <tr>\n",
              "      <th>1924</th>\n",
              "      <td>27.99</td>\n",
              "    </tr>\n",
              "    <tr>\n",
              "      <th>1180</th>\n",
              "      <td>26.95</td>\n",
              "    </tr>\n",
              "    <tr>\n",
              "      <th>549</th>\n",
              "      <td>27.95</td>\n",
              "    </tr>\n",
              "    <tr>\n",
              "      <th>456</th>\n",
              "      <td>22.95</td>\n",
              "    </tr>\n",
              "    <tr>\n",
              "      <th>817</th>\n",
              "      <td>26.95</td>\n",
              "    </tr>\n",
              "    <tr>\n",
              "      <th>2141</th>\n",
              "      <td>26.99</td>\n",
              "    </tr>\n",
              "  </tbody>\n",
              "</table>\n",
              "</div>\n",
              "      <button class=\"colab-df-convert\" onclick=\"convertToInteractive('df-e3ad028f-426b-4b03-a583-149290847282')\"\n",
              "              title=\"Convert this dataframe to an interactive table.\"\n",
              "              style=\"display:none;\">\n",
              "        \n",
              "  <svg xmlns=\"http://www.w3.org/2000/svg\" height=\"24px\"viewBox=\"0 0 24 24\"\n",
              "       width=\"24px\">\n",
              "    <path d=\"M0 0h24v24H0V0z\" fill=\"none\"/>\n",
              "    <path d=\"M18.56 5.44l.94 2.06.94-2.06 2.06-.94-2.06-.94-.94-2.06-.94 2.06-2.06.94zm-11 1L8.5 8.5l.94-2.06 2.06-.94-2.06-.94L8.5 2.5l-.94 2.06-2.06.94zm10 10l.94 2.06.94-2.06 2.06-.94-2.06-.94-.94-2.06-.94 2.06-2.06.94z\"/><path d=\"M17.41 7.96l-1.37-1.37c-.4-.4-.92-.59-1.43-.59-.52 0-1.04.2-1.43.59L10.3 9.45l-7.72 7.72c-.78.78-.78 2.05 0 2.83L4 21.41c.39.39.9.59 1.41.59.51 0 1.02-.2 1.41-.59l7.78-7.78 2.81-2.81c.8-.78.8-2.07 0-2.86zM5.41 20L4 18.59l7.72-7.72 1.47 1.35L5.41 20z\"/>\n",
              "  </svg>\n",
              "      </button>\n",
              "      \n",
              "  <style>\n",
              "    .colab-df-container {\n",
              "      display:flex;\n",
              "      flex-wrap:wrap;\n",
              "      gap: 12px;\n",
              "    }\n",
              "\n",
              "    .colab-df-convert {\n",
              "      background-color: #E8F0FE;\n",
              "      border: none;\n",
              "      border-radius: 50%;\n",
              "      cursor: pointer;\n",
              "      display: none;\n",
              "      fill: #1967D2;\n",
              "      height: 32px;\n",
              "      padding: 0 0 0 0;\n",
              "      width: 32px;\n",
              "    }\n",
              "\n",
              "    .colab-df-convert:hover {\n",
              "      background-color: #E2EBFA;\n",
              "      box-shadow: 0px 1px 2px rgba(60, 64, 67, 0.3), 0px 1px 3px 1px rgba(60, 64, 67, 0.15);\n",
              "      fill: #174EA6;\n",
              "    }\n",
              "\n",
              "    [theme=dark] .colab-df-convert {\n",
              "      background-color: #3B4455;\n",
              "      fill: #D2E3FC;\n",
              "    }\n",
              "\n",
              "    [theme=dark] .colab-df-convert:hover {\n",
              "      background-color: #434B5C;\n",
              "      box-shadow: 0px 1px 3px 1px rgba(0, 0, 0, 0.15);\n",
              "      filter: drop-shadow(0px 1px 2px rgba(0, 0, 0, 0.3));\n",
              "      fill: #FFFFFF;\n",
              "    }\n",
              "  </style>\n",
              "\n",
              "      <script>\n",
              "        const buttonEl =\n",
              "          document.querySelector('#df-e3ad028f-426b-4b03-a583-149290847282 button.colab-df-convert');\n",
              "        buttonEl.style.display =\n",
              "          google.colab.kernel.accessAllowed ? 'block' : 'none';\n",
              "\n",
              "        async function convertToInteractive(key) {\n",
              "          const element = document.querySelector('#df-e3ad028f-426b-4b03-a583-149290847282');\n",
              "          const dataTable =\n",
              "            await google.colab.kernel.invokeFunction('convertToInteractive',\n",
              "                                                     [key], {});\n",
              "          if (!dataTable) return;\n",
              "\n",
              "          const docLinkHtml = 'Like what you see? Visit the ' +\n",
              "            '<a target=\"_blank\" href=https://colab.research.google.com/notebooks/data_table.ipynb>data table notebook</a>'\n",
              "            + ' to learn more about interactive tables.';\n",
              "          element.innerHTML = '';\n",
              "          dataTable['output_type'] = 'display_data';\n",
              "          await google.colab.output.renderOutput(dataTable, element);\n",
              "          const docLink = document.createElement('div');\n",
              "          docLink.innerHTML = docLinkHtml;\n",
              "          element.appendChild(docLink);\n",
              "        }\n",
              "      </script>\n",
              "    </div>\n",
              "  </div>\n",
              "  "
            ]
          },
          "metadata": {},
          "execution_count": 52
        }
      ]
    },
    {
      "cell_type": "code",
      "source": [
        "df_prices_ny_b_s.min()"
      ],
      "metadata": {
        "colab": {
          "base_uri": "https://localhost:8080/"
        },
        "id": "mONu24BV5rom",
        "outputId": "9296845d-d37f-49ca-c8a6-9a9103d35dc3"
      },
      "execution_count": null,
      "outputs": [
        {
          "output_type": "execute_result",
          "data": {
            "text/plain": [
              "price.numberDouble    14.99\n",
              "dtype: float64"
            ]
          },
          "metadata": {},
          "execution_count": 33
        }
      ]
    },
    {
      "cell_type": "code",
      "source": [
        "df_prices_ny_b_s.max()"
      ],
      "metadata": {
        "id": "-ATSvBon5v0N",
        "outputId": "ce36c0e1-6c3c-4acd-9c46-323ade11001b",
        "colab": {
          "base_uri": "https://localhost:8080/"
        }
      },
      "execution_count": null,
      "outputs": [
        {
          "output_type": "execute_result",
          "data": {
            "text/plain": [
              "price.numberDouble    34.99\n",
              "dtype: float64"
            ]
          },
          "metadata": {},
          "execution_count": 32
        }
      ]
    },
    {
      "cell_type": "code",
      "source": [
        "serie_prices\n",
        "serie_prices.max() - serie_prices.min()"
      ],
      "metadata": {
        "colab": {
          "base_uri": "https://localhost:8080/"
        },
        "id": "ZavUWzuv6YSg",
        "outputId": "e04853b0-32ba-4503-c88a-7c066a6730cd"
      },
      "execution_count": null,
      "outputs": [
        {
          "output_type": "execute_result",
          "data": {
            "text/plain": [
              "20.0"
            ]
          },
          "metadata": {},
          "execution_count": 53
        }
      ]
    },
    {
      "cell_type": "code",
      "source": [
        "pd.cut(serie_prices,18)"
      ],
      "metadata": {
        "colab": {
          "base_uri": "https://localhost:8080/"
        },
        "id": "uU6Hrqci6E4t",
        "outputId": "bebe86f9-e683-43cd-ed9b-14a83c9a3f77"
      },
      "execution_count": null,
      "outputs": [
        {
          "output_type": "execute_result",
          "data": {
            "text/plain": [
              "0        (24.99, 26.101]\n",
              "1        (23.879, 24.99]\n",
              "2       (22.768, 23.879]\n",
              "3        (23.879, 24.99]\n",
              "4        (23.879, 24.99]\n",
              "              ...       \n",
              "3028    (27.212, 28.323]\n",
              "3029    (27.212, 28.323]\n",
              "3030    (26.101, 27.212]\n",
              "3031    (28.323, 29.434]\n",
              "3032     (24.99, 26.101]\n",
              "Name: price.numberDouble, Length: 3033, dtype: category\n",
              "Categories (18, interval[float64, right]): [(14.97, 16.101] < (16.101, 17.212] < (17.212, 18.323] <\n",
              "                                            (18.323, 19.434] ... (30.546, 31.657] <\n",
              "                                            (31.657, 32.768] < (32.768, 33.879] < (33.879, 34.99]]"
            ]
          },
          "metadata": {},
          "execution_count": 54
        }
      ]
    },
    {
      "cell_type": "code",
      "source": [
        "print(df_ny_b_s['price.numberDouble'].mean())\n",
        "print(df_ny_b_s['price.numberDouble'].median())"
      ],
      "metadata": {
        "colab": {
          "base_uri": "https://localhost:8080/"
        },
        "id": "72jzqXbY8_Aj",
        "outputId": "7e220a71-6f16-4813-b801-c002473f2aca"
      },
      "execution_count": null,
      "outputs": [
        {
          "output_type": "stream",
          "name": "stdout",
          "text": [
            "26.8183679525219\n",
            "26.95\n"
          ]
        }
      ]
    },
    {
      "cell_type": "code",
      "source": [
        "segmentos= pd.cut(serie_prices,18)\n",
        "df_ny_b_s['price.numberDouble'].groupby(segmentos).count()"
      ],
      "metadata": {
        "colab": {
          "base_uri": "https://localhost:8080/"
        },
        "id": "0htVB4we7LFI",
        "outputId": "7aab502a-a1c9-4c5a-e6bb-00b24ad275f7"
      },
      "execution_count": null,
      "outputs": [
        {
          "output_type": "execute_result",
          "data": {
            "text/plain": [
              "price.numberDouble\n",
              "(14.97, 16.101]       3\n",
              "(16.101, 17.212]     11\n",
              "(17.212, 18.323]      0\n",
              "(18.323, 19.434]      0\n",
              "(19.434, 20.546]     33\n",
              "(20.546, 21.657]      0\n",
              "(21.657, 22.768]     24\n",
              "(22.768, 23.879]      9\n",
              "(23.879, 24.99]     446\n",
              "(24.99, 26.101]     666\n",
              "(26.101, 27.212]    591\n",
              "(27.212, 28.323]    986\n",
              "(28.323, 29.434]    168\n",
              "(29.434, 30.546]     84\n",
              "(30.546, 31.657]      0\n",
              "(31.657, 32.768]      0\n",
              "(32.768, 33.879]      0\n",
              "(33.879, 34.99]      12\n",
              "Name: price.numberDouble, dtype: int64"
            ]
          },
          "metadata": {},
          "execution_count": 56
        }
      ]
    },
    {
      "cell_type": "code",
      "source": [
        "sns.boxplot(x=df_ny_b_s['price.numberDouble'])"
      ],
      "metadata": {
        "colab": {
          "base_uri": "https://localhost:8080/",
          "height": 302
        },
        "id": "ej0yZlnx8rDE",
        "outputId": "f029e80f-dd3b-4b87-ede0-23b021c57618"
      },
      "execution_count": null,
      "outputs": [
        {
          "output_type": "execute_result",
          "data": {
            "text/plain": [
              "<matplotlib.axes._subplots.AxesSubplot at 0x7ff12d954390>"
            ]
          },
          "metadata": {},
          "execution_count": 58
        },
        {
          "output_type": "display_data",
          "data": {
            "text/plain": [
              "<Figure size 432x288 with 1 Axes>"
            ],
            "image/png": "[encoded data removed]"
          },
          "metadata": {}
        }
      ]
    },
    {
      "cell_type": "markdown",
      "source": [
        "Después, genera las tablas de frecuencias para cada uno de estos conjuntos de datos y compáralos con las gráficas de caja que realizaste en el Reto anterior. ¿Hay información nueva? ¿Qué ventajas o desventajas nos da esta nueva perspectiva?\n",
        "\n",
        "Piensa cuál de las dos aproximaciones (boxplots y tablas de frecuencia) resulta más útil para detectar valores atípicos. ¿O simplemente son útiles en diferentes contextos?"
      ],
      "metadata": {
        "id": "KDJKTR6G92py"
      }
    },
    {
      "cell_type": "code",
      "source": [
        "sns.histplot(df_ny_b_s['price.numberDouble'])"
      ],
      "metadata": {
        "colab": {
          "base_uri": "https://localhost:8080/",
          "height": 302
        },
        "id": "WKjcwEpE_DMp",
        "outputId": "c821906d-19f1-4f47-f4ad-692a2982d904"
      },
      "execution_count": null,
      "outputs": [
        {
          "output_type": "execute_result",
          "data": {
            "text/plain": [
              "<matplotlib.axes._subplots.AxesSubplot at 0x7ff12db1c610>"
            ]
          },
          "metadata": {},
          "execution_count": 67
        },
        {
          "output_type": "display_data",
          "data": {
            "text/plain": [
              "<Figure size 432x288 with 1 Axes>"
            ],
            "image/png": "[encoded data removed]"
          },
          "metadata": {}
        }
      ]
    },
    {
      "cell_type": "code",
      "source": [
        "import plotly.express as px"
      ],
      "metadata": {
        "id": "kocA1BOIAaBB"
      },
      "execution_count": null,
      "outputs": []
    },
    {
      "cell_type": "code",
      "source": [
        "fig = px.histogram(df_ny_b_s['price.numberDouble'])\n",
        "fig"
      ],
      "metadata": {
        "colab": {
          "base_uri": "https://localhost:8080/",
          "height": 542
        },
        "id": "ae-qt785AeRw",
        "outputId": "7c5d5f01-9b1b-4381-c9df-1dfadfbce4c6"
      },
      "execution_count": null,
      "outputs": [
        {
          "output_type": "display_data",
          "data": {
            "text/html": [
              "<html>\n",
              "<head><meta charset=\"utf-8\" /></head>\n",
              "<body>\n",
              "    <div>            <script src=\"https://cdnjs.cloudflare.com/ajax/libs/mathjax/2.7.5/MathJax.js?config=TeX-AMS-MML_SVG\"></script><script type=\"text/javascript\">if (window.MathJax) {MathJax.Hub.Config({SVG: {font: \"STIX-Web\"}});}</script>                <script type=\"text/javascript\">window.PlotlyConfig = {MathJaxConfig: 'local'};</script>\n",
              "        <script src=\"https://cdn.plot.ly/plotly-2.8.3.min.js\"></script>                <div id=\"45c7cdff-c4e8-40ae-ba09-e4a16b4226b8\" class=\"plotly-graph-div\" style=\"height:525px; width:100%;\"></div>            <script type=\"text/javascript\">                                    window.PLOTLYENV=window.PLOTLYENV || {};                                    if (document.getElementById(\"45c7cdff-c4e8-40ae-ba09-e4a16b4226b8\")) {                    Plotly.newPlot(                        \"45c7cdff-c4e8-40ae-ba09-e4a16b4226b8\",                        [{\"alignmentgroup\":\"True\",\"bingroup\":\"x\",\"hovertemplate\":\"variable=price.numberDouble<br>value=%{x}<br>count=%{y}<extra></extra>\",\"legendgroup\":\"price.numberDouble\",\"marker\":{\"color\":\"#636efa\",\"pattern\":{\"shape\":\"\"}},\"name\":\"price.numberDouble\",\"offsetgroup\":\"price.numberDouble\",\"orientation\":\"v\",\"showlegend\":true,\"x\":[25.99,24.95,22.95,24.95,24.99,26.95,21.99,27.95,26.99,26.95,23.95,24.95,25.95,25.99,24.95,24.99,25.95,22.95,24.95,26.95,24.95,26.95,27.95,26.99,23.95,25.99,26.95,24.95,25.95,25.95,24.99,26.95,24.95,24.95,26.95,26.95,22.95,23.95,27.99,25.99,26.95,24.95,25.95,26.95,26.95,24.99,26.95,25.95,23.95,25.95,24.95,27.95,27.99,25.99,25.95,24.95,26.95,26.95,25.95,26.95,24.99,23.95,25.95,27.95,27.99,25.95,25.99,25.95,26.95,25.95,24.95,24.95,26.95,26.95,27.95,27.99,25.95,25.95,25.99,25.95,24.95,24.95,26.95,25.95,26.95,26.95,27.95,25.95,25.95,27.99,25.99,25.95,24.95,24.95,25.95,25.95,24.95,26.95,26.95,25.95,27.95,25.99,27.99,27.95,24.95,25.95,25.95,25.95,24.95,24.95,24.95,26.95,25.95,25.99,26.95,27.99,25.95,27.95,25.95,27.95,25.95,24.95,24.95,24.95,26.95,25.99,25.99,25.95,26.95,24.95,27.99,25.95,25.95,27.95,24.95,24.95,24.95,25.99,26.95,25.99,25.95,24.95,26.95,25.95,25.95,24.95,25.95,27.99,26.95,25.99,24.95,26.95,25.99,25.95,25.95,24.95,24.95,26.95,25.95,26.95,24.95,25.95,26.95,25.99,25.99,24.95,26.95,25.95,24.95,24.95,25.95,27.95,25.95,25.95,25.95,26.95,25.95,25.95,25.99,25.95,25.99,26.95,26.95,24.95,24.95,24.95,25.95,25.95,25.95,24.95,25.99,25.95,25.99,25.95,25.95,26.95,25.99,24.95,24.95,25.99,24.95,25.99,25.95,25.95,25.95,25.99,26.95,24.99,25.95,25.95,25.95,24.95,25.99,25.99,29.95,27.95,24.95,25.95,25.95,26.95,27.95,25.95,25.95,25.95,24.95,26.95,25.99,25.99,25.95,29.95,23.95,24.99,25.95,25.95,26.95,26.95,25.95,16.95,25.95,27.95,24.95,25.99,29.95,25.95,25.99,24.99,25.95,27.95,25.95,26.95,25.95,19.95,25.99,27.95,26.95,24.95,16.95,25.95,24.99,25.95,26.95,25.95,26.95,27.95,16.95,25.95,25.99,24.95,16.95,27.95,27.95,24.99,25.95,26.95,26.95,25.99,26.95,25.95,25.99,26.95,25.95,27.99,27.95,24.99,25.95,26.95,25.99,26.95,25.99,25.95,26.95,16.95,25.95,27.99,27.95,24.99,26.95,25.95,25.99,25.99,26.95,26.95,19.99,29.95,23.95,27.99,27.95,25.95,24.99,25.95,26.95,26.95,25.99,25.95,27.99,19.99,25.95,29.95,23.95,27.99,25.95,24.99,27.95,25.95,26.95,27.99,19.99,27.95,29.95,25.95,24.99,25.99,25.95,27.99,25.95,23.95,27.95,27.95,19.99,27.99,25.95,27.95,29.95,25.99,24.99,23.95,25.95,27.99,27.95,19.99,27.99,25.95,25.99,27.95,24.99,29.95,23.95,27.99,25.95,19.99,27.95,27.99,25.95,25.99,24.99,27.95,23.95,29.95,27.99,25.95,27.95,27.99,19.99,25.95,25.99,24.99,29.95,27.95,23.95,27.99,25.95,26.95,27.95,25.99,27.99,25.95,19.99,25.95,29.95,24.99,27.95,23.95,27.95,25.99,26.95,27.95,25.95,27.99,29.95,24.95,25.95,23.95,19.99,24.99,27.95,25.99,26.95,25.95,25.95,27.95,27.99,29.95,25.95,24.95,24.99,23.95,27.95,25.99,25.95,27.99,26.95,27.95,25.95,27.99,29.95,25.95,24.95,24.99,23.95,27.95,25.99,25.95,27.95,25.99,27.99,26.95,26.95,22.95,27.95,27.99,25.95,29.95,24.95,27.95,27.99,24.95,25.99,25.95,25.95,27.95,25.99,27.99,25.99,26.95,26.95,27.95,22.95,27.95,27.99,25.99,26.99,24.95,25.95,25.95,27.95,25.99,27.99,27.95,26.95,26.95,27.95,25.99,27.95,27.99,26.95,25.99,26.99,25.95,25.95,27.95,24.95,25.99,25.95,27.95,26.95,27.95,25.99,27.99,25.95,26.95,25.99,24.95,26.99,25.95,25.99,24.95,27.95,27.95,26.95,27.99,25.99,25.95,26.95,25.99,24.95,27.95,26.99,25.99,25.95,27.95,27.95,27.95,25.99,27.99,26.95,25.95,26.95,25.95,25.99,27.95,24.95,26.99,24.95,27.95,27.95,27.95,25.99,27.99,26.95,26.95,25.95,25.95,25.99,24.95,24.95,27.95,27.95,27.95,25.99,27.95,27.99,24.95,26.95,25.95,26.95,25.95,25.95,27.95,25.99,27.95,27.95,27.95,25.95,24.95,27.99,24.95,24.95,26.99,25.95,25.95,27.95,25.99,25.99,27.95,25.95,27.95,25.95,27.95,25.95,26.95,25.95,27.95,25.99,27.95,27.95,25.99,24.99,24.95,24.95,24.95,27.99,23.95,25.95,25.95,24.95,25.99,26.95,26.95,27.95,25.95,27.95,27.95,24.95,25.99,27.99,24.95,27.99,24.95,23.95,25.95,25.95,25.99,26.95,24.95,24.95,27.95,27.95,25.95,27.99,24.95,27.99,23.95,25.95,24.95,25.99,24.95,25.95,24.95,25.95,27.95,27.95,27.95,26.99,25.95,27.99,27.99,24.95,25.99,23.95,27.95,24.95,25.95,24.95,26.99,24.95,25.95,27.95,27.99,25.95,26.99,27.99,25.99,24.95,26.95,24.95,23.95,27.95,26.99,25.95,27.99,27.95,27.99,25.95,26.99,27.99,25.99,24.95,24.95,24.95,23.95,26.95,27.95,26.99,26.95,27.95,27.99,25.95,27.99,26.99,27.95,25.99,27.99,26.99,24.95,24.95,25.99,27.99,27.99,27.95,26.95,26.95,27.99,25.95,25.99,27.95,27.99,24.95,26.95,27.99,26.95,25.99,27.99,27.95,26.95,27.99,25.95,25.95,24.95,27.99,27.95,27.99,26.95,26.95,27.99,25.99,27.95,27.99,24.95,25.99,25.95,25.99,27.99,27.95,26.99,26.95,27.99,27.99,26.95,24.95,25.99,26.95,25.95,25.99,27.99,26.95,27.99,27.95,26.99,26.99,27.99,24.95,25.99,24.99,27.99,26.95,26.95,25.99,25.95,26.99,27.99,26.95,27.95,24.95,25.99,27.99,26.99,26.99,26.99,24.99,25.95,25.99,26.95,26.99,27.99,24.95,26.95,27.95,25.99,26.99,25.99,25.95,26.99,27.99,26.95,25.95,26.95,26.99,24.95,27.99,26.95,27.95,25.99,25.95,25.99,26.99,25.99,24.99,25.95,24.95,25.95,27.95,26.99,26.95,26.95,27.99,25.95,25.95,26.95,27.95,27.99,29.95,26.99,24.95,25.95,25.95,25.99,26.99,27.99,26.95,26.95,27.95,24.99,25.95,25.99,25.95,29.95,25.99,24.95,25.95,25.95,26.99,25.99,27.95,26.99,25.95,25.99,27.99,26.95,27.99,29.95,24.95,26.99,25.99,25.95,25.95,25.99,26.95,25.95,26.99,25.95,26.99,26.95,25.95,27.99,29.95,26.96,24.95,25.99,26.99,25.95,25.95,25.99,25.95,25.95,26.99,24.99,24.99,29.95,24.95,27.99,26.96,25.95,25.99,25.95,25.95,25.95,26.99,25.99,25.95,29.95,24.99,24.95,27.99,29.95,26.96,25.99,25.95,25.95,25.95,25.95,26.99,25.99,25.95,29.95,24.99,24.95,25.95,29.95,27.99,26.95,26.95,26.96,26.99,25.95,23.95,25.95,25.99,28.95,29.95,26.95,24.99,24.95,26.99,16.95,29.95,27.99,25.95,25.95,25.95,26.96,26.95,25.95,29.95,23.95,24.95,26.95,24.99,26.95,26.99,27.95,19.99,25.99,29.95,25.95,29.95,27.99,27.99,24.95,24.99,23.95,26.95,26.95,19.99,26.99,29.95,27.95,27.99,27.99,24.95,19.99,24.99,27.99,23.95,26.99,26.95,26.95,29.99,29.95,27.99,27.99,27.95,24.95,27.99,24.95,24.99,25.95,23.95,29.95,26.95,29.99,26.99,27.99,24.95,27.99,27.95,27.99,24.99,19.99,29.95,24.95,26.99,29.99,27.99,26.95,27.99,19.99,27.95,24.99,27.99,27.99,29.95,24.95,27.95,27.99,26.99,29.99,27.99,27.95,24.99,26.95,19.99,27.99,27.99,29.95,25.95,24.95,27.95,24.99,27.99,29.99,26.99,27.99,27.95,27.95,29.95,27.99,24.95,27.99,26.99,27.99,24.99,27.99,29.99,27.95,19.99,29.95,27.95,27.99,24.95,27.99,19.99,24.99,26.99,27.99,27.99,29.99,29.95,27.99,24.95,27.95,27.99,24.99,19.99,26.99,25.95,27.99,27.99,29.95,27.99,24.95,27.99,27.95,24.99,19.99,26.99,27.99,29.99,29.95,24.95,27.99,25.95,26.95,26.95,24.99,27.99,27.95,27.99,25.95,25.99,24.95,29.95,25.95,25.99,27.99,24.99,26.95,26.95,27.95,27.99,27.99,25.95,24.95,26.95,29.95,26.99,24.99,27.99,25.99,26.95,25.95,26.95,25.95,27.95,24.99,26.95,24.95,24.95,25.95,29.95,25.99,26.95,24.99,26.99,26.95,24.99,27.99,25.99,25.95,25.95,26.95,24.95,29.95,25.95,26.95,26.99,27.99,24.99,25.95,24.99,26.95,25.99,25.99,25.95,24.99,27.99,24.95,23.95,26.99,29.95,25.95,24.99,26.99,25.95,27.99,26.95,26.95,24.99,27.99,24.95,29.95,26.99,23.95,26.99,25.99,25.95,25.95,25.95,25.95,24.99,26.99,27.99,26.95,24.95,27.99,29.95,26.99,26.99,25.95,25.95,23.95,25.99,25.95,25.95,25.99,25.95,26.99,26.95,24.95,25.99,25.95,27.99,25.95,29.95,26.99,25.95,26.99,25.95,23.95,25.99,25.99,24.95,26.95,21.99,27.99,25.99,25.95,29.95,25.95,26.99,25.95,25.95,26.99,24.95,24.95,27.95,21.99,25.95,27.95,27.99,26.95,26.95,29.95,25.95,25.99,24.95,27.95,26.99,21.99,27.95,27.99,25.95,24.99,29.95,25.95,26.95,27.95,24.95,27.95,23.99,21.99,24.95,26.99,25.95,27.95,27.99,25.99,25.95,29.95,25.95,24.95,24.95,27.95,26.95,27.95,21.99,23.99,24.95,26.99,29.95,25.95,27.95,25.95,24.95,27.95,25.99,24.95,25.95,24.95,26.95,21.99,27.95,25.95,25.99,24.95,25.95,27.95,24.95,27.99,24.95,24.99,21.99,27.99,24.95,24.95,28.99,25.95,25.99,25.95,27.99,25.95,27.95,24.95,27.99,25.95,24.95,27.99,24.95,25.99,24.95,28.99,25.95,25.95,27.99,25.95,26.99,25.95,27.99,27.99,24.95,27.99,25.95,25.99,24.95,25.95,24.95,24.95,26.99,28.99,25.95,26.99,26.99,27.99,27.99,24.95,27.99,24.95,25.95,24.95,25.99,26.99,28.99,24.95,27.95,25.95,24.95,27.99,26.99,27.99,26.99,27.99,25.99,25.95,25.99,24.95,27.95,25.95,24.95,27.95,27.99,26.99,14.99,27.99,26.99,27.99,24.95,24.95,25.95,27.95,26.95,27.95,24.95,25.95,26.99,27.95,27.99,27.99,26.99,27.99,14.99,26.99,27.95,27.99,24.95,27.95,25.95,26.95,27.95,27.99,26.99,26.99,27.99,27.99,24.99,14.99,27.95,27.99,26.95,24.95,27.95,25.99,27.99,25.95,27.99,24.95,27.99,27.95,27.99,24.95,26.95,25.95,25.99,27.95,27.99,27.99,27.95,24.95,26.99,27.99,26.95,25.95,25.95,26.99,26.95,27.95,27.99,27.99,24.95,26.99,27.99,25.99,25.95,24.95,27.95,26.99,26.95,24.95,27.99,25.99,27.99,25.95,27.99,26.99,25.99,26.95,27.95,24.95,26.99,27.99,26.95,27.99,25.99,27.99,26.99,25.95,27.95,26.95,26.95,24.95,26.99,27.99,26.95,27.99,25.99,25.99,27.99,25.95,27.95,25.99,24.95,26.95,26.95,26.99,27.99,24.95,26.95,27.99,25.99,25.99,25.99,25.99,27.95,26.99,24.95,26.95,26.95,25.99,26.95,27.99,26.99,26.95,27.99,25.99,26.95,25.99,27.99,27.95,24.95,26.95,26.95,26.99,25.99,25.99,25.99,26.95,26.95,27.99,26.95,26.99,25.99,27.95,27.99,26.99,24.95,26.95,26.99,25.99,26.95,25.99,25.99,26.95,25.99,26.95,26.95,27.95,25.95,27.95,27.99,24.95,27.99,26.99,26.95,26.95,26.95,25.99,26.99,25.99,24.99,27.95,24.99,27.95,24.95,27.99,27.95,26.95,25.95,27.99,25.95,26.99,26.95,26.95,25.99,27.99,27.95,24.95,27.95,27.99,24.99,27.99,24.99,27.95,24.99,24.99,26.95,25.99,27.95,27.95,27.99,24.95,26.99,24.99,25.95,27.95,27.99,27.99,27.95,24.99,27.99,25.99,21.99,27.95,24.99,27.95,24.95,27.99,24.99,27.95,16.95,27.99,27.95,25.99,21.99,27.99,26.95,19.99,24.95,27.95,27.95,27.95,24.99,24.99,27.99,27.95,27.99,25.99,27.95,21.99,27.99,24.95,26.95,24.99,27.95,19.99,27.95,27.95,27.99,27.95,25.99,27.99,26.99,21.99,27.99,24.95,27.99,27.95,29.95,26.95,28.95,27.99,27.95,25.95,27.95,25.99,27.99,21.99,24.95,27.99,27.95,24.99,26.99,29.99,28.95,26.95,27.95,27.99,26.99,27.95,21.99,25.99,24.95,25.95,26.99,27.99,27.99,28.95,29.99,27.95,21.99,27.99,26.95,27.95,25.99,24.95,26.99,27.99,28.95,27.99,27.95,27.99,27.95,29.99,21.99,24.95,27.99,25.99,27.95,26.95,27.99,28.95,27.99,27.99,27.95,27.95,29.99,27.99,25.99,24.95,21.99,27.99,26.99,27.95,28.95,27.99,27.99,27.95,27.99,27.95,21.99,25.99,29.99,24.95,26.99,27.99,28.95,28.95,27.99,27.95,27.95,27.99,27.99,24.95,25.99,21.99,26.99,27.95,29.99,28.95,28.95,27.95,27.99,27.99,27.95,21.99,24.95,25.99,27.99,26.99,27.95,24.99,28.95,28.95,27.99,27.95,27.99,27.95,24.95,21.99,25.99,27.99,26.99,27.95,24.99,28.95,27.95,27.95,28.95,27.99,27.95,26.95,25.95,24.95,27.99,27.99,29.99,27.95,28.95,28.95,24.95,27.95,27.99,24.95,26.95,27.95,26.95,26.95,24.99,27.99,26.99,26.95,27.95,28.95,24.95,28.95,24.95,27.99,24.99,27.95,26.95,26.95,27.99,27.95,25.95,27.95,26.99,26.95,25.99,28.95,24.95,28.95,24.99,27.99,27.95,24.95,27.99,27.95,26.99,25.95,24.95,28.95,26.95,28.95,24.99,25.99,24.95,24.99,27.99,27.95,24.95,26.99,28.95,25.99,25.95,28.95,24.99,26.95,25.95,24.95,25.99,27.99,28.95,27.95,24.95,28.95,25.95,26.99,28.95,24.99,25.95,24.95,26.95,24.95,25.99,27.99,28.95,27.95,24.95,28.95,28.95,26.99,24.99,25.95,27.99,24.95,25.95,24.95,25.99,26.95,26.99,26.99,28.95,27.99,27.95,24.95,24.95,25.95,28.95,24.99,28.95,27.99,24.95,29.95,26.95,26.95,26.95,28.95,27.99,27.95,26.99,26.99,24.95,24.99,25.95,28.95,25.95,27.95,29.95,27.95,28.95,26.95,26.95,26.95,27.99,26.95,24.95,25.95,27.99,27.95,27.95,29.95,28.95,26.95,27.99,24.95,26.95,26.95,24.99,27.95,27.99,24.95,27.99,25.99,27.95,27.95,25.95,28.95,27.95,27.95,27.99,26.95,27.95,24.95,27.95,27.99,21.99,28.95,27.99,27.99,25.99,27.95,26.99,27.99,27.95,22.99,27.95,24.95,27.99,27.95,27.99,25.99,27.95,27.99,27.99,27.95,22.99,27.99,24.95,26.99,27.95,27.99,27.99,27.95,25.99,25.95,27.99,27.99,24.99,27.95,27.99,27.99,27.99,25.95,24.95,27.99,21.99,25.99,27.95,27.95,27.99,27.99,25.95,27.95,27.99,27.99,26.95,25.99,27.99,27.95,26.95,24.95,27.95,25.95,24.95,27.99,27.95,27.95,27.99,27.99,26.95,26.95,27.99,27.95,25.95,27.99,25.95,25.99,27.95,25.99,27.95,27.99,27.95,27.99,26.95,26.95,27.95,25.95,27.99,25.99,25.99,24.95,27.95,27.99,27.95,27.99,27.95,25.95,26.95,26.95,27.99,25.99,27.95,27.99,27.95,27.99,27.95,25.95,26.99,26.95,25.95,26.95,27.99,27.95,27.95,26.99,27.95,25.99,27.99,27.95,27.95,27.99,28.95,25.99,26.99,25.99,26.99,27.95,27.95,27.99,27.95,27.95,27.95,25.99,28.95,27.99,26.99,25.99,26.99,26.99,25.99,27.95,27.95,27.95,25.99,25.95,27.99,27.99,26.99,28.95,25.99,27.99,26.99,25.99,25.95,26.99,27.95,27.95,27.99,28.95,26.99,25.99,25.95,27.95,25.99,26.99,25.95,27.99,25.99,27.95,27.99,26.99,27.99,26.99,25.99,28.95,25.99,25.99,25.95,27.95,27.99,26.99,26.99,26.95,27.99,26.99,26.99,27.99,28.95,25.99,25.99,27.95,25.95,25.99,27.95,26.99,26.99,27.99,26.99,26.95,26.99,27.95,27.99,28.95,25.99,26.95,26.99,26.99,25.99,27.95,26.99,27.99,26.99,26.99,27.95,26.95,25.99,26.95,26.99,26.95,26.99,27.95,26.95,26.99,25.99,24.95,27.99,26.99,27.95,29.99,26.99,24.95,26.99,27.95,26.95,26.99,26.95,27.95,27.99,26.99,26.95,26.95,26.99,29.99,26.99,26.99,27.95,24.95,27.95,26.99,26.99,25.99,26.95,27.99,26.95,27.99,25.99,26.99,25.99,27.99,27.95,24.95,29.99,26.99,26.99,26.99,27.99,27.95,26.95,25.99,25.99,26.99,27.95,26.95,24.95,25.99,27.99,27.95,26.95,27.99,25.99,25.95,27.95,27.99,25.99,26.99,26.95,27.95,27.99,26.99,26.99,25.99,26.99,26.95,26.95,27.95,27.99,25.99,27.95,25.95,25.99,26.99,27.95,26.99,16.95,26.99,26.95,26.99,24.95,26.95,27.95,25.99,27.99,25.99,27.95,25.95,27.95,27.95,26.95,26.99,24.95,16.95,26.99,27.99,28.95,26.95,27.95,25.99,25.99,25.99,27.95,26.95,26.99,27.99,16.95,25.99,27.95,25.99,25.99,25.99,27.99,24.95,27.95,23.95,26.99,27.99,26.95,27.99,25.95,16.95,25.95,28.95,30.5,25.99,25.99,26.99,24.95,27.95,23.95,27.99,26.95,27.99,27.99,28.95,25.99,19.99,30.5,25.99,26.99,25.95,27.95,23.95,28.95,27.99,25.99,25.99,30.5,24.99,19.99,26.99,28.99,27.95,28.95,27.95,25.99,27.99,25.99,30.5,26.99,19.99,23.95,28.99,28.95,27.95,28.99,25.99,27.99,27.95,25.99,30.5,23.95,27.99,28.95,28.99,25.99,27.95,28.99,27.99,30.5,27.95,25.99,27.95,28.95,25.95,28.99,27.99,25.99,27.95,28.99,27.99,30.5,25.99,28.95,28.95,28.99,25.95,25.99,27.95,27.99,27.95,25.99,30.5,28.99,27.99,28.95,28.99,28.95,25.95,25.99,27.95,27.95,27.95,27.99,30.5,28.99,25.99,25.95,28.95,28.99,28.95,25.99,27.95,27.95,26.95,27.99,28.99,27.95,26.95,27.99,27.99,25.95,28.95,27.95,28.95,25.99,28.99,27.95,27.99,26.95,26.95,28.95,27.99,26.99,25.95,27.95,25.95,28.95,28.95,27.99,25.99,28.99,27.99,27.99,28.95,25.95,27.95,26.99,21.99,25.99,28.95,28.95,26.99,25.99,27.99,26.95,27.99,25.95,27.95,28.95,26.99,28.95,28.95,27.99,25.99,25.99,25.99,27.99,27.99,26.95,25.95,27.95,28.95,26.99,28.95,25.95,25.99,27.99,27.99,26.95,27.99,25.95,27.99,26.95,27.95,25.99,26.99,25.99,28.95,25.95,27.99,27.99,25.95,25.95,27.99,27.99,26.95,27.95,25.99,26.95,27.99,26.99,27.95,26.99,27.99,27.99,25.95,26.95,25.95,25.95,27.99,27.99,25.99,26.95,27.99,27.95,27.99,25.95,26.99,25.95,27.99,27.95,26.95,27.99,27.99,25.95,27.95,25.95,26.99,27.95,27.99,27.99,25.95,26.95,27.95,24.99,25.99,27.95,25.95,27.99,27.95,27.99,27.99,25.95,27.95,27.99,27.95,25.99,27.99,27.95,27.99,25.95,27.99,26.99,27.99,26.99,24.95,26.99,27.95,24.95,27.95,27.99,24.95,27.99,26.99,27.99,26.99,26.99,27.95,24.95,24.95,24.99,27.95,27.99,26.99,27.99,27.95,24.95,26.95,27.99,26.99,27.99,27.99,26.99,26.99,24.95,27.95,24.99,24.95,27.99,24.95,27.95,25.95,27.99,26.99,26.95,26.99,26.99,24.95,27.99,27.99,27.95,27.99,24.95,27.95,26.95,27.99,26.99,26.95,26.99,26.99,24.99,25.99,24.95,27.99,27.95,19.99,27.99,24.95,27.95,27.99,26.95,26.99,24.99,26.99,27.99,27.95,27.99,27.95,24.95,27.99,27.95,19.99,27.99,27.99,26.95,27.95,27.99,27.95,24.95,27.99,27.99,27.99,25.99,19.99,27.95,27.99,27.95,24.95,27.95,27.99,27.99,19.99,25.95,27.95,24.95,27.95,25.99,27.99,27.95,27.99,27.95,27.99,24.99,27.99,24.95,25.95,25.99,27.99,27.95,27.99,27.99,27.95,27.95,26.99,24.95,27.99,27.99,27.95,25.95,25.99,27.95,27.99,25.99,27.99,26.99,24.95,27.99,25.95,25.99,27.99,27.99,25.99,25.95,26.99,27.99,26.99,24.95,25.99,27.99,25.99,25.95,27.99,28.95,27.99,26.95,26.99,25.99,25.99,26.95,24.95,26.99,27.99,25.99,27.99,27.99,28.95,27.99,26.95,25.95,26.99,27.99,25.99,24.95,24.99,27.99,27.99,27.99,27.95,27.99,28.95,27.99,25.99,26.95,25.95,26.99,26.95,27.99,27.99,27.99,27.99,28.95,27.95,27.99,26.95,26.95,25.95,25.99,26.95,27.99,27.95,27.95,25.99,27.99,27.99,27.99,28.95,27.99,26.99,27.99,27.99,28.95,26.95,24.95,27.95,27.99,27.95,27.99,27.99,25.99,27.99,26.99,24.99,28.95,24.95,25.99,26.99,27.99,27.99,26.99,28.95,25.99,24.99,27.99,27.95,26.95,25.99,26.99,27.95,27.99,25.95,26.99,24.99,27.95,27.99,26.95,27.99,26.99,27.95,25.95,25.99,26.95,24.99,26.99,26.95,27.99,26.95,27.99,27.99,27.95,27.95,25.95,24.99,26.95,26.99,27.99,27.99,27.95,25.99,27.95,26.95,27.95,27.95,24.99,26.95,27.99,25.95,26.95,25.99,27.99,26.99,27.99,27.99,27.99,27.95,24.99,26.95,27.99,26.99,27.99,25.95,24.99,27.99,27.99,27.99,28.95,27.99,26.99,24.99,27.95,24.99,27.99,26.95,28.95,27.99,19.99,28.95,27.99,24.99,24.99,27.95,26.99,24.95,28.95,27.99,19.99,28.95,27.99,26.95,24.99,26.99,28.95,28.95,28.99,27.99,28.95,27.99,19.99,24.99,26.99,27.99,28.99,28.95,26.95,28.99,28.95,27.99,24.99,28.95,27.99,26.95,19.99,27.99,27.99,28.95,28.99,28.99,24.99,28.95,27.99,24.99,27.99,27.95,27.99,27.99,28.95,28.99,27.99,28.99,24.99,27.99,24.99,28.95,28.95,27.99,28.99,27.99,27.99,27.95,28.99,24.99,27.99,28.95,28.95,27.99,28.99,26.99,27.99,24.95,27.99,28.99,24.99,27.99,24.99,28.95,28.95,28.99,27.99,24.99,24.99,24.95,28.99,27.99,27.99,27.99,28.95,28.99,28.95,24.99,27.99,24.95,27.99,27.99,24.99,28.99,27.99,26.99,27.95,28.95,27.99,28.95,24.95,24.99,27.99,28.99,27.99,26.99,27.99,34.99,27.95,26.95,27.99,24.95,27.99,28.95,26.95,28.99,27.99,24.99,28.95,27.95,34.99,27.99,26.99,26.95,28.95,24.95,25.99,27.95,27.99,24.99,26.95,27.99,27.99,27.99,34.99,27.95,27.99,27.99,26.99,28.95,24.95,26.95,27.99,27.99,26.95,24.99,28.95,34.99,27.99,27.95,26.99,27.99,28.95,27.99,26.95,26.99,24.95,26.95,25.99,34.99,26.95,27.99,27.95,26.99,24.95,27.99,28.95,25.99,26.95,26.99,27.99,26.95,34.99,27.99,27.95,26.95,27.95,27.99,27.99,24.95,24.95,28.95,28.99,26.95,34.99,27.99,25.99,26.95,24.95,27.95,28.95,26.99,27.99,27.95,28.99,28.99,26.95,34.99,26.99,26.95,25.99,24.95,27.99,26.95,27.95,28.99,28.99,26.95,26.99,22.99,27.95,27.95,34.99,28.99,28.99,26.95,26.95,27.95,27.95,26.95,26.99,34.99,22.99,24.95,27.95,28.99,28.99,26.95,27.95,26.95,25.99,26.99,27.95,27.99,26.95,34.99,27.95,27.95,26.99,28.99,28.99,26.95,25.99,27.95,26.95,34.99,26.99,27.99,27.95,27.95,28.99,26.95,25.99,28.99,26.99,26.95,25.99,26.99,27.99,27.99,26.95,27.95,28.99,27.95,26.95,28.99,27.95,26.99,27.99,27.99,27.99,26.95,27.95,27.95,26.95,28.99,25.99],\"xaxis\":\"x\",\"yaxis\":\"y\",\"type\":\"histogram\"}],                        {\"template\":{\"data\":{\"bar\":[{\"error_x\":{\"color\":\"#2a3f5f\"},\"error_y\":{\"color\":\"#2a3f5f\"},\"marker\":{\"line\":{\"color\":\"#E5ECF6\",\"width\":0.5},\"pattern\":{\"fillmode\":\"overlay\",\"size\":10,\"solidity\":0.2}},\"type\":\"bar\"}],\"barpolar\":[{\"marker\":{\"line\":{\"color\":\"#E5ECF6\",\"width\":0.5},\"pattern\":{\"fillmode\":\"overlay\",\"size\":10,\"solidity\":0.2}},\"type\":\"barpolar\"}],\"carpet\":[{\"aaxis\":{\"endlinecolor\":\"#2a3f5f\",\"gridcolor\":\"white\",\"linecolor\":\"white\",\"minorgridcolor\":\"white\",\"startlinecolor\":\"#2a3f5f\"},\"baxis\":{\"endlinecolor\":\"#2a3f5f\",\"gridcolor\":\"white\",\"linecolor\":\"white\",\"minorgridcolor\":\"white\",\"startlinecolor\":\"#2a3f5f\"},\"type\":\"carpet\"}],\"choropleth\":[{\"colorbar\":{\"outlinewidth\":0,\"ticks\":\"\"},\"type\":\"choropleth\"}],\"contour\":[{\"colorbar\":{\"outlinewidth\":0,\"ticks\":\"\"},\"colorscale\":[[0.0,\"#0d0887\"],[0.1111111111111111,\"#46039f\"],[0.2222222222222222,\"#7201a8\"],[0.3333333333333333,\"#9c179e\"],[0.4444444444444444,\"#bd3786\"],[0.5555555555555556,\"#d8576b\"],[0.6666666666666666,\"#ed7953\"],[0.7777777777777778,\"#fb9f3a\"],[0.8888888888888888,\"#fdca26\"],[1.0,\"#f0f921\"]],\"type\":\"contour\"}],\"contourcarpet\":[{\"colorbar\":{\"outlinewidth\":0,\"ticks\":\"\"},\"type\":\"contourcarpet\"}],\"heatmap\":[{\"colorbar\":{\"outlinewidth\":0,\"ticks\":\"\"},\"colorscale\":[[0.0,\"#0d0887\"],[0.1111111111111111,\"#46039f\"],[0.2222222222222222,\"#7201a8\"],[0.3333333333333333,\"#9c179e\"],[0.4444444444444444,\"#bd3786\"],[0.5555555555555556,\"#d8576b\"],[0.6666666666666666,\"#ed7953\"],[0.7777777777777778,\"#fb9f3a\"],[0.8888888888888888,\"#fdca26\"],[1.0,\"#f0f921\"]],\"type\":\"heatmap\"}],\"heatmapgl\":[{\"colorbar\":{\"outlinewidth\":0,\"ticks\":\"\"},\"colorscale\":[[0.0,\"#0d0887\"],[0.1111111111111111,\"#46039f\"],[0.2222222222222222,\"#7201a8\"],[0.3333333333333333,\"#9c179e\"],[0.4444444444444444,\"#bd3786\"],[0.5555555555555556,\"#d8576b\"],[0.6666666666666666,\"#ed7953\"],[0.7777777777777778,\"#fb9f3a\"],[0.8888888888888888,\"#fdca26\"],[1.0,\"#f0f921\"]],\"type\":\"heatmapgl\"}],\"histogram\":[{\"marker\":{\"pattern\":{\"fillmode\":\"overlay\",\"size\":10,\"solidity\":0.2}},\"type\":\"histogram\"}],\"histogram2d\":[{\"colorbar\":{\"outlinewidth\":0,\"ticks\":\"\"},\"colorscale\":[[0.0,\"#0d0887\"],[0.1111111111111111,\"#46039f\"],[0.2222222222222222,\"#7201a8\"],[0.3333333333333333,\"#9c179e\"],[0.4444444444444444,\"#bd3786\"],[0.5555555555555556,\"#d8576b\"],[0.6666666666666666,\"#ed7953\"],[0.7777777777777778,\"#fb9f3a\"],[0.8888888888888888,\"#fdca26\"],[1.0,\"#f0f921\"]],\"type\":\"histogram2d\"}],\"histogram2dcontour\":[{\"colorbar\":{\"outlinewidth\":0,\"ticks\":\"\"},\"colorscale\":[[0.0,\"#0d0887\"],[0.1111111111111111,\"#46039f\"],[0.2222222222222222,\"#7201a8\"],[0.3333333333333333,\"#9c179e\"],[0.4444444444444444,\"#bd3786\"],[0.5555555555555556,\"#d8576b\"],[0.6666666666666666,\"#ed7953\"],[0.7777777777777778,\"#fb9f3a\"],[0.8888888888888888,\"#fdca26\"],[1.0,\"#f0f921\"]],\"type\":\"histogram2dcontour\"}],\"mesh3d\":[{\"colorbar\":{\"outlinewidth\":0,\"ticks\":\"\"},\"type\":\"mesh3d\"}],\"parcoords\":[{\"line\":{\"colorbar\":{\"outlinewidth\":0,\"ticks\":\"\"}},\"type\":\"parcoords\"}],\"pie\":[{\"automargin\":true,\"type\":\"pie\"}],\"scatter\":[{\"marker\":{\"colorbar\":{\"outlinewidth\":0,\"ticks\":\"\"}},\"type\":\"scatter\"}],\"scatter3d\":[{\"line\":{\"colorbar\":{\"outlinewidth\":0,\"ticks\":\"\"}},\"marker\":{\"colorbar\":{\"outlinewidth\":0,\"ticks\":\"\"}},\"type\":\"scatter3d\"}],\"scattercarpet\":[{\"marker\":{\"colorbar\":{\"outlinewidth\":0,\"ticks\":\"\"}},\"type\":\"scattercarpet\"}],\"scattergeo\":[{\"marker\":{\"colorbar\":{\"outlinewidth\":0,\"ticks\":\"\"}},\"type\":\"scattergeo\"}],\"scattergl\":[{\"marker\":{\"colorbar\":{\"outlinewidth\":0,\"ticks\":\"\"}},\"type\":\"scattergl\"}],\"scattermapbox\":[{\"marker\":{\"colorbar\":{\"outlinewidth\":0,\"ticks\":\"\"}},\"type\":\"scattermapbox\"}],\"scatterpolar\":[{\"marker\":{\"colorbar\":{\"outlinewidth\":0,\"ticks\":\"\"}},\"type\":\"scatterpolar\"}],\"scatterpolargl\":[{\"marker\":{\"colorbar\":{\"outlinewidth\":0,\"ticks\":\"\"}},\"type\":\"scatterpolargl\"}],\"scatterternary\":[{\"marker\":{\"colorbar\":{\"outlinewidth\":0,\"ticks\":\"\"}},\"type\":\"scatterternary\"}],\"surface\":[{\"colorbar\":{\"outlinewidth\":0,\"ticks\":\"\"},\"colorscale\":[[0.0,\"#0d0887\"],[0.1111111111111111,\"#46039f\"],[0.2222222222222222,\"#7201a8\"],[0.3333333333333333,\"#9c179e\"],[0.4444444444444444,\"#bd3786\"],[0.5555555555555556,\"#d8576b\"],[0.6666666666666666,\"#ed7953\"],[0.7777777777777778,\"#fb9f3a\"],[0.8888888888888888,\"#fdca26\"],[1.0,\"#f0f921\"]],\"type\":\"surface\"}],\"table\":[{\"cells\":{\"fill\":{\"color\":\"#EBF0F8\"},\"line\":{\"color\":\"white\"}},\"header\":{\"fill\":{\"color\":\"#C8D4E3\"},\"line\":{\"color\":\"white\"}},\"type\":\"table\"}]},\"layout\":{\"annotationdefaults\":{\"arrowcolor\":\"#2a3f5f\",\"arrowhead\":0,\"arrowwidth\":1},\"autotypenumbers\":\"strict\",\"coloraxis\":{\"colorbar\":{\"outlinewidth\":0,\"ticks\":\"\"}},\"colorscale\":{\"diverging\":[[0,\"#8e0152\"],[0.1,\"#c51b7d\"],[0.2,\"#de77ae\"],[0.3,\"#f1b6da\"],[0.4,\"#fde0ef\"],[0.5,\"#f7f7f7\"],[0.6,\"#e6f5d0\"],[0.7,\"#b8e186\"],[0.8,\"#7fbc41\"],[0.9,\"#4d9221\"],[1,\"#276419\"]],\"sequential\":[[0.0,\"#0d0887\"],[0.1111111111111111,\"#46039f\"],[0.2222222222222222,\"#7201a8\"],[0.3333333333333333,\"#9c179e\"],[0.4444444444444444,\"#bd3786\"],[0.5555555555555556,\"#d8576b\"],[0.6666666666666666,\"#ed7953\"],[0.7777777777777778,\"#fb9f3a\"],[0.8888888888888888,\"#fdca26\"],[1.0,\"#f0f921\"]],\"sequentialminus\":[[0.0,\"#0d0887\"],[0.1111111111111111,\"#46039f\"],[0.2222222222222222,\"#7201a8\"],[0.3333333333333333,\"#9c179e\"],[0.4444444444444444,\"#bd3786\"],[0.5555555555555556,\"#d8576b\"],[0.6666666666666666,\"#ed7953\"],[0.7777777777777778,\"#fb9f3a\"],[0.8888888888888888,\"#fdca26\"],[1.0,\"#f0f921\"]]},\"colorway\":[\"#636efa\",\"#EF553B\",\"#00cc96\",\"#ab63fa\",\"#FFA15A\",\"#19d3f3\",\"#FF6692\",\"#B6E880\",\"#FF97FF\",\"#FECB52\"],\"font\":{\"color\":\"#2a3f5f\"},\"geo\":{\"bgcolor\":\"white\",\"lakecolor\":\"white\",\"landcolor\":\"#E5ECF6\",\"showlakes\":true,\"showland\":true,\"subunitcolor\":\"white\"},\"hoverlabel\":{\"align\":\"left\"},\"hovermode\":\"closest\",\"mapbox\":{\"style\":\"light\"},\"paper_bgcolor\":\"white\",\"plot_bgcolor\":\"#E5ECF6\",\"polar\":{\"angularaxis\":{\"gridcolor\":\"white\",\"linecolor\":\"white\",\"ticks\":\"\"},\"bgcolor\":\"#E5ECF6\",\"radialaxis\":{\"gridcolor\":\"white\",\"linecolor\":\"white\",\"ticks\":\"\"}},\"scene\":{\"xaxis\":{\"backgroundcolor\":\"#E5ECF6\",\"gridcolor\":\"white\",\"gridwidth\":2,\"linecolor\":\"white\",\"showbackground\":true,\"ticks\":\"\",\"zerolinecolor\":\"white\"},\"yaxis\":{\"backgroundcolor\":\"#E5ECF6\",\"gridcolor\":\"white\",\"gridwidth\":2,\"linecolor\":\"white\",\"showbackground\":true,\"ticks\":\"\",\"zerolinecolor\":\"white\"},\"zaxis\":{\"backgroundcolor\":\"#E5ECF6\",\"gridcolor\":\"white\",\"gridwidth\":2,\"linecolor\":\"white\",\"showbackground\":true,\"ticks\":\"\",\"zerolinecolor\":\"white\"}},\"shapedefaults\":{\"line\":{\"color\":\"#2a3f5f\"}},\"ternary\":{\"aaxis\":{\"gridcolor\":\"white\",\"linecolor\":\"white\",\"ticks\":\"\"},\"baxis\":{\"gridcolor\":\"white\",\"linecolor\":\"white\",\"ticks\":\"\"},\"bgcolor\":\"#E5ECF6\",\"caxis\":{\"gridcolor\":\"white\",\"linecolor\":\"white\",\"ticks\":\"\"}},\"title\":{\"x\":0.05},\"xaxis\":{\"automargin\":true,\"gridcolor\":\"white\",\"linecolor\":\"white\",\"ticks\":\"\",\"title\":{\"standoff\":15},\"zerolinecolor\":\"white\",\"zerolinewidth\":2},\"yaxis\":{\"automargin\":true,\"gridcolor\":\"white\",\"linecolor\":\"white\",\"ticks\":\"\",\"title\":{\"standoff\":15},\"zerolinecolor\":\"white\",\"zerolinewidth\":2}}},\"xaxis\":{\"anchor\":\"y\",\"domain\":[0.0,1.0],\"title\":{\"text\":\"value\"}},\"yaxis\":{\"anchor\":\"x\",\"domain\":[0.0,1.0],\"title\":{\"text\":\"count\"}},\"legend\":{\"title\":{\"text\":\"variable\"},\"tracegroupgap\":0},\"margin\":{\"t\":60},\"barmode\":\"relative\"},                        {\"responsive\": true}                    ).then(function(){\n",
              "                            \n",
              "var gd = document.getElementById('45c7cdff-c4e8-40ae-ba09-e4a16b4226b8');\n",
              "var x = new MutationObserver(function (mutations, observer) {{\n",
              "        var display = window.getComputedStyle(gd).display;\n",
              "        if (!display || display === 'none') {{\n",
              "            console.log([gd, 'removed!']);\n",
              "            Plotly.purge(gd);\n",
              "            observer.disconnect();\n",
              "        }}\n",
              "}});\n",
              "\n",
              "// Listen for the removal of the full notebook cells\n",
              "var notebookContainer = gd.closest('#notebook-container');\n",
              "if (notebookContainer) {{\n",
              "    x.observe(notebookContainer, {childList: true});\n",
              "}}\n",
              "\n",
              "// Listen for the clearing of the current output cell\n",
              "var outputEl = gd.closest('.output');\n",
              "if (outputEl) {{\n",
              "    x.observe(outputEl, {childList: true});\n",
              "}}\n",
              "\n",
              "                        })                };                            </script>        </div>\n",
              "</body>\n",
              "</html>"
            ]
          },
          "metadata": {}
        }
      ]
    }
  ]
}