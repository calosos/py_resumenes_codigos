{
  "nbformat": 4,
  "nbformat_minor": 0,
  "metadata": {
    "colab": {
      "name": "Untitled7.ipynb",
      "provenance": [],
      "collapsed_sections": [],
      "authorship_tag": "ABX9TyMlMhLfAn2QNIieEs/2Jn/u",
      "include_colab_link": true
    },
    "kernelspec": {
      "name": "python3",
      "display_name": "Python 3"
    },
    "language_info": {
      "name": "python"
    }
  },
  "cells": [
    {
      "cell_type": "markdown",
      "metadata": {
        "id": "view-in-github",
        "colab_type": "text"
      },
      "source": [
        "<a href=\"https://colab.research.google.com/github/calosos/py_resumenes_codigos/blob/main/Retos.ipynb\" target=\"_parent\"><img src=\"https://colab.research.google.com/assets/colab-badge.svg\" alt=\"Open In Colab\"/></a>"
      ]
    },
    {
      "cell_type": "markdown",
      "source": [
        "## Retos"
      ],
      "metadata": {
        "id": "BK-Le3QHT3bw"
      }
    },
    {
      "cell_type": "markdown",
      "source": [
        "#Asignación de variables en python\n",
        "Empezar por una letra\n",
        "Los nombers de las variables no pueden llevar espacios en blanco\n",
        "Python se pueden declar con acentos  y ñ, no es recomendado\n",
        "No utilizar nombres de funciones de python\n"
      ],
      "metadata": {
        "id": "isEXEgNrT-HB"
      }
    },
    {
      "cell_type": "markdown",
      "source": [
        "Definir en las varibales los valores que dan el resultado esperado"
      ],
      "metadata": {
        "id": "nIq3xKybbH2Y"
      }
    },
    {
      "cell_type": "code",
      "execution_count": 2,
      "metadata": {
        "colab": {
          "base_uri": "https://localhost:8080/"
        },
        "id": "UnqJozxaTN98",
        "outputId": "0d89020e-d2e2-44e4-b2ca-3ac017ae5dd8"
      },
      "outputs": [
        {
          "output_type": "stream",
          "name": "stdout",
          "text": [
            "14\n",
            "-4\n",
            "24\n",
            "8\n",
            "4.0\n"
          ]
        }
      ],
      "source": [
        "var_uno =6 #6 12 \n",
        "var_dos =8 # 8, 2, \n",
        "var_tres =4 #4 2 6\n",
        "var_cuatro =16\n",
        "var_cinco =4# 6 2\n",
        "\n",
        "print(var_uno + var_dos ) #Resultado esperado 14; 12+2 10 + 4 8+6 4+10  \n",
        "print(var_tres - var_dos ) #Resulato esperado: -4; 0-4\n",
        "print(var_tres * var_uno ) #Resultado esperado 24 2*12 4*6  \n",
        "print(var_cinco + var_tres ) #REsultado esperado:8 ; 2+6 4+2 4+4\n",
        "print (var_cuatro/var_cinco) #resultado esperado :4;"
      ]
    },
    {
      "cell_type": "markdown",
      "source": [
        "Interpolación de Strings"
      ],
      "metadata": {
        "id": "jdrIKPvVbPvy"
      }
    },
    {
      "cell_type": "code",
      "source": [
        "nombre_uno = 'Jenny'\n",
        "nombre_dos = 'Marco P.'\n",
        "edad_1 =110\n",
        "edad_2 = 42\n",
        "\n",
        "estrella_uno = 'Woopsie Doopsies'\n",
        "estrella_dos = 'Omega-3'\n",
        "estrella_tres = 'Justin Bieber'\n",
        "estrella_cuatro = 'LA twinkle'\n",
        "estrella_cinco = 'Rosaberta'\n",
        "total_de_nombres_de_estrellas_mencionados = 5\n",
        "numero_de_estrellas_deseadas = 325\n",
        "\n"
      ],
      "metadata": {
        "id": "ov2iZmovbOWv"
      },
      "execution_count": 28,
      "outputs": []
    },
    {
      "cell_type": "code",
      "source": [
        "print(f\"\"\"{nombre_dos} y {nombre_uno} son grande amigues. Les mejores. Van y vienen juntes desde hace décadas. Sí, décadas. {nombre_dos} tiene {edad_1}\n",
        "      años y {nombre_uno} {edad_2}. Si sumas sus edaddes obtienes {edad_1+edad_2}, que curiosamente es el número de estrellas que {nombre_dos} y {nombre_uno} han\n",
        "      nombrado juntes. Sus estrellas son su mayor fascinación. Las compraron en Best Buy en una ganfa de objetos celestes. Están\n",
        "      {estrella_uno}, {estrella_dos}, '{estrella_tres}'', '{estrella_cuatro}', '{estrella_cinco}' y otras 147 estrellas más. {nombre_dos} y {nombre_uno} tienen\n",
        "      planeado sobrevivir hasta el siglo XXII. ¡Cuántas estrellas más habrán de comprar y nombrar juntes! Su meta es {numero_de_estrellas_deseadas}. Solo faltan\n",
        "      {numero_de_estrellas_deseadas-152}. ¡Vamos {nombre_dos} y {nombre_uno} son los mejores amigues. No hay duda alguna. \"\"\")"
      ],
      "metadata": {
        "colab": {
          "base_uri": "https://localhost:8080/"
        },
        "id": "6uX15fJqcD20",
        "outputId": "926a19f8-71db-4df1-a2d4-aadc72993cf8"
      },
      "execution_count": 30,
      "outputs": [
        {
          "output_type": "stream",
          "name": "stdout",
          "text": [
            "Marco P. y Jenny son grande amigues. Les mejores. Van y vienen juntes desde hace décadas. Sí, décadas. Marco P. tiene 110\n",
            "      años y Jenny 42. Si sumas sus edaddes obtienes 152, que curiosamente es el número de estrellas que Marco P. y Jenny han\n",
            "      nombrado juntes. Sus estrellas son su mayor fascinación. Las compraron en Best Buy en una ganfa de objetos celestes. Están\n",
            "      Woopsie Doopsies, Omega-3, 'Justin Bieber'', 'LA twinkle', 'Rosaberta' y otras 147 estrellas más. Marco P. y Jenny tienen\n",
            "      planeado sobrevivir hasta el siglo XXII. ¡Cuántas estrellas más habrán de comprar y nombrar juntes! Su meta es 325. Solo faltan\n",
            "      173. ¡Vamos Marco P. y Jenny son los mejores amigues. No hay duda alguna. \n"
          ]
        }
      ]
    },
    {
      "cell_type": "code",
      "source": [
        "ventas_anuales_totales= int (input(\"Ingrese las ventas anuales totales: $\"))\n",
        "sueldo = int (input(\"Ingrese el sueldo del empleados: $\"))\n",
        "if ventas_anuales_totales > 1000000:\n",
        "  bono = sueldo * 0.20\n",
        "elif 1000000 <= ventas_anuales_totales  > 700000:\n",
        "  bono = sueldo * 0.15\n",
        "elif 400000 > ventas_anuales_totales <= 700000:\n",
        "  bono = sueldo * 0.10\n",
        "elif 100000 > ventas_anuales_totales <= 400000:\n",
        "  bono = sueldo * 0.05\n",
        "else:\n",
        "  bono = sueldo * 0.01\n",
        "\n",
        "print(f'Felicidades, tu sueldo es ${sueldo}; tu bono es de ${bono}; y el total del sueldo con el bono es de ${sueldo+bono}')"
      ],
      "metadata": {
        "colab": {
          "base_uri": "https://localhost:8080/"
        },
        "id": "66TSwXpCfTdc",
        "outputId": "b8720ab8-ed8f-4d4c-c051-de39eb8782ba"
      },
      "execution_count": 37,
      "outputs": [
        {
          "output_type": "stream",
          "name": "stdout",
          "text": [
            "Ingrese las ventas anuales totales: $110000\n",
            "Ingrese el sueldo del empleados: $10000\n",
            "Felicidades, tu sueldo es $10000; tu bono es de $1000.0; y el total del sueldo con el bono es de $11000.0\n"
          ]
        }
      ]
    }
  ]
}