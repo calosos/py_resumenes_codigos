{
  "nbformat": 4,
  "nbformat_minor": 0,
  "metadata": {
    "colab": {
      "name": "Matplotlib.ipynb",
      "provenance": [],
      "mount_file_id": "1Vomqiwu1k_FvDHEUCV4tb6KLnevQTnzP",
      "authorship_tag": "ABX9TyO8Npoz/QKluhHWG5iWcv6l",
      "include_colab_link": true
    },
    "kernelspec": {
      "name": "python3",
      "display_name": "Python 3"
    },
    "language_info": {
      "name": "python"
    }
  },
  "cells": [
    {
      "cell_type": "markdown",
      "metadata": {
        "id": "view-in-github",
        "colab_type": "text"
      },
      "source": [
        "<a href=\"https://colab.research.google.com/github/calosos/py_resumenes_codigos/blob/main/Matplotlib.ipynb\" target=\"_parent\"><img src=\"https://colab.research.google.com/assets/colab-badge.svg\" alt=\"Open In Colab\"/></a>"
      ]
    },
    {
      "cell_type": "markdown",
      "source": [
        "##MAtPLOTLOLIB\n",
        "matplotlib.org\n",
        "Interfaz orienteada a objetos"
      ],
      "metadata": {
        "id": "KkD001nhWP9A"
      }
    },
    {
      "cell_type": "code",
      "execution_count": 1,
      "metadata": {
        "id": "FbNHssXJNcRJ"
      },
      "outputs": [],
      "source": [
        "import numpy as np\n",
        "import pandas as pd\n",
        "import matplotlib.pyplot as plt"
      ]
    },
    {
      "cell_type": "code",
      "source": [
        "plt.plot([1,3],[2,4])\n",
        "#(1,2) y (3,4)\n",
        "#Orientada a estados"
      ],
      "metadata": {
        "colab": {
          "base_uri": "https://localhost:8080/",
          "height": 284
        },
        "id": "QOxDowo5XJ_N",
        "outputId": "beafdfaa-361c-4205-fa71-e10c8b8683a5"
      },
      "execution_count": 3,
      "outputs": [
        {
          "output_type": "execute_result",
          "data": {
            "text/plain": [
              "[<matplotlib.lines.Line2D at 0x7f48de6acd90>]"
            ]
          },
          "metadata": {},
          "execution_count": 3
        },
        {
          "output_type": "display_data",
          "data": {
            "text/plain": [
              "<Figure size 432x288 with 1 Axes>"
            ],
            "image/png": "[encoded data removed]"
          },
          "metadata": {
            "needs_background": "light"
          }
        }
      ]
    },
    {
      "cell_type": "code",
      "source": [
        "#axe = eje\n",
        "#Interfaz orientada a objetos\n",
        "fig, ax = plt.subplots()\n",
        "ax.plot([1,3],[2,4])"
      ],
      "metadata": {
        "colab": {
          "base_uri": "https://localhost:8080/",
          "height": 284
        },
        "id": "1hDRnoSlZcZ6",
        "outputId": "033156c2-7d1c-4bae-a65d-1f5bff07085e"
      },
      "execution_count": 5,
      "outputs": [
        {
          "output_type": "execute_result",
          "data": {
            "text/plain": [
              "[<matplotlib.lines.Line2D at 0x7f48de0682d0>]"
            ]
          },
          "metadata": {},
          "execution_count": 5
        },
        {
          "output_type": "display_data",
          "data": {
            "text/plain": [
              "<Figure size 432x288 with 1 Axes>"
            ],
            "image/png": "[encoded data removed]"
          },
          "metadata": {
            "needs_background": "light"
          }
        }
      ]
    },
    {
      "cell_type": "code",
      "source": [
        "#Ejemplo de lluvias \n",
        "df_rains = pd.read_csv('/content/drive/MyDrive/para borrar/Copia de pune_1965_to_2002.csv')\n",
        "df_rains.head()"
      ],
      "metadata": {
        "colab": {
          "base_uri": "https://localhost:8080/",
          "height": 206
        },
        "id": "r-N8B1zyaKGK",
        "outputId": "5b801b87-9221-43a0-99c8-3d3816aba2e5"
      },
      "execution_count": 6,
      "outputs": [
        {
          "output_type": "execute_result",
          "data": {
            "text/plain": [
              "   Year    Jan    Feb    Mar     Apr     May      Jun      Jul      Aug  \\\n",
              "0  1965  0.029  0.069  0.000  21.667  17.859  102.111  606.071  402.521   \n",
              "1  1966  0.905  0.000  0.000   2.981  63.008   94.088  481.942   59.386   \n",
              "2  1967  0.248  3.390  1.320  13.482  11.116  251.314  780.006  181.069   \n",
              "3  1968  0.318  3.035  1.704  23.307   7.441  179.872  379.354  171.979   \n",
              "4  1969  0.248  2.524  0.334   4.569   6.213  393.682  678.354  397.335   \n",
              "\n",
              "       Sep     Oct     Nov     Dec  \n",
              "0   69.511   5.249  16.232  22.075  \n",
              "1  150.624   1.308  41.214   4.132  \n",
              "2  183.757  50.404   8.393  37.685  \n",
              "3  219.884  73.997  23.326   2.020  \n",
              "4  205.413  24.014  24.385   1.951  "
            ],
            "text/html": [
              "\n",
              "  <div id=\"df-63fdc628-9749-402c-8e27-43a251ca72af\">\n",
              "    <div class=\"colab-df-container\">\n",
              "      <div>\n",
              "<style scoped>\n",
              "    .dataframe tbody tr th:only-of-type {\n",
              "        vertical-align: middle;\n",
              "    }\n",
              "\n",
              "    .dataframe tbody tr th {\n",
              "        vertical-align: top;\n",
              "    }\n",
              "\n",
              "    .dataframe thead th {\n",
              "        text-align: right;\n",
              "    }\n",
              "</style>\n",
              "<table border=\"1\" class=\"dataframe\">\n",
              "  <thead>\n",
              "    <tr style=\"text-align: right;\">\n",
              "      <th></th>\n",
              "      <th>Year</th>\n",
              "      <th>Jan</th>\n",
              "      <th>Feb</th>\n",
              "      <th>Mar</th>\n",
              "      <th>Apr</th>\n",
              "      <th>May</th>\n",
              "      <th>Jun</th>\n",
              "      <th>Jul</th>\n",
              "      <th>Aug</th>\n",
              "      <th>Sep</th>\n",
              "      <th>Oct</th>\n",
              "      <th>Nov</th>\n",
              "      <th>Dec</th>\n",
              "    </tr>\n",
              "  </thead>\n",
              "  <tbody>\n",
              "    <tr>\n",
              "      <th>0</th>\n",
              "      <td>1965</td>\n",
              "      <td>0.029</td>\n",
              "      <td>0.069</td>\n",
              "      <td>0.000</td>\n",
              "      <td>21.667</td>\n",
              "      <td>17.859</td>\n",
              "      <td>102.111</td>\n",
              "      <td>606.071</td>\n",
              "      <td>402.521</td>\n",
              "      <td>69.511</td>\n",
              "      <td>5.249</td>\n",
              "      <td>16.232</td>\n",
              "      <td>22.075</td>\n",
              "    </tr>\n",
              "    <tr>\n",
              "      <th>1</th>\n",
              "      <td>1966</td>\n",
              "      <td>0.905</td>\n",
              "      <td>0.000</td>\n",
              "      <td>0.000</td>\n",
              "      <td>2.981</td>\n",
              "      <td>63.008</td>\n",
              "      <td>94.088</td>\n",
              "      <td>481.942</td>\n",
              "      <td>59.386</td>\n",
              "      <td>150.624</td>\n",
              "      <td>1.308</td>\n",
              "      <td>41.214</td>\n",
              "      <td>4.132</td>\n",
              "    </tr>\n",
              "    <tr>\n",
              "      <th>2</th>\n",
              "      <td>1967</td>\n",
              "      <td>0.248</td>\n",
              "      <td>3.390</td>\n",
              "      <td>1.320</td>\n",
              "      <td>13.482</td>\n",
              "      <td>11.116</td>\n",
              "      <td>251.314</td>\n",
              "      <td>780.006</td>\n",
              "      <td>181.069</td>\n",
              "      <td>183.757</td>\n",
              "      <td>50.404</td>\n",
              "      <td>8.393</td>\n",
              "      <td>37.685</td>\n",
              "    </tr>\n",
              "    <tr>\n",
              "      <th>3</th>\n",
              "      <td>1968</td>\n",
              "      <td>0.318</td>\n",
              "      <td>3.035</td>\n",
              "      <td>1.704</td>\n",
              "      <td>23.307</td>\n",
              "      <td>7.441</td>\n",
              "      <td>179.872</td>\n",
              "      <td>379.354</td>\n",
              "      <td>171.979</td>\n",
              "      <td>219.884</td>\n",
              "      <td>73.997</td>\n",
              "      <td>23.326</td>\n",
              "      <td>2.020</td>\n",
              "    </tr>\n",
              "    <tr>\n",
              "      <th>4</th>\n",
              "      <td>1969</td>\n",
              "      <td>0.248</td>\n",
              "      <td>2.524</td>\n",
              "      <td>0.334</td>\n",
              "      <td>4.569</td>\n",
              "      <td>6.213</td>\n",
              "      <td>393.682</td>\n",
              "      <td>678.354</td>\n",
              "      <td>397.335</td>\n",
              "      <td>205.413</td>\n",
              "      <td>24.014</td>\n",
              "      <td>24.385</td>\n",
              "      <td>1.951</td>\n",
              "    </tr>\n",
              "  </tbody>\n",
              "</table>\n",
              "</div>\n",
              "      <button class=\"colab-df-convert\" onclick=\"convertToInteractive('df-63fdc628-9749-402c-8e27-43a251ca72af')\"\n",
              "              title=\"Convert this dataframe to an interactive table.\"\n",
              "              style=\"display:none;\">\n",
              "        \n",
              "  <svg xmlns=\"http://www.w3.org/2000/svg\" height=\"24px\"viewBox=\"0 0 24 24\"\n",
              "       width=\"24px\">\n",
              "    <path d=\"M0 0h24v24H0V0z\" fill=\"none\"/>\n",
              "    <path d=\"M18.56 5.44l.94 2.06.94-2.06 2.06-.94-2.06-.94-.94-2.06-.94 2.06-2.06.94zm-11 1L8.5 8.5l.94-2.06 2.06-.94-2.06-.94L8.5 2.5l-.94 2.06-2.06.94zm10 10l.94 2.06.94-2.06 2.06-.94-2.06-.94-.94-2.06-.94 2.06-2.06.94z\"/><path d=\"M17.41 7.96l-1.37-1.37c-.4-.4-.92-.59-1.43-.59-.52 0-1.04.2-1.43.59L10.3 9.45l-7.72 7.72c-.78.78-.78 2.05 0 2.83L4 21.41c.39.39.9.59 1.41.59.51 0 1.02-.2 1.41-.59l7.78-7.78 2.81-2.81c.8-.78.8-2.07 0-2.86zM5.41 20L4 18.59l7.72-7.72 1.47 1.35L5.41 20z\"/>\n",
              "  </svg>\n",
              "      </button>\n",
              "      \n",
              "  <style>\n",
              "    .colab-df-container {\n",
              "      display:flex;\n",
              "      flex-wrap:wrap;\n",
              "      gap: 12px;\n",
              "    }\n",
              "\n",
              "    .colab-df-convert {\n",
              "      background-color: #E8F0FE;\n",
              "      border: none;\n",
              "      border-radius: 50%;\n",
              "      cursor: pointer;\n",
              "      display: none;\n",
              "      fill: #1967D2;\n",
              "      height: 32px;\n",
              "      padding: 0 0 0 0;\n",
              "      width: 32px;\n",
              "    }\n",
              "\n",
              "    .colab-df-convert:hover {\n",
              "      background-color: #E2EBFA;\n",
              "      box-shadow: 0px 1px 2px rgba(60, 64, 67, 0.3), 0px 1px 3px 1px rgba(60, 64, 67, 0.15);\n",
              "      fill: #174EA6;\n",
              "    }\n",
              "\n",
              "    [theme=dark] .colab-df-convert {\n",
              "      background-color: #3B4455;\n",
              "      fill: #D2E3FC;\n",
              "    }\n",
              "\n",
              "    [theme=dark] .colab-df-convert:hover {\n",
              "      background-color: #434B5C;\n",
              "      box-shadow: 0px 1px 3px 1px rgba(0, 0, 0, 0.15);\n",
              "      filter: drop-shadow(0px 1px 2px rgba(0, 0, 0, 0.3));\n",
              "      fill: #FFFFFF;\n",
              "    }\n",
              "  </style>\n",
              "\n",
              "      <script>\n",
              "        const buttonEl =\n",
              "          document.querySelector('#df-63fdc628-9749-402c-8e27-43a251ca72af button.colab-df-convert');\n",
              "        buttonEl.style.display =\n",
              "          google.colab.kernel.accessAllowed ? 'block' : 'none';\n",
              "\n",
              "        async function convertToInteractive(key) {\n",
              "          const element = document.querySelector('#df-63fdc628-9749-402c-8e27-43a251ca72af');\n",
              "          const dataTable =\n",
              "            await google.colab.kernel.invokeFunction('convertToInteractive',\n",
              "                                                     [key], {});\n",
              "          if (!dataTable) return;\n",
              "\n",
              "          const docLinkHtml = 'Like what you see? Visit the ' +\n",
              "            '<a target=\"_blank\" href=https://colab.research.google.com/notebooks/data_table.ipynb>data table notebook</a>'\n",
              "            + ' to learn more about interactive tables.';\n",
              "          element.innerHTML = '';\n",
              "          dataTable['output_type'] = 'display_data';\n",
              "          await google.colab.output.renderOutput(dataTable, element);\n",
              "          const docLink = document.createElement('div');\n",
              "          docLink.innerHTML = docLinkHtml;\n",
              "          element.appendChild(docLink);\n",
              "        }\n",
              "      </script>\n",
              "    </div>\n",
              "  </div>\n",
              "  "
            ]
          },
          "metadata": {},
          "execution_count": 6
        }
      ]
    },
    {
      "cell_type": "code",
      "source": [
        "df_rains.index = df_rains['Year']\n",
        "df_rains.head()"
      ],
      "metadata": {
        "colab": {
          "base_uri": "https://localhost:8080/",
          "height": 281
        },
        "id": "Afuxy6SzbZFo",
        "outputId": "b2888337-bc09-4134-a2bb-6a9da0422b7c"
      },
      "execution_count": 13,
      "outputs": [
        {
          "output_type": "execute_result",
          "data": {
            "text/plain": [
              "      Year    Jan    Feb    Mar     Apr     May      Jun      Jul      Aug  \\\n",
              "Year                                                                         \n",
              "1965  1965  0.029  0.069  0.000  21.667  17.859  102.111  606.071  402.521   \n",
              "1966  1966  0.905  0.000  0.000   2.981  63.008   94.088  481.942   59.386   \n",
              "1967  1967  0.248  3.390  1.320  13.482  11.116  251.314  780.006  181.069   \n",
              "1968  1968  0.318  3.035  1.704  23.307   7.441  179.872  379.354  171.979   \n",
              "1969  1969  0.248  2.524  0.334   4.569   6.213  393.682  678.354  397.335   \n",
              "\n",
              "          Sep     Oct     Nov     Dec  \n",
              "Year                                   \n",
              "1965   69.511   5.249  16.232  22.075  \n",
              "1966  150.624   1.308  41.214   4.132  \n",
              "1967  183.757  50.404   8.393  37.685  \n",
              "1968  219.884  73.997  23.326   2.020  \n",
              "1969  205.413  24.014  24.385   1.951  "
            ],
            "text/html": [
              "\n",
              "  <div id=\"df-b5e9d4d1-200b-452d-91c6-35e7768ce8db\">\n",
              "    <div class=\"colab-df-container\">\n",
              "      <div>\n",
              "<style scoped>\n",
              "    .dataframe tbody tr th:only-of-type {\n",
              "        vertical-align: middle;\n",
              "    }\n",
              "\n",
              "    .dataframe tbody tr th {\n",
              "        vertical-align: top;\n",
              "    }\n",
              "\n",
              "    .dataframe thead th {\n",
              "        text-align: right;\n",
              "    }\n",
              "</style>\n",
              "<table border=\"1\" class=\"dataframe\">\n",
              "  <thead>\n",
              "    <tr style=\"text-align: right;\">\n",
              "      <th></th>\n",
              "      <th>Year</th>\n",
              "      <th>Jan</th>\n",
              "      <th>Feb</th>\n",
              "      <th>Mar</th>\n",
              "      <th>Apr</th>\n",
              "      <th>May</th>\n",
              "      <th>Jun</th>\n",
              "      <th>Jul</th>\n",
              "      <th>Aug</th>\n",
              "      <th>Sep</th>\n",
              "      <th>Oct</th>\n",
              "      <th>Nov</th>\n",
              "      <th>Dec</th>\n",
              "    </tr>\n",
              "    <tr>\n",
              "      <th>Year</th>\n",
              "      <th></th>\n",
              "      <th></th>\n",
              "      <th></th>\n",
              "      <th></th>\n",
              "      <th></th>\n",
              "      <th></th>\n",
              "      <th></th>\n",
              "      <th></th>\n",
              "      <th></th>\n",
              "      <th></th>\n",
              "      <th></th>\n",
              "      <th></th>\n",
              "      <th></th>\n",
              "    </tr>\n",
              "  </thead>\n",
              "  <tbody>\n",
              "    <tr>\n",
              "      <th>1965</th>\n",
              "      <td>1965</td>\n",
              "      <td>0.029</td>\n",
              "      <td>0.069</td>\n",
              "      <td>0.000</td>\n",
              "      <td>21.667</td>\n",
              "      <td>17.859</td>\n",
              "      <td>102.111</td>\n",
              "      <td>606.071</td>\n",
              "      <td>402.521</td>\n",
              "      <td>69.511</td>\n",
              "      <td>5.249</td>\n",
              "      <td>16.232</td>\n",
              "      <td>22.075</td>\n",
              "    </tr>\n",
              "    <tr>\n",
              "      <th>1966</th>\n",
              "      <td>1966</td>\n",
              "      <td>0.905</td>\n",
              "      <td>0.000</td>\n",
              "      <td>0.000</td>\n",
              "      <td>2.981</td>\n",
              "      <td>63.008</td>\n",
              "      <td>94.088</td>\n",
              "      <td>481.942</td>\n",
              "      <td>59.386</td>\n",
              "      <td>150.624</td>\n",
              "      <td>1.308</td>\n",
              "      <td>41.214</td>\n",
              "      <td>4.132</td>\n",
              "    </tr>\n",
              "    <tr>\n",
              "      <th>1967</th>\n",
              "      <td>1967</td>\n",
              "      <td>0.248</td>\n",
              "      <td>3.390</td>\n",
              "      <td>1.320</td>\n",
              "      <td>13.482</td>\n",
              "      <td>11.116</td>\n",
              "      <td>251.314</td>\n",
              "      <td>780.006</td>\n",
              "      <td>181.069</td>\n",
              "      <td>183.757</td>\n",
              "      <td>50.404</td>\n",
              "      <td>8.393</td>\n",
              "      <td>37.685</td>\n",
              "    </tr>\n",
              "    <tr>\n",
              "      <th>1968</th>\n",
              "      <td>1968</td>\n",
              "      <td>0.318</td>\n",
              "      <td>3.035</td>\n",
              "      <td>1.704</td>\n",
              "      <td>23.307</td>\n",
              "      <td>7.441</td>\n",
              "      <td>179.872</td>\n",
              "      <td>379.354</td>\n",
              "      <td>171.979</td>\n",
              "      <td>219.884</td>\n",
              "      <td>73.997</td>\n",
              "      <td>23.326</td>\n",
              "      <td>2.020</td>\n",
              "    </tr>\n",
              "    <tr>\n",
              "      <th>1969</th>\n",
              "      <td>1969</td>\n",
              "      <td>0.248</td>\n",
              "      <td>2.524</td>\n",
              "      <td>0.334</td>\n",
              "      <td>4.569</td>\n",
              "      <td>6.213</td>\n",
              "      <td>393.682</td>\n",
              "      <td>678.354</td>\n",
              "      <td>397.335</td>\n",
              "      <td>205.413</td>\n",
              "      <td>24.014</td>\n",
              "      <td>24.385</td>\n",
              "      <td>1.951</td>\n",
              "    </tr>\n",
              "  </tbody>\n",
              "</table>\n",
              "</div>\n",
              "      <button class=\"colab-df-convert\" onclick=\"convertToInteractive('df-b5e9d4d1-200b-452d-91c6-35e7768ce8db')\"\n",
              "              title=\"Convert this dataframe to an interactive table.\"\n",
              "              style=\"display:none;\">\n",
              "        \n",
              "  <svg xmlns=\"http://www.w3.org/2000/svg\" height=\"24px\"viewBox=\"0 0 24 24\"\n",
              "       width=\"24px\">\n",
              "    <path d=\"M0 0h24v24H0V0z\" fill=\"none\"/>\n",
              "    <path d=\"M18.56 5.44l.94 2.06.94-2.06 2.06-.94-2.06-.94-.94-2.06-.94 2.06-2.06.94zm-11 1L8.5 8.5l.94-2.06 2.06-.94-2.06-.94L8.5 2.5l-.94 2.06-2.06.94zm10 10l.94 2.06.94-2.06 2.06-.94-2.06-.94-.94-2.06-.94 2.06-2.06.94z\"/><path d=\"M17.41 7.96l-1.37-1.37c-.4-.4-.92-.59-1.43-.59-.52 0-1.04.2-1.43.59L10.3 9.45l-7.72 7.72c-.78.78-.78 2.05 0 2.83L4 21.41c.39.39.9.59 1.41.59.51 0 1.02-.2 1.41-.59l7.78-7.78 2.81-2.81c.8-.78.8-2.07 0-2.86zM5.41 20L4 18.59l7.72-7.72 1.47 1.35L5.41 20z\"/>\n",
              "  </svg>\n",
              "      </button>\n",
              "      \n",
              "  <style>\n",
              "    .colab-df-container {\n",
              "      display:flex;\n",
              "      flex-wrap:wrap;\n",
              "      gap: 12px;\n",
              "    }\n",
              "\n",
              "    .colab-df-convert {\n",
              "      background-color: #E8F0FE;\n",
              "      border: none;\n",
              "      border-radius: 50%;\n",
              "      cursor: pointer;\n",
              "      display: none;\n",
              "      fill: #1967D2;\n",
              "      height: 32px;\n",
              "      padding: 0 0 0 0;\n",
              "      width: 32px;\n",
              "    }\n",
              "\n",
              "    .colab-df-convert:hover {\n",
              "      background-color: #E2EBFA;\n",
              "      box-shadow: 0px 1px 2px rgba(60, 64, 67, 0.3), 0px 1px 3px 1px rgba(60, 64, 67, 0.15);\n",
              "      fill: #174EA6;\n",
              "    }\n",
              "\n",
              "    [theme=dark] .colab-df-convert {\n",
              "      background-color: #3B4455;\n",
              "      fill: #D2E3FC;\n",
              "    }\n",
              "\n",
              "    [theme=dark] .colab-df-convert:hover {\n",
              "      background-color: #434B5C;\n",
              "      box-shadow: 0px 1px 3px 1px rgba(0, 0, 0, 0.15);\n",
              "      filter: drop-shadow(0px 1px 2px rgba(0, 0, 0, 0.3));\n",
              "      fill: #FFFFFF;\n",
              "    }\n",
              "  </style>\n",
              "\n",
              "      <script>\n",
              "        const buttonEl =\n",
              "          document.querySelector('#df-b5e9d4d1-200b-452d-91c6-35e7768ce8db button.colab-df-convert');\n",
              "        buttonEl.style.display =\n",
              "          google.colab.kernel.accessAllowed ? 'block' : 'none';\n",
              "\n",
              "        async function convertToInteractive(key) {\n",
              "          const element = document.querySelector('#df-b5e9d4d1-200b-452d-91c6-35e7768ce8db');\n",
              "          const dataTable =\n",
              "            await google.colab.kernel.invokeFunction('convertToInteractive',\n",
              "                                                     [key], {});\n",
              "          if (!dataTable) return;\n",
              "\n",
              "          const docLinkHtml = 'Like what you see? Visit the ' +\n",
              "            '<a target=\"_blank\" href=https://colab.research.google.com/notebooks/data_table.ipynb>data table notebook</a>'\n",
              "            + ' to learn more about interactive tables.';\n",
              "          element.innerHTML = '';\n",
              "          dataTable['output_type'] = 'display_data';\n",
              "          await google.colab.output.renderOutput(dataTable, element);\n",
              "          const docLink = document.createElement('div');\n",
              "          docLink.innerHTML = docLinkHtml;\n",
              "          element.appendChild(docLink);\n",
              "        }\n",
              "      </script>\n",
              "    </div>\n",
              "  </div>\n",
              "  "
            ]
          },
          "metadata": {},
          "execution_count": 13
        }
      ]
    },
    {
      "cell_type": "code",
      "source": [
        "df_rains = df_rains.drop('Year', axis='columns')\n",
        "df_rains.head()"
      ],
      "metadata": {
        "colab": {
          "base_uri": "https://localhost:8080/",
          "height": 237
        },
        "id": "eT3HjnUHbZCQ",
        "outputId": "4843ea35-8555-4f6b-de5b-2569c04695b9"
      },
      "execution_count": 14,
      "outputs": [
        {
          "output_type": "execute_result",
          "data": {
            "text/plain": [
              "        Jan    Feb    Mar     Apr     May      Jun      Jul      Aug      Sep  \\\n",
              "Year                                                                            \n",
              "1965  0.029  0.069  0.000  21.667  17.859  102.111  606.071  402.521   69.511   \n",
              "1966  0.905  0.000  0.000   2.981  63.008   94.088  481.942   59.386  150.624   \n",
              "1967  0.248  3.390  1.320  13.482  11.116  251.314  780.006  181.069  183.757   \n",
              "1968  0.318  3.035  1.704  23.307   7.441  179.872  379.354  171.979  219.884   \n",
              "1969  0.248  2.524  0.334   4.569   6.213  393.682  678.354  397.335  205.413   \n",
              "\n",
              "         Oct     Nov     Dec  \n",
              "Year                          \n",
              "1965   5.249  16.232  22.075  \n",
              "1966   1.308  41.214   4.132  \n",
              "1967  50.404   8.393  37.685  \n",
              "1968  73.997  23.326   2.020  \n",
              "1969  24.014  24.385   1.951  "
            ],
            "text/html": [
              "\n",
              "  <div id=\"df-b82a93c0-08af-4971-ad48-1180fc4f308d\">\n",
              "    <div class=\"colab-df-container\">\n",
              "      <div>\n",
              "<style scoped>\n",
              "    .dataframe tbody tr th:only-of-type {\n",
              "        vertical-align: middle;\n",
              "    }\n",
              "\n",
              "    .dataframe tbody tr th {\n",
              "        vertical-align: top;\n",
              "    }\n",
              "\n",
              "    .dataframe thead th {\n",
              "        text-align: right;\n",
              "    }\n",
              "</style>\n",
              "<table border=\"1\" class=\"dataframe\">\n",
              "  <thead>\n",
              "    <tr style=\"text-align: right;\">\n",
              "      <th></th>\n",
              "      <th>Jan</th>\n",
              "      <th>Feb</th>\n",
              "      <th>Mar</th>\n",
              "      <th>Apr</th>\n",
              "      <th>May</th>\n",
              "      <th>Jun</th>\n",
              "      <th>Jul</th>\n",
              "      <th>Aug</th>\n",
              "      <th>Sep</th>\n",
              "      <th>Oct</th>\n",
              "      <th>Nov</th>\n",
              "      <th>Dec</th>\n",
              "    </tr>\n",
              "    <tr>\n",
              "      <th>Year</th>\n",
              "      <th></th>\n",
              "      <th></th>\n",
              "      <th></th>\n",
              "      <th></th>\n",
              "      <th></th>\n",
              "      <th></th>\n",
              "      <th></th>\n",
              "      <th></th>\n",
              "      <th></th>\n",
              "      <th></th>\n",
              "      <th></th>\n",
              "      <th></th>\n",
              "    </tr>\n",
              "  </thead>\n",
              "  <tbody>\n",
              "    <tr>\n",
              "      <th>1965</th>\n",
              "      <td>0.029</td>\n",
              "      <td>0.069</td>\n",
              "      <td>0.000</td>\n",
              "      <td>21.667</td>\n",
              "      <td>17.859</td>\n",
              "      <td>102.111</td>\n",
              "      <td>606.071</td>\n",
              "      <td>402.521</td>\n",
              "      <td>69.511</td>\n",
              "      <td>5.249</td>\n",
              "      <td>16.232</td>\n",
              "      <td>22.075</td>\n",
              "    </tr>\n",
              "    <tr>\n",
              "      <th>1966</th>\n",
              "      <td>0.905</td>\n",
              "      <td>0.000</td>\n",
              "      <td>0.000</td>\n",
              "      <td>2.981</td>\n",
              "      <td>63.008</td>\n",
              "      <td>94.088</td>\n",
              "      <td>481.942</td>\n",
              "      <td>59.386</td>\n",
              "      <td>150.624</td>\n",
              "      <td>1.308</td>\n",
              "      <td>41.214</td>\n",
              "      <td>4.132</td>\n",
              "    </tr>\n",
              "    <tr>\n",
              "      <th>1967</th>\n",
              "      <td>0.248</td>\n",
              "      <td>3.390</td>\n",
              "      <td>1.320</td>\n",
              "      <td>13.482</td>\n",
              "      <td>11.116</td>\n",
              "      <td>251.314</td>\n",
              "      <td>780.006</td>\n",
              "      <td>181.069</td>\n",
              "      <td>183.757</td>\n",
              "      <td>50.404</td>\n",
              "      <td>8.393</td>\n",
              "      <td>37.685</td>\n",
              "    </tr>\n",
              "    <tr>\n",
              "      <th>1968</th>\n",
              "      <td>0.318</td>\n",
              "      <td>3.035</td>\n",
              "      <td>1.704</td>\n",
              "      <td>23.307</td>\n",
              "      <td>7.441</td>\n",
              "      <td>179.872</td>\n",
              "      <td>379.354</td>\n",
              "      <td>171.979</td>\n",
              "      <td>219.884</td>\n",
              "      <td>73.997</td>\n",
              "      <td>23.326</td>\n",
              "      <td>2.020</td>\n",
              "    </tr>\n",
              "    <tr>\n",
              "      <th>1969</th>\n",
              "      <td>0.248</td>\n",
              "      <td>2.524</td>\n",
              "      <td>0.334</td>\n",
              "      <td>4.569</td>\n",
              "      <td>6.213</td>\n",
              "      <td>393.682</td>\n",
              "      <td>678.354</td>\n",
              "      <td>397.335</td>\n",
              "      <td>205.413</td>\n",
              "      <td>24.014</td>\n",
              "      <td>24.385</td>\n",
              "      <td>1.951</td>\n",
              "    </tr>\n",
              "  </tbody>\n",
              "</table>\n",
              "</div>\n",
              "      <button class=\"colab-df-convert\" onclick=\"convertToInteractive('df-b82a93c0-08af-4971-ad48-1180fc4f308d')\"\n",
              "              title=\"Convert this dataframe to an interactive table.\"\n",
              "              style=\"display:none;\">\n",
              "        \n",
              "  <svg xmlns=\"http://www.w3.org/2000/svg\" height=\"24px\"viewBox=\"0 0 24 24\"\n",
              "       width=\"24px\">\n",
              "    <path d=\"M0 0h24v24H0V0z\" fill=\"none\"/>\n",
              "    <path d=\"M18.56 5.44l.94 2.06.94-2.06 2.06-.94-2.06-.94-.94-2.06-.94 2.06-2.06.94zm-11 1L8.5 8.5l.94-2.06 2.06-.94-2.06-.94L8.5 2.5l-.94 2.06-2.06.94zm10 10l.94 2.06.94-2.06 2.06-.94-2.06-.94-.94-2.06-.94 2.06-2.06.94z\"/><path d=\"M17.41 7.96l-1.37-1.37c-.4-.4-.92-.59-1.43-.59-.52 0-1.04.2-1.43.59L10.3 9.45l-7.72 7.72c-.78.78-.78 2.05 0 2.83L4 21.41c.39.39.9.59 1.41.59.51 0 1.02-.2 1.41-.59l7.78-7.78 2.81-2.81c.8-.78.8-2.07 0-2.86zM5.41 20L4 18.59l7.72-7.72 1.47 1.35L5.41 20z\"/>\n",
              "  </svg>\n",
              "      </button>\n",
              "      \n",
              "  <style>\n",
              "    .colab-df-container {\n",
              "      display:flex;\n",
              "      flex-wrap:wrap;\n",
              "      gap: 12px;\n",
              "    }\n",
              "\n",
              "    .colab-df-convert {\n",
              "      background-color: #E8F0FE;\n",
              "      border: none;\n",
              "      border-radius: 50%;\n",
              "      cursor: pointer;\n",
              "      display: none;\n",
              "      fill: #1967D2;\n",
              "      height: 32px;\n",
              "      padding: 0 0 0 0;\n",
              "      width: 32px;\n",
              "    }\n",
              "\n",
              "    .colab-df-convert:hover {\n",
              "      background-color: #E2EBFA;\n",
              "      box-shadow: 0px 1px 2px rgba(60, 64, 67, 0.3), 0px 1px 3px 1px rgba(60, 64, 67, 0.15);\n",
              "      fill: #174EA6;\n",
              "    }\n",
              "\n",
              "    [theme=dark] .colab-df-convert {\n",
              "      background-color: #3B4455;\n",
              "      fill: #D2E3FC;\n",
              "    }\n",
              "\n",
              "    [theme=dark] .colab-df-convert:hover {\n",
              "      background-color: #434B5C;\n",
              "      box-shadow: 0px 1px 3px 1px rgba(0, 0, 0, 0.15);\n",
              "      filter: drop-shadow(0px 1px 2px rgba(0, 0, 0, 0.3));\n",
              "      fill: #FFFFFF;\n",
              "    }\n",
              "  </style>\n",
              "\n",
              "      <script>\n",
              "        const buttonEl =\n",
              "          document.querySelector('#df-b82a93c0-08af-4971-ad48-1180fc4f308d button.colab-df-convert');\n",
              "        buttonEl.style.display =\n",
              "          google.colab.kernel.accessAllowed ? 'block' : 'none';\n",
              "\n",
              "        async function convertToInteractive(key) {\n",
              "          const element = document.querySelector('#df-b82a93c0-08af-4971-ad48-1180fc4f308d');\n",
              "          const dataTable =\n",
              "            await google.colab.kernel.invokeFunction('convertToInteractive',\n",
              "                                                     [key], {});\n",
              "          if (!dataTable) return;\n",
              "\n",
              "          const docLinkHtml = 'Like what you see? Visit the ' +\n",
              "            '<a target=\"_blank\" href=https://colab.research.google.com/notebooks/data_table.ipynb>data table notebook</a>'\n",
              "            + ' to learn more about interactive tables.';\n",
              "          element.innerHTML = '';\n",
              "          dataTable['output_type'] = 'display_data';\n",
              "          await google.colab.output.renderOutput(dataTable, element);\n",
              "          const docLink = document.createElement('div');\n",
              "          docLink.innerHTML = docLinkHtml;\n",
              "          element.appendChild(docLink);\n",
              "        }\n",
              "      </script>\n",
              "    </div>\n",
              "  </div>\n",
              "  "
            ]
          },
          "metadata": {},
          "execution_count": 14
        }
      ]
    },
    {
      "cell_type": "code",
      "source": [
        "df_rains.head()"
      ],
      "metadata": {
        "colab": {
          "base_uri": "https://localhost:8080/",
          "height": 237
        },
        "id": "_h4H3pLLcjDS",
        "outputId": "e07c1b45-25ee-4546-a80e-fb2916959977"
      },
      "execution_count": 15,
      "outputs": [
        {
          "output_type": "execute_result",
          "data": {
            "text/plain": [
              "        Jan    Feb    Mar     Apr     May      Jun      Jul      Aug      Sep  \\\n",
              "Year                                                                            \n",
              "1965  0.029  0.069  0.000  21.667  17.859  102.111  606.071  402.521   69.511   \n",
              "1966  0.905  0.000  0.000   2.981  63.008   94.088  481.942   59.386  150.624   \n",
              "1967  0.248  3.390  1.320  13.482  11.116  251.314  780.006  181.069  183.757   \n",
              "1968  0.318  3.035  1.704  23.307   7.441  179.872  379.354  171.979  219.884   \n",
              "1969  0.248  2.524  0.334   4.569   6.213  393.682  678.354  397.335  205.413   \n",
              "\n",
              "         Oct     Nov     Dec  \n",
              "Year                          \n",
              "1965   5.249  16.232  22.075  \n",
              "1966   1.308  41.214   4.132  \n",
              "1967  50.404   8.393  37.685  \n",
              "1968  73.997  23.326   2.020  \n",
              "1969  24.014  24.385   1.951  "
            ],
            "text/html": [
              "\n",
              "  <div id=\"df-7b87bd36-20ca-4a36-b730-ffb075b8f5b6\">\n",
              "    <div class=\"colab-df-container\">\n",
              "      <div>\n",
              "<style scoped>\n",
              "    .dataframe tbody tr th:only-of-type {\n",
              "        vertical-align: middle;\n",
              "    }\n",
              "\n",
              "    .dataframe tbody tr th {\n",
              "        vertical-align: top;\n",
              "    }\n",
              "\n",
              "    .dataframe thead th {\n",
              "        text-align: right;\n",
              "    }\n",
              "</style>\n",
              "<table border=\"1\" class=\"dataframe\">\n",
              "  <thead>\n",
              "    <tr style=\"text-align: right;\">\n",
              "      <th></th>\n",
              "      <th>Jan</th>\n",
              "      <th>Feb</th>\n",
              "      <th>Mar</th>\n",
              "      <th>Apr</th>\n",
              "      <th>May</th>\n",
              "      <th>Jun</th>\n",
              "      <th>Jul</th>\n",
              "      <th>Aug</th>\n",
              "      <th>Sep</th>\n",
              "      <th>Oct</th>\n",
              "      <th>Nov</th>\n",
              "      <th>Dec</th>\n",
              "    </tr>\n",
              "    <tr>\n",
              "      <th>Year</th>\n",
              "      <th></th>\n",
              "      <th></th>\n",
              "      <th></th>\n",
              "      <th></th>\n",
              "      <th></th>\n",
              "      <th></th>\n",
              "      <th></th>\n",
              "      <th></th>\n",
              "      <th></th>\n",
              "      <th></th>\n",
              "      <th></th>\n",
              "      <th></th>\n",
              "    </tr>\n",
              "  </thead>\n",
              "  <tbody>\n",
              "    <tr>\n",
              "      <th>1965</th>\n",
              "      <td>0.029</td>\n",
              "      <td>0.069</td>\n",
              "      <td>0.000</td>\n",
              "      <td>21.667</td>\n",
              "      <td>17.859</td>\n",
              "      <td>102.111</td>\n",
              "      <td>606.071</td>\n",
              "      <td>402.521</td>\n",
              "      <td>69.511</td>\n",
              "      <td>5.249</td>\n",
              "      <td>16.232</td>\n",
              "      <td>22.075</td>\n",
              "    </tr>\n",
              "    <tr>\n",
              "      <th>1966</th>\n",
              "      <td>0.905</td>\n",
              "      <td>0.000</td>\n",
              "      <td>0.000</td>\n",
              "      <td>2.981</td>\n",
              "      <td>63.008</td>\n",
              "      <td>94.088</td>\n",
              "      <td>481.942</td>\n",
              "      <td>59.386</td>\n",
              "      <td>150.624</td>\n",
              "      <td>1.308</td>\n",
              "      <td>41.214</td>\n",
              "      <td>4.132</td>\n",
              "    </tr>\n",
              "    <tr>\n",
              "      <th>1967</th>\n",
              "      <td>0.248</td>\n",
              "      <td>3.390</td>\n",
              "      <td>1.320</td>\n",
              "      <td>13.482</td>\n",
              "      <td>11.116</td>\n",
              "      <td>251.314</td>\n",
              "      <td>780.006</td>\n",
              "      <td>181.069</td>\n",
              "      <td>183.757</td>\n",
              "      <td>50.404</td>\n",
              "      <td>8.393</td>\n",
              "      <td>37.685</td>\n",
              "    </tr>\n",
              "    <tr>\n",
              "      <th>1968</th>\n",
              "      <td>0.318</td>\n",
              "      <td>3.035</td>\n",
              "      <td>1.704</td>\n",
              "      <td>23.307</td>\n",
              "      <td>7.441</td>\n",
              "      <td>179.872</td>\n",
              "      <td>379.354</td>\n",
              "      <td>171.979</td>\n",
              "      <td>219.884</td>\n",
              "      <td>73.997</td>\n",
              "      <td>23.326</td>\n",
              "      <td>2.020</td>\n",
              "    </tr>\n",
              "    <tr>\n",
              "      <th>1969</th>\n",
              "      <td>0.248</td>\n",
              "      <td>2.524</td>\n",
              "      <td>0.334</td>\n",
              "      <td>4.569</td>\n",
              "      <td>6.213</td>\n",
              "      <td>393.682</td>\n",
              "      <td>678.354</td>\n",
              "      <td>397.335</td>\n",
              "      <td>205.413</td>\n",
              "      <td>24.014</td>\n",
              "      <td>24.385</td>\n",
              "      <td>1.951</td>\n",
              "    </tr>\n",
              "  </tbody>\n",
              "</table>\n",
              "</div>\n",
              "      <button class=\"colab-df-convert\" onclick=\"convertToInteractive('df-7b87bd36-20ca-4a36-b730-ffb075b8f5b6')\"\n",
              "              title=\"Convert this dataframe to an interactive table.\"\n",
              "              style=\"display:none;\">\n",
              "        \n",
              "  <svg xmlns=\"http://www.w3.org/2000/svg\" height=\"24px\"viewBox=\"0 0 24 24\"\n",
              "       width=\"24px\">\n",
              "    <path d=\"M0 0h24v24H0V0z\" fill=\"none\"/>\n",
              "    <path d=\"M18.56 5.44l.94 2.06.94-2.06 2.06-.94-2.06-.94-.94-2.06-.94 2.06-2.06.94zm-11 1L8.5 8.5l.94-2.06 2.06-.94-2.06-.94L8.5 2.5l-.94 2.06-2.06.94zm10 10l.94 2.06.94-2.06 2.06-.94-2.06-.94-.94-2.06-.94 2.06-2.06.94z\"/><path d=\"M17.41 7.96l-1.37-1.37c-.4-.4-.92-.59-1.43-.59-.52 0-1.04.2-1.43.59L10.3 9.45l-7.72 7.72c-.78.78-.78 2.05 0 2.83L4 21.41c.39.39.9.59 1.41.59.51 0 1.02-.2 1.41-.59l7.78-7.78 2.81-2.81c.8-.78.8-2.07 0-2.86zM5.41 20L4 18.59l7.72-7.72 1.47 1.35L5.41 20z\"/>\n",
              "  </svg>\n",
              "      </button>\n",
              "      \n",
              "  <style>\n",
              "    .colab-df-container {\n",
              "      display:flex;\n",
              "      flex-wrap:wrap;\n",
              "      gap: 12px;\n",
              "    }\n",
              "\n",
              "    .colab-df-convert {\n",
              "      background-color: #E8F0FE;\n",
              "      border: none;\n",
              "      border-radius: 50%;\n",
              "      cursor: pointer;\n",
              "      display: none;\n",
              "      fill: #1967D2;\n",
              "      height: 32px;\n",
              "      padding: 0 0 0 0;\n",
              "      width: 32px;\n",
              "    }\n",
              "\n",
              "    .colab-df-convert:hover {\n",
              "      background-color: #E2EBFA;\n",
              "      box-shadow: 0px 1px 2px rgba(60, 64, 67, 0.3), 0px 1px 3px 1px rgba(60, 64, 67, 0.15);\n",
              "      fill: #174EA6;\n",
              "    }\n",
              "\n",
              "    [theme=dark] .colab-df-convert {\n",
              "      background-color: #3B4455;\n",
              "      fill: #D2E3FC;\n",
              "    }\n",
              "\n",
              "    [theme=dark] .colab-df-convert:hover {\n",
              "      background-color: #434B5C;\n",
              "      box-shadow: 0px 1px 3px 1px rgba(0, 0, 0, 0.15);\n",
              "      filter: drop-shadow(0px 1px 2px rgba(0, 0, 0, 0.3));\n",
              "      fill: #FFFFFF;\n",
              "    }\n",
              "  </style>\n",
              "\n",
              "      <script>\n",
              "        const buttonEl =\n",
              "          document.querySelector('#df-7b87bd36-20ca-4a36-b730-ffb075b8f5b6 button.colab-df-convert');\n",
              "        buttonEl.style.display =\n",
              "          google.colab.kernel.accessAllowed ? 'block' : 'none';\n",
              "\n",
              "        async function convertToInteractive(key) {\n",
              "          const element = document.querySelector('#df-7b87bd36-20ca-4a36-b730-ffb075b8f5b6');\n",
              "          const dataTable =\n",
              "            await google.colab.kernel.invokeFunction('convertToInteractive',\n",
              "                                                     [key], {});\n",
              "          if (!dataTable) return;\n",
              "\n",
              "          const docLinkHtml = 'Like what you see? Visit the ' +\n",
              "            '<a target=\"_blank\" href=https://colab.research.google.com/notebooks/data_table.ipynb>data table notebook</a>'\n",
              "            + ' to learn more about interactive tables.';\n",
              "          element.innerHTML = '';\n",
              "          dataTable['output_type'] = 'display_data';\n",
              "          await google.colab.output.renderOutput(dataTable, element);\n",
              "          const docLink = document.createElement('div');\n",
              "          docLink.innerHTML = docLinkHtml;\n",
              "          element.appendChild(docLink);\n",
              "        }\n",
              "      </script>\n",
              "    </div>\n",
              "  </div>\n",
              "  "
            ]
          },
          "metadata": {},
          "execution_count": 15
        }
      ]
    },
    {
      "cell_type": "code",
      "source": [
        "#define axe x -> years\n",
        "x = df_rains.index\n",
        "x"
      ],
      "metadata": {
        "colab": {
          "base_uri": "https://localhost:8080/"
        },
        "id": "yznuUj7Ycrqn",
        "outputId": "ce2f0f5c-781e-4a20-b212-2dfaff6fd767"
      },
      "execution_count": 16,
      "outputs": [
        {
          "output_type": "execute_result",
          "data": {
            "text/plain": [
              "Int64Index([1965, 1966, 1967, 1968, 1969, 1970, 1971, 1972, 1973, 1974, 1975,\n",
              "            1976, 1977, 1978, 1979, 1980, 1981, 1982, 1983, 1984, 1985, 1986,\n",
              "            1987, 1988, 1989, 1990, 1991, 1992, 1993, 1994, 1995, 1996, 1997,\n",
              "            1998, 1999, 2000, 2001, 2002],\n",
              "           dtype='int64', name='Year')"
            ]
          },
          "metadata": {},
          "execution_count": 16
        }
      ]
    },
    {
      "cell_type": "code",
      "source": [
        "#Y define rains per year\n",
        "y = df_rains.sum(axis='columns')\n",
        "y"
      ],
      "metadata": {
        "colab": {
          "base_uri": "https://localhost:8080/"
        },
        "id": "wdRiHTqedSoA",
        "outputId": "f21993e4-a3e9-4d5e-96a6-2072b9161f56"
      },
      "execution_count": 17,
      "outputs": [
        {
          "output_type": "execute_result",
          "data": {
            "text/plain": [
              "Year\n",
              "1965    1263.394\n",
              "1966     899.588\n",
              "1967    1522.184\n",
              "1968    1086.237\n",
              "1969    1739.022\n",
              "1970    1273.507\n",
              "1971    1176.612\n",
              "1972     710.475\n",
              "1973    1570.073\n",
              "1974    1425.876\n",
              "1975    1777.838\n",
              "1976    1941.167\n",
              "1977    1202.154\n",
              "1978    1168.583\n",
              "1979    1769.187\n",
              "1980    1268.185\n",
              "1981    1562.761\n",
              "1982     943.087\n",
              "1983    1616.948\n",
              "1984    1538.961\n",
              "1985    1214.852\n",
              "1986    1267.969\n",
              "1987    1197.999\n",
              "1988    1822.649\n",
              "1989    1400.024\n",
              "1990    1766.294\n",
              "1991    1497.256\n",
              "1992    1323.883\n",
              "1993    1210.252\n",
              "1994    1987.689\n",
              "1995    1209.068\n",
              "1996    1631.331\n",
              "1997    1844.840\n",
              "1998    1603.243\n",
              "1999    1235.683\n",
              "2000    1094.062\n",
              "2001    1045.825\n",
              "2002    1024.881\n",
              "dtype: float64"
            ]
          },
          "metadata": {},
          "execution_count": 17
        }
      ]
    },
    {
      "cell_type": "code",
      "source": [
        "fig, ax = plt.subplots(figsize=(12,8))\n",
        "ax.plot(x, y, label = 'Precipitaciones acumuladas')\n",
        "ax.set_xlabel('Año')\n",
        "ax.set_ylabel('Precipitación acumulada(mm.)')\n",
        "ax.set_title('Precipitaciones acumuladas segun el año')\n",
        "ax.legend()"
      ],
      "metadata": {
        "colab": {
          "base_uri": "https://localhost:8080/",
          "height": 531
        },
        "id": "-A3j7lCLdo44",
        "outputId": "6ff2dc4c-d07c-41e6-b389-f9fdd172fbcb"
      },
      "execution_count": 23,
      "outputs": [
        {
          "output_type": "execute_result",
          "data": {
            "text/plain": [
              "<matplotlib.legend.Legend at 0x7f48dce63090>"
            ]
          },
          "metadata": {},
          "execution_count": 23
        },
        {
          "output_type": "display_data",
          "data": {
            "text/plain": [
              "<Figure size 864x576 with 1 Axes>"
            ],
            "image/png": "[encoded data removed]"
          },
          "metadata": {
            "needs_background": "light"
          }
        }
      ]
    },
    {
      "cell_type": "code",
      "source": [
        "df_rains.index"
      ],
      "metadata": {
        "colab": {
          "base_uri": "https://localhost:8080/"
        },
        "id": "b5moD1lgfwjd",
        "outputId": "da5ee4c4-6403-4d17-f606-6f1658c835e5"
      },
      "execution_count": 24,
      "outputs": [
        {
          "output_type": "execute_result",
          "data": {
            "text/plain": [
              "Int64Index([1965, 1966, 1967, 1968, 1969, 1970, 1971, 1972, 1973, 1974, 1975,\n",
              "            1976, 1977, 1978, 1979, 1980, 1981, 1982, 1983, 1984, 1985, 1986,\n",
              "            1987, 1988, 1989, 1990, 1991, 1992, 1993, 1994, 1995, 1996, 1997,\n",
              "            1998, 1999, 2000, 2001, 2002],\n",
              "           dtype='int64', name='Year')"
            ]
          },
          "metadata": {},
          "execution_count": 24
        }
      ]
    },
    {
      "cell_type": "code",
      "source": [
        "fig, ax = plt.subplots(figsize=(12,8))\n",
        "ax.plot(x, y, label = 'Precipitaciones acumuladas')\n",
        "ax.set_xlabel('Año')\n",
        "ax.set_ylabel('Precipitación acumulada(mm.)')\n",
        "ax.set_title('Precipitaciones acumuladas segun el año')\n",
        "ax.legend()\n",
        "ax.set_xlim(df_rains.index[0], df_rains.in.dex[-1])"
      ],
      "metadata": {
        "colab": {
          "base_uri": "https://localhost:8080/",
          "height": 531
        },
        "id": "eD1DNVkndo2N",
        "outputId": "23cb1aa8-601e-4fcf-9b11-82ff0924dab8"
      },
      "execution_count": 28,
      "outputs": [
        {
          "output_type": "execute_result",
          "data": {
            "text/plain": [
              "(1965.0, 2002.0)"
            ]
          },
          "metadata": {},
          "execution_count": 28
        },
        {
          "output_type": "display_data",
          "data": {
            "text/plain": [
              "<Figure size 864x576 with 1 Axes>"
            ],
            "image/png": "[encoded data removed]"
          },
          "metadata": {
            "needs_background": "light"
          }
        }
      ]
    },
    {
      "cell_type": "code",
      "source": [
        "#Export\n",
        "fig.savefig('precipitaciones.pdf')"
      ],
      "metadata": {
        "id": "A0yToNR0gfzm"
      },
      "execution_count": 30,
      "outputs": []
    },
    {
      "cell_type": "markdown",
      "source": [
        "##Tipos de graficos"
      ],
      "metadata": {
        "id": "IDhmqY01kYAi"
      }
    },
    {
      "cell_type": "code",
      "source": [
        "#Lineas\n",
        "fig, ax = plt.subplots()\n",
        "ax.plot([1,5,2,4,8,9,1])"
      ],
      "metadata": {
        "colab": {
          "base_uri": "https://localhost:8080/",
          "height": 284
        },
        "id": "3x3oOyIPkU1w",
        "outputId": "208b45ec-e4c1-4036-c38c-66071bdb0479"
      },
      "execution_count": 31,
      "outputs": [
        {
          "output_type": "execute_result",
          "data": {
            "text/plain": [
              "[<matplotlib.lines.Line2D at 0x7f48dca30e50>]"
            ]
          },
          "metadata": {},
          "execution_count": 31
        },
        {
          "output_type": "display_data",
          "data": {
            "text/plain": [
              "<Figure size 432x288 with 1 Axes>"
            ],
            "image/png": "[encoded data removed]"
          },
          "metadata": {
            "needs_background": "light"
          }
        }
      ]
    },
    {
      "cell_type": "code",
      "source": [
        "pesos = [42.8, 43.3, 42. , 44. , 44.1, 43.5, 48.1, 48.9, 47.7,46.9,50.4,\n",
        "       52.7, 51.8, 54.5, 54.2, 56.9, 55.4, 55.5, 57.1, 58.3, 63.7, 58.8,\n",
        "       64.6, 60.2, 64. , 63.8, 61.4, 66.3, 64.7, 63.9, 69.3, 67.9, 65.2,\n",
        "       70.8, 70.5, 69.3, 75.3, 75.5, 78.2, 78. , 73.2, 78. , 80.1, 78.2,\n",
        "       76. , 81.5, 79.4, 81.8, 81.8, 84.1]\n",
        "alturas = [149. , 149. , 149.9, 156.8, 150.6, 155.4, 151. , 162. , 165.,\n",
        "       157.8, 164.4, 160.1, 160.8, 163.8, 175.2, 162. , 159.5, 159.2,\n",
        "       169.8, 166.7, 179.4, 180.6, 163.3, 178.8, 176.3, 184.8, 181. ,\n",
        "       170.5, 184.1, 187.1, 187.1, 177.7, 184.5, 190.3, 196. , 192.1,\n",
        "       200.4, 201.8, 187.5, 202.1, 200.3, 208.8, 204.6, 193.5, 200.9,\n",
        "       196.8, 213.1, 204.8, 215.5, 210.2]"
      ],
      "metadata": {
        "id": "BpN485w4kwaE"
      },
      "execution_count": 32,
      "outputs": []
    },
    {
      "cell_type": "code",
      "source": [
        "#scatterplot , gráfico de dispersión comparar variables \n",
        "fig , ax = plt.subplots()\n",
        "ax.scatter(alturas, pesos, alpha=0.7) #alpha tranparencia de los puntos\n",
        "ax.set_title('Altura vs Peso de  50 alumnos ')\n",
        "ax.set_xlabel('Altura(cm.)')\n",
        "ax.set_ylabel('Peso(kg.)')"
      ],
      "metadata": {
        "colab": {
          "base_uri": "https://localhost:8080/",
          "height": 314
        },
        "id": "zAfcX6SXqe1_",
        "outputId": "476dfd1c-0de2-407f-98d2-9bbc9bb608e1"
      },
      "execution_count": 33,
      "outputs": [
        {
          "output_type": "execute_result",
          "data": {
            "text/plain": [
              "Text(0, 0.5, 'Peso(kg.)')"
            ]
          },
          "metadata": {},
          "execution_count": 33
        },
        {
          "output_type": "display_data",
          "data": {
            "text/plain": [
              "<Figure size 432x288 with 1 Axes>"
            ],
            "image/png": "[encoded data removed]"
          },
          "metadata": {
            "needs_background": "light"
          }
        }
      ]
    },
    {
      "cell_type": "code",
      "source": [
        "#df_rain\n"
      ],
      "metadata": {
        "id": "czStsgjzr4Qd"
      },
      "execution_count": null,
      "outputs": []
    },
    {
      "cell_type": "code",
      "source": [
        "df_rains['Aug']"
      ],
      "metadata": {
        "colab": {
          "base_uri": "https://localhost:8080/"
        },
        "id": "-q9IHjFJsYIB",
        "outputId": "5de5dbbd-dbe0-4db1-bdae-65a759f2fe7f"
      },
      "execution_count": 35,
      "outputs": [
        {
          "output_type": "execute_result",
          "data": {
            "text/plain": [
              "Year\n",
              "1965    402.521\n",
              "1966     59.386\n",
              "1967    181.069\n",
              "1968    171.979\n",
              "1969    397.335\n",
              "1970    283.476\n",
              "1971    372.693\n",
              "1972     68.741\n",
              "1973    256.932\n",
              "1974    319.651\n",
              "1975    404.372\n",
              "1976    436.912\n",
              "1977    129.678\n",
              "1978    239.066\n",
              "1979    451.153\n",
              "1980    404.191\n",
              "1981    217.037\n",
              "1982    194.307\n",
              "1983    537.764\n",
              "1984    138.006\n",
              "1985    297.802\n",
              "1986    247.395\n",
              "1987    477.113\n",
              "1988    211.781\n",
              "1989    177.257\n",
              "1990    451.707\n",
              "1991    193.423\n",
              "1992    428.764\n",
              "1993    150.278\n",
              "1994    230.898\n",
              "1995    114.206\n",
              "1996    212.489\n",
              "1997    541.579\n",
              "1998    362.357\n",
              "1999     98.616\n",
              "2000    220.814\n",
              "2001    189.404\n",
              "2002    257.205\n",
              "Name: Aug, dtype: float64"
            ]
          },
          "metadata": {},
          "execution_count": 35
        }
      ]
    },
    {
      "cell_type": "code",
      "source": [
        "df_rains.index"
      ],
      "metadata": {
        "colab": {
          "base_uri": "https://localhost:8080/"
        },
        "id": "jdTyn78gr4NN",
        "outputId": "57ebf7a7-0e86-4916-b11b-f5e34dde8a03"
      },
      "execution_count": 36,
      "outputs": [
        {
          "output_type": "execute_result",
          "data": {
            "text/plain": [
              "Int64Index([1965, 1966, 1967, 1968, 1969, 1970, 1971, 1972, 1973, 1974, 1975,\n",
              "            1976, 1977, 1978, 1979, 1980, 1981, 1982, 1983, 1984, 1985, 1986,\n",
              "            1987, 1988, 1989, 1990, 1991, 1992, 1993, 1994, 1995, 1996, 1997,\n",
              "            1998, 1999, 2000, 2001, 2002],\n",
              "           dtype='int64', name='Year')"
            ]
          },
          "metadata": {},
          "execution_count": 36
        }
      ]
    }
  ]
}