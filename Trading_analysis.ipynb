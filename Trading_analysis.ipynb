{
  "nbformat": 4,
  "nbformat_minor": 0,
  "metadata": {
    "colab": {
      "name": "Trading_analysis.ipynb",
      "provenance": [],
      "collapsed_sections": [
        "HwIDvQ8-Hc0v",
        "1X6Bc_boHuhe",
        "H10nMmc4Ir0X"
      ],
      "authorship_tag": "ABX9TyNtgK+gtGVGZ6D7UM+Ie6KE",
      "include_colab_link": true
    },
    "kernelspec": {
      "name": "python3",
      "display_name": "Python 3"
    },
    "language_info": {
      "name": "python"
    }
  },
  "cells": [
    {
      "cell_type": "markdown",
      "metadata": {
        "id": "view-in-github",
        "colab_type": "text"
      },
      "source": [
        "<a href=\"https://colab.research.google.com/github/calosos/py_resumenes_codigos/blob/main/Trading_analysis.ipynb\" target=\"_parent\"><img src=\"https://colab.research.google.com/assets/colab-badge.svg\" alt=\"Open In Colab\"/></a>"
      ]
    },
    {
      "cell_type": "markdown",
      "source": [
        "#1.    Installation of libraries"
      ],
      "metadata": {
        "id": "HwIDvQ8-Hc0v"
      }
    },
    {
      "cell_type": "code",
      "execution_count": 1,
      "metadata": {
        "id": "3i6NjCpDbCWU",
        "colab": {
          "base_uri": "https://localhost:8080/"
        },
        "outputId": "b0937670-9775-4169-c1f8-8c5beaa24d1e"
      },
      "outputs": [
        {
          "output_type": "stream",
          "name": "stdout",
          "text": [
            "Looking in indexes: https://pypi.org/simple, https://us-python.pkg.dev/colab-wheels/public/simple/\n",
            "Collecting fxcmpy\n",
            "  Downloading fxcmpy-1.3.2-py3-none-any.whl (28 kB)\n",
            "Collecting python-socketio==5.0.4\n",
            "  Downloading python_socketio-5.0.4-py2.py3-none-any.whl (52 kB)\n",
            "\u001b[K     |████████████████████████████████| 52 kB 1.4 MB/s \n",
            "\u001b[?25hRequirement already satisfied: requests[socks] in /usr/local/lib/python3.7/dist-packages (from fxcmpy) (2.23.0)\n",
            "Collecting websocket-client\n",
            "  Downloading websocket_client-1.3.2-py3-none-any.whl (54 kB)\n",
            "\u001b[K     |████████████████████████████████| 54 kB 2.7 MB/s \n",
            "\u001b[?25hCollecting configparser\n",
            "  Downloading configparser-5.2.0-py3-none-any.whl (19 kB)\n",
            "Collecting python-engineio==4.3.1\n",
            "  Downloading python_engineio-4.3.1-py3-none-any.whl (52 kB)\n",
            "\u001b[K     |████████████████████████████████| 52 kB 1.5 MB/s \n",
            "\u001b[?25hRequirement already satisfied: pandas in /usr/local/lib/python3.7/dist-packages (from fxcmpy) (1.3.5)\n",
            "Collecting bidict>=0.21.0\n",
            "  Downloading bidict-0.22.0-py3-none-any.whl (36 kB)\n",
            "Requirement already satisfied: numpy>=1.17.3 in /usr/local/lib/python3.7/dist-packages (from pandas->fxcmpy) (1.21.6)\n",
            "Requirement already satisfied: python-dateutil>=2.7.3 in /usr/local/lib/python3.7/dist-packages (from pandas->fxcmpy) (2.8.2)\n",
            "Requirement already satisfied: pytz>=2017.3 in /usr/local/lib/python3.7/dist-packages (from pandas->fxcmpy) (2022.1)\n",
            "Requirement already satisfied: six>=1.5 in /usr/local/lib/python3.7/dist-packages (from python-dateutil>=2.7.3->pandas->fxcmpy) (1.15.0)\n",
            "Requirement already satisfied: urllib3!=1.25.0,!=1.25.1,<1.26,>=1.21.1 in /usr/local/lib/python3.7/dist-packages (from requests[socks]->fxcmpy) (1.24.3)\n",
            "Requirement already satisfied: idna<3,>=2.5 in /usr/local/lib/python3.7/dist-packages (from requests[socks]->fxcmpy) (2.10)\n",
            "Requirement already satisfied: chardet<4,>=3.0.2 in /usr/local/lib/python3.7/dist-packages (from requests[socks]->fxcmpy) (3.0.4)\n",
            "Requirement already satisfied: certifi>=2017.4.17 in /usr/local/lib/python3.7/dist-packages (from requests[socks]->fxcmpy) (2022.5.18.1)\n",
            "Requirement already satisfied: PySocks!=1.5.7,>=1.5.6 in /usr/local/lib/python3.7/dist-packages (from requests[socks]->fxcmpy) (1.7.1)\n",
            "Installing collected packages: python-engineio, bidict, websocket-client, python-socketio, configparser, fxcmpy\n",
            "Successfully installed bidict-0.22.0 configparser-5.2.0 fxcmpy-1.3.2 python-engineio-4.3.1 python-socketio-5.0.4 websocket-client-1.3.2\n"
          ]
        }
      ],
      "source": [
        "!pip install fxcmpy"
      ]
    },
    {
      "cell_type": "code",
      "source": [
        "!pip install fxcmpy --upgrade"
      ],
      "metadata": {
        "id": "Q9yjAfpbbYIJ",
        "colab": {
          "base_uri": "https://localhost:8080/"
        },
        "outputId": "797d9192-2e8d-43f7-d539-3a58fd0ae3a3"
      },
      "execution_count": 2,
      "outputs": [
        {
          "output_type": "stream",
          "name": "stdout",
          "text": [
            "Looking in indexes: https://pypi.org/simple, https://us-python.pkg.dev/colab-wheels/public/simple/\n",
            "Requirement already satisfied: fxcmpy in /usr/local/lib/python3.7/dist-packages (1.3.2)\n",
            "Requirement already satisfied: configparser in /usr/local/lib/python3.7/dist-packages (from fxcmpy) (5.2.0)\n",
            "Requirement already satisfied: python-socketio==5.0.4 in /usr/local/lib/python3.7/dist-packages (from fxcmpy) (5.0.4)\n",
            "Requirement already satisfied: requests[socks] in /usr/local/lib/python3.7/dist-packages (from fxcmpy) (2.23.0)\n",
            "Requirement already satisfied: pandas in /usr/local/lib/python3.7/dist-packages (from fxcmpy) (1.3.5)\n",
            "Requirement already satisfied: websocket-client in /usr/local/lib/python3.7/dist-packages (from fxcmpy) (1.3.2)\n",
            "Requirement already satisfied: python-engineio==4.3.1 in /usr/local/lib/python3.7/dist-packages (from fxcmpy) (4.3.1)\n",
            "Requirement already satisfied: bidict>=0.21.0 in /usr/local/lib/python3.7/dist-packages (from python-socketio==5.0.4->fxcmpy) (0.22.0)\n",
            "Requirement already satisfied: python-dateutil>=2.7.3 in /usr/local/lib/python3.7/dist-packages (from pandas->fxcmpy) (2.8.2)\n",
            "Requirement already satisfied: numpy>=1.17.3 in /usr/local/lib/python3.7/dist-packages (from pandas->fxcmpy) (1.21.6)\n",
            "Requirement already satisfied: pytz>=2017.3 in /usr/local/lib/python3.7/dist-packages (from pandas->fxcmpy) (2022.1)\n",
            "Requirement already satisfied: six>=1.5 in /usr/local/lib/python3.7/dist-packages (from python-dateutil>=2.7.3->pandas->fxcmpy) (1.15.0)\n",
            "Requirement already satisfied: idna<3,>=2.5 in /usr/local/lib/python3.7/dist-packages (from requests[socks]->fxcmpy) (2.10)\n",
            "Requirement already satisfied: certifi>=2017.4.17 in /usr/local/lib/python3.7/dist-packages (from requests[socks]->fxcmpy) (2022.5.18.1)\n",
            "Requirement already satisfied: urllib3!=1.25.0,!=1.25.1,<1.26,>=1.21.1 in /usr/local/lib/python3.7/dist-packages (from requests[socks]->fxcmpy) (1.24.3)\n",
            "Requirement already satisfied: chardet<4,>=3.0.2 in /usr/local/lib/python3.7/dist-packages (from requests[socks]->fxcmpy) (3.0.4)\n",
            "Requirement already satisfied: PySocks!=1.5.7,>=1.5.6 in /usr/local/lib/python3.7/dist-packages (from requests[socks]->fxcmpy) (1.7.1)\n"
          ]
        }
      ]
    },
    {
      "cell_type": "code",
      "source": [
        "!pip install mplfinance"
      ],
      "metadata": {
        "colab": {
          "base_uri": "https://localhost:8080/"
        },
        "id": "BQVnsnhKPM0k",
        "outputId": "143a4865-2195-4b98-8175-f57eda0cdc01"
      },
      "execution_count": 3,
      "outputs": [
        {
          "output_type": "stream",
          "name": "stdout",
          "text": [
            "Looking in indexes: https://pypi.org/simple, https://us-python.pkg.dev/colab-wheels/public/simple/\n",
            "Collecting mplfinance\n",
            "  Downloading mplfinance-0.12.9b1-py3-none-any.whl (70 kB)\n",
            "\u001b[K     |████████████████████████████████| 70 kB 3.8 MB/s \n",
            "\u001b[?25hRequirement already satisfied: matplotlib in /usr/local/lib/python3.7/dist-packages (from mplfinance) (3.2.2)\n",
            "Requirement already satisfied: pandas in /usr/local/lib/python3.7/dist-packages (from mplfinance) (1.3.5)\n",
            "Requirement already satisfied: cycler>=0.10 in /usr/local/lib/python3.7/dist-packages (from matplotlib->mplfinance) (0.11.0)\n",
            "Requirement already satisfied: numpy>=1.11 in /usr/local/lib/python3.7/dist-packages (from matplotlib->mplfinance) (1.21.6)\n",
            "Requirement already satisfied: python-dateutil>=2.1 in /usr/local/lib/python3.7/dist-packages (from matplotlib->mplfinance) (2.8.2)\n",
            "Requirement already satisfied: kiwisolver>=1.0.1 in /usr/local/lib/python3.7/dist-packages (from matplotlib->mplfinance) (1.4.2)\n",
            "Requirement already satisfied: pyparsing!=2.0.4,!=2.1.2,!=2.1.6,>=2.0.1 in /usr/local/lib/python3.7/dist-packages (from matplotlib->mplfinance) (3.0.9)\n",
            "Requirement already satisfied: typing-extensions in /usr/local/lib/python3.7/dist-packages (from kiwisolver>=1.0.1->matplotlib->mplfinance) (4.2.0)\n",
            "Requirement already satisfied: six>=1.5 in /usr/local/lib/python3.7/dist-packages (from python-dateutil>=2.1->matplotlib->mplfinance) (1.15.0)\n",
            "Requirement already satisfied: pytz>=2017.3 in /usr/local/lib/python3.7/dist-packages (from pandas->mplfinance) (2022.1)\n",
            "Installing collected packages: mplfinance\n",
            "Successfully installed mplfinance-0.12.9b1\n"
          ]
        }
      ]
    },
    {
      "cell_type": "code",
      "source": [
        "!pip install --upgrade mplfinance"
      ],
      "metadata": {
        "id": "aoFwBm5APyt0",
        "outputId": "f0d52f9c-60c6-48ae-b34c-a4806c67525d",
        "colab": {
          "base_uri": "https://localhost:8080/"
        }
      },
      "execution_count": 4,
      "outputs": [
        {
          "output_type": "stream",
          "name": "stdout",
          "text": [
            "Looking in indexes: https://pypi.org/simple, https://us-python.pkg.dev/colab-wheels/public/simple/\n",
            "Requirement already satisfied: mplfinance in /usr/local/lib/python3.7/dist-packages (0.12.9b1)\n",
            "Requirement already satisfied: matplotlib in /usr/local/lib/python3.7/dist-packages (from mplfinance) (3.2.2)\n",
            "Requirement already satisfied: pandas in /usr/local/lib/python3.7/dist-packages (from mplfinance) (1.3.5)\n",
            "Requirement already satisfied: cycler>=0.10 in /usr/local/lib/python3.7/dist-packages (from matplotlib->mplfinance) (0.11.0)\n",
            "Requirement already satisfied: numpy>=1.11 in /usr/local/lib/python3.7/dist-packages (from matplotlib->mplfinance) (1.21.6)\n",
            "Requirement already satisfied: kiwisolver>=1.0.1 in /usr/local/lib/python3.7/dist-packages (from matplotlib->mplfinance) (1.4.2)\n",
            "Requirement already satisfied: python-dateutil>=2.1 in /usr/local/lib/python3.7/dist-packages (from matplotlib->mplfinance) (2.8.2)\n",
            "Requirement already satisfied: pyparsing!=2.0.4,!=2.1.2,!=2.1.6,>=2.0.1 in /usr/local/lib/python3.7/dist-packages (from matplotlib->mplfinance) (3.0.9)\n",
            "Requirement already satisfied: typing-extensions in /usr/local/lib/python3.7/dist-packages (from kiwisolver>=1.0.1->matplotlib->mplfinance) (4.2.0)\n",
            "Requirement already satisfied: six>=1.5 in /usr/local/lib/python3.7/dist-packages (from python-dateutil>=2.1->matplotlib->mplfinance) (1.15.0)\n",
            "Requirement already satisfied: pytz>=2017.3 in /usr/local/lib/python3.7/dist-packages (from pandas->mplfinance) (2022.1)\n"
          ]
        }
      ]
    },
    {
      "cell_type": "code",
      "source": [
        "!pip install pyti"
      ],
      "metadata": {
        "colab": {
          "base_uri": "https://localhost:8080/"
        },
        "id": "b80nIbHduu4A",
        "outputId": "21ebeef3-a522-4905-e14b-e8c024815f9a"
      },
      "execution_count": 5,
      "outputs": [
        {
          "output_type": "stream",
          "name": "stdout",
          "text": [
            "Looking in indexes: https://pypi.org/simple, https://us-python.pkg.dev/colab-wheels/public/simple/\n",
            "Collecting pyti\n",
            "  Downloading pyti-0.2.2-py3-none-any.whl (27 kB)\n",
            "Requirement already satisfied: numpy in /usr/local/lib/python3.7/dist-packages (from pyti) (1.21.6)\n",
            "Requirement already satisfied: pandas in /usr/local/lib/python3.7/dist-packages (from pyti) (1.3.5)\n",
            "Requirement already satisfied: python-dateutil>=2.7.3 in /usr/local/lib/python3.7/dist-packages (from pandas->pyti) (2.8.2)\n",
            "Requirement already satisfied: pytz>=2017.3 in /usr/local/lib/python3.7/dist-packages (from pandas->pyti) (2022.1)\n",
            "Requirement already satisfied: six>=1.5 in /usr/local/lib/python3.7/dist-packages (from python-dateutil>=2.7.3->pandas->pyti) (1.15.0)\n",
            "Installing collected packages: pyti\n",
            "Successfully installed pyti-0.2.2\n"
          ]
        }
      ]
    },
    {
      "cell_type": "markdown",
      "source": [
        "# 2. Librarys"
      ],
      "metadata": {
        "id": "1X6Bc_boHuhe"
      }
    },
    {
      "cell_type": "code",
      "source": [
        "import time\n",
        "import numpy as np\n",
        "import pandas as pd\n",
        "import datetime as dt\n",
        "from pylab import mpl,plt\n",
        "import fxcmpy"
      ],
      "metadata": {
        "id": "6SXIRPt_bjdA"
      },
      "execution_count": 462,
      "outputs": []
    },
    {
      "cell_type": "code",
      "source": [
        "import mplfinance as mpf"
      ],
      "metadata": {
        "id": "FGNMXzg8PQRc"
      },
      "execution_count": 463,
      "outputs": []
    },
    {
      "cell_type": "code",
      "source": [
        "from fxcmpy import  fxcmpy_tick_data_reader as tdr"
      ],
      "metadata": {
        "id": "HRhGfQhJilrC"
      },
      "execution_count": 464,
      "outputs": []
    },
    {
      "cell_type": "code",
      "source": [
        "plt.style.use('seaborn')\n",
        "mpl.rcParams['font.family']='serif'\n",
        "%matplotlib inline"
      ],
      "metadata": {
        "id": "HHvHmoo6bwpo"
      },
      "execution_count": 465,
      "outputs": []
    },
    {
      "cell_type": "code",
      "source": [
        "from scipy import stats"
      ],
      "metadata": {
        "id": "IZsbK9bxwxxm"
      },
      "execution_count": 466,
      "outputs": []
    },
    {
      "cell_type": "code",
      "source": [
        "import seaborn as sns\n",
        "import matplotlib.pyplot as plt"
      ],
      "metadata": {
        "id": "MTAL5P19079u"
      },
      "execution_count": 467,
      "outputs": []
    },
    {
      "cell_type": "code",
      "source": [
        "from scipy.stats import iqr"
      ],
      "metadata": {
        "id": "CVpoEMXS5p9l"
      },
      "execution_count": 468,
      "outputs": []
    },
    {
      "cell_type": "code",
      "source": [
        "from scipy.stats import skew, kurtosis"
      ],
      "metadata": {
        "id": "zixDMrABKDRO"
      },
      "execution_count": 469,
      "outputs": []
    },
    {
      "cell_type": "markdown",
      "source": [
        "#3. Broker connection"
      ],
      "metadata": {
        "id": "HCAxOkmQITf_"
      }
    },
    {
      "cell_type": "markdown",
      "source": [
        "D161558089 usuario \n",
        "kM3tl password"
      ],
      "metadata": {
        "id": "8vQpHGWnC-2Z"
      }
    },
    {
      "cell_type": "code",
      "source": [
        "TOKEN = '71c091611d0281db76d7d9595aa08f8ad6ee1dce'"
      ],
      "metadata": {
        "id": "v1Qp4aiwbfuI"
      },
      "execution_count": 11,
      "outputs": []
    },
    {
      "cell_type": "code",
      "source": [
        "con = fxcmpy.fxcmpy(access_token='8030bef1dcbafa80e75ef40522559c442fa07d41', log_level='error')"
      ],
      "metadata": {
        "id": "xm9P8iElbg_B"
      },
      "execution_count": 12,
      "outputs": []
    },
    {
      "cell_type": "markdown",
      "source": [
        "#4. Instruments DataFrame "
      ],
      "metadata": {
        "id": "H10nMmc4Ir0X"
      }
    },
    {
      "cell_type": "code",
      "source": [
        "instruments = con.get_instruments()\n",
        "print(instruments)"
      ],
      "metadata": {
        "colab": {
          "base_uri": "https://localhost:8080/"
        },
        "id": "GGAJcZKvdt9B",
        "outputId": "421ad7e6-a526-40fe-c45f-614d7d6f4ce1"
      },
      "execution_count": 291,
      "outputs": [
        {
          "output_type": "stream",
          "name": "stdout",
          "text": [
            "6821 | EUR/USD | 2022-06-02 07:21:03.114000 | 1.06747, 1.06760\n",
            "9787 | XAU/USD | 2022-06-02 07:21:03.128000 | 1850.49000, 1850.99000\n",
            "9788 | XAU/USD | 2022-06-02 07:21:03.688000 | 1850.54000, 1851.03000\n",
            "9789 | XAU/USD | 2022-06-02 07:21:04.059000 | 1850.54000, 1850.99000\n",
            "6822 | EUR/USD | 2022-06-02 07:21:04.065000 | 1.06747, 1.06760\n",
            "9790 | XAU/USD | 2022-06-02 07:21:04.629000 | 1850.53000, 1850.97000\n",
            "6823 | EUR/USD | 2022-06-02 07:21:05.958000 | 1.06746, 1.06759\n",
            "9791 | XAU/USD | 2022-06-02 07:21:05.704000 | 1850.51000, 1850.95000\n",
            "2811 | BTC/USD | 2022-06-02 07:21:06.451000 | 29874.85000, 29914.85000\n",
            "6824 | EUR/USD | 2022-06-02 07:21:06.583000 | 1.06746, 1.06759\n",
            "9792 | XAU/USD | 2022-06-02 07:21:06.409000 | 1850.50000, 1850.96000\n",
            "2812 | BTC/USD | 2022-06-02 07:21:06.977000 | 29873.15000, 29913.15000\n",
            "6825 | EUR/USD | 2022-06-02 07:21:06.997000 | 1.06748, 1.06760\n",
            "2813 | BTC/USD | 2022-06-02 07:21:07.447000 | 29874.00000, 29914.00000\n",
            "6826 | EUR/USD | 2022-06-02 07:21:07.542000 | 1.06748, 1.06760\n",
            "9793 | XAU/USD | 2022-06-02 07:21:07.345000 | 1850.53000, 1850.96000\n",
            "9794 | XAU/USD | 2022-06-02 07:21:08.131000 | 1850.52000, 1850.95000\n",
            "6827 | EUR/USD | 2022-06-02 07:21:08.225000 | 1.06743, 1.06756\n",
            "2814 | BTC/USD | 2022-06-02 07:21:08.233000 | 29874.20000, 29914.20000\n",
            "6828 | EUR/USD | 2022-06-02 07:21:08.565000 | 1.06743, 1.06756\n",
            "['EUR/USD', 'USD/JPY', 'GBP/USD', 'USD/CHF', 'EUR/CHF', 'AUD/USD', 'USD/CAD', 'NZD/USD', 'EUR/GBP', 'EUR/JPY', 'GBP/JPY', 'CHF/JPY', 'GBP/CHF', 'EUR/AUD', 'EUR/CAD', 'AUD/CAD', 'AUD/JPY', 'CAD/JPY', 'NZD/JPY', 'GBP/CAD', 'GBP/NZD', 'GBP/AUD', 'AUD/NZD', 'USD/SEK', 'EUR/SEK', 'EUR/NOK', 'USD/NOK', 'USD/MXN', 'AUD/CHF', 'EUR/NZD', 'USD/ZAR', 'USD/HKD', 'ZAR/JPY', 'USD/TRY', 'EUR/TRY', 'NZD/CHF', 'CAD/CHF', 'NZD/CAD', 'TRY/JPY', 'USD/CNH', 'AUS200', 'ESP35', 'FRA40', 'GER30', 'HKG33', 'JPN225', 'NAS100', 'SPX500', 'UK100', 'US30', 'Copper', 'CHN50', 'EUSTX50', 'VOLX', 'USDOLLAR', 'US2000', 'INDIA50', 'USOil', 'UKOil', 'SOYF', 'NGAS', 'USOilSpot', 'UKOilSpot', 'WHEATF', 'CORNF', 'Bund', '5USNote', '10USNote', '2USNote', 'Bobl', 'Schatz', 'FED30D', 'EURIBOR3M', 'EURDLR3M', 'SONIA3M', 'IBHY', 'XAU/USD', 'XAG/USD', 'EMBasket', 'JPYBasket', 'BTC/USD', 'BCH/USD', 'ETH/USD', 'LTC/USD', 'CryptoMajor', 'EOS/USD', 'XLM/USD', 'ADA/USD', 'DOGE/USD', 'DOT/USD', 'BTC/EUR', 'BTC/AUD', 'BTC/GBP', 'ETH/EUR', 'ETH/AUD', 'BNB/USD', 'SOL/USD', 'AVAX/USD', 'MATIC/USD', 'LINK/USD', 'XTZ/USD', 'KSM/USD', 'ESPORTS', 'BIOTECH', 'CANNABIS', 'FAANG', 'CHN.TECH', 'CHN.ECOMM', 'USEquities', 'AIRLINES', 'CASINOS', 'TRAVEL', 'US.ECOMM', 'US.BANKS', 'US.AUTO', 'WFH', 'ATMX', 'URANIUM', 'Cryptostock', 'BA.us', 'BAC.us', 'BRKB.us', 'C.us', 'CRM.us', 'DIS.us', 'F.us', 'JPM.us', 'KO.us', 'MA.us', 'MCD.us', 'PFE.us', 'PG.us', 'SE.us', 'T.us', 'TGT.us', 'V.us', 'XOM.us', 'AAPL.us', 'AMZN.us', 'BIDU.us', 'FB.us', 'GOOG.us', 'INTC.us', 'MSFT.us', 'SBUX.us', '', '', '', '', '', '', '', '', 'AI.fr', 'ALO.fr', 'BN.fr', 'BNP.fr', 'CA.fr', 'DG.fr', 'AIR.fr', 'ORA.fr', 'GLE.fr', 'MC.fr', 'ML.fr', 'OR.fr', 'RNO.fr', 'SAN.fr', 'SGO.fr', 'SU.fr', 'VIE.fr', 'VIV.fr', 'ADS.de', 'ALV.de', 'BAS.de', 'BAYN.de', 'BMW.de', 'CON.de', 'DB1.de', 'DBK.de', 'DPW.de', 'DTE.de', 'EOAN.de', 'IFX.de', 'LHA.de', 'MRK.de', 'RWE.de', 'SAP.de', 'SIE.de', 'TUI1.de', 'VOW.de', 'AV.uk', 'AZN.uk', 'BA.uk', 'BARC.uk', 'BATS.uk', 'BP.uk', 'GSK.uk', 'HSBA.uk', 'IAG.uk', 'LGEN.uk', 'LLOY.uk', 'RR.uk', 'STAN.uk', 'TSCO.uk', 'VOD.uk', 'BABA.us', 'DAL.us', 'NFLX.us', 'TSLA.us', 'GLEN.uk', 'TTE.fr', 'ENGI.fr', 'VNA.de', 'SQ.us', 'LYFT.us', 'UAL.us', 'DKNG.us', 'SHOP.us', 'BYND.us', 'UBER.us', 'ZM.us', 'LCID.us', 'HOOD.us', 'CRWD.us', 'BEKE.us', 'CPNG.us', 'NET.us', 'RBLX.us', 'ENR.de', 'BIDU.hk', 'COIN.us', 'CSL.au', 'CBA.au', 'BHP.au', 'WBC.au', 'NAB.au', 'ANZ.au', 'WOW.au', 'WES.au', 'FMG.au', 'MQG.au', 'TLS.au', 'RIO.au', 'GMG.au', 'WPL.au', 'NCM.au', 'COL.au', 'ALL.au', 'A2M.au', 'REA.au', 'XRO.au', 'CWN.au', 'QAN.au', 'Z1P.au', 'SHEL.uk', 'MBG.de', 'BT.A.uk', 'NWG.uk', 'TW.uk', 'MRO.uk', 'MNG.uk', 'ROO.uk', 'CBK.de', 'DHER.de', 'STM.fr', 'STLA.fr', 'DIDI.us', 'FVRR.us', 'SPOT.us', 'MARA.us', 'BTBT.us', 'BITF.us', 'WISH.us', '', 'RIVN.us', 'WE.us', '', '', '', '', '', '', '', '', '', '', '', 'JD.us', 'PDD.us', 'TME.us', 'WB.us', 'BILI.us', 'NVDA.us', 'AMD.us', 'DADA.us', 'PTON.us', 'TENC.hk', 'MEIT.hk', 'BYDC.hk', 'XIAO.hk', 'BABA.hk', 'AIA.hk', 'HSBC.hk', 'WUXI.hk', 'HKEX.hk', 'GELY.hk', 'JD.hk', 'NETE.hk', 'PING.hk', 'SMIC.hk', 'SBIO.hk', 'GALA.hk', 'KIDE.hk', 'ALIH.hk', 'ICBC.hk', 'FLAT.hk', 'KSOF.hk', 'SMOO.hk', 'SUNN.hk', 'BYDE.hk', 'TWTR.us', 'MRNA.us', 'NIO.us', 'CCL.us', 'ABNB.us', 'DASH.us', 'AMC.us', 'BNGO.us', 'FCEL.us', 'GME.us', 'PENN.us', 'PLTR.us', 'PLUG.us', 'PYPL.us', 'SNAP.us', 'SNOW.us', 'SPCE.us', 'XPEV.us', 'SONY.us']\n"
          ]
        }
      ]
    },
    {
      "cell_type": "code",
      "source": [
        "df_instruments = pd.DataFrame(instruments, columns=['Instruments'])\n",
        "df_instruments.size\n",
        "df_instruments.head()"
      ],
      "metadata": {
        "colab": {
          "base_uri": "https://localhost:8080/",
          "height": 206
        },
        "id": "-Pm028Wy7Jld",
        "outputId": "6daaecc6-02e1-4336-cce9-3ea1e2b6ace9"
      },
      "execution_count": 292,
      "outputs": [
        {
          "output_type": "execute_result",
          "data": {
            "text/plain": [
              "  Instruments\n",
              "0     EUR/USD\n",
              "1     USD/JPY\n",
              "2     GBP/USD\n",
              "3     USD/CHF\n",
              "4     EUR/CHF"
            ],
            "text/html": [
              "\n",
              "  <div id=\"df-93086bf3-834c-40fd-8129-8811df4db87b\">\n",
              "    <div class=\"colab-df-container\">\n",
              "      <div>\n",
              "<style scoped>\n",
              "    .dataframe tbody tr th:only-of-type {\n",
              "        vertical-align: middle;\n",
              "    }\n",
              "\n",
              "    .dataframe tbody tr th {\n",
              "        vertical-align: top;\n",
              "    }\n",
              "\n",
              "    .dataframe thead th {\n",
              "        text-align: right;\n",
              "    }\n",
              "</style>\n",
              "<table border=\"1\" class=\"dataframe\">\n",
              "  <thead>\n",
              "    <tr style=\"text-align: right;\">\n",
              "      <th></th>\n",
              "      <th>Instruments</th>\n",
              "    </tr>\n",
              "  </thead>\n",
              "  <tbody>\n",
              "    <tr>\n",
              "      <th>0</th>\n",
              "      <td>EUR/USD</td>\n",
              "    </tr>\n",
              "    <tr>\n",
              "      <th>1</th>\n",
              "      <td>USD/JPY</td>\n",
              "    </tr>\n",
              "    <tr>\n",
              "      <th>2</th>\n",
              "      <td>GBP/USD</td>\n",
              "    </tr>\n",
              "    <tr>\n",
              "      <th>3</th>\n",
              "      <td>USD/CHF</td>\n",
              "    </tr>\n",
              "    <tr>\n",
              "      <th>4</th>\n",
              "      <td>EUR/CHF</td>\n",
              "    </tr>\n",
              "  </tbody>\n",
              "</table>\n",
              "</div>\n",
              "      <button class=\"colab-df-convert\" onclick=\"convertToInteractive('df-93086bf3-834c-40fd-8129-8811df4db87b')\"\n",
              "              title=\"Convert this dataframe to an interactive table.\"\n",
              "              style=\"display:none;\">\n",
              "        \n",
              "  <svg xmlns=\"http://www.w3.org/2000/svg\" height=\"24px\"viewBox=\"0 0 24 24\"\n",
              "       width=\"24px\">\n",
              "    <path d=\"M0 0h24v24H0V0z\" fill=\"none\"/>\n",
              "    <path d=\"M18.56 5.44l.94 2.06.94-2.06 2.06-.94-2.06-.94-.94-2.06-.94 2.06-2.06.94zm-11 1L8.5 8.5l.94-2.06 2.06-.94-2.06-.94L8.5 2.5l-.94 2.06-2.06.94zm10 10l.94 2.06.94-2.06 2.06-.94-2.06-.94-.94-2.06-.94 2.06-2.06.94z\"/><path d=\"M17.41 7.96l-1.37-1.37c-.4-.4-.92-.59-1.43-.59-.52 0-1.04.2-1.43.59L10.3 9.45l-7.72 7.72c-.78.78-.78 2.05 0 2.83L4 21.41c.39.39.9.59 1.41.59.51 0 1.02-.2 1.41-.59l7.78-7.78 2.81-2.81c.8-.78.8-2.07 0-2.86zM5.41 20L4 18.59l7.72-7.72 1.47 1.35L5.41 20z\"/>\n",
              "  </svg>\n",
              "      </button>\n",
              "      \n",
              "  <style>\n",
              "    .colab-df-container {\n",
              "      display:flex;\n",
              "      flex-wrap:wrap;\n",
              "      gap: 12px;\n",
              "    }\n",
              "\n",
              "    .colab-df-convert {\n",
              "      background-color: #E8F0FE;\n",
              "      border: none;\n",
              "      border-radius: 50%;\n",
              "      cursor: pointer;\n",
              "      display: none;\n",
              "      fill: #1967D2;\n",
              "      height: 32px;\n",
              "      padding: 0 0 0 0;\n",
              "      width: 32px;\n",
              "    }\n",
              "\n",
              "    .colab-df-convert:hover {\n",
              "      background-color: #E2EBFA;\n",
              "      box-shadow: 0px 1px 2px rgba(60, 64, 67, 0.3), 0px 1px 3px 1px rgba(60, 64, 67, 0.15);\n",
              "      fill: #174EA6;\n",
              "    }\n",
              "\n",
              "    [theme=dark] .colab-df-convert {\n",
              "      background-color: #3B4455;\n",
              "      fill: #D2E3FC;\n",
              "    }\n",
              "\n",
              "    [theme=dark] .colab-df-convert:hover {\n",
              "      background-color: #434B5C;\n",
              "      box-shadow: 0px 1px 3px 1px rgba(0, 0, 0, 0.15);\n",
              "      filter: drop-shadow(0px 1px 2px rgba(0, 0, 0, 0.3));\n",
              "      fill: #FFFFFF;\n",
              "    }\n",
              "  </style>\n",
              "\n",
              "      <script>\n",
              "        const buttonEl =\n",
              "          document.querySelector('#df-93086bf3-834c-40fd-8129-8811df4db87b button.colab-df-convert');\n",
              "        buttonEl.style.display =\n",
              "          google.colab.kernel.accessAllowed ? 'block' : 'none';\n",
              "\n",
              "        async function convertToInteractive(key) {\n",
              "          const element = document.querySelector('#df-93086bf3-834c-40fd-8129-8811df4db87b');\n",
              "          const dataTable =\n",
              "            await google.colab.kernel.invokeFunction('convertToInteractive',\n",
              "                                                     [key], {});\n",
              "          if (!dataTable) return;\n",
              "\n",
              "          const docLinkHtml = 'Like what you see? Visit the ' +\n",
              "            '<a target=\"_blank\" href=https://colab.research.google.com/notebooks/data_table.ipynb>data table notebook</a>'\n",
              "            + ' to learn more about interactive tables.';\n",
              "          element.innerHTML = '';\n",
              "          dataTable['output_type'] = 'display_data';\n",
              "          await google.colab.output.renderOutput(dataTable, element);\n",
              "          const docLink = document.createElement('div');\n",
              "          docLink.innerHTML = docLinkHtml;\n",
              "          element.appendChild(docLink);\n",
              "        }\n",
              "      </script>\n",
              "    </div>\n",
              "  </div>\n",
              "  "
            ]
          },
          "metadata": {},
          "execution_count": 292
        }
      ]
    },
    {
      "cell_type": "code",
      "source": [
        "df_instruments_na=df_instruments.replace('', np.nan)\n",
        "df_instruments_na.head()"
      ],
      "metadata": {
        "id": "JEvdY3wB_jZa",
        "colab": {
          "base_uri": "https://localhost:8080/",
          "height": 206
        },
        "outputId": "2192b908-87d8-479e-ebc1-74f4821e5fb4"
      },
      "execution_count": 293,
      "outputs": [
        {
          "output_type": "execute_result",
          "data": {
            "text/plain": [
              "  Instruments\n",
              "0     EUR/USD\n",
              "1     USD/JPY\n",
              "2     GBP/USD\n",
              "3     USD/CHF\n",
              "4     EUR/CHF"
            ],
            "text/html": [
              "\n",
              "  <div id=\"df-35f9e4af-30eb-4660-ac02-6680acd7ebae\">\n",
              "    <div class=\"colab-df-container\">\n",
              "      <div>\n",
              "<style scoped>\n",
              "    .dataframe tbody tr th:only-of-type {\n",
              "        vertical-align: middle;\n",
              "    }\n",
              "\n",
              "    .dataframe tbody tr th {\n",
              "        vertical-align: top;\n",
              "    }\n",
              "\n",
              "    .dataframe thead th {\n",
              "        text-align: right;\n",
              "    }\n",
              "</style>\n",
              "<table border=\"1\" class=\"dataframe\">\n",
              "  <thead>\n",
              "    <tr style=\"text-align: right;\">\n",
              "      <th></th>\n",
              "      <th>Instruments</th>\n",
              "    </tr>\n",
              "  </thead>\n",
              "  <tbody>\n",
              "    <tr>\n",
              "      <th>0</th>\n",
              "      <td>EUR/USD</td>\n",
              "    </tr>\n",
              "    <tr>\n",
              "      <th>1</th>\n",
              "      <td>USD/JPY</td>\n",
              "    </tr>\n",
              "    <tr>\n",
              "      <th>2</th>\n",
              "      <td>GBP/USD</td>\n",
              "    </tr>\n",
              "    <tr>\n",
              "      <th>3</th>\n",
              "      <td>USD/CHF</td>\n",
              "    </tr>\n",
              "    <tr>\n",
              "      <th>4</th>\n",
              "      <td>EUR/CHF</td>\n",
              "    </tr>\n",
              "  </tbody>\n",
              "</table>\n",
              "</div>\n",
              "      <button class=\"colab-df-convert\" onclick=\"convertToInteractive('df-35f9e4af-30eb-4660-ac02-6680acd7ebae')\"\n",
              "              title=\"Convert this dataframe to an interactive table.\"\n",
              "              style=\"display:none;\">\n",
              "        \n",
              "  <svg xmlns=\"http://www.w3.org/2000/svg\" height=\"24px\"viewBox=\"0 0 24 24\"\n",
              "       width=\"24px\">\n",
              "    <path d=\"M0 0h24v24H0V0z\" fill=\"none\"/>\n",
              "    <path d=\"M18.56 5.44l.94 2.06.94-2.06 2.06-.94-2.06-.94-.94-2.06-.94 2.06-2.06.94zm-11 1L8.5 8.5l.94-2.06 2.06-.94-2.06-.94L8.5 2.5l-.94 2.06-2.06.94zm10 10l.94 2.06.94-2.06 2.06-.94-2.06-.94-.94-2.06-.94 2.06-2.06.94z\"/><path d=\"M17.41 7.96l-1.37-1.37c-.4-.4-.92-.59-1.43-.59-.52 0-1.04.2-1.43.59L10.3 9.45l-7.72 7.72c-.78.78-.78 2.05 0 2.83L4 21.41c.39.39.9.59 1.41.59.51 0 1.02-.2 1.41-.59l7.78-7.78 2.81-2.81c.8-.78.8-2.07 0-2.86zM5.41 20L4 18.59l7.72-7.72 1.47 1.35L5.41 20z\"/>\n",
              "  </svg>\n",
              "      </button>\n",
              "      \n",
              "  <style>\n",
              "    .colab-df-container {\n",
              "      display:flex;\n",
              "      flex-wrap:wrap;\n",
              "      gap: 12px;\n",
              "    }\n",
              "\n",
              "    .colab-df-convert {\n",
              "      background-color: #E8F0FE;\n",
              "      border: none;\n",
              "      border-radius: 50%;\n",
              "      cursor: pointer;\n",
              "      display: none;\n",
              "      fill: #1967D2;\n",
              "      height: 32px;\n",
              "      padding: 0 0 0 0;\n",
              "      width: 32px;\n",
              "    }\n",
              "\n",
              "    .colab-df-convert:hover {\n",
              "      background-color: #E2EBFA;\n",
              "      box-shadow: 0px 1px 2px rgba(60, 64, 67, 0.3), 0px 1px 3px 1px rgba(60, 64, 67, 0.15);\n",
              "      fill: #174EA6;\n",
              "    }\n",
              "\n",
              "    [theme=dark] .colab-df-convert {\n",
              "      background-color: #3B4455;\n",
              "      fill: #D2E3FC;\n",
              "    }\n",
              "\n",
              "    [theme=dark] .colab-df-convert:hover {\n",
              "      background-color: #434B5C;\n",
              "      box-shadow: 0px 1px 3px 1px rgba(0, 0, 0, 0.15);\n",
              "      filter: drop-shadow(0px 1px 2px rgba(0, 0, 0, 0.3));\n",
              "      fill: #FFFFFF;\n",
              "    }\n",
              "  </style>\n",
              "\n",
              "      <script>\n",
              "        const buttonEl =\n",
              "          document.querySelector('#df-35f9e4af-30eb-4660-ac02-6680acd7ebae button.colab-df-convert');\n",
              "        buttonEl.style.display =\n",
              "          google.colab.kernel.accessAllowed ? 'block' : 'none';\n",
              "\n",
              "        async function convertToInteractive(key) {\n",
              "          const element = document.querySelector('#df-35f9e4af-30eb-4660-ac02-6680acd7ebae');\n",
              "          const dataTable =\n",
              "            await google.colab.kernel.invokeFunction('convertToInteractive',\n",
              "                                                     [key], {});\n",
              "          if (!dataTable) return;\n",
              "\n",
              "          const docLinkHtml = 'Like what you see? Visit the ' +\n",
              "            '<a target=\"_blank\" href=https://colab.research.google.com/notebooks/data_table.ipynb>data table notebook</a>'\n",
              "            + ' to learn more about interactive tables.';\n",
              "          element.innerHTML = '';\n",
              "          dataTable['output_type'] = 'display_data';\n",
              "          await google.colab.output.renderOutput(dataTable, element);\n",
              "          const docLink = document.createElement('div');\n",
              "          docLink.innerHTML = docLinkHtml;\n",
              "          element.appendChild(docLink);\n",
              "        }\n",
              "      </script>\n",
              "    </div>\n",
              "  </div>\n",
              "  "
            ]
          },
          "metadata": {},
          "execution_count": 293
        }
      ]
    },
    {
      "cell_type": "code",
      "source": [
        "df_instruments_dropna=df_instruments_na.dropna()\n",
        "df_instruments_dropna.head()"
      ],
      "metadata": {
        "colab": {
          "base_uri": "https://localhost:8080/",
          "height": 241
        },
        "id": "lJLyT6W3BEFC",
        "outputId": "6d82d34d-b5a6-40af-a996-5b2ee87a873a"
      },
      "execution_count": 294,
      "outputs": [
        {
          "output_type": "stream",
          "name": "stdout",
          "text": [
            "9795 | XAU/USD | 2022-06-02 07:21:09.327000 | 1850.50000, 1850.95000\n",
            "2815 | BTC/USD | 2022-06-02 07:21:09.226000 | 29875.20000, 29915.20000\n"
          ]
        },
        {
          "output_type": "execute_result",
          "data": {
            "text/plain": [
              "  Instruments\n",
              "0     EUR/USD\n",
              "1     USD/JPY\n",
              "2     GBP/USD\n",
              "3     USD/CHF\n",
              "4     EUR/CHF"
            ],
            "text/html": [
              "\n",
              "  <div id=\"df-33787624-dd91-41f0-812a-a1eb744fe65f\">\n",
              "    <div class=\"colab-df-container\">\n",
              "      <div>\n",
              "<style scoped>\n",
              "    .dataframe tbody tr th:only-of-type {\n",
              "        vertical-align: middle;\n",
              "    }\n",
              "\n",
              "    .dataframe tbody tr th {\n",
              "        vertical-align: top;\n",
              "    }\n",
              "\n",
              "    .dataframe thead th {\n",
              "        text-align: right;\n",
              "    }\n",
              "</style>\n",
              "<table border=\"1\" class=\"dataframe\">\n",
              "  <thead>\n",
              "    <tr style=\"text-align: right;\">\n",
              "      <th></th>\n",
              "      <th>Instruments</th>\n",
              "    </tr>\n",
              "  </thead>\n",
              "  <tbody>\n",
              "    <tr>\n",
              "      <th>0</th>\n",
              "      <td>EUR/USD</td>\n",
              "    </tr>\n",
              "    <tr>\n",
              "      <th>1</th>\n",
              "      <td>USD/JPY</td>\n",
              "    </tr>\n",
              "    <tr>\n",
              "      <th>2</th>\n",
              "      <td>GBP/USD</td>\n",
              "    </tr>\n",
              "    <tr>\n",
              "      <th>3</th>\n",
              "      <td>USD/CHF</td>\n",
              "    </tr>\n",
              "    <tr>\n",
              "      <th>4</th>\n",
              "      <td>EUR/CHF</td>\n",
              "    </tr>\n",
              "  </tbody>\n",
              "</table>\n",
              "</div>\n",
              "      <button class=\"colab-df-convert\" onclick=\"convertToInteractive('df-33787624-dd91-41f0-812a-a1eb744fe65f')\"\n",
              "              title=\"Convert this dataframe to an interactive table.\"\n",
              "              style=\"display:none;\">\n",
              "        \n",
              "  <svg xmlns=\"http://www.w3.org/2000/svg\" height=\"24px\"viewBox=\"0 0 24 24\"\n",
              "       width=\"24px\">\n",
              "    <path d=\"M0 0h24v24H0V0z\" fill=\"none\"/>\n",
              "    <path d=\"M18.56 5.44l.94 2.06.94-2.06 2.06-.94-2.06-.94-.94-2.06-.94 2.06-2.06.94zm-11 1L8.5 8.5l.94-2.06 2.06-.94-2.06-.94L8.5 2.5l-.94 2.06-2.06.94zm10 10l.94 2.06.94-2.06 2.06-.94-2.06-.94-.94-2.06-.94 2.06-2.06.94z\"/><path d=\"M17.41 7.96l-1.37-1.37c-.4-.4-.92-.59-1.43-.59-.52 0-1.04.2-1.43.59L10.3 9.45l-7.72 7.72c-.78.78-.78 2.05 0 2.83L4 21.41c.39.39.9.59 1.41.59.51 0 1.02-.2 1.41-.59l7.78-7.78 2.81-2.81c.8-.78.8-2.07 0-2.86zM5.41 20L4 18.59l7.72-7.72 1.47 1.35L5.41 20z\"/>\n",
              "  </svg>\n",
              "      </button>\n",
              "      \n",
              "  <style>\n",
              "    .colab-df-container {\n",
              "      display:flex;\n",
              "      flex-wrap:wrap;\n",
              "      gap: 12px;\n",
              "    }\n",
              "\n",
              "    .colab-df-convert {\n",
              "      background-color: #E8F0FE;\n",
              "      border: none;\n",
              "      border-radius: 50%;\n",
              "      cursor: pointer;\n",
              "      display: none;\n",
              "      fill: #1967D2;\n",
              "      height: 32px;\n",
              "      padding: 0 0 0 0;\n",
              "      width: 32px;\n",
              "    }\n",
              "\n",
              "    .colab-df-convert:hover {\n",
              "      background-color: #E2EBFA;\n",
              "      box-shadow: 0px 1px 2px rgba(60, 64, 67, 0.3), 0px 1px 3px 1px rgba(60, 64, 67, 0.15);\n",
              "      fill: #174EA6;\n",
              "    }\n",
              "\n",
              "    [theme=dark] .colab-df-convert {\n",
              "      background-color: #3B4455;\n",
              "      fill: #D2E3FC;\n",
              "    }\n",
              "\n",
              "    [theme=dark] .colab-df-convert:hover {\n",
              "      background-color: #434B5C;\n",
              "      box-shadow: 0px 1px 3px 1px rgba(0, 0, 0, 0.15);\n",
              "      filter: drop-shadow(0px 1px 2px rgba(0, 0, 0, 0.3));\n",
              "      fill: #FFFFFF;\n",
              "    }\n",
              "  </style>\n",
              "\n",
              "      <script>\n",
              "        const buttonEl =\n",
              "          document.querySelector('#df-33787624-dd91-41f0-812a-a1eb744fe65f button.colab-df-convert');\n",
              "        buttonEl.style.display =\n",
              "          google.colab.kernel.accessAllowed ? 'block' : 'none';\n",
              "\n",
              "        async function convertToInteractive(key) {\n",
              "          const element = document.querySelector('#df-33787624-dd91-41f0-812a-a1eb744fe65f');\n",
              "          const dataTable =\n",
              "            await google.colab.kernel.invokeFunction('convertToInteractive',\n",
              "                                                     [key], {});\n",
              "          if (!dataTable) return;\n",
              "\n",
              "          const docLinkHtml = 'Like what you see? Visit the ' +\n",
              "            '<a target=\"_blank\" href=https://colab.research.google.com/notebooks/data_table.ipynb>data table notebook</a>'\n",
              "            + ' to learn more about interactive tables.';\n",
              "          element.innerHTML = '';\n",
              "          dataTable['output_type'] = 'display_data';\n",
              "          await google.colab.output.renderOutput(dataTable, element);\n",
              "          const docLink = document.createElement('div');\n",
              "          docLink.innerHTML = docLinkHtml;\n",
              "          element.appendChild(docLink);\n",
              "        }\n",
              "      </script>\n",
              "    </div>\n",
              "  </div>\n",
              "  "
            ]
          },
          "metadata": {},
          "execution_count": 294
        }
      ]
    },
    {
      "cell_type": "code",
      "source": [
        "df_instruments_clean=df_instruments_dropna.reset_index(inplace=False, drop=True)\n",
        "df_instruments_clean"
      ],
      "metadata": {
        "colab": {
          "base_uri": "https://localhost:8080/",
          "height": 476
        },
        "id": "cuuClCfJBFVJ",
        "outputId": "eef7bdb4-9c2e-4768-d83a-5d4f9e422e3b"
      },
      "execution_count": 295,
      "outputs": [
        {
          "output_type": "execute_result",
          "data": {
            "text/plain": [
              "    Instruments\n",
              "0       EUR/USD\n",
              "1       USD/JPY\n",
              "2       GBP/USD\n",
              "3       USD/CHF\n",
              "4       EUR/CHF\n",
              "..          ...\n",
              "314     SNAP.us\n",
              "315     SNOW.us\n",
              "316     SPCE.us\n",
              "317     XPEV.us\n",
              "318     SONY.us\n",
              "\n",
              "[319 rows x 1 columns]"
            ],
            "text/html": [
              "\n",
              "  <div id=\"df-2f324e1a-3bcc-4b8e-9b12-90737d216809\">\n",
              "    <div class=\"colab-df-container\">\n",
              "      <div>\n",
              "<style scoped>\n",
              "    .dataframe tbody tr th:only-of-type {\n",
              "        vertical-align: middle;\n",
              "    }\n",
              "\n",
              "    .dataframe tbody tr th {\n",
              "        vertical-align: top;\n",
              "    }\n",
              "\n",
              "    .dataframe thead th {\n",
              "        text-align: right;\n",
              "    }\n",
              "</style>\n",
              "<table border=\"1\" class=\"dataframe\">\n",
              "  <thead>\n",
              "    <tr style=\"text-align: right;\">\n",
              "      <th></th>\n",
              "      <th>Instruments</th>\n",
              "    </tr>\n",
              "  </thead>\n",
              "  <tbody>\n",
              "    <tr>\n",
              "      <th>0</th>\n",
              "      <td>EUR/USD</td>\n",
              "    </tr>\n",
              "    <tr>\n",
              "      <th>1</th>\n",
              "      <td>USD/JPY</td>\n",
              "    </tr>\n",
              "    <tr>\n",
              "      <th>2</th>\n",
              "      <td>GBP/USD</td>\n",
              "    </tr>\n",
              "    <tr>\n",
              "      <th>3</th>\n",
              "      <td>USD/CHF</td>\n",
              "    </tr>\n",
              "    <tr>\n",
              "      <th>4</th>\n",
              "      <td>EUR/CHF</td>\n",
              "    </tr>\n",
              "    <tr>\n",
              "      <th>...</th>\n",
              "      <td>...</td>\n",
              "    </tr>\n",
              "    <tr>\n",
              "      <th>314</th>\n",
              "      <td>SNAP.us</td>\n",
              "    </tr>\n",
              "    <tr>\n",
              "      <th>315</th>\n",
              "      <td>SNOW.us</td>\n",
              "    </tr>\n",
              "    <tr>\n",
              "      <th>316</th>\n",
              "      <td>SPCE.us</td>\n",
              "    </tr>\n",
              "    <tr>\n",
              "      <th>317</th>\n",
              "      <td>XPEV.us</td>\n",
              "    </tr>\n",
              "    <tr>\n",
              "      <th>318</th>\n",
              "      <td>SONY.us</td>\n",
              "    </tr>\n",
              "  </tbody>\n",
              "</table>\n",
              "<p>319 rows × 1 columns</p>\n",
              "</div>\n",
              "      <button class=\"colab-df-convert\" onclick=\"convertToInteractive('df-2f324e1a-3bcc-4b8e-9b12-90737d216809')\"\n",
              "              title=\"Convert this dataframe to an interactive table.\"\n",
              "              style=\"display:none;\">\n",
              "        \n",
              "  <svg xmlns=\"http://www.w3.org/2000/svg\" height=\"24px\"viewBox=\"0 0 24 24\"\n",
              "       width=\"24px\">\n",
              "    <path d=\"M0 0h24v24H0V0z\" fill=\"none\"/>\n",
              "    <path d=\"M18.56 5.44l.94 2.06.94-2.06 2.06-.94-2.06-.94-.94-2.06-.94 2.06-2.06.94zm-11 1L8.5 8.5l.94-2.06 2.06-.94-2.06-.94L8.5 2.5l-.94 2.06-2.06.94zm10 10l.94 2.06.94-2.06 2.06-.94-2.06-.94-.94-2.06-.94 2.06-2.06.94z\"/><path d=\"M17.41 7.96l-1.37-1.37c-.4-.4-.92-.59-1.43-.59-.52 0-1.04.2-1.43.59L10.3 9.45l-7.72 7.72c-.78.78-.78 2.05 0 2.83L4 21.41c.39.39.9.59 1.41.59.51 0 1.02-.2 1.41-.59l7.78-7.78 2.81-2.81c.8-.78.8-2.07 0-2.86zM5.41 20L4 18.59l7.72-7.72 1.47 1.35L5.41 20z\"/>\n",
              "  </svg>\n",
              "      </button>\n",
              "      \n",
              "  <style>\n",
              "    .colab-df-container {\n",
              "      display:flex;\n",
              "      flex-wrap:wrap;\n",
              "      gap: 12px;\n",
              "    }\n",
              "\n",
              "    .colab-df-convert {\n",
              "      background-color: #E8F0FE;\n",
              "      border: none;\n",
              "      border-radius: 50%;\n",
              "      cursor: pointer;\n",
              "      display: none;\n",
              "      fill: #1967D2;\n",
              "      height: 32px;\n",
              "      padding: 0 0 0 0;\n",
              "      width: 32px;\n",
              "    }\n",
              "\n",
              "    .colab-df-convert:hover {\n",
              "      background-color: #E2EBFA;\n",
              "      box-shadow: 0px 1px 2px rgba(60, 64, 67, 0.3), 0px 1px 3px 1px rgba(60, 64, 67, 0.15);\n",
              "      fill: #174EA6;\n",
              "    }\n",
              "\n",
              "    [theme=dark] .colab-df-convert {\n",
              "      background-color: #3B4455;\n",
              "      fill: #D2E3FC;\n",
              "    }\n",
              "\n",
              "    [theme=dark] .colab-df-convert:hover {\n",
              "      background-color: #434B5C;\n",
              "      box-shadow: 0px 1px 3px 1px rgba(0, 0, 0, 0.15);\n",
              "      filter: drop-shadow(0px 1px 2px rgba(0, 0, 0, 0.3));\n",
              "      fill: #FFFFFF;\n",
              "    }\n",
              "  </style>\n",
              "\n",
              "      <script>\n",
              "        const buttonEl =\n",
              "          document.querySelector('#df-2f324e1a-3bcc-4b8e-9b12-90737d216809 button.colab-df-convert');\n",
              "        buttonEl.style.display =\n",
              "          google.colab.kernel.accessAllowed ? 'block' : 'none';\n",
              "\n",
              "        async function convertToInteractive(key) {\n",
              "          const element = document.querySelector('#df-2f324e1a-3bcc-4b8e-9b12-90737d216809');\n",
              "          const dataTable =\n",
              "            await google.colab.kernel.invokeFunction('convertToInteractive',\n",
              "                                                     [key], {});\n",
              "          if (!dataTable) return;\n",
              "\n",
              "          const docLinkHtml = 'Like what you see? Visit the ' +\n",
              "            '<a target=\"_blank\" href=https://colab.research.google.com/notebooks/data_table.ipynb>data table notebook</a>'\n",
              "            + ' to learn more about interactive tables.';\n",
              "          element.innerHTML = '';\n",
              "          dataTable['output_type'] = 'display_data';\n",
              "          await google.colab.output.renderOutput(dataTable, element);\n",
              "          const docLink = document.createElement('div');\n",
              "          docLink.innerHTML = docLinkHtml;\n",
              "          element.appendChild(docLink);\n",
              "        }\n",
              "      </script>\n",
              "    </div>\n",
              "  </div>\n",
              "  "
            ]
          },
          "metadata": {},
          "execution_count": 295
        },
        {
          "output_type": "stream",
          "name": "stdout",
          "text": [
            "9796 | XAU/USD | 2022-06-02 07:21:09.742000 | 1850.45000, 1850.93000\n",
            "6829 | EUR/USD | 2022-06-02 07:21:09.640000 | 1.06743, 1.06756\n",
            "2816 | BTC/USD | 2022-06-02 07:21:10.338000 | 29876.00000, 29916.00000\n"
          ]
        }
      ]
    },
    {
      "cell_type": "code",
      "source": [
        "df_instruments_clean"
      ],
      "metadata": {
        "colab": {
          "base_uri": "https://localhost:8080/",
          "height": 441
        },
        "id": "bjuiE-cStsi5",
        "outputId": "0e1f9cca-8bfc-43b5-bf73-f28f5adf5243"
      },
      "execution_count": 18,
      "outputs": [
        {
          "output_type": "execute_result",
          "data": {
            "text/plain": [
              "    Instruments\n",
              "0       EUR/USD\n",
              "1       USD/JPY\n",
              "2       GBP/USD\n",
              "3       USD/CHF\n",
              "4       EUR/CHF\n",
              "..          ...\n",
              "314     SNAP.us\n",
              "315     SNOW.us\n",
              "316     SPCE.us\n",
              "317     XPEV.us\n",
              "318     SONY.us\n",
              "\n",
              "[319 rows x 1 columns]"
            ],
            "text/html": [
              "\n",
              "  <div id=\"df-acf9daba-cabb-45aa-9381-ce61dba448f3\">\n",
              "    <div class=\"colab-df-container\">\n",
              "      <div>\n",
              "<style scoped>\n",
              "    .dataframe tbody tr th:only-of-type {\n",
              "        vertical-align: middle;\n",
              "    }\n",
              "\n",
              "    .dataframe tbody tr th {\n",
              "        vertical-align: top;\n",
              "    }\n",
              "\n",
              "    .dataframe thead th {\n",
              "        text-align: right;\n",
              "    }\n",
              "</style>\n",
              "<table border=\"1\" class=\"dataframe\">\n",
              "  <thead>\n",
              "    <tr style=\"text-align: right;\">\n",
              "      <th></th>\n",
              "      <th>Instruments</th>\n",
              "    </tr>\n",
              "  </thead>\n",
              "  <tbody>\n",
              "    <tr>\n",
              "      <th>0</th>\n",
              "      <td>EUR/USD</td>\n",
              "    </tr>\n",
              "    <tr>\n",
              "      <th>1</th>\n",
              "      <td>USD/JPY</td>\n",
              "    </tr>\n",
              "    <tr>\n",
              "      <th>2</th>\n",
              "      <td>GBP/USD</td>\n",
              "    </tr>\n",
              "    <tr>\n",
              "      <th>3</th>\n",
              "      <td>USD/CHF</td>\n",
              "    </tr>\n",
              "    <tr>\n",
              "      <th>4</th>\n",
              "      <td>EUR/CHF</td>\n",
              "    </tr>\n",
              "    <tr>\n",
              "      <th>...</th>\n",
              "      <td>...</td>\n",
              "    </tr>\n",
              "    <tr>\n",
              "      <th>314</th>\n",
              "      <td>SNAP.us</td>\n",
              "    </tr>\n",
              "    <tr>\n",
              "      <th>315</th>\n",
              "      <td>SNOW.us</td>\n",
              "    </tr>\n",
              "    <tr>\n",
              "      <th>316</th>\n",
              "      <td>SPCE.us</td>\n",
              "    </tr>\n",
              "    <tr>\n",
              "      <th>317</th>\n",
              "      <td>XPEV.us</td>\n",
              "    </tr>\n",
              "    <tr>\n",
              "      <th>318</th>\n",
              "      <td>SONY.us</td>\n",
              "    </tr>\n",
              "  </tbody>\n",
              "</table>\n",
              "<p>319 rows × 1 columns</p>\n",
              "</div>\n",
              "      <button class=\"colab-df-convert\" onclick=\"convertToInteractive('df-acf9daba-cabb-45aa-9381-ce61dba448f3')\"\n",
              "              title=\"Convert this dataframe to an interactive table.\"\n",
              "              style=\"display:none;\">\n",
              "        \n",
              "  <svg xmlns=\"http://www.w3.org/2000/svg\" height=\"24px\"viewBox=\"0 0 24 24\"\n",
              "       width=\"24px\">\n",
              "    <path d=\"M0 0h24v24H0V0z\" fill=\"none\"/>\n",
              "    <path d=\"M18.56 5.44l.94 2.06.94-2.06 2.06-.94-2.06-.94-.94-2.06-.94 2.06-2.06.94zm-11 1L8.5 8.5l.94-2.06 2.06-.94-2.06-.94L8.5 2.5l-.94 2.06-2.06.94zm10 10l.94 2.06.94-2.06 2.06-.94-2.06-.94-.94-2.06-.94 2.06-2.06.94z\"/><path d=\"M17.41 7.96l-1.37-1.37c-.4-.4-.92-.59-1.43-.59-.52 0-1.04.2-1.43.59L10.3 9.45l-7.72 7.72c-.78.78-.78 2.05 0 2.83L4 21.41c.39.39.9.59 1.41.59.51 0 1.02-.2 1.41-.59l7.78-7.78 2.81-2.81c.8-.78.8-2.07 0-2.86zM5.41 20L4 18.59l7.72-7.72 1.47 1.35L5.41 20z\"/>\n",
              "  </svg>\n",
              "      </button>\n",
              "      \n",
              "  <style>\n",
              "    .colab-df-container {\n",
              "      display:flex;\n",
              "      flex-wrap:wrap;\n",
              "      gap: 12px;\n",
              "    }\n",
              "\n",
              "    .colab-df-convert {\n",
              "      background-color: #E8F0FE;\n",
              "      border: none;\n",
              "      border-radius: 50%;\n",
              "      cursor: pointer;\n",
              "      display: none;\n",
              "      fill: #1967D2;\n",
              "      height: 32px;\n",
              "      padding: 0 0 0 0;\n",
              "      width: 32px;\n",
              "    }\n",
              "\n",
              "    .colab-df-convert:hover {\n",
              "      background-color: #E2EBFA;\n",
              "      box-shadow: 0px 1px 2px rgba(60, 64, 67, 0.3), 0px 1px 3px 1px rgba(60, 64, 67, 0.15);\n",
              "      fill: #174EA6;\n",
              "    }\n",
              "\n",
              "    [theme=dark] .colab-df-convert {\n",
              "      background-color: #3B4455;\n",
              "      fill: #D2E3FC;\n",
              "    }\n",
              "\n",
              "    [theme=dark] .colab-df-convert:hover {\n",
              "      background-color: #434B5C;\n",
              "      box-shadow: 0px 1px 3px 1px rgba(0, 0, 0, 0.15);\n",
              "      filter: drop-shadow(0px 1px 2px rgba(0, 0, 0, 0.3));\n",
              "      fill: #FFFFFF;\n",
              "    }\n",
              "  </style>\n",
              "\n",
              "      <script>\n",
              "        const buttonEl =\n",
              "          document.querySelector('#df-acf9daba-cabb-45aa-9381-ce61dba448f3 button.colab-df-convert');\n",
              "        buttonEl.style.display =\n",
              "          google.colab.kernel.accessAllowed ? 'block' : 'none';\n",
              "\n",
              "        async function convertToInteractive(key) {\n",
              "          const element = document.querySelector('#df-acf9daba-cabb-45aa-9381-ce61dba448f3');\n",
              "          const dataTable =\n",
              "            await google.colab.kernel.invokeFunction('convertToInteractive',\n",
              "                                                     [key], {});\n",
              "          if (!dataTable) return;\n",
              "\n",
              "          const docLinkHtml = 'Like what you see? Visit the ' +\n",
              "            '<a target=\"_blank\" href=https://colab.research.google.com/notebooks/data_table.ipynb>data table notebook</a>'\n",
              "            + ' to learn more about interactive tables.';\n",
              "          element.innerHTML = '';\n",
              "          dataTable['output_type'] = 'display_data';\n",
              "          await google.colab.output.renderOutput(dataTable, element);\n",
              "          const docLink = document.createElement('div');\n",
              "          docLink.innerHTML = docLinkHtml;\n",
              "          element.appendChild(docLink);\n",
              "        }\n",
              "      </script>\n",
              "    </div>\n",
              "  </div>\n",
              "  "
            ]
          },
          "metadata": {},
          "execution_count": 18
        },
        {
          "output_type": "stream",
          "name": "stdout",
          "text": [
            "8319 | XAU/USD | 2022-06-02 06:59:14.452000 | 1852.05000, 1852.35000\n"
          ]
        }
      ]
    },
    {
      "cell_type": "markdown",
      "source": [
        "#5.Lista de Instrumentos "
      ],
      "metadata": {
        "id": "qqrmXDJatjFx"
      }
    },
    {
      "cell_type": "code",
      "source": [
        "df_instrumenf_for_candle = pd.DataFrame(con.get_instruments_for_candles(), columns=['Instruments'])\n",
        "df_instrumenf_for_candle"
      ],
      "metadata": {
        "colab": {
          "base_uri": "https://localhost:8080/",
          "height": 533
        },
        "id": "QhqGHtq9SK_1",
        "outputId": "c0ff4608-9bdd-45a3-db84-3fd5f21f372a"
      },
      "execution_count": 297,
      "outputs": [
        {
          "output_type": "execute_result",
          "data": {
            "text/plain": [
              "   Instruments\n",
              "0      AUD/CAD\n",
              "1      AUD/CHF\n",
              "2      AUD/JPY\n",
              "3      AUD/NZD\n",
              "4      AUD/USD\n",
              "..         ...\n",
              "64       FB.us\n",
              "65            \n",
              "66     NFLX.us\n",
              "67     TSLA.us\n",
              "68      BHP.au\n",
              "\n",
              "[69 rows x 1 columns]"
            ],
            "text/html": [
              "\n",
              "  <div id=\"df-fdbb852b-cd18-4923-a8bb-5d34edafc04d\">\n",
              "    <div class=\"colab-df-container\">\n",
              "      <div>\n",
              "<style scoped>\n",
              "    .dataframe tbody tr th:only-of-type {\n",
              "        vertical-align: middle;\n",
              "    }\n",
              "\n",
              "    .dataframe tbody tr th {\n",
              "        vertical-align: top;\n",
              "    }\n",
              "\n",
              "    .dataframe thead th {\n",
              "        text-align: right;\n",
              "    }\n",
              "</style>\n",
              "<table border=\"1\" class=\"dataframe\">\n",
              "  <thead>\n",
              "    <tr style=\"text-align: right;\">\n",
              "      <th></th>\n",
              "      <th>Instruments</th>\n",
              "    </tr>\n",
              "  </thead>\n",
              "  <tbody>\n",
              "    <tr>\n",
              "      <th>0</th>\n",
              "      <td>AUD/CAD</td>\n",
              "    </tr>\n",
              "    <tr>\n",
              "      <th>1</th>\n",
              "      <td>AUD/CHF</td>\n",
              "    </tr>\n",
              "    <tr>\n",
              "      <th>2</th>\n",
              "      <td>AUD/JPY</td>\n",
              "    </tr>\n",
              "    <tr>\n",
              "      <th>3</th>\n",
              "      <td>AUD/NZD</td>\n",
              "    </tr>\n",
              "    <tr>\n",
              "      <th>4</th>\n",
              "      <td>AUD/USD</td>\n",
              "    </tr>\n",
              "    <tr>\n",
              "      <th>...</th>\n",
              "      <td>...</td>\n",
              "    </tr>\n",
              "    <tr>\n",
              "      <th>64</th>\n",
              "      <td>FB.us</td>\n",
              "    </tr>\n",
              "    <tr>\n",
              "      <th>65</th>\n",
              "      <td></td>\n",
              "    </tr>\n",
              "    <tr>\n",
              "      <th>66</th>\n",
              "      <td>NFLX.us</td>\n",
              "    </tr>\n",
              "    <tr>\n",
              "      <th>67</th>\n",
              "      <td>TSLA.us</td>\n",
              "    </tr>\n",
              "    <tr>\n",
              "      <th>68</th>\n",
              "      <td>BHP.au</td>\n",
              "    </tr>\n",
              "  </tbody>\n",
              "</table>\n",
              "<p>69 rows × 1 columns</p>\n",
              "</div>\n",
              "      <button class=\"colab-df-convert\" onclick=\"convertToInteractive('df-fdbb852b-cd18-4923-a8bb-5d34edafc04d')\"\n",
              "              title=\"Convert this dataframe to an interactive table.\"\n",
              "              style=\"display:none;\">\n",
              "        \n",
              "  <svg xmlns=\"http://www.w3.org/2000/svg\" height=\"24px\"viewBox=\"0 0 24 24\"\n",
              "       width=\"24px\">\n",
              "    <path d=\"M0 0h24v24H0V0z\" fill=\"none\"/>\n",
              "    <path d=\"M18.56 5.44l.94 2.06.94-2.06 2.06-.94-2.06-.94-.94-2.06-.94 2.06-2.06.94zm-11 1L8.5 8.5l.94-2.06 2.06-.94-2.06-.94L8.5 2.5l-.94 2.06-2.06.94zm10 10l.94 2.06.94-2.06 2.06-.94-2.06-.94-.94-2.06-.94 2.06-2.06.94z\"/><path d=\"M17.41 7.96l-1.37-1.37c-.4-.4-.92-.59-1.43-.59-.52 0-1.04.2-1.43.59L10.3 9.45l-7.72 7.72c-.78.78-.78 2.05 0 2.83L4 21.41c.39.39.9.59 1.41.59.51 0 1.02-.2 1.41-.59l7.78-7.78 2.81-2.81c.8-.78.8-2.07 0-2.86zM5.41 20L4 18.59l7.72-7.72 1.47 1.35L5.41 20z\"/>\n",
              "  </svg>\n",
              "      </button>\n",
              "      \n",
              "  <style>\n",
              "    .colab-df-container {\n",
              "      display:flex;\n",
              "      flex-wrap:wrap;\n",
              "      gap: 12px;\n",
              "    }\n",
              "\n",
              "    .colab-df-convert {\n",
              "      background-color: #E8F0FE;\n",
              "      border: none;\n",
              "      border-radius: 50%;\n",
              "      cursor: pointer;\n",
              "      display: none;\n",
              "      fill: #1967D2;\n",
              "      height: 32px;\n",
              "      padding: 0 0 0 0;\n",
              "      width: 32px;\n",
              "    }\n",
              "\n",
              "    .colab-df-convert:hover {\n",
              "      background-color: #E2EBFA;\n",
              "      box-shadow: 0px 1px 2px rgba(60, 64, 67, 0.3), 0px 1px 3px 1px rgba(60, 64, 67, 0.15);\n",
              "      fill: #174EA6;\n",
              "    }\n",
              "\n",
              "    [theme=dark] .colab-df-convert {\n",
              "      background-color: #3B4455;\n",
              "      fill: #D2E3FC;\n",
              "    }\n",
              "\n",
              "    [theme=dark] .colab-df-convert:hover {\n",
              "      background-color: #434B5C;\n",
              "      box-shadow: 0px 1px 3px 1px rgba(0, 0, 0, 0.15);\n",
              "      filter: drop-shadow(0px 1px 2px rgba(0, 0, 0, 0.3));\n",
              "      fill: #FFFFFF;\n",
              "    }\n",
              "  </style>\n",
              "\n",
              "      <script>\n",
              "        const buttonEl =\n",
              "          document.querySelector('#df-fdbb852b-cd18-4923-a8bb-5d34edafc04d button.colab-df-convert');\n",
              "        buttonEl.style.display =\n",
              "          google.colab.kernel.accessAllowed ? 'block' : 'none';\n",
              "\n",
              "        async function convertToInteractive(key) {\n",
              "          const element = document.querySelector('#df-fdbb852b-cd18-4923-a8bb-5d34edafc04d');\n",
              "          const dataTable =\n",
              "            await google.colab.kernel.invokeFunction('convertToInteractive',\n",
              "                                                     [key], {});\n",
              "          if (!dataTable) return;\n",
              "\n",
              "          const docLinkHtml = 'Like what you see? Visit the ' +\n",
              "            '<a target=\"_blank\" href=https://colab.research.google.com/notebooks/data_table.ipynb>data table notebook</a>'\n",
              "            + ' to learn more about interactive tables.';\n",
              "          element.innerHTML = '';\n",
              "          dataTable['output_type'] = 'display_data';\n",
              "          await google.colab.output.renderOutput(dataTable, element);\n",
              "          const docLink = document.createElement('div');\n",
              "          docLink.innerHTML = docLinkHtml;\n",
              "          element.appendChild(docLink);\n",
              "        }\n",
              "      </script>\n",
              "    </div>\n",
              "  </div>\n",
              "  "
            ]
          },
          "metadata": {},
          "execution_count": 297
        }
      ]
    },
    {
      "cell_type": "markdown",
      "source": [
        "#6.Parametros para obtener datos\n",
        "\n"
      ],
      "metadata": {
        "id": "-0rsyr6QC5da"
      }
    },
    {
      "cell_type": "markdown",
      "source": [
        "Elegir Instrumento"
      ],
      "metadata": {
        "id": "fVbzAP8hDDim"
      }
    },
    {
      "cell_type": "code",
      "source": [
        "#EUR/USD=22\n",
        "#Oro  =59\n",
        "#BTC/USD=61 ;\n",
        "#Amazon=63; fb = 64; nfxl= 66\n",
        "num_instrument=66\n",
        "instrument = df_instrumenf_for_candle.at[num_instrument, 'Instruments']\n",
        "instrument"
      ],
      "metadata": {
        "colab": {
          "base_uri": "https://localhost:8080/",
          "height": 35
        },
        "id": "174WL9YTHZRo",
        "outputId": "c4221fdf-e3fe-4631-88df-536886ce86f7"
      },
      "execution_count": 393,
      "outputs": [
        {
          "output_type": "execute_result",
          "data": {
            "text/plain": [
              "'NFLX.us'"
            ],
            "application/vnd.google.colaboratory.intrinsic+json": {
              "type": "string"
            }
          },
          "metadata": {},
          "execution_count": 393
        }
      ]
    },
    {
      "cell_type": "markdown",
      "source": [
        "Elegir  Temporalidad"
      ],
      "metadata": {
        "id": "y4XcYGy8EcaP"
      }
    },
    {
      "cell_type": "code",
      "source": [
        "# # Available periods : 'm1', 'm5', 'm15', 'm30', 'H1', 'H2', 'H3', 'H4', 'H6', 'H8','D1', 'W1', or 'M1'.\n",
        "timeframe = \"D1\" "
      ],
      "metadata": {
        "id": "BXv8Q3adt4Tg",
        "colab": {
          "base_uri": "https://localhost:8080/"
        },
        "outputId": "6ece4be7-b80c-4e33-cbbb-75f48af07888"
      },
      "execution_count": 394,
      "outputs": [
        {
          "output_type": "stream",
          "name": "stdout",
          "text": [
            "10000 | XAU/USD | 2022-06-02 07:35:36.253000 | 1851.68000, 1852.00000\n"
          ]
        }
      ]
    },
    {
      "cell_type": "markdown",
      "source": [
        "Elegir número de peridos"
      ],
      "metadata": {
        "id": "ARGo59gvEgp-"
      }
    },
    {
      "cell_type": "code",
      "source": [
        "numberofcandles = 100"
      ],
      "metadata": {
        "id": "mGJ0FeqTuavp"
      },
      "execution_count": 492,
      "outputs": []
    },
    {
      "cell_type": "code",
      "source": [
        "data_candles = con.get_candles(instrument,period=timeframe, number=numberofcandles)\n",
        "data_candles.tail()"
      ],
      "metadata": {
        "colab": {
          "base_uri": "https://localhost:8080/",
          "height": 238
        },
        "id": "iMDdrwcvJlGH",
        "outputId": "b280d919-7f98-43ee-d4c8-bf9b2ae0c851"
      },
      "execution_count": 493,
      "outputs": [
        {
          "output_type": "execute_result",
          "data": {
            "text/plain": [
              "                     bidopen  bidclose  bidhigh  bidlow  askopen  askclose  \\\n",
              "date                                                                         \n",
              "2022-05-23 21:00:00   186.23    187.27   187.37  177.63   186.56    187.60   \n",
              "2022-05-24 21:00:00   187.27    180.17   183.70  176.84   187.60    180.50   \n",
              "2022-05-25 21:00:00   180.17    187.63   188.67  179.28   180.50    187.96   \n",
              "2022-05-26 21:00:00   187.63    191.20   192.11  182.81   187.96    191.53   \n",
              "2022-05-31 21:00:00   195.85    197.30   199.72  190.49   196.73    197.63   \n",
              "\n",
              "                     askhigh  asklow  tickqty  \n",
              "date                                           \n",
              "2022-05-23 21:00:00   187.85  178.23    53651  \n",
              "2022-05-24 21:00:00   184.69  177.43    45480  \n",
              "2022-05-25 21:00:00   189.28  180.42    56583  \n",
              "2022-05-26 21:00:00   192.51  183.36    42929  \n",
              "2022-05-31 21:00:00   200.15  191.03    53330  "
            ],
            "text/html": [
              "\n",
              "  <div id=\"df-27ebd9d8-7be8-4a6a-9500-9993d9a22570\">\n",
              "    <div class=\"colab-df-container\">\n",
              "      <div>\n",
              "<style scoped>\n",
              "    .dataframe tbody tr th:only-of-type {\n",
              "        vertical-align: middle;\n",
              "    }\n",
              "\n",
              "    .dataframe tbody tr th {\n",
              "        vertical-align: top;\n",
              "    }\n",
              "\n",
              "    .dataframe thead th {\n",
              "        text-align: right;\n",
              "    }\n",
              "</style>\n",
              "<table border=\"1\" class=\"dataframe\">\n",
              "  <thead>\n",
              "    <tr style=\"text-align: right;\">\n",
              "      <th></th>\n",
              "      <th>bidopen</th>\n",
              "      <th>bidclose</th>\n",
              "      <th>bidhigh</th>\n",
              "      <th>bidlow</th>\n",
              "      <th>askopen</th>\n",
              "      <th>askclose</th>\n",
              "      <th>askhigh</th>\n",
              "      <th>asklow</th>\n",
              "      <th>tickqty</th>\n",
              "    </tr>\n",
              "    <tr>\n",
              "      <th>date</th>\n",
              "      <th></th>\n",
              "      <th></th>\n",
              "      <th></th>\n",
              "      <th></th>\n",
              "      <th></th>\n",
              "      <th></th>\n",
              "      <th></th>\n",
              "      <th></th>\n",
              "      <th></th>\n",
              "    </tr>\n",
              "  </thead>\n",
              "  <tbody>\n",
              "    <tr>\n",
              "      <th>2022-05-23 21:00:00</th>\n",
              "      <td>186.23</td>\n",
              "      <td>187.27</td>\n",
              "      <td>187.37</td>\n",
              "      <td>177.63</td>\n",
              "      <td>186.56</td>\n",
              "      <td>187.60</td>\n",
              "      <td>187.85</td>\n",
              "      <td>178.23</td>\n",
              "      <td>53651</td>\n",
              "    </tr>\n",
              "    <tr>\n",
              "      <th>2022-05-24 21:00:00</th>\n",
              "      <td>187.27</td>\n",
              "      <td>180.17</td>\n",
              "      <td>183.70</td>\n",
              "      <td>176.84</td>\n",
              "      <td>187.60</td>\n",
              "      <td>180.50</td>\n",
              "      <td>184.69</td>\n",
              "      <td>177.43</td>\n",
              "      <td>45480</td>\n",
              "    </tr>\n",
              "    <tr>\n",
              "      <th>2022-05-25 21:00:00</th>\n",
              "      <td>180.17</td>\n",
              "      <td>187.63</td>\n",
              "      <td>188.67</td>\n",
              "      <td>179.28</td>\n",
              "      <td>180.50</td>\n",
              "      <td>187.96</td>\n",
              "      <td>189.28</td>\n",
              "      <td>180.42</td>\n",
              "      <td>56583</td>\n",
              "    </tr>\n",
              "    <tr>\n",
              "      <th>2022-05-26 21:00:00</th>\n",
              "      <td>187.63</td>\n",
              "      <td>191.20</td>\n",
              "      <td>192.11</td>\n",
              "      <td>182.81</td>\n",
              "      <td>187.96</td>\n",
              "      <td>191.53</td>\n",
              "      <td>192.51</td>\n",
              "      <td>183.36</td>\n",
              "      <td>42929</td>\n",
              "    </tr>\n",
              "    <tr>\n",
              "      <th>2022-05-31 21:00:00</th>\n",
              "      <td>195.85</td>\n",
              "      <td>197.30</td>\n",
              "      <td>199.72</td>\n",
              "      <td>190.49</td>\n",
              "      <td>196.73</td>\n",
              "      <td>197.63</td>\n",
              "      <td>200.15</td>\n",
              "      <td>191.03</td>\n",
              "      <td>53330</td>\n",
              "    </tr>\n",
              "  </tbody>\n",
              "</table>\n",
              "</div>\n",
              "      <button class=\"colab-df-convert\" onclick=\"convertToInteractive('df-27ebd9d8-7be8-4a6a-9500-9993d9a22570')\"\n",
              "              title=\"Convert this dataframe to an interactive table.\"\n",
              "              style=\"display:none;\">\n",
              "        \n",
              "  <svg xmlns=\"http://www.w3.org/2000/svg\" height=\"24px\"viewBox=\"0 0 24 24\"\n",
              "       width=\"24px\">\n",
              "    <path d=\"M0 0h24v24H0V0z\" fill=\"none\"/>\n",
              "    <path d=\"M18.56 5.44l.94 2.06.94-2.06 2.06-.94-2.06-.94-.94-2.06-.94 2.06-2.06.94zm-11 1L8.5 8.5l.94-2.06 2.06-.94-2.06-.94L8.5 2.5l-.94 2.06-2.06.94zm10 10l.94 2.06.94-2.06 2.06-.94-2.06-.94-.94-2.06-.94 2.06-2.06.94z\"/><path d=\"M17.41 7.96l-1.37-1.37c-.4-.4-.92-.59-1.43-.59-.52 0-1.04.2-1.43.59L10.3 9.45l-7.72 7.72c-.78.78-.78 2.05 0 2.83L4 21.41c.39.39.9.59 1.41.59.51 0 1.02-.2 1.41-.59l7.78-7.78 2.81-2.81c.8-.78.8-2.07 0-2.86zM5.41 20L4 18.59l7.72-7.72 1.47 1.35L5.41 20z\"/>\n",
              "  </svg>\n",
              "      </button>\n",
              "      \n",
              "  <style>\n",
              "    .colab-df-container {\n",
              "      display:flex;\n",
              "      flex-wrap:wrap;\n",
              "      gap: 12px;\n",
              "    }\n",
              "\n",
              "    .colab-df-convert {\n",
              "      background-color: #E8F0FE;\n",
              "      border: none;\n",
              "      border-radius: 50%;\n",
              "      cursor: pointer;\n",
              "      display: none;\n",
              "      fill: #1967D2;\n",
              "      height: 32px;\n",
              "      padding: 0 0 0 0;\n",
              "      width: 32px;\n",
              "    }\n",
              "\n",
              "    .colab-df-convert:hover {\n",
              "      background-color: #E2EBFA;\n",
              "      box-shadow: 0px 1px 2px rgba(60, 64, 67, 0.3), 0px 1px 3px 1px rgba(60, 64, 67, 0.15);\n",
              "      fill: #174EA6;\n",
              "    }\n",
              "\n",
              "    [theme=dark] .colab-df-convert {\n",
              "      background-color: #3B4455;\n",
              "      fill: #D2E3FC;\n",
              "    }\n",
              "\n",
              "    [theme=dark] .colab-df-convert:hover {\n",
              "      background-color: #434B5C;\n",
              "      box-shadow: 0px 1px 3px 1px rgba(0, 0, 0, 0.15);\n",
              "      filter: drop-shadow(0px 1px 2px rgba(0, 0, 0, 0.3));\n",
              "      fill: #FFFFFF;\n",
              "    }\n",
              "  </style>\n",
              "\n",
              "      <script>\n",
              "        const buttonEl =\n",
              "          document.querySelector('#df-27ebd9d8-7be8-4a6a-9500-9993d9a22570 button.colab-df-convert');\n",
              "        buttonEl.style.display =\n",
              "          google.colab.kernel.accessAllowed ? 'block' : 'none';\n",
              "\n",
              "        async function convertToInteractive(key) {\n",
              "          const element = document.querySelector('#df-27ebd9d8-7be8-4a6a-9500-9993d9a22570');\n",
              "          const dataTable =\n",
              "            await google.colab.kernel.invokeFunction('convertToInteractive',\n",
              "                                                     [key], {});\n",
              "          if (!dataTable) return;\n",
              "\n",
              "          const docLinkHtml = 'Like what you see? Visit the ' +\n",
              "            '<a target=\"_blank\" href=https://colab.research.google.com/notebooks/data_table.ipynb>data table notebook</a>'\n",
              "            + ' to learn more about interactive tables.';\n",
              "          element.innerHTML = '';\n",
              "          dataTable['output_type'] = 'display_data';\n",
              "          await google.colab.output.renderOutput(dataTable, element);\n",
              "          const docLink = document.createElement('div');\n",
              "          docLink.innerHTML = docLinkHtml;\n",
              "          element.appendChild(docLink);\n",
              "        }\n",
              "      </script>\n",
              "    </div>\n",
              "  </div>\n",
              "  "
            ]
          },
          "metadata": {},
          "execution_count": 493
        }
      ]
    },
    {
      "cell_type": "markdown",
      "source": [
        "##6.1Limpieza de Tabla "
      ],
      "metadata": {
        "id": "moSU3uHzFtSW"
      }
    },
    {
      "cell_type": "code",
      "source": [
        "candles_2 = data_candles[data_candles.columns[:4]] \n",
        "candles_bid=candles_2.rename(columns={\"bidopen\": \"Open\", \"bidclose\": \"Close\",'bidhigh':'High','bidlow':'Low'})\n",
        "candles_bid.tail()\n",
        "candles_bid.shape"
      ],
      "metadata": {
        "colab": {
          "base_uri": "https://localhost:8080/"
        },
        "id": "tF2-AVg4Q6BV",
        "outputId": "8fa5cb31-ea7f-4439-9bfa-969d51d43f4d"
      },
      "execution_count": 494,
      "outputs": [
        {
          "output_type": "execute_result",
          "data": {
            "text/plain": [
              "(100, 4)"
            ]
          },
          "metadata": {},
          "execution_count": 494
        }
      ]
    },
    {
      "cell_type": "code",
      "source": [
        "candles_2 = data_candles[data_candles.columns[4:8]] \n",
        "candles_ask=candles_2.rename(columns={\"askopen\": \"Open\", \"askclose\": \"Close\",'askhigh':'High','asklow':'Low'})\n",
        "candles_ask.tail()\n",
        "candles_ask.shape"
      ],
      "metadata": {
        "colab": {
          "base_uri": "https://localhost:8080/"
        },
        "id": "MKV1j6GV58ek",
        "outputId": "cfe45bbd-e38a-4402-fbc7-f1afc5381013"
      },
      "execution_count": 495,
      "outputs": [
        {
          "output_type": "stream",
          "name": "stdout",
          "text": [
            "10000 | EUR/USD | 2022-06-02 08:53:08.282000 | 1.06910, 1.06922\n",
            "10000 | XAU/USD | 2022-06-02 08:53:08.015000 | 1850.74000, 1851.11000\n"
          ]
        },
        {
          "output_type": "execute_result",
          "data": {
            "text/plain": [
              "(100, 4)"
            ]
          },
          "metadata": {},
          "execution_count": 495
        }
      ]
    },
    {
      "cell_type": "markdown",
      "source": [
        "#Start"
      ],
      "metadata": {
        "id": "PJGbZT5UPzOO"
      }
    },
    {
      "cell_type": "code",
      "source": [
        "mpf.figure(figsize=(20, 14))\n",
        "mpf.plot(candles_bid, type='candle', style='charles', title= instrument, ylabel= 'Precio', figscale=1.4);"
      ],
      "metadata": {
        "colab": {
          "base_uri": "https://localhost:8080/",
          "height": 763
        },
        "id": "Wd9kbsXqO7c8",
        "outputId": "2087cabb-f807-4a4c-e854-a43b7eb9f223"
      },
      "execution_count": 496,
      "outputs": [
        {
          "output_type": "display_data",
          "data": {
            "text/plain": [
              "<Mpf_Figure size 2000x1400 with 0 Axes>"
            ]
          },
          "metadata": {}
        },
        {
          "output_type": "display_data",
          "data": {
            "text/plain": [
              "<Figure size 1120x805 with 2 Axes>"
            ],
            "image/png": "[encoded data removed]"
          },
          "metadata": {}
        }
      ]
    },
    {
      "cell_type": "code",
      "source": [
        "candles_bid['Mid']=candles_bid[['Open','Close']].mean(axis=1)\n",
        "candles_bid.head(3)"
      ],
      "metadata": {
        "colab": {
          "base_uri": "https://localhost:8080/",
          "height": 175
        },
        "id": "Jz696MeZjMEU",
        "outputId": "88b66a18-4c89-41a7-f1e2-c53be89c034f"
      },
      "execution_count": 497,
      "outputs": [
        {
          "output_type": "execute_result",
          "data": {
            "text/plain": [
              "                       Open   Close    High     Low      Mid\n",
              "date                                                        \n",
              "2022-01-04 22:00:00  596.95  590.88  599.76  581.23  593.915\n",
              "2022-01-05 22:00:00  590.88  566.95  592.53  566.63  578.915\n",
              "2022-01-06 22:00:00  566.95  552.85  562.89  541.37  559.900"
            ],
            "text/html": [
              "\n",
              "  <div id=\"df-5f38efa2-d1a0-467d-afa9-1b8aa0a89b1b\">\n",
              "    <div class=\"colab-df-container\">\n",
              "      <div>\n",
              "<style scoped>\n",
              "    .dataframe tbody tr th:only-of-type {\n",
              "        vertical-align: middle;\n",
              "    }\n",
              "\n",
              "    .dataframe tbody tr th {\n",
              "        vertical-align: top;\n",
              "    }\n",
              "\n",
              "    .dataframe thead th {\n",
              "        text-align: right;\n",
              "    }\n",
              "</style>\n",
              "<table border=\"1\" class=\"dataframe\">\n",
              "  <thead>\n",
              "    <tr style=\"text-align: right;\">\n",
              "      <th></th>\n",
              "      <th>Open</th>\n",
              "      <th>Close</th>\n",
              "      <th>High</th>\n",
              "      <th>Low</th>\n",
              "      <th>Mid</th>\n",
              "    </tr>\n",
              "    <tr>\n",
              "      <th>date</th>\n",
              "      <th></th>\n",
              "      <th></th>\n",
              "      <th></th>\n",
              "      <th></th>\n",
              "      <th></th>\n",
              "    </tr>\n",
              "  </thead>\n",
              "  <tbody>\n",
              "    <tr>\n",
              "      <th>2022-01-04 22:00:00</th>\n",
              "      <td>596.95</td>\n",
              "      <td>590.88</td>\n",
              "      <td>599.76</td>\n",
              "      <td>581.23</td>\n",
              "      <td>593.915</td>\n",
              "    </tr>\n",
              "    <tr>\n",
              "      <th>2022-01-05 22:00:00</th>\n",
              "      <td>590.88</td>\n",
              "      <td>566.95</td>\n",
              "      <td>592.53</td>\n",
              "      <td>566.63</td>\n",
              "      <td>578.915</td>\n",
              "    </tr>\n",
              "    <tr>\n",
              "      <th>2022-01-06 22:00:00</th>\n",
              "      <td>566.95</td>\n",
              "      <td>552.85</td>\n",
              "      <td>562.89</td>\n",
              "      <td>541.37</td>\n",
              "      <td>559.900</td>\n",
              "    </tr>\n",
              "  </tbody>\n",
              "</table>\n",
              "</div>\n",
              "      <button class=\"colab-df-convert\" onclick=\"convertToInteractive('df-5f38efa2-d1a0-467d-afa9-1b8aa0a89b1b')\"\n",
              "              title=\"Convert this dataframe to an interactive table.\"\n",
              "              style=\"display:none;\">\n",
              "        \n",
              "  <svg xmlns=\"http://www.w3.org/2000/svg\" height=\"24px\"viewBox=\"0 0 24 24\"\n",
              "       width=\"24px\">\n",
              "    <path d=\"M0 0h24v24H0V0z\" fill=\"none\"/>\n",
              "    <path d=\"M18.56 5.44l.94 2.06.94-2.06 2.06-.94-2.06-.94-.94-2.06-.94 2.06-2.06.94zm-11 1L8.5 8.5l.94-2.06 2.06-.94-2.06-.94L8.5 2.5l-.94 2.06-2.06.94zm10 10l.94 2.06.94-2.06 2.06-.94-2.06-.94-.94-2.06-.94 2.06-2.06.94z\"/><path d=\"M17.41 7.96l-1.37-1.37c-.4-.4-.92-.59-1.43-.59-.52 0-1.04.2-1.43.59L10.3 9.45l-7.72 7.72c-.78.78-.78 2.05 0 2.83L4 21.41c.39.39.9.59 1.41.59.51 0 1.02-.2 1.41-.59l7.78-7.78 2.81-2.81c.8-.78.8-2.07 0-2.86zM5.41 20L4 18.59l7.72-7.72 1.47 1.35L5.41 20z\"/>\n",
              "  </svg>\n",
              "      </button>\n",
              "      \n",
              "  <style>\n",
              "    .colab-df-container {\n",
              "      display:flex;\n",
              "      flex-wrap:wrap;\n",
              "      gap: 12px;\n",
              "    }\n",
              "\n",
              "    .colab-df-convert {\n",
              "      background-color: #E8F0FE;\n",
              "      border: none;\n",
              "      border-radius: 50%;\n",
              "      cursor: pointer;\n",
              "      display: none;\n",
              "      fill: #1967D2;\n",
              "      height: 32px;\n",
              "      padding: 0 0 0 0;\n",
              "      width: 32px;\n",
              "    }\n",
              "\n",
              "    .colab-df-convert:hover {\n",
              "      background-color: #E2EBFA;\n",
              "      box-shadow: 0px 1px 2px rgba(60, 64, 67, 0.3), 0px 1px 3px 1px rgba(60, 64, 67, 0.15);\n",
              "      fill: #174EA6;\n",
              "    }\n",
              "\n",
              "    [theme=dark] .colab-df-convert {\n",
              "      background-color: #3B4455;\n",
              "      fill: #D2E3FC;\n",
              "    }\n",
              "\n",
              "    [theme=dark] .colab-df-convert:hover {\n",
              "      background-color: #434B5C;\n",
              "      box-shadow: 0px 1px 3px 1px rgba(0, 0, 0, 0.15);\n",
              "      filter: drop-shadow(0px 1px 2px rgba(0, 0, 0, 0.3));\n",
              "      fill: #FFFFFF;\n",
              "    }\n",
              "  </style>\n",
              "\n",
              "      <script>\n",
              "        const buttonEl =\n",
              "          document.querySelector('#df-5f38efa2-d1a0-467d-afa9-1b8aa0a89b1b button.colab-df-convert');\n",
              "        buttonEl.style.display =\n",
              "          google.colab.kernel.accessAllowed ? 'block' : 'none';\n",
              "\n",
              "        async function convertToInteractive(key) {\n",
              "          const element = document.querySelector('#df-5f38efa2-d1a0-467d-afa9-1b8aa0a89b1b');\n",
              "          const dataTable =\n",
              "            await google.colab.kernel.invokeFunction('convertToInteractive',\n",
              "                                                     [key], {});\n",
              "          if (!dataTable) return;\n",
              "\n",
              "          const docLinkHtml = 'Like what you see? Visit the ' +\n",
              "            '<a target=\"_blank\" href=https://colab.research.google.com/notebooks/data_table.ipynb>data table notebook</a>'\n",
              "            + ' to learn more about interactive tables.';\n",
              "          element.innerHTML = '';\n",
              "          dataTable['output_type'] = 'display_data';\n",
              "          await google.colab.output.renderOutput(dataTable, element);\n",
              "          const docLink = document.createElement('div');\n",
              "          docLink.innerHTML = docLinkHtml;\n",
              "          element.appendChild(docLink);\n",
              "        }\n",
              "      </script>\n",
              "    </div>\n",
              "  </div>\n",
              "  "
            ]
          },
          "metadata": {},
          "execution_count": 497
        }
      ]
    },
    {
      "cell_type": "markdown",
      "source": [
        "Calcular el precio promedio de cada periodo"
      ],
      "metadata": {
        "id": "b4qT0NGvHkEc"
      }
    },
    {
      "cell_type": "code",
      "source": [
        "apdict = mpf.make_addplot(candles_bid['Mid'])\n",
        "mpf.plot(candles_bid, type='candle', style='charles', title= instrument, ylabel= 'Precio', addplot=apdict,figscale=1.6);\n",
        "\n",
        "#mpf.plot(candles_bid,volume=True,addplot=apdict)"
      ],
      "metadata": {
        "colab": {
          "base_uri": "https://localhost:8080/",
          "height": 855
        },
        "id": "0f7KmFXli2nU",
        "outputId": "de050833-b53f-45c5-a8e6-9cd878c80e3d"
      },
      "execution_count": 498,
      "outputs": [
        {
          "output_type": "stream",
          "name": "stdout",
          "text": [
            "10000 | EUR/USD | 2022-06-02 08:53:27.830000 | 1.06887, 1.06901\n"
          ]
        },
        {
          "output_type": "display_data",
          "data": {
            "text/plain": [
              "<Figure size 1280x920 with 2 Axes>"
            ],
            "image/png": "[encoded data removed]"
          },
          "metadata": {}
        }
      ]
    },
    {
      "cell_type": "markdown",
      "source": [
        "último precio promedio "
      ],
      "metadata": {
        "id": "6MZGR8aOQBR9"
      }
    },
    {
      "cell_type": "code",
      "source": [
        "candles_bid.tail(1)"
      ],
      "metadata": {
        "colab": {
          "base_uri": "https://localhost:8080/",
          "height": 112
        },
        "id": "olh6GgkjoWaE",
        "outputId": "e572673c-709a-4da0-aaac-25b70bc9cd90"
      },
      "execution_count": 499,
      "outputs": [
        {
          "output_type": "execute_result",
          "data": {
            "text/plain": [
              "                       Open  Close    High     Low      Mid\n",
              "date                                                       \n",
              "2022-05-31 21:00:00  195.85  197.3  199.72  190.49  196.575"
            ],
            "text/html": [
              "\n",
              "  <div id=\"df-4f08a27d-2995-4b63-8e31-a66f61a35d33\">\n",
              "    <div class=\"colab-df-container\">\n",
              "      <div>\n",
              "<style scoped>\n",
              "    .dataframe tbody tr th:only-of-type {\n",
              "        vertical-align: middle;\n",
              "    }\n",
              "\n",
              "    .dataframe tbody tr th {\n",
              "        vertical-align: top;\n",
              "    }\n",
              "\n",
              "    .dataframe thead th {\n",
              "        text-align: right;\n",
              "    }\n",
              "</style>\n",
              "<table border=\"1\" class=\"dataframe\">\n",
              "  <thead>\n",
              "    <tr style=\"text-align: right;\">\n",
              "      <th></th>\n",
              "      <th>Open</th>\n",
              "      <th>Close</th>\n",
              "      <th>High</th>\n",
              "      <th>Low</th>\n",
              "      <th>Mid</th>\n",
              "    </tr>\n",
              "    <tr>\n",
              "      <th>date</th>\n",
              "      <th></th>\n",
              "      <th></th>\n",
              "      <th></th>\n",
              "      <th></th>\n",
              "      <th></th>\n",
              "    </tr>\n",
              "  </thead>\n",
              "  <tbody>\n",
              "    <tr>\n",
              "      <th>2022-05-31 21:00:00</th>\n",
              "      <td>195.85</td>\n",
              "      <td>197.3</td>\n",
              "      <td>199.72</td>\n",
              "      <td>190.49</td>\n",
              "      <td>196.575</td>\n",
              "    </tr>\n",
              "  </tbody>\n",
              "</table>\n",
              "</div>\n",
              "      <button class=\"colab-df-convert\" onclick=\"convertToInteractive('df-4f08a27d-2995-4b63-8e31-a66f61a35d33')\"\n",
              "              title=\"Convert this dataframe to an interactive table.\"\n",
              "              style=\"display:none;\">\n",
              "        \n",
              "  <svg xmlns=\"http://www.w3.org/2000/svg\" height=\"24px\"viewBox=\"0 0 24 24\"\n",
              "       width=\"24px\">\n",
              "    <path d=\"M0 0h24v24H0V0z\" fill=\"none\"/>\n",
              "    <path d=\"M18.56 5.44l.94 2.06.94-2.06 2.06-.94-2.06-.94-.94-2.06-.94 2.06-2.06.94zm-11 1L8.5 8.5l.94-2.06 2.06-.94-2.06-.94L8.5 2.5l-.94 2.06-2.06.94zm10 10l.94 2.06.94-2.06 2.06-.94-2.06-.94-.94-2.06-.94 2.06-2.06.94z\"/><path d=\"M17.41 7.96l-1.37-1.37c-.4-.4-.92-.59-1.43-.59-.52 0-1.04.2-1.43.59L10.3 9.45l-7.72 7.72c-.78.78-.78 2.05 0 2.83L4 21.41c.39.39.9.59 1.41.59.51 0 1.02-.2 1.41-.59l7.78-7.78 2.81-2.81c.8-.78.8-2.07 0-2.86zM5.41 20L4 18.59l7.72-7.72 1.47 1.35L5.41 20z\"/>\n",
              "  </svg>\n",
              "      </button>\n",
              "      \n",
              "  <style>\n",
              "    .colab-df-container {\n",
              "      display:flex;\n",
              "      flex-wrap:wrap;\n",
              "      gap: 12px;\n",
              "    }\n",
              "\n",
              "    .colab-df-convert {\n",
              "      background-color: #E8F0FE;\n",
              "      border: none;\n",
              "      border-radius: 50%;\n",
              "      cursor: pointer;\n",
              "      display: none;\n",
              "      fill: #1967D2;\n",
              "      height: 32px;\n",
              "      padding: 0 0 0 0;\n",
              "      width: 32px;\n",
              "    }\n",
              "\n",
              "    .colab-df-convert:hover {\n",
              "      background-color: #E2EBFA;\n",
              "      box-shadow: 0px 1px 2px rgba(60, 64, 67, 0.3), 0px 1px 3px 1px rgba(60, 64, 67, 0.15);\n",
              "      fill: #174EA6;\n",
              "    }\n",
              "\n",
              "    [theme=dark] .colab-df-convert {\n",
              "      background-color: #3B4455;\n",
              "      fill: #D2E3FC;\n",
              "    }\n",
              "\n",
              "    [theme=dark] .colab-df-convert:hover {\n",
              "      background-color: #434B5C;\n",
              "      box-shadow: 0px 1px 3px 1px rgba(0, 0, 0, 0.15);\n",
              "      filter: drop-shadow(0px 1px 2px rgba(0, 0, 0, 0.3));\n",
              "      fill: #FFFFFF;\n",
              "    }\n",
              "  </style>\n",
              "\n",
              "      <script>\n",
              "        const buttonEl =\n",
              "          document.querySelector('#df-4f08a27d-2995-4b63-8e31-a66f61a35d33 button.colab-df-convert');\n",
              "        buttonEl.style.display =\n",
              "          google.colab.kernel.accessAllowed ? 'block' : 'none';\n",
              "\n",
              "        async function convertToInteractive(key) {\n",
              "          const element = document.querySelector('#df-4f08a27d-2995-4b63-8e31-a66f61a35d33');\n",
              "          const dataTable =\n",
              "            await google.colab.kernel.invokeFunction('convertToInteractive',\n",
              "                                                     [key], {});\n",
              "          if (!dataTable) return;\n",
              "\n",
              "          const docLinkHtml = 'Like what you see? Visit the ' +\n",
              "            '<a target=\"_blank\" href=https://colab.research.google.com/notebooks/data_table.ipynb>data table notebook</a>'\n",
              "            + ' to learn more about interactive tables.';\n",
              "          element.innerHTML = '';\n",
              "          dataTable['output_type'] = 'display_data';\n",
              "          await google.colab.output.renderOutput(dataTable, element);\n",
              "          const docLink = document.createElement('div');\n",
              "          docLink.innerHTML = docLinkHtml;\n",
              "          element.appendChild(docLink);\n",
              "        }\n",
              "      </script>\n",
              "    </div>\n",
              "  </div>\n",
              "  "
            ]
          },
          "metadata": {},
          "execution_count": 499
        }
      ]
    },
    {
      "cell_type": "markdown",
      "source": [
        "##Conectar para adquir datos"
      ],
      "metadata": {
        "id": "tnmDrfySIKCs"
      }
    },
    {
      "cell_type": "code",
      "source": [
        "def output(data, dataframe):\n",
        "  print('%3d | %s | %s | %6.5f, %6.5f'\n",
        "    % (len(dataframe), data['Symbol'],\n",
        "      pd.to_datetime(int(data['Updated']), unit='ms'),\n",
        "      data['Rates'][0], data['Rates'][1]))"
      ],
      "metadata": {
        "id": "o0DcIF8LpJhM",
        "colab": {
          "base_uri": "https://localhost:8080/"
        },
        "outputId": "cbe0b945-ff2a-4c46-fe6e-a490c56a4fb8"
      },
      "execution_count": 500,
      "outputs": [
        {
          "output_type": "stream",
          "name": "stdout",
          "text": [
            "10000 | EUR/USD | 2022-06-02 08:53:34.352000 | 1.06886, 1.06900\n"
          ]
        }
      ]
    },
    {
      "cell_type": "code",
      "source": [
        "con.subscribe_market_data(instrument, (output,))"
      ],
      "metadata": {
        "id": "xH5X9Yupp1n6"
      },
      "execution_count": 501,
      "outputs": []
    },
    {
      "cell_type": "markdown",
      "source": [
        "Usar solo cúando se vaya a desconectar de los  datos"
      ],
      "metadata": {
        "id": "U-RRotFMIum8"
      }
    },
    {
      "cell_type": "code",
      "source": [
        "#con.unsubscribe_market_data(instrument)"
      ],
      "metadata": {
        "id": "xUoStlBjIdYy"
      },
      "execution_count": 502,
      "outputs": []
    },
    {
      "cell_type": "code",
      "source": [
        "con.get_subscribed_symbols()"
      ],
      "metadata": {
        "colab": {
          "base_uri": "https://localhost:8080/"
        },
        "id": "FKqoa6DkRzMm",
        "outputId": "19991bca-d0ee-416c-9e41-015ed2dc2225"
      },
      "execution_count": 503,
      "outputs": [
        {
          "output_type": "stream",
          "name": "stdout",
          "text": [
            "5436 | BTC/USD | 2022-06-02 08:53:36.855000 | 29918.00000, 29958.00000\n"
          ]
        },
        {
          "output_type": "execute_result",
          "data": {
            "text/plain": [
              "['XAU/USD', 'EUR/USD', 'BTC/USD', 'AMZN.us', 'FB.us', 'NFLX.us']"
            ]
          },
          "metadata": {},
          "execution_count": 503
        }
      ]
    },
    {
      "cell_type": "code",
      "source": [
        "con.get_last_price(instrument)"
      ],
      "metadata": {
        "colab": {
          "base_uri": "https://localhost:8080/"
        },
        "id": "FlYY8GUCny47",
        "outputId": "ef59c033-2ae3-4380-ae66-970ccbd917d5"
      },
      "execution_count": 504,
      "outputs": [
        {
          "output_type": "execute_result",
          "data": {
            "text/plain": [
              "Bid     192.72\n",
              "Ask     193.05\n",
              "High    191.37\n",
              "Low     202.91\n",
              "Name: 2022-06-01 20:14:58.961000, dtype: float64"
            ]
          },
          "metadata": {},
          "execution_count": 504
        }
      ]
    },
    {
      "cell_type": "markdown",
      "source": [
        "#7.Estimados de locación"
      ],
      "metadata": {
        "id": "oLo39yRP0n92"
      }
    },
    {
      "cell_type": "markdown",
      "source": [
        "##Promedio "
      ],
      "metadata": {
        "id": "pqUzAvX1krAN"
      }
    },
    {
      "cell_type": "code",
      "source": [
        "promedio =candles_bid['Mid'].mean()\n",
        "print(f'El promedio es: {promedio}')"
      ],
      "metadata": {
        "colab": {
          "base_uri": "https://localhost:8080/"
        },
        "id": "fFBJYsUWqN6i",
        "outputId": "707608e6-88e4-4ba4-af34-233959bfa9f3"
      },
      "execution_count": 505,
      "outputs": [
        {
          "output_type": "stream",
          "name": "stdout",
          "text": [
            "El promedio es: 346.23599999999993\n"
          ]
        }
      ]
    },
    {
      "cell_type": "markdown",
      "source": [
        "##Mediana"
      ],
      "metadata": {
        "id": "9hvZr3tFku2S"
      }
    },
    {
      "cell_type": "code",
      "source": [
        "mediana =candles_bid['Mid'].median()\n",
        "print(f'La mediana es: {mediana}')"
      ],
      "metadata": {
        "colab": {
          "base_uri": "https://localhost:8080/"
        },
        "id": "ZnEqeztTsLFq",
        "outputId": "c83f42be-423e-42e8-a911-76b82d25b618"
      },
      "execution_count": 506,
      "outputs": [
        {
          "output_type": "stream",
          "name": "stdout",
          "text": [
            "La mediana es: 373.84000000000003\n"
          ]
        }
      ]
    },
    {
      "cell_type": "markdown",
      "source": [
        "##Media Truncada"
      ],
      "metadata": {
        "id": "9046kDN1k4l2"
      }
    },
    {
      "cell_type": "code",
      "source": [
        "media_truncada = stats.trim_mean(candles_bid['Mid'], 0.1)   \n",
        "print(f'La media truncada: {media_truncada}')"
      ],
      "metadata": {
        "colab": {
          "base_uri": "https://localhost:8080/"
        },
        "id": "oNdJ3qhewpHf",
        "outputId": "623a34be-724d-40b6-f5cd-9260e8dd3195"
      },
      "execution_count": 507,
      "outputs": [
        {
          "output_type": "stream",
          "name": "stdout",
          "text": [
            "La media truncada: 342.11831249999994\n"
          ]
        }
      ]
    },
    {
      "cell_type": "code",
      "source": [
        "tcdf = candles_bid[['High','Low']]  # DataFrame with two columns\n",
        "apd  = mpf.make_addplot(tcdf)\n",
        "mpf.plot(candles_bid, type='candle', style='charles', title= 'BID', ylabel= instrument, addplot=apd, mav=10, figscale=1.8) ;"
      ],
      "metadata": {
        "colab": {
          "base_uri": "https://localhost:8080/",
          "height": 947
        },
        "id": "_1acjUOhsnaI",
        "outputId": "356a15b6-5e24-4ec8-d1ad-423b57a6311c"
      },
      "execution_count": 508,
      "outputs": [
        {
          "output_type": "stream",
          "name": "stdout",
          "text": [
            "5439 | BTC/USD | 2022-06-02 08:53:42.360000 | 29915.50000, 29955.50000\n"
          ]
        },
        {
          "output_type": "display_data",
          "data": {
            "text/plain": [
              "<Figure size 1440x1035 with 2 Axes>"
            ],
            "image/png": "[encoded data removed]"
          },
          "metadata": {}
        }
      ]
    },
    {
      "cell_type": "markdown",
      "source": [
        "## Valores Atípicos"
      ],
      "metadata": {
        "id": "0uUoCqJulLec"
      }
    },
    {
      "cell_type": "markdown",
      "source": [
        "##Desviación Estándar"
      ],
      "metadata": {
        "id": "y4mCkJCklO6C"
      }
    },
    {
      "cell_type": "code",
      "source": [
        "std_candles =candles_bid['Mid'].std()\n",
        "print(f'Desviación estandar: {std_candles}')"
      ],
      "metadata": {
        "id": "fNzdtK8J9BhT",
        "colab": {
          "base_uri": "https://localhost:8080/"
        },
        "outputId": "d59e868d-8421-4688-8467-125929f58e77"
      },
      "execution_count": 509,
      "outputs": [
        {
          "output_type": "stream",
          "name": "stdout",
          "text": [
            "Desviación estandar: 111.74158797119014\n"
          ]
        }
      ]
    },
    {
      "cell_type": "markdown",
      "source": [
        "##Rango"
      ],
      "metadata": {
        "id": "4CvrPJTwvEDG"
      }
    },
    {
      "cell_type": "code",
      "source": [
        "rango = candles_bid['Mid'].max() - candles_bid['Mid'].min()\n",
        "rango"
      ],
      "metadata": {
        "id": "EqhJJSV28CrA",
        "colab": {
          "base_uri": "https://localhost:8080/"
        },
        "outputId": "3fe1911c-09db-48d8-8580-125a4e2c2c72"
      },
      "execution_count": 510,
      "outputs": [
        {
          "output_type": "execute_result",
          "data": {
            "text/plain": [
              "425.06999999999994"
            ]
          },
          "metadata": {},
          "execution_count": 510
        }
      ]
    },
    {
      "cell_type": "markdown",
      "source": [
        "## Percentiles"
      ],
      "metadata": {
        "id": "ZcXCWyRCwwo3"
      }
    },
    {
      "cell_type": "code",
      "source": [
        "percentil = candles_bid['Mid'].quantile(0.8)"
      ],
      "metadata": {
        "id": "cdRLbiTGwtat"
      },
      "execution_count": 511,
      "outputs": []
    },
    {
      "cell_type": "code",
      "source": [
        "f'En este caso, el 80% de los valores en nuestro conjunto de datos tienen un valor menor o igual a {percentil}.'"
      ],
      "metadata": {
        "colab": {
          "base_uri": "https://localhost:8080/",
          "height": 35
        },
        "id": "-GKpV_MexKaj",
        "outputId": "fd913c12-443a-4f2f-b9db-4d7e8883bafd"
      },
      "execution_count": 512,
      "outputs": [
        {
          "output_type": "execute_result",
          "data": {
            "text/plain": [
              "'En este caso, el 80% de los valores en nuestro conjunto de datos tienen un valor menor o igual a 405.4.'"
            ],
            "application/vnd.google.colaboratory.intrinsic+json": {
              "type": "string"
            }
          },
          "metadata": {},
          "execution_count": 512
        }
      ]
    },
    {
      "cell_type": "markdown",
      "source": [
        "En este caso, el 80% de los valores en nuestro conjunto de datos tienen un valor menor o igual a 1 440 000."
      ],
      "metadata": {
        "id": "pEErEZyuxKrc"
      }
    },
    {
      "cell_type": "code",
      "source": [
        "print(f'Valor mínimo: {candles_bid[\"Mid\"].min()}')\n",
        "print(f'Percentil 10: {candles_bid[\"Mid\"].quantile(0.1)}')\n",
        "print(f'Percentil 25: {candles_bid[\"Mid\"].quantile(0.25)}')\n",
        "print(f'Percentil 50: {candles_bid[\"Mid\"].median()}')\n",
        "print(f'Percentil 75: {candles_bid[\"Mid\"].quantile(0.75)}')\n",
        "print(f'Percentil 90: {candles_bid[\"Mid\"].quantile(0.9)}')\n",
        "print(f'Valor máximo: {candles_bid[\"Mid\"].max()}')"
      ],
      "metadata": {
        "colab": {
          "base_uri": "https://localhost:8080/"
        },
        "id": "ZKEQUap7xKZd",
        "outputId": "25af07aa-d479-4adb-e6aa-f7e57b78d4a1"
      },
      "execution_count": 513,
      "outputs": [
        {
          "output_type": "stream",
          "name": "stdout",
          "text": [
            "Valor mínimo: 168.845\n",
            "Percentil 10: 184.6695\n",
            "Percentil 25: 216.21999999999997\n",
            "Percentil 50: 373.84000000000003\n",
            "Percentil 75: 393.86625000000004\n",
            "Percentil 90: 513.724\n",
            "Valor máximo: 593.915\n"
          ]
        }
      ]
    },
    {
      "cell_type": "markdown",
      "source": [
        "## Rango intercuartílico"
      ],
      "metadata": {
        "id": "4WG1R4bVyia-"
      }
    },
    {
      "cell_type": "code",
      "source": [
        "candles_bid[\"Mid\"].quantile(0.75) - candles_bid[\"Mid\"].quantile(0.25)"
      ],
      "metadata": {
        "id": "lIZdO90X8CqE",
        "colab": {
          "base_uri": "https://localhost:8080/"
        },
        "outputId": "867663b4-b686-4aa5-c823-926f2aab2bc1"
      },
      "execution_count": 514,
      "outputs": [
        {
          "output_type": "stream",
          "name": "stdout",
          "text": [
            "10000 | XAU/USD | 2022-06-02 08:54:12.738000 | 1850.62000, 1850.95000\n"
          ]
        },
        {
          "output_type": "execute_result",
          "data": {
            "text/plain": [
              "177.64625000000007"
            ]
          },
          "metadata": {},
          "execution_count": 514
        }
      ]
    },
    {
      "cell_type": "markdown",
      "source": [
        "#8.Distribuciones"
      ],
      "metadata": {
        "id": "4frzpUN0y9Ok"
      }
    },
    {
      "cell_type": "code",
      "source": [
        "sns.set(style=\"darkgrid\");\n",
        "ax=sns.boxplot(x=candles_bid[\"Mid\"]);\n",
        "ax.set_title(f'{instrument}')\n",
        "ax.set_xlabel('Precio promedio')"
      ],
      "metadata": {
        "colab": {
          "base_uri": "https://localhost:8080/",
          "height": 497
        },
        "id": "6XOpjyeszVBY",
        "outputId": "78eeeb02-26a6-4e79-f590-2987526e20ba"
      },
      "execution_count": 515,
      "outputs": [
        {
          "output_type": "execute_result",
          "data": {
            "text/plain": [
              "Text(0.5, 0, 'Precio promedio')"
            ]
          },
          "metadata": {},
          "execution_count": 515
        },
        {
          "output_type": "stream",
          "name": "stdout",
          "text": [
            "10000 | XAU/USD | 2022-06-02 08:54:14.199000 | 1850.76000, 1851.14000\n"
          ]
        },
        {
          "output_type": "display_data",
          "data": {
            "text/plain": [
              "<Figure size 640x480 with 1 Axes>"
            ],
            "image/png": "[encoded data removed]"
          },
          "metadata": {}
        }
      ]
    },
    {
      "cell_type": "code",
      "source": [
        "sns.set(style=\"darkgrid\")\n",
        "sns.boxplot(x=candles_bid[\"Mid\"])\n",
        "plt.axvline(candles_bid[\"Mid\"].mean(), c='brown')\n",
        "ax.set_title(f'{instrument}')\n",
        "ax.set_xlabel('Precio promedio')"
      ],
      "metadata": {
        "colab": {
          "base_uri": "https://localhost:8080/",
          "height": 475
        },
        "id": "7zDNIDM_2Ux2",
        "outputId": "13cb4a8b-832f-40a4-e50a-155a158bdad6"
      },
      "execution_count": 516,
      "outputs": [
        {
          "output_type": "execute_result",
          "data": {
            "text/plain": [
              "Text(0.5, 28.0, 'Precio promedio')"
            ]
          },
          "metadata": {},
          "execution_count": 516
        },
        {
          "output_type": "stream",
          "name": "stdout",
          "text": [
            "5448 | BTC/USD | 2022-06-02 08:54:18.223000 | 29916.70000, 29956.70000\n"
          ]
        },
        {
          "output_type": "display_data",
          "data": {
            "text/plain": [
              "<Figure size 640x480 with 1 Axes>"
            ],
            "image/png": "[encoded data removed]"
          },
          "metadata": {}
        }
      ]
    },
    {
      "cell_type": "code",
      "source": [
        "iqr_uno = iqr(candles_bid[\"Mid\"])\n",
        "iqr_uno"
      ],
      "metadata": {
        "colab": {
          "base_uri": "https://localhost:8080/",
          "height": 182
        },
        "id": "pPdis63P5S8N",
        "outputId": "e9cf6863-c65c-4268-f3bd-c58daf312f80"
      },
      "execution_count": 517,
      "outputs": [
        {
          "output_type": "error",
          "ename": "TypeError",
          "evalue": "ignored",
          "traceback": [
            "\u001b[0;31m---------------------------------------------------------------------------\u001b[0m",
            "\u001b[0;31mTypeError\u001b[0m                                 Traceback (most recent call last)",
            "\u001b[0;32m<ipython-input-517-127da7bb53ed>\u001b[0m in \u001b[0;36m<module>\u001b[0;34m()\u001b[0m\n\u001b[0;32m----> 1\u001b[0;31m \u001b[0miqr_uno\u001b[0m \u001b[0;34m=\u001b[0m \u001b[0miqr\u001b[0m\u001b[0;34m(\u001b[0m\u001b[0mcandles_bid\u001b[0m\u001b[0;34m[\u001b[0m\u001b[0;34m\"Mid\"\u001b[0m\u001b[0;34m]\u001b[0m\u001b[0;34m)\u001b[0m\u001b[0;34m\u001b[0m\u001b[0;34m\u001b[0m\u001b[0m\n\u001b[0m\u001b[1;32m      2\u001b[0m \u001b[0miqr_uno\u001b[0m\u001b[0;34m\u001b[0m\u001b[0;34m\u001b[0m\u001b[0m\n",
            "\u001b[0;31mTypeError\u001b[0m: 'numpy.float64' object is not callable"
          ]
        }
      ]
    },
    {
      "cell_type": "code",
      "source": [
        "iqr = candles_bid[\"Mid\"].quantile(0.75) - candles_bid[\"Mid\"].quantile(0.25)\n",
        "filtro_inferior = candles_bid[\"Mid\"]> candles_bid[\"Mid\"].quantile(0.25) - (iqr * 1.5)\n",
        "filtro_superior = candles_bid[\"Mid\"] < candles_bid[\"Mid\"].quantile(0.75) + (iqr * 1.5)\n",
        "\n",
        "df_filtrado = candles_bid[filtro_inferior & filtro_superior]\n",
        "df_filtrado.shape"
      ],
      "metadata": {
        "colab": {
          "base_uri": "https://localhost:8080/"
        },
        "id": "dBCDwiiQ3mvN",
        "outputId": "4559259e-859d-4219-c5bf-3a2839950933"
      },
      "execution_count": 518,
      "outputs": [
        {
          "output_type": "execute_result",
          "data": {
            "text/plain": [
              "(100, 5)"
            ]
          },
          "metadata": {},
          "execution_count": 518
        }
      ]
    },
    {
      "cell_type": "code",
      "source": [
        "fig = plt.figure(figsize=(10, 10))\n",
        "sns.set(style=\"darkgrid\")\n",
        "sns.boxplot(x=df_filtrado['Mid'])\n",
        "sns.boxplot(x=candles_bid[\"Mid\"])\n"
      ],
      "metadata": {
        "colab": {
          "base_uri": "https://localhost:8080/",
          "height": 893
        },
        "id": "izpzVOij4MMO",
        "outputId": "cc331b92-6a72-4651-b017-ff2503b9b098"
      },
      "execution_count": 519,
      "outputs": [
        {
          "output_type": "stream",
          "name": "stdout",
          "text": [
            "10000 | XAU/USD | 2022-06-02 08:54:23.978000 | 1850.65000, 1851.06000\n"
          ]
        },
        {
          "output_type": "execute_result",
          "data": {
            "text/plain": [
              "<matplotlib.axes._subplots.AxesSubplot at 0x7f3c33c50fd0>"
            ]
          },
          "metadata": {},
          "execution_count": 519
        },
        {
          "output_type": "display_data",
          "data": {
            "text/plain": [
              "<Figure size 1000x1000 with 1 Axes>"
            ],
            "image/png": "[encoded data removed]"
          },
          "metadata": {}
        }
      ]
    },
    {
      "cell_type": "markdown",
      "source": [
        "## Tabla de frecuencias"
      ],
      "metadata": {
        "id": "ELt0Obas6T_N"
      }
    },
    {
      "cell_type": "code",
      "source": [
        "mid = candles_bid[\"Mid\"]"
      ],
      "metadata": {
        "id": "ZFlLc9r96bg9"
      },
      "execution_count": 520,
      "outputs": []
    },
    {
      "cell_type": "code",
      "source": [
        "segmentos = pd.cut(mid, 20)\n",
        "candles_bid[\"Mid\"].groupby(segmentos).count()"
      ],
      "metadata": {
        "colab": {
          "base_uri": "https://localhost:8080/"
        },
        "id": "DFAbiJgC6U49",
        "outputId": "88a05619-ece3-4bcf-9347-7c99fe8e07cf"
      },
      "execution_count": 521,
      "outputs": [
        {
          "output_type": "execute_result",
          "data": {
            "text/plain": [
              "Mid\n",
              "(168.42, 190.098]     15\n",
              "(190.098, 211.352]     9\n",
              "(211.352, 232.605]     3\n",
              "(232.605, 253.859]     1\n",
              "(253.859, 275.112]     0\n",
              "(275.112, 296.366]     0\n",
              "(296.366, 317.619]     0\n",
              "(317.619, 338.873]     2\n",
              "(338.873, 360.126]    13\n",
              "(360.126, 381.38]     19\n",
              "(381.38, 402.633]     16\n",
              "(402.633, 423.887]     7\n",
              "(423.887, 445.14]      2\n",
              "(445.14, 466.394]      1\n",
              "(466.394, 487.647]     0\n",
              "(487.647, 508.901]     0\n",
              "(508.901, 530.154]     5\n",
              "(530.154, 551.408]     4\n",
              "(551.408, 572.661]     1\n",
              "(572.661, 593.915]     2\n",
              "Name: Mid, dtype: int64"
            ]
          },
          "metadata": {},
          "execution_count": 521
        }
      ]
    },
    {
      "cell_type": "markdown",
      "source": [
        "##Histogramas"
      ],
      "metadata": {
        "id": "rzuQZnEtIRu1"
      }
    },
    {
      "cell_type": "markdown",
      "source": [
        "https://www.tradingsys.org/histograma-de-operaciones-y-curva-normal"
      ],
      "metadata": {
        "id": "fQ-9OoTyJemp"
      }
    },
    {
      "cell_type": "code",
      "source": [
        "fig = plt.figure(figsize=(10, 10))\n",
        "ax =sns.histplot(candles_bid[\"Mid\"], kde=True,  bins=20);\n",
        "ax.set_title(f'{instrument}')\n",
        "ax.set_xlabel('Precio promedio')"
      ],
      "metadata": {
        "colab": {
          "base_uri": "https://localhost:8080/",
          "height": 898
        },
        "id": "E7rKjCMAH0b-",
        "outputId": "352ba862-6fb3-47e9-8dfb-b2d0f1e01ab0"
      },
      "execution_count": 522,
      "outputs": [
        {
          "output_type": "execute_result",
          "data": {
            "text/plain": [
              "Text(0.5, 0, 'Precio promedio')"
            ]
          },
          "metadata": {},
          "execution_count": 522
        },
        {
          "output_type": "display_data",
          "data": {
            "text/plain": [
              "<Figure size 1000x1000 with 1 Axes>"
            ],
            "image/png": "[encoded data removed]"
          },
          "metadata": {}
        }
      ]
    },
    {
      "cell_type": "code",
      "source": [
        "print(f'Curtosis: {kurtosis(candles_bid[\"Mid\"])}')\n",
        "print(f'Asimetría: {skew(candles_bid[\"Mid\"])}')"
      ],
      "metadata": {
        "colab": {
          "base_uri": "https://localhost:8080/"
        },
        "id": "8PAlT6ucJzr0",
        "outputId": "94bda293-9c25-47b0-95ac-9515d90dfa2a"
      },
      "execution_count": 523,
      "outputs": [
        {
          "output_type": "stream",
          "name": "stdout",
          "text": [
            "10000 | EUR/USD | 2022-06-02 08:54:31.068000 | 1.06882, 1.06896\n",
            "10000 | XAU/USD | 2022-06-02 08:54:31.111000 | 1850.80000, 1851.15000\n",
            "Curtosis: -0.6384975013597955\n",
            "Asimetría: -0.041824509974830025\n"
          ]
        }
      ]
    },
    {
      "cell_type": "markdown",
      "source": [
        "\n",
        "- Números negativos indican que hay una asimetría negativa, es decir que la cola de la izquierda es más larga que la cola de la derecha.\n",
        "\n",
        "- Curtosis negativa indica que nuestra distribución está escarpada. Esto implica que hay menos dispersión de nuestros datos, que están más cercanos a nuestro punto central y que por lo tanto tenemos colas cortas (comparadas con la cola normal)."
      ],
      "metadata": {
        "id": "QTQXMTRdKMC8"
      }
    },
    {
      "cell_type": "markdown",
      "source": [
        "##Gráficas de densidad"
      ],
      "metadata": {
        "id": "_4Ttugx_Mq80"
      }
    },
    {
      "cell_type": "code",
      "source": [
        "fb = candles_bid[\"Mid\"]"
      ],
      "metadata": {
        "colab": {
          "base_uri": "https://localhost:8080/"
        },
        "id": "3SK_aRR5OTRM",
        "outputId": "902b2e69-24c5-4941-9471-3a211bb4a953"
      },
      "execution_count": 366,
      "outputs": [
        {
          "output_type": "stream",
          "name": "stdout",
          "text": [
            "7589 | EUR/USD | 2022-06-02 07:32:45.407000 | 1.06783, 1.06797\n",
            "10000 | XAU/USD | 2022-06-02 07:32:45.509000 | 1850.47000, 1850.78000\n",
            "10000 | XAU/USD | 2022-06-02 07:32:45.957000 | 1850.43000, 1850.73000\n"
          ]
        }
      ]
    },
    {
      "cell_type": "code",
      "source": [
        "fb.tail()"
      ],
      "metadata": {
        "colab": {
          "base_uri": "https://localhost:8080/"
        },
        "id": "MF6lQFEPVN8P",
        "outputId": "48b04b05-5095-4189-8289-8939062b3a2c"
      },
      "execution_count": 367,
      "outputs": [
        {
          "output_type": "execute_result",
          "data": {
            "text/plain": [
              "date\n",
              "2022-05-23 21:00:00    194.79\n",
              "2022-05-24 21:00:00    188.49\n",
              "2022-05-25 21:00:00    182.28\n",
              "2022-05-26 21:00:00    187.53\n",
              "2022-05-31 21:00:00    194.14\n",
              "Name: Mid, dtype: float64"
            ]
          },
          "metadata": {},
          "execution_count": 367
        }
      ]
    },
    {
      "cell_type": "code",
      "source": [
        "netflix = candles_bid[\"Mid\"]"
      ],
      "metadata": {
        "id": "D6Cny6CFVRPY"
      },
      "execution_count": 408,
      "outputs": []
    },
    {
      "cell_type": "code",
      "source": [
        "netflix.tail()"
      ],
      "metadata": {
        "colab": {
          "base_uri": "https://localhost:8080/"
        },
        "id": "JEkm81M2Rcan",
        "outputId": "2d105192-0d23-4208-fb02-6fb0c2e88757"
      },
      "execution_count": 409,
      "outputs": [
        {
          "output_type": "execute_result",
          "data": {
            "text/plain": [
              "date\n",
              "2022-05-23 21:00:00    186.750\n",
              "2022-05-24 21:00:00    183.720\n",
              "2022-05-25 21:00:00    183.900\n",
              "2022-05-26 21:00:00    189.415\n",
              "2022-05-31 21:00:00    196.575\n",
              "Name: Mid, dtype: float64"
            ]
          },
          "metadata": {},
          "execution_count": 409
        }
      ]
    },
    {
      "cell_type": "code",
      "source": [
        "fig = plt.figure(figsize=(10, 10))\n",
        "ax =sns.distplot(fb, hist = False, kde_kws = {'shade': True}) #azul\n",
        "sns.distplot(netflix, hist = False, kde_kws = {'shade': True})\n",
        "ax.set_title(f'Facebook vs Netflix')\n",
        "ax.set_xlabel('Precio promedio')"
      ],
      "metadata": {
        "colab": {
          "base_uri": "https://localhost:8080/",
          "height": 737
        },
        "id": "Np8E8TIaWD41",
        "outputId": "87b01b64-14fb-4b1e-b875-10cf7e2f0745"
      },
      "execution_count": 486,
      "outputs": [
        {
          "output_type": "stream",
          "name": "stderr",
          "text": [
            "/usr/local/lib/python3.7/dist-packages/seaborn/distributions.py:2619: FutureWarning: `distplot` is a deprecated function and will be removed in a future version. Please adapt your code to use either `displot` (a figure-level function with similar flexibility) or `kdeplot` (an axes-level function for kernel density plots).\n",
            "  warnings.warn(msg, FutureWarning)\n",
            "/usr/local/lib/python3.7/dist-packages/seaborn/distributions.py:2619: FutureWarning: `distplot` is a deprecated function and will be removed in a future version. Please adapt your code to use either `displot` (a figure-level function with similar flexibility) or `kdeplot` (an axes-level function for kernel density plots).\n",
            "  warnings.warn(msg, FutureWarning)\n"
          ]
        },
        {
          "output_type": "execute_result",
          "data": {
            "text/plain": [
              "Text(0.5, 0, 'Precio promedio')"
            ]
          },
          "metadata": {},
          "execution_count": 486
        },
        {
          "output_type": "display_data",
          "data": {
            "text/plain": [
              "<Figure size 720x720 with 1 Axes>"
            ],
            "image/png": "[encoded data removed]"
          },
          "metadata": {}
        }
      ]
    },
    {
      "cell_type": "markdown",
      "source": [
        "#9.Exploración de Variables Categóricas y Análisis Multivariable"
      ],
      "metadata": {
        "id": "2fc0XwGbcnc-"
      }
    },
    {
      "cell_type": "code",
      "source": [
        "ax=sns.distplot(fb, hist = False, kde_kws = {'shade': True}, label= 'Facebook') #azul\n",
        "sns.distplot(netflix, hist = False, kde_kws = {'shade': True},label='Netflix', ax=ax)\n",
        "ax.set_title('Netflix vs. Facebook', fontsize=13, pad=15)\n",
        "ax.set(xlabel='Precio Promedio');\n",
        "ax.legend(loc='upper right');"
      ],
      "metadata": {
        "colab": {
          "base_uri": "https://localhost:8080/",
          "height": 600
        },
        "id": "TF_Euf0Scv5s",
        "outputId": "f1f0ae79-5025-4417-f85d-9eab0832c4c8"
      },
      "execution_count": 423,
      "outputs": [
        {
          "output_type": "stream",
          "name": "stderr",
          "text": [
            "/usr/local/lib/python3.7/dist-packages/seaborn/distributions.py:2619: FutureWarning: `distplot` is a deprecated function and will be removed in a future version. Please adapt your code to use either `displot` (a figure-level function with similar flexibility) or `kdeplot` (an axes-level function for kernel density plots).\n",
            "  warnings.warn(msg, FutureWarning)\n",
            "/usr/local/lib/python3.7/dist-packages/seaborn/distributions.py:2619: FutureWarning: `distplot` is a deprecated function and will be removed in a future version. Please adapt your code to use either `displot` (a figure-level function with similar flexibility) or `kdeplot` (an axes-level function for kernel density plots).\n",
            "  warnings.warn(msg, FutureWarning)\n"
          ]
        },
        {
          "output_type": "stream",
          "name": "stdout",
          "text": [
            "10000 | XAU/USD | 2022-06-02 08:14:54.158000 | 1851.75000, 1852.05000\n"
          ]
        },
        {
          "output_type": "display_data",
          "data": {
            "text/plain": [
              "<Figure size 640x480 with 1 Axes>"
            ],
            "image/png": "[encoded data removed]"
          },
          "metadata": {}
        }
      ]
    },
    {
      "cell_type": "markdown",
      "source": [
        "Se regresa a usar el último instrumento vigente"
      ],
      "metadata": {
        "id": "Ci1giXC8fRLb"
      }
    },
    {
      "cell_type": "code",
      "source": [
        "fig = plt.figure(figsize=(10, 10))\n",
        "ax = sns.histplot(candles_bid[\"Mid\"], kde=False)\n",
        "ax.set_title(f'Promedio del precio de {instrument} ', fontsize=20, pad=15)\n",
        "ax.set(xlabel='Precio promedio', ylabel='conteo');"
      ],
      "metadata": {
        "colab": {
          "base_uri": "https://localhost:8080/",
          "height": 953
        },
        "id": "UOwEqOBlfEkE",
        "outputId": "df576ad9-e0fa-48da-f1f8-0a0c0f2a1fc8"
      },
      "execution_count": 426,
      "outputs": [
        {
          "output_type": "stream",
          "name": "stdout",
          "text": [
            "4632 | BTC/USD | 2022-06-02 08:19:10.838000 | 29958.30000, 29998.30000\n",
            "10000 | EUR/USD | 2022-06-02 08:19:10.990000 | 1.06893, 1.06905\n",
            "10000 | XAU/USD | 2022-06-02 08:19:10.921000 | 1852.08000, 1852.41000\n"
          ]
        },
        {
          "output_type": "display_data",
          "data": {
            "text/plain": [
              "<Figure size 1000x1000 with 1 Axes>"
            ],
            "image/png": "[encoded data removed]"
          },
          "metadata": {}
        }
      ]
    },
    {
      "cell_type": "code",
      "source": [
        "candles_bid[\"Mid\"].mode()"
      ],
      "metadata": {
        "colab": {
          "base_uri": "https://localhost:8080/"
        },
        "id": "fTvFWyAQgU8M",
        "outputId": "46181ece-4a71-4e5a-9f21-9d551751cd9a"
      },
      "execution_count": 429,
      "outputs": [
        {
          "output_type": "stream",
          "name": "stdout",
          "text": [
            "10000 | EUR/USD | 2022-06-02 08:22:01.257000 | 1.06915, 1.06928\n",
            "10000 | XAU/USD | 2022-06-02 08:22:01.068000 | 1852.37000, 1852.70000\n"
          ]
        },
        {
          "output_type": "execute_result",
          "data": {
            "text/plain": [
              "0      168.845\n",
              "1      170.800\n",
              "2      174.990\n",
              "3      177.145\n",
              "4      180.215\n",
              "        ...   \n",
              "445    682.765\n",
              "446    683.155\n",
              "447    685.385\n",
              "448    686.425\n",
              "449    689.360\n",
              "Length: 450, dtype: float64"
            ]
          },
          "metadata": {},
          "execution_count": 429
        }
      ]
    },
    {
      "cell_type": "code",
      "source": [
        "fig, axes = plt.subplots(2, 1, figsize=(10, 8), sharex=True, sharey=True)\n",
        "axes[0].set(xlabel='', ylabel='', title='Netflix')\n",
        "axes[1].set(xlabel='', ylabel='', title='Facebook')\n",
        "\n",
        "sns.histplot(netflix, ax=axes[0])\n",
        "sns.histplot(fb, ax=axes[1])\n",
        "\n",
        "\n",
        "fig.suptitle('Precio Promedio de las acciones de Facebook y Netflix ', fontsize=15);"
      ],
      "metadata": {
        "colab": {
          "base_uri": "https://localhost:8080/",
          "height": 819
        },
        "id": "D5Yk8kC-hMpv",
        "outputId": "5d1df2c4-d598-4b5e-bbf1-e04c823e47ac"
      },
      "execution_count": 444,
      "outputs": [
        {
          "output_type": "stream",
          "name": "stdout",
          "text": [
            "10000 | EUR/USD | 2022-06-02 08:39:40.943000 | 1.06909, 1.06922\n",
            "5174 | BTC/USD | 2022-06-02 08:39:41.216000 | 29918.25000, 29958.25000\n"
          ]
        },
        {
          "output_type": "display_data",
          "data": {
            "text/plain": [
              "<Figure size 1000x800 with 2 Axes>"
            ],
            "image/png": "[encoded data removed]"
          },
          "metadata": {}
        }
      ]
    },
    {
      "cell_type": "code",
      "source": [
        "ax = sns.boxplot(candles_bid[\"Mid\"])\n",
        "ax.set_title(f'{instrument}')\n",
        "ax.set_ylabel('Precio Promedio')"
      ],
      "metadata": {
        "colab": {
          "base_uri": "https://localhost:8080/",
          "height": 587
        },
        "id": "5sS36Pj1k6Xv",
        "outputId": "ed4829c8-258e-4bbc-dc95-f78385b2e950"
      },
      "execution_count": 448,
      "outputs": [
        {
          "output_type": "stream",
          "name": "stderr",
          "text": [
            "/usr/local/lib/python3.7/dist-packages/seaborn/_decorators.py:43: FutureWarning: Pass the following variable as a keyword arg: x. From version 0.12, the only valid positional argument will be `data`, and passing other arguments without an explicit keyword will result in an error or misinterpretation.\n",
            "  FutureWarning\n"
          ]
        },
        {
          "output_type": "execute_result",
          "data": {
            "text/plain": [
              "Text(0, 0.5, 'Precio Promedio')"
            ]
          },
          "metadata": {},
          "execution_count": 448
        },
        {
          "output_type": "stream",
          "name": "stdout",
          "text": [
            "10000 | EUR/USD | 2022-06-02 08:43:15.518000 | 1.06912, 1.06925\n",
            "10000 | XAU/USD | 2022-06-02 08:43:15.269000 | 1851.05000, 1851.44000\n",
            "5239 | BTC/USD | 2022-06-02 08:43:15.613000 | 29910.00000, 29950.00000\n"
          ]
        },
        {
          "output_type": "display_data",
          "data": {
            "text/plain": [
              "<Figure size 640x480 with 1 Axes>"
            ],
            "image/png": "[encoded data removed]"
          },
          "metadata": {}
        }
      ]
    },
    {
      "cell_type": "code",
      "source": [
        "plt.figure(figsize=(5, 10))\n",
        "sns.violinplot(data=candles_bid, x='Mid');"
      ],
      "metadata": {
        "colab": {
          "base_uri": "https://localhost:8080/",
          "height": 632
        },
        "id": "SbYAWVhknP_t",
        "outputId": "e298b20d-0f4c-41ac-dabc-2cc429b818cc"
      },
      "execution_count": 489,
      "outputs": [
        {
          "output_type": "stream",
          "name": "stdout",
          "text": [
            "10000 | XAU/USD | 2022-06-02 08:52:11.882000 | 1850.53000, 1850.91000\n"
          ]
        },
        {
          "output_type": "display_data",
          "data": {
            "text/plain": [
              "<Figure size 360x720 with 1 Axes>"
            ],
            "image/png": "[encoded data removed]"
          },
          "metadata": {}
        }
      ]
    },
    {
      "cell_type": "markdown",
      "source": [
        "#10.Correlaciones y Regresión Linear Simple"
      ],
      "metadata": {
        "id": "LsCX1V3ApDCN"
      }
    },
    {
      "cell_type": "markdown",
      "source": [
        "#Real-Time SMA Crossover Strategy"
      ],
      "metadata": {
        "id": "G6tMCKn8wL2I"
      }
    },
    {
      "cell_type": "markdown",
      "source": [
        ""
      ],
      "metadata": {
        "id": "5I9TpGDa0iFO"
      }
    },
    {
      "cell_type": "markdown",
      "source": [
        "https://docs.python.org/es/3/library/datetime.html\n",
        "https://www.programiz.com/python-programming/datetime/current-datetime \n",
        "https://pandas.pydata.org/docs/reference/api\n",
        "https://github.com/matplotlib/mplfinance/blob/master/examples/panels.ipynb\n",
        "https://github.com/fxcm/RestAPI/blob/master/Europe-Algo-Meetup/EMA%20Crossover%20Strategy%20and%20Backtesting.ipynb\n",
        "https://github.com/fxcm/RestAPI/blob/master/Europe-Algo-Meetup/Real-Time%20SMA%20Crossover%20Strategy.ipynb/\n"
      ],
      "metadata": {
        "id": "nTh7KX3Z5XLk"
      }
    }
  ]
}