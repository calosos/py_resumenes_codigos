{
  "nbformat": 4,
  "nbformat_minor": 0,
  "metadata": {
    "colab": {
      "name": "C5_B_Distribuciones:muestrales_tecnicas_de_modelos.ipynb",
      "provenance": [],
      "mount_file_id": "1tNk9kvzjB2Evf4ZcH9uAzq4e2-4302q_",
      "authorship_tag": "ABX9TyMQt2C9HDr/+3rc2OYQ+ZMA",
      "include_colab_link": true
    },
    "kernelspec": {
      "name": "python3",
      "display_name": "Python 3"
    },
    "language_info": {
      "name": "python"
    }
  },
  "cells": [
    {
      "cell_type": "markdown",
      "metadata": {
        "id": "view-in-github",
        "colab_type": "text"
      },
      "source": [
        "<a href=\"https://colab.research.google.com/github/calosos/py_resumenes_codigos/blob/main/C5_B_Distribuciones_muestrales_tecnicas_de_modelos.ipynb\" target=\"_parent\"><img src=\"https://colab.research.google.com/assets/colab-badge.svg\" alt=\"Open In Colab\"/></a>"
      ]
    },
    {
      "cell_type": "code",
      "execution_count": 2,
      "metadata": {
        "id": "kMZwdHBQK4h2"
      },
      "outputs": [],
      "source": [
        "import pandas as pd\n",
        "import matplotlib.pyplot as plt\n",
        "import seaborn as sns"
      ]
    },
    {
      "cell_type": "markdown",
      "source": [
        "#Bootsrap\n"
      ],
      "metadata": {
        "id": "BlxjbvtfLf6G"
      }
    },
    {
      "cell_type": "markdown",
      "source": [
        "##Muestreo aleatorio o randomizado."
      ],
      "metadata": {
        "id": "LH4sGK4sL6QM"
      }
    },
    {
      "cell_type": "markdown",
      "source": [
        "Muestreo Aleatorio o Randomizado, es una forma en la que se puede evitar los sesgos a la hora de tomar muestras, esto es crear una muestra  a partir de una población seleccionando elementos del conjunto original aleatoriamente.Cada elemento debe terner las mismas probabilidad de ser elgigo para la muestra, salvo que haya algún motivo para hacerlo de otra manera.\n",
        "Se evita el riesgo de seleccipon"
      ],
      "metadata": {
        "id": "OKGJCb8LMNRD"
      }
    },
    {
      "cell_type": "code",
      "source": [
        "df = pd.read_csv('/content/drive/MyDrive/Remoto Datasets/Remoto diabetes-clean.csv', index_col = 0)\n",
        "df.head()"
      ],
      "metadata": {
        "colab": {
          "base_uri": "https://localhost:8080/",
          "height": 206
        },
        "id": "00pAPoygLc-X",
        "outputId": "e160743e-8286-494a-fb0c-fd88d96b84ae"
      },
      "execution_count": 3,
      "outputs": [
        {
          "output_type": "execute_result",
          "data": {
            "text/plain": [
              "   pregnancies  glucose  blood_pressure  skin_thickness  insulin   bmi  \\\n",
              "0            6      148              72              35        0  33.6   \n",
              "1            1       85              66              29        0  26.6   \n",
              "2            8      183              64               0        0  23.3   \n",
              "3            1       89              66              23       94  28.1   \n",
              "4            0      137              40              35      168  43.1   \n",
              "\n",
              "   diabetes_pedigree_function  age  outcome  \n",
              "0                       0.627   50        1  \n",
              "1                       0.351   31        0  \n",
              "2                       0.672   32        1  \n",
              "3                       0.167   21        0  \n",
              "4                       2.288   33        1  "
            ],
            "text/html": [
              "\n",
              "  <div id=\"df-c57bc534-06f8-4531-ac5b-82c6311ace7a\">\n",
              "    <div class=\"colab-df-container\">\n",
              "      <div>\n",
              "<style scoped>\n",
              "    .dataframe tbody tr th:only-of-type {\n",
              "        vertical-align: middle;\n",
              "    }\n",
              "\n",
              "    .dataframe tbody tr th {\n",
              "        vertical-align: top;\n",
              "    }\n",
              "\n",
              "    .dataframe thead th {\n",
              "        text-align: right;\n",
              "    }\n",
              "</style>\n",
              "<table border=\"1\" class=\"dataframe\">\n",
              "  <thead>\n",
              "    <tr style=\"text-align: right;\">\n",
              "      <th></th>\n",
              "      <th>pregnancies</th>\n",
              "      <th>glucose</th>\n",
              "      <th>blood_pressure</th>\n",
              "      <th>skin_thickness</th>\n",
              "      <th>insulin</th>\n",
              "      <th>bmi</th>\n",
              "      <th>diabetes_pedigree_function</th>\n",
              "      <th>age</th>\n",
              "      <th>outcome</th>\n",
              "    </tr>\n",
              "  </thead>\n",
              "  <tbody>\n",
              "    <tr>\n",
              "      <th>0</th>\n",
              "      <td>6</td>\n",
              "      <td>148</td>\n",
              "      <td>72</td>\n",
              "      <td>35</td>\n",
              "      <td>0</td>\n",
              "      <td>33.6</td>\n",
              "      <td>0.627</td>\n",
              "      <td>50</td>\n",
              "      <td>1</td>\n",
              "    </tr>\n",
              "    <tr>\n",
              "      <th>1</th>\n",
              "      <td>1</td>\n",
              "      <td>85</td>\n",
              "      <td>66</td>\n",
              "      <td>29</td>\n",
              "      <td>0</td>\n",
              "      <td>26.6</td>\n",
              "      <td>0.351</td>\n",
              "      <td>31</td>\n",
              "      <td>0</td>\n",
              "    </tr>\n",
              "    <tr>\n",
              "      <th>2</th>\n",
              "      <td>8</td>\n",
              "      <td>183</td>\n",
              "      <td>64</td>\n",
              "      <td>0</td>\n",
              "      <td>0</td>\n",
              "      <td>23.3</td>\n",
              "      <td>0.672</td>\n",
              "      <td>32</td>\n",
              "      <td>1</td>\n",
              "    </tr>\n",
              "    <tr>\n",
              "      <th>3</th>\n",
              "      <td>1</td>\n",
              "      <td>89</td>\n",
              "      <td>66</td>\n",
              "      <td>23</td>\n",
              "      <td>94</td>\n",
              "      <td>28.1</td>\n",
              "      <td>0.167</td>\n",
              "      <td>21</td>\n",
              "      <td>0</td>\n",
              "    </tr>\n",
              "    <tr>\n",
              "      <th>4</th>\n",
              "      <td>0</td>\n",
              "      <td>137</td>\n",
              "      <td>40</td>\n",
              "      <td>35</td>\n",
              "      <td>168</td>\n",
              "      <td>43.1</td>\n",
              "      <td>2.288</td>\n",
              "      <td>33</td>\n",
              "      <td>1</td>\n",
              "    </tr>\n",
              "  </tbody>\n",
              "</table>\n",
              "</div>\n",
              "      <button class=\"colab-df-convert\" onclick=\"convertToInteractive('df-c57bc534-06f8-4531-ac5b-82c6311ace7a')\"\n",
              "              title=\"Convert this dataframe to an interactive table.\"\n",
              "              style=\"display:none;\">\n",
              "        \n",
              "  <svg xmlns=\"http://www.w3.org/2000/svg\" height=\"24px\"viewBox=\"0 0 24 24\"\n",
              "       width=\"24px\">\n",
              "    <path d=\"M0 0h24v24H0V0z\" fill=\"none\"/>\n",
              "    <path d=\"M18.56 5.44l.94 2.06.94-2.06 2.06-.94-2.06-.94-.94-2.06-.94 2.06-2.06.94zm-11 1L8.5 8.5l.94-2.06 2.06-.94-2.06-.94L8.5 2.5l-.94 2.06-2.06.94zm10 10l.94 2.06.94-2.06 2.06-.94-2.06-.94-.94-2.06-.94 2.06-2.06.94z\"/><path d=\"M17.41 7.96l-1.37-1.37c-.4-.4-.92-.59-1.43-.59-.52 0-1.04.2-1.43.59L10.3 9.45l-7.72 7.72c-.78.78-.78 2.05 0 2.83L4 21.41c.39.39.9.59 1.41.59.51 0 1.02-.2 1.41-.59l7.78-7.78 2.81-2.81c.8-.78.8-2.07 0-2.86zM5.41 20L4 18.59l7.72-7.72 1.47 1.35L5.41 20z\"/>\n",
              "  </svg>\n",
              "      </button>\n",
              "      \n",
              "  <style>\n",
              "    .colab-df-container {\n",
              "      display:flex;\n",
              "      flex-wrap:wrap;\n",
              "      gap: 12px;\n",
              "    }\n",
              "\n",
              "    .colab-df-convert {\n",
              "      background-color: #E8F0FE;\n",
              "      border: none;\n",
              "      border-radius: 50%;\n",
              "      cursor: pointer;\n",
              "      display: none;\n",
              "      fill: #1967D2;\n",
              "      height: 32px;\n",
              "      padding: 0 0 0 0;\n",
              "      width: 32px;\n",
              "    }\n",
              "\n",
              "    .colab-df-convert:hover {\n",
              "      background-color: #E2EBFA;\n",
              "      box-shadow: 0px 1px 2px rgba(60, 64, 67, 0.3), 0px 1px 3px 1px rgba(60, 64, 67, 0.15);\n",
              "      fill: #174EA6;\n",
              "    }\n",
              "\n",
              "    [theme=dark] .colab-df-convert {\n",
              "      background-color: #3B4455;\n",
              "      fill: #D2E3FC;\n",
              "    }\n",
              "\n",
              "    [theme=dark] .colab-df-convert:hover {\n",
              "      background-color: #434B5C;\n",
              "      box-shadow: 0px 1px 3px 1px rgba(0, 0, 0, 0.15);\n",
              "      filter: drop-shadow(0px 1px 2px rgba(0, 0, 0, 0.3));\n",
              "      fill: #FFFFFF;\n",
              "    }\n",
              "  </style>\n",
              "\n",
              "      <script>\n",
              "        const buttonEl =\n",
              "          document.querySelector('#df-c57bc534-06f8-4531-ac5b-82c6311ace7a button.colab-df-convert');\n",
              "        buttonEl.style.display =\n",
              "          google.colab.kernel.accessAllowed ? 'block' : 'none';\n",
              "\n",
              "        async function convertToInteractive(key) {\n",
              "          const element = document.querySelector('#df-c57bc534-06f8-4531-ac5b-82c6311ace7a');\n",
              "          const dataTable =\n",
              "            await google.colab.kernel.invokeFunction('convertToInteractive',\n",
              "                                                     [key], {});\n",
              "          if (!dataTable) return;\n",
              "\n",
              "          const docLinkHtml = 'Like what you see? Visit the ' +\n",
              "            '<a target=\"_blank\" href=https://colab.research.google.com/notebooks/data_table.ipynb>data table notebook</a>'\n",
              "            + ' to learn more about interactive tables.';\n",
              "          element.innerHTML = '';\n",
              "          dataTable['output_type'] = 'display_data';\n",
              "          await google.colab.output.renderOutput(dataTable, element);\n",
              "          const docLink = document.createElement('div');\n",
              "          docLink.innerHTML = docLinkHtml;\n",
              "          element.appendChild(docLink);\n",
              "        }\n",
              "      </script>\n",
              "    </div>\n",
              "  </div>\n",
              "  "
            ]
          },
          "metadata": {},
          "execution_count": 3
        }
      ]
    },
    {
      "cell_type": "markdown",
      "source": [
        "Ejemplo en la variable 'glucose'\n",
        "Un muestro aleatorio puede tomarse sin reposición , significa que cada vez que un elemento se toma de la muestra original, no se regresa a la muestra original. Con cada muestreo, entonces, nuestra muestra original se hace más pequeña, lo cual cambia las posibilidadesd de elegir las muestras restantes."
      ],
      "metadata": {
        "id": "3uOE9rkaNbL7"
      }
    },
    {
      "cell_type": "code",
      "source": [
        "df['glucose'].sample(n=20, replace = False)"
      ],
      "metadata": {
        "colab": {
          "base_uri": "https://localhost:8080/"
        },
        "id": "7ZTbdtIHNSnU",
        "outputId": "240ff313-cb18-4004-d19f-ed5b708bfe48"
      },
      "execution_count": 4,
      "outputs": [
        {
          "output_type": "execute_result",
          "data": {
            "text/plain": [
              "121    111\n",
              "19     115\n",
              "695    142\n",
              "401    137\n",
              "50     103\n",
              "369    133\n",
              "613    105\n",
              "289    108\n",
              "287    119\n",
              "485    135\n",
              "374    122\n",
              "554     84\n",
              "102    125\n",
              "195    158\n",
              "616    117\n",
              "687    107\n",
              "515    163\n",
              "672     68\n",
              "113     76\n",
              "594    123\n",
              "Name: glucose, dtype: int64"
            ]
          },
          "metadata": {},
          "execution_count": 4
        }
      ]
    },
    {
      "cell_type": "markdown",
      "source": [
        "Tambíen podemos tomar elementos con reposición, donde regresamos cada elemento después de tomar la muestra. Esto quiere decir que en cada toma tenemos la misma probabilidad de elegir cualquiera de los elementos y además el remuestreo puede incluir elementos repetidos:"
      ],
      "metadata": {
        "id": "F8SCR2dzQcoi"
      }
    },
    {
      "cell_type": "code",
      "source": [
        "df['glucose'].sample(frac=0.10, replace = True)"
      ],
      "metadata": {
        "colab": {
          "base_uri": "https://localhost:8080/"
        },
        "id": "PdWErx_hQfpG",
        "outputId": "79491509-55ae-4f54-a0b7-c5e8f5900323"
      },
      "execution_count": 5,
      "outputs": [
        {
          "output_type": "execute_result",
          "data": {
            "text/plain": [
              "322    124\n",
              "107    144\n",
              "333    106\n",
              "586    143\n",
              "323    152\n",
              "      ... \n",
              "637     94\n",
              "398     82\n",
              "336    117\n",
              "52      88\n",
              "738     99\n",
              "Name: glucose, Length: 77, dtype: int64"
            ]
          },
          "metadata": {},
          "execution_count": 5
        }
      ]
    },
    {
      "cell_type": "markdown",
      "source": [
        "##El Bootstrap \n",
        " EL Bootsrap nos sirve para generar lo que se llaman distribuciones muestrales de estadísticas. Esto es un histograma de una medida estadística cuantificada utilizando un gran número de remuestreos. ¿Para qué queremos hacer esto? Para calcular la incertidumbre de nuestra medida estadística. Dado que no podemos regresar a la fuente original, vamos a crear 'nuevas muestras' a partir de la que tenemos, con el fin de simular qué pasaría si regresáramos a la fuente original a tomar más muestras. El algoritmo es el siguiente:\n",
        "\n",
        "Toma un elemento de tu conjunto de datos de manera aleatoria con reposición.\n",
        "Repite el paso 1 n veces (entre más grande tu n, más preciso tu cálculo; pero no tiene sentido que sea tan grande como el tamaño de tu muestra).\n",
        "Toma la medida estadística que te interese de tus valores remuestreados.\n",
        "Repite los pasos 1 a 3 R veces (entre mayor sea R, más preciso tu cálculo).\n",
        "Utiliza las medidas obtenidas para: a) Generar un histograma o boxplot b) Calcular el error estándar c) Calcular un intervalo de confianza\n",
        "Nuestro cálculo va a resultar más exacto si n y R son lo más grandes posibles. Pero el boostrapping es un proceso que toma mucho tiempo y poder computacional, así que si nuestro dataset es muy grande habrá que disminuir estos valores hasta que el procedimiento completo tome una cantidad decente de tiempo.\n",
        "\n",
        "Vamos a realizar estos pasos y llevar a cabo el inciso a del paso 5:"
      ],
      "metadata": {
        "id": "suS4-1hmQca9"
      }
    },
    {
      "cell_type": "code",
      "source": [
        "glucose = df['glucose']\n",
        "\n",
        "means = []\n",
        "\n",
        "for i in range(100_000): ##Que es \n",
        "    sample = glucose.sample(n=50, replace=True)\n",
        "    means.append(sample.mean())\n",
        "    \n",
        "serie_means = pd.Series(means)"
      ],
      "metadata": {
        "id": "g3ZYnoHpS5n3"
      },
      "execution_count": 6,
      "outputs": []
    },
    {
      "cell_type": "code",
      "source": [
        "sns.distplot(serie_means, kde=False, norm_hist=False);"
      ],
      "metadata": {
        "colab": {
          "base_uri": "https://localhost:8080/",
          "height": 322
        },
        "id": "grJYBV65T4QI",
        "outputId": "8d089c7b-9411-4659-a2f6-ab5181ab3071"
      },
      "execution_count": 7,
      "outputs": [
        {
          "output_type": "stream",
          "name": "stderr",
          "text": [
            "/usr/local/lib/python3.7/dist-packages/seaborn/distributions.py:2619: FutureWarning: `distplot` is a deprecated function and will be removed in a future version. Please adapt your code to use either `displot` (a figure-level function with similar flexibility) or `histplot` (an axes-level function for histograms).\n",
            "  warnings.warn(msg, FutureWarning)\n"
          ]
        },
        {
          "output_type": "display_data",
          "data": {
            "text/plain": [
              "<Figure size 432x288 with 1 Axes>"
            ],
            "image/png": "[encoded data removed]"
          },
          "metadata": {
            "needs_background": "light"
          }
        }
      ]
    },
    {
      "cell_type": "markdown",
      "source": [
        "##c) Teorema del límite centra\n",
        "Existe un teorema matemático llamado Teorema del Limíte Central que establece que las distribuciones muestrales de estadísticas van a tender hacia la normalidad. Ésta no es una regla absoluta, pero se cumple en muchos casos. En nuestro ejemplo podemos calcular qué tan cerca de la normalidad están nuestros promedios muestrales:\n",
        "\n"
      ],
      "metadata": {
        "id": "zpTe17AnT-YH"
      }
    },
    {
      "cell_type": "code",
      "source": [
        "serie_means.skew()"
      ],
      "metadata": {
        "colab": {
          "base_uri": "https://localhost:8080/"
        },
        "id": "Xa_z6j8OT9xw",
        "outputId": "a360f80c-08e5-4b39-db4a-cf6e9dc87d6d"
      },
      "execution_count": 8,
      "outputs": [
        {
          "output_type": "execute_result",
          "data": {
            "text/plain": [
              "0.018337252037642082"
            ]
          },
          "metadata": {},
          "execution_count": 8
        }
      ]
    },
    {
      "cell_type": "code",
      "source": [
        "serie_means.kurtosis()"
      ],
      "metadata": {
        "colab": {
          "base_uri": "https://localhost:8080/"
        },
        "id": "L2mv8A8XT9ut",
        "outputId": "0090996c-a3ae-4e86-ba9d-26e38773ece6"
      },
      "execution_count": 9,
      "outputs": [
        {
          "output_type": "execute_result",
          "data": {
            "text/plain": [
              "0.019959879745358844"
            ]
          },
          "metadata": {},
          "execution_count": 9
        }
      ]
    },
    {
      "cell_type": "markdown",
      "source": [
        "Como puedes ver, en este caso se cumple con mucha precisión. Entre más pequeñas sean nuestras remuestras, normalmente la curtosis aumenta.\n",
        "\n",
        "Vamos a preguntarnos:\n",
        "\n",
        "¿Por qué creen que la curtosis aumente si nuestras remuestras son más pequeñas?\n",
        "¿Por qué la teoría del límite central suele cumplirse?\n",
        "¿Qué significa que la distribución muestral de una medida estadística no sea normal? ¿Cómo podemos interpretar ese fenómeno?"
      ],
      "metadata": {
        "id": "BC1uoV6YUhjr"
      }
    },
    {
      "cell_type": "markdown",
      "source": [
        "#Error estandar e intervalo de confianza "
      ],
      "metadata": {
        "id": "UV8jP26SNSZW"
      }
    },
    {
      "cell_type": "markdown",
      "source": [
        "##Error estándar"
      ],
      "metadata": {
        "id": "1jS027CMVWUD"
      }
    },
    {
      "cell_type": "markdown",
      "source": [
        "Recordarás que la desviación estándar es una medida de dispersión de nuestros datos. Bueno, pues el error estándar es la desviación estándar de nuestra serie de medidas estadísticas:"
      ],
      "metadata": {
        "id": "e0uD4bIUVd6X"
      }
    },
    {
      "cell_type": "code",
      "source": [
        "print(f'Error estandar: {serie_means.std()}')"
      ],
      "metadata": {
        "colab": {
          "base_uri": "https://localhost:8080/"
        },
        "id": "hE0jqOV_VdFc",
        "outputId": "76fe5a06-4c36-44c0-e527-746b8305122c"
      },
      "execution_count": 10,
      "outputs": [
        {
          "output_type": "stream",
          "name": "stdout",
          "text": [
            "Error estandar: 4.521514202261452\n"
          ]
        }
      ]
    },
    {
      "cell_type": "code",
      "source": [
        "print(f'Valor mínimo: {serie_means.min()}')\n",
        "print(f'Valor máximo: {serie_means.max()}')\n",
        "print(f'Rango: {serie_means.max() - serie_means.min()}')"
      ],
      "metadata": {
        "colab": {
          "base_uri": "https://localhost:8080/"
        },
        "id": "4pI6wBlYVUe_",
        "outputId": "b620c357-580f-4026-a6db-fdaa056f9de3"
      },
      "execution_count": 11,
      "outputs": [
        {
          "output_type": "stream",
          "name": "stdout",
          "text": [
            "Valor mínimo: 100.46\n",
            "Valor máximo: 139.3\n",
            "Rango: 38.84000000000002\n"
          ]
        }
      ]
    },
    {
      "cell_type": "code",
      "source": [
        "sns.boxplot(serie_means);\n"
      ],
      "metadata": {
        "colab": {
          "base_uri": "https://localhost:8080/",
          "height": 322
        },
        "id": "DO41mhh-Vsns",
        "outputId": "252f717c-103a-4baa-8645-89d58ea34987"
      },
      "execution_count": 12,
      "outputs": [
        {
          "output_type": "stream",
          "name": "stderr",
          "text": [
            "/usr/local/lib/python3.7/dist-packages/seaborn/_decorators.py:43: FutureWarning: Pass the following variable as a keyword arg: x. From version 0.12, the only valid positional argument will be `data`, and passing other arguments without an explicit keyword will result in an error or misinterpretation.\n",
            "  FutureWarning\n"
          ]
        },
        {
          "output_type": "display_data",
          "data": {
            "text/plain": [
              "<Figure size 432x288 with 1 Axes>"
            ],
            "image/png": "[encoded data removed]"
          },
          "metadata": {
            "needs_background": "light"
          }
        }
      ]
    },
    {
      "cell_type": "markdown",
      "source": [
        "Vamos a preguntarnos:\n",
        "\n",
        "¿Cómo podemos interpretar la desviación estándar? ¿Qué implica una mayor o menor desviación estándar?\n",
        "¿Por qué necesitamos saber el rango de nuestros datos para interpretar correctamente la desviación estándar?\n",
        "¿En este caso específico qué significa la desviación estándar que obtuvimos?"
      ],
      "metadata": {
        "id": "ycR31U-ZVz_8"
      }
    },
    {
      "cell_type": "markdown",
      "source": [
        "##Intervalos de Confianza"
      ],
      "metadata": {
        "id": "G46P3bK3V4pS"
      }
    },
    {
      "cell_type": "markdown",
      "source": [
        "Los intervalos de confianza son una manera de cuantificar la incertidumbre que existe en nuestra medida estadística. Si pudiéramos regresar a nuesta fuente original a tomar más muestras, el intervalo de confianza sería el intervalo numérico en el cual podemos asegurar con cierto nivel de seguridad que caería nuestra nueva medición estadística.\n",
        "\n",
        "Para obtener un intervalo de 95% de confianza, por ejemplo, tenemos que tomar nuestro histograma, removerle 2.5% de valores al principio y al final, y obtener los nuevos valores mínimo y máximo. De esta manera el 95% de los valores originales quedan dentro de este nuevo intervalo.\n",
        "\n",
        "Podemos obtener nuestro intervalo de confianza utilizando cuantiles:"
      ],
      "metadata": {
        "id": "V0isXR8zV77m"
      }
    },
    {
      "cell_type": "code",
      "source": [
        "limite_inferior = serie_means.quantile(0.025)\n",
        "limite_superior = serie_means.quantile(0.975)"
      ],
      "metadata": {
        "id": "i2lZTHyeVzoG"
      },
      "execution_count": 13,
      "outputs": []
    },
    {
      "cell_type": "markdown",
      "source": [
        "Podemos escribir nuestro intervalo de confianza de dos maneras distintas:\n",
        "\n"
      ],
      "metadata": {
        "id": "dp-CtCfeYhMT"
      }
    },
    {
      "cell_type": "code",
      "source": [
        "print(f'Intervalo de 95% confianza de la media: {limite_inferior} < {glucose.mean()} < {limite_superior}')"
      ],
      "metadata": {
        "colab": {
          "base_uri": "https://localhost:8080/"
        },
        "id": "R6G5Bb1QYj3a",
        "outputId": "ea5d5b85-ad41-4570-f450-f5b1bbac9980"
      },
      "execution_count": 14,
      "outputs": [
        {
          "output_type": "stream",
          "name": "stdout",
          "text": [
            "Intervalo de 95% confianza de la media: 112.1 < 120.89453125 < 129.82\n"
          ]
        }
      ]
    },
    {
      "cell_type": "code",
      "source": [
        "mean_of_intervals = ((glucose.mean() - limite_inferior) + (limite_superior - glucose.mean())) / 2\n",
        "\n",
        "print(f'Intervalo de 95% confianza de la media: {glucose.mean()} +/- {mean_of_intervals}')"
      ],
      "metadata": {
        "colab": {
          "base_uri": "https://localhost:8080/"
        },
        "id": "XvHhZsnBYo-v",
        "outputId": "750e0569-66fb-443b-cdda-70d09fb932e1"
      },
      "execution_count": 15,
      "outputs": [
        {
          "output_type": "stream",
          "name": "stdout",
          "text": [
            "Intervalo de 95% confianza de la media: 120.89453125 +/- 8.86\n"
          ]
        }
      ]
    },
    {
      "cell_type": "markdown",
      "source": [
        "Podemos visualizar estos límites también"
      ],
      "metadata": {
        "id": "HstZNAmXYxPc"
      }
    },
    {
      "cell_type": "code",
      "source": [
        "sns.distplot(serie_means, kde=False, norm_hist=False)\n",
        "plt.axvline(limite_inferior)\n",
        "plt.axvline(limite_superior);"
      ],
      "metadata": {
        "colab": {
          "base_uri": "https://localhost:8080/",
          "height": 322
        },
        "id": "I3vTq5u4Yvw3",
        "outputId": "4dfea744-d21b-4a45-c8be-d8e46d5bbd7a"
      },
      "execution_count": 16,
      "outputs": [
        {
          "output_type": "stream",
          "name": "stderr",
          "text": [
            "/usr/local/lib/python3.7/dist-packages/seaborn/distributions.py:2619: FutureWarning: `distplot` is a deprecated function and will be removed in a future version. Please adapt your code to use either `displot` (a figure-level function with similar flexibility) or `histplot` (an axes-level function for histograms).\n",
            "  warnings.warn(msg, FutureWarning)\n"
          ]
        },
        {
          "output_type": "display_data",
          "data": {
            "text/plain": [
              "<Figure size 432x288 with 1 Axes>"
            ],
            "image/png": "[encoded data removed]"
          },
          "metadata": {
            "needs_background": "light"
          }
        }
      ]
    },
    {
      "cell_type": "markdown",
      "source": [
        "#Dataset de entrenamiento y de prueba"
      ],
      "metadata": {
        "id": "rYQ2Yrp8ZZ8d"
      }
    },
    {
      "cell_type": "markdown",
      "source": [
        "##REgresión Lineal Multiple"
      ],
      "metadata": {
        "id": "qQuNMMp5ZeKd"
      }
    },
    {
      "cell_type": "markdown",
      "source": [
        "Vamos a combinar esta técnica con un modelo de Regresión Linear Múltiple. La Regresión Linear Múltiple es básicamente lo mismo que la Regresión Linear Simple, con la diferencia de que podemos utilizar más de una variable independiente y dependiente. Es más difícil (y a veces en realidad imposible) visualizar la función lineal que obtenemos a través de una Regresión Linear Múltiple, puesto que la línea que representa es una línea que se encuentra en ¡más de dos dimensiones! Pero el concepto es el mismo: utilizamos una o más variables independientes para entrenar un modelo, con el objetivo de encontrar una función lineal que pueda predecir a una o más variables dependientes.\n",
        "\n",
        "Por suerte, el proceso de entrenamiento es en realidad el mismo, así que podemos concentrarnos en aprender a dividir nuestro dataset en entrenamiento y prueba. "
      ],
      "metadata": {
        "id": "QU9JZs3VZnhI"
      }
    },
    {
      "cell_type": "code",
      "source": [
        "df.isna().sum()"
      ],
      "metadata": {
        "colab": {
          "base_uri": "https://localhost:8080/"
        },
        "id": "6bulL9_XZoBb",
        "outputId": "a6ff5da0-ef3e-4c58-f889-70de3af65978"
      },
      "execution_count": 17,
      "outputs": [
        {
          "output_type": "execute_result",
          "data": {
            "text/plain": [
              "pregnancies                   0\n",
              "glucose                       0\n",
              "blood_pressure                0\n",
              "skin_thickness                0\n",
              "insulin                       0\n",
              "bmi                           0\n",
              "diabetes_pedigree_function    0\n",
              "age                           0\n",
              "outcome                       0\n",
              "dtype: int64"
            ]
          },
          "metadata": {},
          "execution_count": 17
        }
      ]
    },
    {
      "cell_type": "code",
      "source": [
        "df = df.drop(columns=['outcome'])"
      ],
      "metadata": {
        "id": "qD54QmjUt6Ox"
      },
      "execution_count": 19,
      "outputs": []
    },
    {
      "cell_type": "code",
      "source": [
        "plt.figure(figsize=(10,8))\n",
        "sns.heatmap(df.corr(), annot=True);"
      ],
      "metadata": {
        "colab": {
          "base_uri": "https://localhost:8080/",
          "height": 615
        },
        "id": "sxfern1ht6IC",
        "outputId": "5658456e-3733-461f-b6a9-ae9967385714"
      },
      "execution_count": 23,
      "outputs": [
        {
          "output_type": "display_data",
          "data": {
            "text/plain": [
              "<Figure size 720x576 with 2 Axes>"
            ],
            "image/png": "[encoded data removed]"
          },
          "metadata": {
            "needs_background": "light"
          }
        }
      ]
    },
    {
      "cell_type": "markdown",
      "source": [
        "Ahora vamos a utilizar este método de scikit learn para dividir nuestro dataset en dos. Voy a entrenar un modelo para intentar predecir los niveles de insulina en una persona utilizando las variables 'glucose' y 'skin_thickness', así que mi variable dependiente será 'glucose' y mis variables independientes serán las otras dos."
      ],
      "metadata": {
        "id": "xU1LMmweujrV"
      }
    },
    {
      "cell_type": "code",
      "source": [
        "from sklearn.model_selection import train_test_split"
      ],
      "metadata": {
        "id": "JpALSSxtuRrh"
      },
      "execution_count": 24,
      "outputs": []
    },
    {
      "cell_type": "code",
      "source": [
        "X= df[['glucose', 'skin_thickness']]\n",
        "y= df['insulin']"
      ],
      "metadata": {
        "id": "tGjYxsM_ur7c"
      },
      "execution_count": 27,
      "outputs": []
    },
    {
      "cell_type": "code",
      "source": [
        "X_training, X_test, y_training, y_test = train_test_split(X, y, test_size=0.3, shuffle=True)"
      ],
      "metadata": {
        "id": "TKiKrvYwu4hp"
      },
      "execution_count": 28,
      "outputs": []
    },
    {
      "cell_type": "markdown",
      "source": [
        "Nota el tamaño del dataset de prueba (30% del total) y que estamos revolviendo el dataset aleatoriamente antes de realizar la división."
      ],
      "metadata": {
        "id": "3Z7-LHoYvADb"
      }
    },
    {
      "cell_type": "code",
      "source": [
        "from sklearn.linear_model import LinearRegression"
      ],
      "metadata": {
        "id": "FA4NKaTLvD77"
      },
      "execution_count": 29,
      "outputs": []
    },
    {
      "cell_type": "code",
      "source": [
        "lr = LinearRegression()\n",
        "lr.fit(X_training, y_training)"
      ],
      "metadata": {
        "colab": {
          "base_uri": "https://localhost:8080/"
        },
        "id": "zf7ZUE_PvGuK",
        "outputId": "7cb627ef-1178-43ac-824f-af41df22fa5f"
      },
      "execution_count": 30,
      "outputs": [
        {
          "output_type": "execute_result",
          "data": {
            "text/plain": [
              "LinearRegression()"
            ]
          },
          "metadata": {},
          "execution_count": 30
        }
      ]
    },
    {
      "cell_type": "code",
      "source": [
        "lr.score(X_test, y_test)"
      ],
      "metadata": {
        "colab": {
          "base_uri": "https://localhost:8080/"
        },
        "id": "WoR6el8Pvz90",
        "outputId": "340a7dc1-394d-4782-c1e9-0a13d83e99cf"
      },
      "execution_count": 31,
      "outputs": [
        {
          "output_type": "execute_result",
          "data": {
            "text/plain": [
              "0.3723926699378143"
            ]
          },
          "metadata": {},
          "execution_count": 31
        }
      ]
    },
    {
      "cell_type": "markdown",
      "source": [
        "Como puedes ver, nuestro R2 es menor incluso que los coeficientes de correlación que tienen ambas variables independientes con la dependiente. Esto significa que nuestra precisión no es necesariamente 'acumulativa'.\n",
        "\n",
        "Mira lo que sucede si entrenamos nuestro modelo sin hacer la división de entrenamiento y prueba:"
      ],
      "metadata": {
        "id": "gC7cz9NAv5la"
      }
    },
    {
      "cell_type": "code",
      "source": [
        "lr_2 = LinearRegression()\n",
        "lr_2.fit(X, y)"
      ],
      "metadata": {
        "colab": {
          "base_uri": "https://localhost:8080/"
        },
        "id": "GJAkT6FKv1of",
        "outputId": "03b1a49e-f0d8-4bd5-bf07-cd26fadf12d1"
      },
      "execution_count": 32,
      "outputs": [
        {
          "output_type": "execute_result",
          "data": {
            "text/plain": [
              "LinearRegression()"
            ]
          },
          "metadata": {},
          "execution_count": 32
        }
      ]
    },
    {
      "cell_type": "code",
      "source": [
        "lr_2.score(X, y)"
      ],
      "metadata": {
        "colab": {
          "base_uri": "https://localhost:8080/"
        },
        "id": "9bt-XehHv9Tc",
        "outputId": "b3b332ff-6b83-4d52-cc62-d4fdb9e2e62c"
      },
      "execution_count": 33,
      "outputs": [
        {
          "output_type": "execute_result",
          "data": {
            "text/plain": [
              "0.28491868235030937"
            ]
          },
          "metadata": {},
          "execution_count": 33
        }
      ]
    },
    {
      "cell_type": "markdown",
      "source": [
        "Obtenemos un score ligeramente mejor. Aunque en este caso no resulta tan relevante porque de todas maneras el poder predictivo es prácticamente nulo, nos demuestra que el modelo puede a veces aprender a predecir correctamente los datos que conoce y generalizar muy mal a datos que no conoce."
      ],
      "metadata": {
        "id": "q8J1jdlWwB6D"
      }
    },
    {
      "cell_type": "markdown",
      "source": [
        "# Validación cruzada"
      ],
      "metadata": {
        "id": "8aqlx2mhwFg8"
      }
    },
    {
      "cell_type": "markdown",
      "source": [
        "Validación Cruzada de K-Iteraciones\n",
        "Hay muchas maneras de aplicar esta técnica. El algoritmo que vamos a aprender hoy se llama Validación Cruzada de K-Iteraciones. Consta de los siguientes pasos:\n",
        "\n",
        "Tomamos nuestro dataset y lo revolvemos aleatoriamente.\n",
        "\n",
        "Decidimos un número K que va a ser el número de subdivisiones en el que vamos a dividir a nuestro dataset.\n",
        "\n",
        "Para el primer entrenamiento, dejamos fuera la primera sección. Entrenamos usando la secciones restantes, probamos el modelo entrenado con la primera sección y evaluamos su desempeño.\n",
        "\n",
        "Volvemos a entrenar nuestro modelo, pero esta vez dejando fuera la segunda sección como dataset prueba. Entrenamos, probamos con la segunda sección y evaluamos el desempeño del modelo.\n",
        "\n",
        "Repetimos el proceso K veces. En cada iteración dejamos la sección siguiente como dataset de prueba.\n",
        "\n",
        "Tomamos todas las evaluaciones de los K entrenamientos (que en el caso de una Regresión Lineal Múltiple podrían ser coeficientes de determinación) y sacamos el promedio y la desviación estándar. Esto servirá como una medida del \"valor típico\" de desempeño y la incertidumbre que tiene nuestro modelo."
      ],
      "metadata": {
        "id": "Bk0OO2bfxtJP"
      }
    },
    {
      "cell_type": "code",
      "source": [
        "from sklearn.model_selection import cross_validate\n",
        "from sklearn.linear_model import LinearRegression\n"
      ],
      "metadata": {
        "id": "sjBd8w7JwEjc"
      },
      "execution_count": 34,
      "outputs": []
    },
    {
      "cell_type": "code",
      "source": [
        "lr = LinearRegression()"
      ],
      "metadata": {
        "id": "ZWVbbLmrxxtI"
      },
      "execution_count": 35,
      "outputs": []
    },
    {
      "cell_type": "code",
      "source": [
        "scores = cross_validate(lr, X, y, scoring='r2')"
      ],
      "metadata": {
        "id": "uTBYX_4wx3IB"
      },
      "execution_count": 36,
      "outputs": []
    },
    {
      "cell_type": "code",
      "source": [
        "scores"
      ],
      "metadata": {
        "colab": {
          "base_uri": "https://localhost:8080/"
        },
        "id": "IbERHQRyx5wA",
        "outputId": "725661ed-3e9d-4403-83dd-850129cb3596"
      },
      "execution_count": 37,
      "outputs": [
        {
          "output_type": "execute_result",
          "data": {
            "text/plain": [
              "{'fit_time': array([0.00799346, 0.00406599, 0.00375819, 0.0036037 , 0.00353146]),\n",
              " 'score_time': array([0.00281501, 0.00296688, 0.00818014, 0.00266814, 0.00248361]),\n",
              " 'test_score': array([0.36309888, 0.26517203, 0.29784786, 0.16315445, 0.26375667])}"
            ]
          },
          "metadata": {},
          "execution_count": 37
        }
      ]
    },
    {
      "cell_type": "markdown",
      "source": [
        "Obtenemos la evaluación del modelo usando el promedio y la desviación estándar de los scores obtenidos:\n",
        "\n"
      ],
      "metadata": {
        "id": "hhav4jxRx8Ly"
      }
    },
    {
      "cell_type": "code",
      "source": [
        "print(f'Score del modelo: {scores[\"test_score\"].mean():.3f} +/- {scores[\"test_score\"].std():.3f}')"
      ],
      "metadata": {
        "colab": {
          "base_uri": "https://localhost:8080/"
        },
        "id": "bzojITtsx8ug",
        "outputId": "81cbbfb0-7f53-4926-8ffa-77c2378e276f"
      },
      "execution_count": 38,
      "outputs": [
        {
          "output_type": "stream",
          "name": "stdout",
          "text": [
            "Score del modelo: 0.271 +/- 0.065\n"
          ]
        }
      ]
    }
  ]
}